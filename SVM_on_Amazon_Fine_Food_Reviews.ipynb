{
  "nbformat": 4,
  "nbformat_minor": 0,
  "metadata": {
    "kernelspec": {
      "name": "python3",
      "display_name": "Python 3"
    },
    "language_info": {
      "codemirror_mode": {
        "name": "ipython",
        "version": 3
      },
      "file_extension": ".py",
      "mimetype": "text/x-python",
      "name": "python",
      "nbconvert_exporter": "python",
      "pygments_lexer": "ipython3",
      "version": "3.7.4"
    },
    "colab": {
      "name": "SVM on Amazon Fine Food Reviews.ipynb",
      "provenance": [],
      "collapsed_sections": []
    },
    "accelerator": "GPU"
  },
  "cells": [
    {
      "cell_type": "markdown",
      "metadata": {
        "id": "bh6-ioXpBLvT",
        "colab_type": "text"
      },
      "source": [
        "# Project : Amazon Fine Food Reviews."
      ]
    },
    {
      "cell_type": "code",
      "metadata": {
        "id": "D7g512odBLvW",
        "colab_type": "code",
        "colab": {}
      },
      "source": [
        "# import the libarys\n",
        "\n",
        "import numpy as np\n",
        "import pandas as pd\n",
        "import nltk\n",
        "import matplotlib.pyplot as plt\n",
        "import sqlite3\n",
        "import seaborn as sns\n",
        "import re\n",
        "import string\n",
        "import os\n",
        "import pickle\n",
        "\n",
        "from sklearn.feature_extraction.text import TfidfTransformer , TfidfVectorizer , CountVectorizer\n",
        "from sklearn.metrics import confusion_matrix , roc_curve\n",
        "from sklearn.model_selection import train_test_split , cross_val_score\n",
        "from sklearn.preprocessing import StandardScaler\n",
        "from sklearn.metrics import roc_curve, auc\n",
        "from sklearn import linear_model\n",
        "from sklearn import linear_model\n",
        "from sklearn.calibration import CalibratedClassifierCV\n",
        "from sklearn.metrics import roc_auc_score\n",
        "from sklearn.preprocessing import StandardScaler\n",
        "from cycler import cycler\n",
        "from sklearn.model_selection import GridSearchCV\n",
        "from sklearn import svm\n",
        "\n",
        "from nltk.corpus import stopwords\n",
        "from nltk.stem.porter import PorterStemmer\n",
        "from nltk.stem.wordnet import WordNetLemmatizer\n",
        "\n",
        "from gensim.models import Word2Vec , KeyedVectors\n",
        "\n",
        "from tqdm import tqdm\n",
        "\n",
        "from bs4 import BeautifulSoup\n",
        "\n",
        "from prettytable import PrettyTable"
      ],
      "execution_count": 0,
      "outputs": []
    },
    {
      "cell_type": "code",
      "metadata": {
        "id": "DvODNwwjBpeS",
        "colab_type": "code",
        "colab": {}
      },
      "source": [
        "!pip install -U -q PyDrive\n",
        "from pydrive.auth import GoogleAuth\n",
        "from pydrive.drive import GoogleDrive\n",
        "from google.colab import auth\n",
        "from oauth2client.client import GoogleCredentials"
      ],
      "execution_count": 0,
      "outputs": []
    },
    {
      "cell_type": "code",
      "metadata": {
        "id": "Y9qr1f-NBtqj",
        "colab_type": "code",
        "colab": {}
      },
      "source": [
        "auth.authenticate_user()\n",
        "gauth = GoogleAuth()\n",
        "gauth.credentials = GoogleCredentials.get_application_default()\n",
        "drive = GoogleDrive(gauth)"
      ],
      "execution_count": 0,
      "outputs": []
    },
    {
      "cell_type": "code",
      "metadata": {
        "id": "sFxHKGtcBubE",
        "colab_type": "code",
        "colab": {}
      },
      "source": [
        "downloaded = drive.CreateFile({'id':'19VumHcTH6JaUWpUTA58SecT_Z8RJIxrk'})\n",
        "downloaded.GetContentFile('database.sqlite')"
      ],
      "execution_count": 0,
      "outputs": []
    },
    {
      "cell_type": "markdown",
      "metadata": {
        "id": "7Yjj3_eEBLva",
        "colab_type": "text"
      },
      "source": [
        "### Read the file"
      ]
    },
    {
      "cell_type": "code",
      "metadata": {
        "id": "p8CnudAaBLvd",
        "colab_type": "code",
        "colab": {}
      },
      "source": [
        "# using the SQLite Table to read data.\n",
        "con = sqlite3.connect('database.sqlite') \n",
        "\n",
        "dataset_sqlite = pd.read_sql_query(\"\"\"\n",
        "                                    SELECT * FROM Reviews where Score != 3\n",
        "                                    \"\"\" , con)"
      ],
      "execution_count": 0,
      "outputs": []
    },
    {
      "cell_type": "code",
      "metadata": {
        "id": "NaQHBsh2BLvh",
        "colab_type": "code",
        "outputId": "88fd6473-7415-47e9-b80e-1fcab7582951",
        "colab": {
          "base_uri": "https://localhost:8080/",
          "height": 204
        }
      },
      "source": [
        "dataset_sqlite.head()"
      ],
      "execution_count": 128,
      "outputs": [
        {
          "output_type": "execute_result",
          "data": {
            "text/html": [
              "<div>\n",
              "<style scoped>\n",
              "    .dataframe tbody tr th:only-of-type {\n",
              "        vertical-align: middle;\n",
              "    }\n",
              "\n",
              "    .dataframe tbody tr th {\n",
              "        vertical-align: top;\n",
              "    }\n",
              "\n",
              "    .dataframe thead th {\n",
              "        text-align: right;\n",
              "    }\n",
              "</style>\n",
              "<table border=\"1\" class=\"dataframe\">\n",
              "  <thead>\n",
              "    <tr style=\"text-align: right;\">\n",
              "      <th></th>\n",
              "      <th>Id</th>\n",
              "      <th>ProductId</th>\n",
              "      <th>UserId</th>\n",
              "      <th>ProfileName</th>\n",
              "      <th>HelpfulnessNumerator</th>\n",
              "      <th>HelpfulnessDenominator</th>\n",
              "      <th>Score</th>\n",
              "      <th>Time</th>\n",
              "      <th>Summary</th>\n",
              "      <th>Text</th>\n",
              "    </tr>\n",
              "  </thead>\n",
              "  <tbody>\n",
              "    <tr>\n",
              "      <th>0</th>\n",
              "      <td>1</td>\n",
              "      <td>B001E4KFG0</td>\n",
              "      <td>A3SGXH7AUHU8GW</td>\n",
              "      <td>delmartian</td>\n",
              "      <td>1</td>\n",
              "      <td>1</td>\n",
              "      <td>5</td>\n",
              "      <td>1303862400</td>\n",
              "      <td>Good Quality Dog Food</td>\n",
              "      <td>I have bought several of the Vitality canned d...</td>\n",
              "    </tr>\n",
              "    <tr>\n",
              "      <th>1</th>\n",
              "      <td>2</td>\n",
              "      <td>B00813GRG4</td>\n",
              "      <td>A1D87F6ZCVE5NK</td>\n",
              "      <td>dll pa</td>\n",
              "      <td>0</td>\n",
              "      <td>0</td>\n",
              "      <td>1</td>\n",
              "      <td>1346976000</td>\n",
              "      <td>Not as Advertised</td>\n",
              "      <td>Product arrived labeled as Jumbo Salted Peanut...</td>\n",
              "    </tr>\n",
              "    <tr>\n",
              "      <th>2</th>\n",
              "      <td>3</td>\n",
              "      <td>B000LQOCH0</td>\n",
              "      <td>ABXLMWJIXXAIN</td>\n",
              "      <td>Natalia Corres \"Natalia Corres\"</td>\n",
              "      <td>1</td>\n",
              "      <td>1</td>\n",
              "      <td>4</td>\n",
              "      <td>1219017600</td>\n",
              "      <td>\"Delight\" says it all</td>\n",
              "      <td>This is a confection that has been around a fe...</td>\n",
              "    </tr>\n",
              "    <tr>\n",
              "      <th>3</th>\n",
              "      <td>4</td>\n",
              "      <td>B000UA0QIQ</td>\n",
              "      <td>A395BORC6FGVXV</td>\n",
              "      <td>Karl</td>\n",
              "      <td>3</td>\n",
              "      <td>3</td>\n",
              "      <td>2</td>\n",
              "      <td>1307923200</td>\n",
              "      <td>Cough Medicine</td>\n",
              "      <td>If you are looking for the secret ingredient i...</td>\n",
              "    </tr>\n",
              "    <tr>\n",
              "      <th>4</th>\n",
              "      <td>5</td>\n",
              "      <td>B006K2ZZ7K</td>\n",
              "      <td>A1UQRSCLF8GW1T</td>\n",
              "      <td>Michael D. Bigham \"M. Wassir\"</td>\n",
              "      <td>0</td>\n",
              "      <td>0</td>\n",
              "      <td>5</td>\n",
              "      <td>1350777600</td>\n",
              "      <td>Great taffy</td>\n",
              "      <td>Great taffy at a great price.  There was a wid...</td>\n",
              "    </tr>\n",
              "  </tbody>\n",
              "</table>\n",
              "</div>"
            ],
            "text/plain": [
              "   Id  ...                                               Text\n",
              "0   1  ...  I have bought several of the Vitality canned d...\n",
              "1   2  ...  Product arrived labeled as Jumbo Salted Peanut...\n",
              "2   3  ...  This is a confection that has been around a fe...\n",
              "3   4  ...  If you are looking for the secret ingredient i...\n",
              "4   5  ...  Great taffy at a great price.  There was a wid...\n",
              "\n",
              "[5 rows x 10 columns]"
            ]
          },
          "metadata": {
            "tags": []
          },
          "execution_count": 128
        }
      ]
    },
    {
      "cell_type": "code",
      "metadata": {
        "id": "I8KTSJqUBLvl",
        "colab_type": "code",
        "outputId": "da632615-481b-40ae-f4ce-a07a1793c989",
        "colab": {
          "base_uri": "https://localhost:8080/",
          "height": 34
        }
      },
      "source": [
        "np.unique(dataset_sqlite['Score'])"
      ],
      "execution_count": 129,
      "outputs": [
        {
          "output_type": "execute_result",
          "data": {
            "text/plain": [
              "array([1, 2, 4, 5])"
            ]
          },
          "metadata": {
            "tags": []
          },
          "execution_count": 129
        }
      ]
    },
    {
      "cell_type": "code",
      "metadata": {
        "id": "TWJokEO0BLvq",
        "colab_type": "code",
        "colab": {}
      },
      "source": [
        "amnt_1 = dataset_sqlite.Score.value_counts()[1]\n",
        "amnt_2 = dataset_sqlite.Score.value_counts()[2]\n",
        "amnt_4 = dataset_sqlite.Score.value_counts()[4]\n",
        "amnt_5 = dataset_sqlite.Score.value_counts()[5]"
      ],
      "execution_count": 0,
      "outputs": []
    },
    {
      "cell_type": "code",
      "metadata": {
        "id": "ntMsIB8uBLv2",
        "colab_type": "code",
        "colab": {}
      },
      "source": [
        "# Convert the Reviews value into positive and negetive\n",
        "\n",
        "def partition(x):\n",
        "    if x < 3:\n",
        "        return 'negetive'\n",
        "    \n",
        "    return 'positive'"
      ],
      "execution_count": 0,
      "outputs": []
    },
    {
      "cell_type": "code",
      "metadata": {
        "id": "D8iR21uXBLv8",
        "colab_type": "code",
        "colab": {}
      },
      "source": [
        "actual_score = dataset_sqlite['Score']\n",
        "positiveNegetive = actual_score.map(partition)\n",
        "dataset_sqlite['Score'] = positiveNegetive"
      ],
      "execution_count": 0,
      "outputs": []
    },
    {
      "cell_type": "code",
      "metadata": {
        "id": "hYqifdS1BLwC",
        "colab_type": "code",
        "outputId": "8929da53-cd75-4c94-d4f8-94ad7c67cc4a",
        "colab": {
          "base_uri": "https://localhost:8080/",
          "height": 359
        }
      },
      "source": [
        "dataset_sqlite.head(10)"
      ],
      "execution_count": 133,
      "outputs": [
        {
          "output_type": "execute_result",
          "data": {
            "text/html": [
              "<div>\n",
              "<style scoped>\n",
              "    .dataframe tbody tr th:only-of-type {\n",
              "        vertical-align: middle;\n",
              "    }\n",
              "\n",
              "    .dataframe tbody tr th {\n",
              "        vertical-align: top;\n",
              "    }\n",
              "\n",
              "    .dataframe thead th {\n",
              "        text-align: right;\n",
              "    }\n",
              "</style>\n",
              "<table border=\"1\" class=\"dataframe\">\n",
              "  <thead>\n",
              "    <tr style=\"text-align: right;\">\n",
              "      <th></th>\n",
              "      <th>Id</th>\n",
              "      <th>ProductId</th>\n",
              "      <th>UserId</th>\n",
              "      <th>ProfileName</th>\n",
              "      <th>HelpfulnessNumerator</th>\n",
              "      <th>HelpfulnessDenominator</th>\n",
              "      <th>Score</th>\n",
              "      <th>Time</th>\n",
              "      <th>Summary</th>\n",
              "      <th>Text</th>\n",
              "    </tr>\n",
              "  </thead>\n",
              "  <tbody>\n",
              "    <tr>\n",
              "      <th>0</th>\n",
              "      <td>1</td>\n",
              "      <td>B001E4KFG0</td>\n",
              "      <td>A3SGXH7AUHU8GW</td>\n",
              "      <td>delmartian</td>\n",
              "      <td>1</td>\n",
              "      <td>1</td>\n",
              "      <td>positive</td>\n",
              "      <td>1303862400</td>\n",
              "      <td>Good Quality Dog Food</td>\n",
              "      <td>I have bought several of the Vitality canned d...</td>\n",
              "    </tr>\n",
              "    <tr>\n",
              "      <th>1</th>\n",
              "      <td>2</td>\n",
              "      <td>B00813GRG4</td>\n",
              "      <td>A1D87F6ZCVE5NK</td>\n",
              "      <td>dll pa</td>\n",
              "      <td>0</td>\n",
              "      <td>0</td>\n",
              "      <td>negetive</td>\n",
              "      <td>1346976000</td>\n",
              "      <td>Not as Advertised</td>\n",
              "      <td>Product arrived labeled as Jumbo Salted Peanut...</td>\n",
              "    </tr>\n",
              "    <tr>\n",
              "      <th>2</th>\n",
              "      <td>3</td>\n",
              "      <td>B000LQOCH0</td>\n",
              "      <td>ABXLMWJIXXAIN</td>\n",
              "      <td>Natalia Corres \"Natalia Corres\"</td>\n",
              "      <td>1</td>\n",
              "      <td>1</td>\n",
              "      <td>positive</td>\n",
              "      <td>1219017600</td>\n",
              "      <td>\"Delight\" says it all</td>\n",
              "      <td>This is a confection that has been around a fe...</td>\n",
              "    </tr>\n",
              "    <tr>\n",
              "      <th>3</th>\n",
              "      <td>4</td>\n",
              "      <td>B000UA0QIQ</td>\n",
              "      <td>A395BORC6FGVXV</td>\n",
              "      <td>Karl</td>\n",
              "      <td>3</td>\n",
              "      <td>3</td>\n",
              "      <td>negetive</td>\n",
              "      <td>1307923200</td>\n",
              "      <td>Cough Medicine</td>\n",
              "      <td>If you are looking for the secret ingredient i...</td>\n",
              "    </tr>\n",
              "    <tr>\n",
              "      <th>4</th>\n",
              "      <td>5</td>\n",
              "      <td>B006K2ZZ7K</td>\n",
              "      <td>A1UQRSCLF8GW1T</td>\n",
              "      <td>Michael D. Bigham \"M. Wassir\"</td>\n",
              "      <td>0</td>\n",
              "      <td>0</td>\n",
              "      <td>positive</td>\n",
              "      <td>1350777600</td>\n",
              "      <td>Great taffy</td>\n",
              "      <td>Great taffy at a great price.  There was a wid...</td>\n",
              "    </tr>\n",
              "    <tr>\n",
              "      <th>5</th>\n",
              "      <td>6</td>\n",
              "      <td>B006K2ZZ7K</td>\n",
              "      <td>ADT0SRK1MGOEU</td>\n",
              "      <td>Twoapennything</td>\n",
              "      <td>0</td>\n",
              "      <td>0</td>\n",
              "      <td>positive</td>\n",
              "      <td>1342051200</td>\n",
              "      <td>Nice Taffy</td>\n",
              "      <td>I got a wild hair for taffy and ordered this f...</td>\n",
              "    </tr>\n",
              "    <tr>\n",
              "      <th>6</th>\n",
              "      <td>7</td>\n",
              "      <td>B006K2ZZ7K</td>\n",
              "      <td>A1SP2KVKFXXRU1</td>\n",
              "      <td>David C. Sullivan</td>\n",
              "      <td>0</td>\n",
              "      <td>0</td>\n",
              "      <td>positive</td>\n",
              "      <td>1340150400</td>\n",
              "      <td>Great!  Just as good as the expensive brands!</td>\n",
              "      <td>This saltwater taffy had great flavors and was...</td>\n",
              "    </tr>\n",
              "    <tr>\n",
              "      <th>7</th>\n",
              "      <td>8</td>\n",
              "      <td>B006K2ZZ7K</td>\n",
              "      <td>A3JRGQVEQN31IQ</td>\n",
              "      <td>Pamela G. Williams</td>\n",
              "      <td>0</td>\n",
              "      <td>0</td>\n",
              "      <td>positive</td>\n",
              "      <td>1336003200</td>\n",
              "      <td>Wonderful, tasty taffy</td>\n",
              "      <td>This taffy is so good.  It is very soft and ch...</td>\n",
              "    </tr>\n",
              "    <tr>\n",
              "      <th>8</th>\n",
              "      <td>9</td>\n",
              "      <td>B000E7L2R4</td>\n",
              "      <td>A1MZYO9TZK0BBI</td>\n",
              "      <td>R. James</td>\n",
              "      <td>1</td>\n",
              "      <td>1</td>\n",
              "      <td>positive</td>\n",
              "      <td>1322006400</td>\n",
              "      <td>Yay Barley</td>\n",
              "      <td>Right now I'm mostly just sprouting this so my...</td>\n",
              "    </tr>\n",
              "    <tr>\n",
              "      <th>9</th>\n",
              "      <td>10</td>\n",
              "      <td>B00171APVA</td>\n",
              "      <td>A21BT40VZCCYT4</td>\n",
              "      <td>Carol A. Reed</td>\n",
              "      <td>0</td>\n",
              "      <td>0</td>\n",
              "      <td>positive</td>\n",
              "      <td>1351209600</td>\n",
              "      <td>Healthy Dog Food</td>\n",
              "      <td>This is a very healthy dog food. Good for thei...</td>\n",
              "    </tr>\n",
              "  </tbody>\n",
              "</table>\n",
              "</div>"
            ],
            "text/plain": [
              "   Id  ...                                               Text\n",
              "0   1  ...  I have bought several of the Vitality canned d...\n",
              "1   2  ...  Product arrived labeled as Jumbo Salted Peanut...\n",
              "2   3  ...  This is a confection that has been around a fe...\n",
              "3   4  ...  If you are looking for the secret ingredient i...\n",
              "4   5  ...  Great taffy at a great price.  There was a wid...\n",
              "5   6  ...  I got a wild hair for taffy and ordered this f...\n",
              "6   7  ...  This saltwater taffy had great flavors and was...\n",
              "7   8  ...  This taffy is so good.  It is very soft and ch...\n",
              "8   9  ...  Right now I'm mostly just sprouting this so my...\n",
              "9  10  ...  This is a very healthy dog food. Good for thei...\n",
              "\n",
              "[10 rows x 10 columns]"
            ]
          },
          "metadata": {
            "tags": []
          },
          "execution_count": 133
        }
      ]
    },
    {
      "cell_type": "code",
      "metadata": {
        "id": "OUlRuhIvBLwH",
        "colab_type": "code",
        "outputId": "5edf554c-1183-4169-e9a2-336a48ef1d33",
        "colab": {
          "base_uri": "https://localhost:8080/",
          "height": 34
        }
      },
      "source": [
        "dataset_sqlite.shape"
      ],
      "execution_count": 134,
      "outputs": [
        {
          "output_type": "execute_result",
          "data": {
            "text/plain": [
              "(525814, 10)"
            ]
          },
          "metadata": {
            "tags": []
          },
          "execution_count": 134
        }
      ]
    },
    {
      "cell_type": "code",
      "metadata": {
        "id": "ciySb_xaBLwM",
        "colab_type": "code",
        "outputId": "c5713da4-054d-473f-e5a0-34fa9b79ad90",
        "colab": {
          "base_uri": "https://localhost:8080/",
          "height": 272
        }
      },
      "source": [
        "dataset_sqlite.info()"
      ],
      "execution_count": 135,
      "outputs": [
        {
          "output_type": "stream",
          "text": [
            "<class 'pandas.core.frame.DataFrame'>\n",
            "RangeIndex: 525814 entries, 0 to 525813\n",
            "Data columns (total 10 columns):\n",
            "Id                        525814 non-null int64\n",
            "ProductId                 525814 non-null object\n",
            "UserId                    525814 non-null object\n",
            "ProfileName               525814 non-null object\n",
            "HelpfulnessNumerator      525814 non-null int64\n",
            "HelpfulnessDenominator    525814 non-null int64\n",
            "Score                     525814 non-null object\n",
            "Time                      525814 non-null int64\n",
            "Summary                   525814 non-null object\n",
            "Text                      525814 non-null object\n",
            "dtypes: int64(4), object(6)\n",
            "memory usage: 40.1+ MB\n"
          ],
          "name": "stdout"
        }
      ]
    },
    {
      "cell_type": "code",
      "metadata": {
        "id": "Ys5fXU32BLwP",
        "colab_type": "code",
        "outputId": "ebbcd32c-1e6e-42db-acf4-c53ff1400d75",
        "colab": {
          "base_uri": "https://localhost:8080/",
          "height": 204
        }
      },
      "source": [
        "dataset_sqlite.isnull().sum()"
      ],
      "execution_count": 136,
      "outputs": [
        {
          "output_type": "execute_result",
          "data": {
            "text/plain": [
              "Id                        0\n",
              "ProductId                 0\n",
              "UserId                    0\n",
              "ProfileName               0\n",
              "HelpfulnessNumerator      0\n",
              "HelpfulnessDenominator    0\n",
              "Score                     0\n",
              "Time                      0\n",
              "Summary                   0\n",
              "Text                      0\n",
              "dtype: int64"
            ]
          },
          "metadata": {
            "tags": []
          },
          "execution_count": 136
        }
      ]
    },
    {
      "cell_type": "code",
      "metadata": {
        "id": "g6sTx1jcBLwT",
        "colab_type": "code",
        "colab": {}
      },
      "source": [
        "amnt_pos = dataset_sqlite.Score.value_counts()['positive']\n",
        "amnt_neg = dataset_sqlite.Score.value_counts()['negetive']"
      ],
      "execution_count": 0,
      "outputs": []
    },
    {
      "cell_type": "code",
      "metadata": {
        "id": "QYr1UuZ5BLwW",
        "colab_type": "code",
        "outputId": "a45049c4-a0a2-4799-b186-e2bcab1c88f5",
        "colab": {
          "base_uri": "https://localhost:8080/",
          "height": 640
        }
      },
      "source": [
        "category_names = ['Positive' , 'Negetive']\n",
        "sizes = [amnt_pos , amnt_neg]\n",
        "custom_colours = ['#4b6584', '#12CBC4']\n",
        "\n",
        "plt.figure(figsize = (10,8) , dpi=100)\n",
        "plt.pie(sizes, labels=category_names , textprops={'fontsize': 20} , startangle = 90 , \n",
        "       autopct='%1.0f%%' , colors=custom_colours , explode=[0 , 0.1])\n",
        "\n",
        "plt.show()"
      ],
      "execution_count": 138,
      "outputs": [
        {
          "output_type": "display_data",
          "data": {
            "image/png": "[encoded data removed]",
            "text/plain": [
              "<Figure size 1000x800 with 1 Axes>"
            ]
          },
          "metadata": {
            "tags": []
          }
        }
      ]
    },
    {
      "cell_type": "markdown",
      "metadata": {
        "id": "-AgvtMb-BLwc",
        "colab_type": "text"
      },
      "source": [
        "## Data Cleaning"
      ]
    },
    {
      "cell_type": "code",
      "metadata": {
        "id": "uROjr4jiBLwe",
        "colab_type": "code",
        "outputId": "4deacab2-f168-4c8f-92ef-1940d90d7389",
        "colab": {
          "base_uri": "https://localhost:8080/",
          "height": 514
        }
      },
      "source": [
        "display = pd.read_sql_query(\"\"\"\n",
        "\n",
        "                            select * from Reviews ORDER BY UserId\n",
        "                            \n",
        "                            \"\"\" , con)\n",
        "\n",
        "display.head(15)"
      ],
      "execution_count": 139,
      "outputs": [
        {
          "output_type": "execute_result",
          "data": {
            "text/html": [
              "<div>\n",
              "<style scoped>\n",
              "    .dataframe tbody tr th:only-of-type {\n",
              "        vertical-align: middle;\n",
              "    }\n",
              "\n",
              "    .dataframe tbody tr th {\n",
              "        vertical-align: top;\n",
              "    }\n",
              "\n",
              "    .dataframe thead th {\n",
              "        text-align: right;\n",
              "    }\n",
              "</style>\n",
              "<table border=\"1\" class=\"dataframe\">\n",
              "  <thead>\n",
              "    <tr style=\"text-align: right;\">\n",
              "      <th></th>\n",
              "      <th>Id</th>\n",
              "      <th>ProductId</th>\n",
              "      <th>UserId</th>\n",
              "      <th>ProfileName</th>\n",
              "      <th>HelpfulnessNumerator</th>\n",
              "      <th>HelpfulnessDenominator</th>\n",
              "      <th>Score</th>\n",
              "      <th>Time</th>\n",
              "      <th>Summary</th>\n",
              "      <th>Text</th>\n",
              "    </tr>\n",
              "  </thead>\n",
              "  <tbody>\n",
              "    <tr>\n",
              "      <th>0</th>\n",
              "      <td>136323</td>\n",
              "      <td>B006Q820X0</td>\n",
              "      <td>#oc-R103C0QSV1DF5E</td>\n",
              "      <td>C</td>\n",
              "      <td>1</td>\n",
              "      <td>2</td>\n",
              "      <td>5</td>\n",
              "      <td>1343088000</td>\n",
              "      <td>Great for the Price</td>\n",
              "      <td>I have to say I was a little apprehensive to b...</td>\n",
              "    </tr>\n",
              "    <tr>\n",
              "      <th>1</th>\n",
              "      <td>516062</td>\n",
              "      <td>B008I1XPKA</td>\n",
              "      <td>#oc-R109MU5OBBZ59U</td>\n",
              "      <td>AayGee</td>\n",
              "      <td>0</td>\n",
              "      <td>1</td>\n",
              "      <td>5</td>\n",
              "      <td>1350086400</td>\n",
              "      <td>AWESOME Coffee!!!!</td>\n",
              "      <td>Received my free K cups as a sample promotion ...</td>\n",
              "    </tr>\n",
              "    <tr>\n",
              "      <th>2</th>\n",
              "      <td>516079</td>\n",
              "      <td>B008I1XPKA</td>\n",
              "      <td>#oc-R10LFEMQEW6QGZ</td>\n",
              "      <td>Julie</td>\n",
              "      <td>0</td>\n",
              "      <td>1</td>\n",
              "      <td>5</td>\n",
              "      <td>1345939200</td>\n",
              "      <td>Brooklyn Bean Roastery Breakfast Blend K-Cups</td>\n",
              "      <td>Brooklyn Bean Roastery Blend K-Cups are great ...</td>\n",
              "    </tr>\n",
              "    <tr>\n",
              "      <th>3</th>\n",
              "      <td>378693</td>\n",
              "      <td>B0026LJ3EA</td>\n",
              "      <td>#oc-R10LT57ZGIB140</td>\n",
              "      <td>dipr</td>\n",
              "      <td>0</td>\n",
              "      <td>0</td>\n",
              "      <td>3</td>\n",
              "      <td>1310601600</td>\n",
              "      <td>Some damage</td>\n",
              "      <td>The shipment of the dog food was quick.  Howev...</td>\n",
              "    </tr>\n",
              "    <tr>\n",
              "      <th>4</th>\n",
              "      <td>136545</td>\n",
              "      <td>B006Q820X0</td>\n",
              "      <td>#oc-R10UA029WVWIUI</td>\n",
              "      <td>Kim D</td>\n",
              "      <td>0</td>\n",
              "      <td>0</td>\n",
              "      <td>1</td>\n",
              "      <td>1342483200</td>\n",
              "      <td>Less than satisfactory.  I gave the Brooklyn K...</td>\n",
              "      <td>Brooklyn \"French Roast\" K-Cup Coffee is not on...</td>\n",
              "    </tr>\n",
              "    <tr>\n",
              "      <th>5</th>\n",
              "      <td>83318</td>\n",
              "      <td>B005ZBZLT4</td>\n",
              "      <td>#oc-R115TNMSPFT9I7</td>\n",
              "      <td>Breyton</td>\n",
              "      <td>2</td>\n",
              "      <td>3</td>\n",
              "      <td>2</td>\n",
              "      <td>1331510400</td>\n",
              "      <td>\"Green\" K-cup packaging sacrifices flavor</td>\n",
              "      <td>Overall its just OK when considering the price...</td>\n",
              "    </tr>\n",
              "    <tr>\n",
              "      <th>6</th>\n",
              "      <td>180872</td>\n",
              "      <td>B007Y59HVM</td>\n",
              "      <td>#oc-R115TNMSPFT9I7</td>\n",
              "      <td>Breyton</td>\n",
              "      <td>2</td>\n",
              "      <td>3</td>\n",
              "      <td>2</td>\n",
              "      <td>1331510400</td>\n",
              "      <td>\"Green\" K-cup packaging sacrifices flavor</td>\n",
              "      <td>Overall its just OK when considering the price...</td>\n",
              "    </tr>\n",
              "    <tr>\n",
              "      <th>7</th>\n",
              "      <td>21719</td>\n",
              "      <td>B005DVVB9K</td>\n",
              "      <td>#oc-R119LM8D59ZW8Y</td>\n",
              "      <td>Lee Mellott \"SEOmenu2go\"</td>\n",
              "      <td>5</td>\n",
              "      <td>11</td>\n",
              "      <td>1</td>\n",
              "      <td>1320192000</td>\n",
              "      <td>Not So Sweet Treat!</td>\n",
              "      <td>I love chocolate so I was excited to see the C...</td>\n",
              "    </tr>\n",
              "    <tr>\n",
              "      <th>8</th>\n",
              "      <td>290948</td>\n",
              "      <td>B005HG9ESG</td>\n",
              "      <td>#oc-R11D9D7SHXIJB9</td>\n",
              "      <td>Louis E. Emory \"hoppy\"</td>\n",
              "      <td>0</td>\n",
              "      <td>0</td>\n",
              "      <td>5</td>\n",
              "      <td>1342396800</td>\n",
              "      <td>Muscle spasms</td>\n",
              "      <td>My wife has recurring extreme muscle spasms, u...</td>\n",
              "    </tr>\n",
              "    <tr>\n",
              "      <th>9</th>\n",
              "      <td>455534</td>\n",
              "      <td>B005HG9ERW</td>\n",
              "      <td>#oc-R11D9D7SHXIJB9</td>\n",
              "      <td>Louis E. Emory \"hoppy\"</td>\n",
              "      <td>0</td>\n",
              "      <td>0</td>\n",
              "      <td>5</td>\n",
              "      <td>1342396800</td>\n",
              "      <td>Muscle spasms</td>\n",
              "      <td>My wife has recurring extreme muscle spasms, u...</td>\n",
              "    </tr>\n",
              "    <tr>\n",
              "      <th>10</th>\n",
              "      <td>496894</td>\n",
              "      <td>B005HG9ET0</td>\n",
              "      <td>#oc-R11D9D7SHXIJB9</td>\n",
              "      <td>Louis E. Emory \"hoppy\"</td>\n",
              "      <td>0</td>\n",
              "      <td>0</td>\n",
              "      <td>5</td>\n",
              "      <td>1342396800</td>\n",
              "      <td>Muscle spasms</td>\n",
              "      <td>My wife has recurring extreme muscle spasms, u...</td>\n",
              "    </tr>\n",
              "    <tr>\n",
              "      <th>11</th>\n",
              "      <td>516144</td>\n",
              "      <td>B008I1XPKA</td>\n",
              "      <td>#oc-R11D9LKDAN5NQJ</td>\n",
              "      <td>Melissa Korducavich</td>\n",
              "      <td>2</td>\n",
              "      <td>3</td>\n",
              "      <td>3</td>\n",
              "      <td>1348876800</td>\n",
              "      <td>Tastes great....makes a mess</td>\n",
              "      <td>I LOVE the taste of this coffee...bought the C...</td>\n",
              "    </tr>\n",
              "    <tr>\n",
              "      <th>12</th>\n",
              "      <td>83657</td>\n",
              "      <td>B005ZBZLT4</td>\n",
              "      <td>#oc-R11DNU2NBKQ23Z</td>\n",
              "      <td>Kim Cieszykowski</td>\n",
              "      <td>0</td>\n",
              "      <td>2</td>\n",
              "      <td>1</td>\n",
              "      <td>1348531200</td>\n",
              "      <td>Terrible coffee</td>\n",
              "      <td>This coffee is horrible and unfortunately not ...</td>\n",
              "    </tr>\n",
              "    <tr>\n",
              "      <th>13</th>\n",
              "      <td>181211</td>\n",
              "      <td>B007Y59HVM</td>\n",
              "      <td>#oc-R11DNU2NBKQ23Z</td>\n",
              "      <td>Kim Cieszykowski</td>\n",
              "      <td>0</td>\n",
              "      <td>2</td>\n",
              "      <td>1</td>\n",
              "      <td>1348531200</td>\n",
              "      <td>Terrible coffee</td>\n",
              "      <td>This coffee is horrible and unfortunately not ...</td>\n",
              "    </tr>\n",
              "    <tr>\n",
              "      <th>14</th>\n",
              "      <td>290774</td>\n",
              "      <td>B005HG9ESG</td>\n",
              "      <td>#oc-R11O5J5ZVQE25C</td>\n",
              "      <td>Penguin Chick</td>\n",
              "      <td>0</td>\n",
              "      <td>0</td>\n",
              "      <td>5</td>\n",
              "      <td>1346889600</td>\n",
              "      <td>Refreshing!</td>\n",
              "      <td>This will be the bottle that you grab from the...</td>\n",
              "    </tr>\n",
              "  </tbody>\n",
              "</table>\n",
              "</div>"
            ],
            "text/plain": [
              "        Id  ...                                               Text\n",
              "0   136323  ...  I have to say I was a little apprehensive to b...\n",
              "1   516062  ...  Received my free K cups as a sample promotion ...\n",
              "2   516079  ...  Brooklyn Bean Roastery Blend K-Cups are great ...\n",
              "3   378693  ...  The shipment of the dog food was quick.  Howev...\n",
              "4   136545  ...  Brooklyn \"French Roast\" K-Cup Coffee is not on...\n",
              "5    83318  ...  Overall its just OK when considering the price...\n",
              "6   180872  ...  Overall its just OK when considering the price...\n",
              "7    21719  ...  I love chocolate so I was excited to see the C...\n",
              "8   290948  ...  My wife has recurring extreme muscle spasms, u...\n",
              "9   455534  ...  My wife has recurring extreme muscle spasms, u...\n",
              "10  496894  ...  My wife has recurring extreme muscle spasms, u...\n",
              "11  516144  ...  I LOVE the taste of this coffee...bought the C...\n",
              "12   83657  ...  This coffee is horrible and unfortunately not ...\n",
              "13  181211  ...  This coffee is horrible and unfortunately not ...\n",
              "14  290774  ...  This will be the bottle that you grab from the...\n",
              "\n",
              "[15 rows x 10 columns]"
            ]
          },
          "metadata": {
            "tags": []
          },
          "execution_count": 139
        }
      ]
    },
    {
      "cell_type": "markdown",
      "metadata": {
        "id": "GglZCBFkBLwj",
        "colab_type": "text"
      },
      "source": [
        "There have been many duplicates rows in the dataset.In the above table 8,9,10 rows have similar customer and he buy different product and review it at the same time.So it can be a garbage value.There can be some miscalculation when save it into the database.So it is necessasry to remove those rows for better performance."
      ]
    },
    {
      "cell_type": "code",
      "metadata": {
        "id": "bPq6l1-uBLwk",
        "colab_type": "code",
        "outputId": "47d06f5a-d466-4f53-e652-6ad11fe3b5e8",
        "colab": {
          "base_uri": "https://localhost:8080/",
          "height": 142
        }
      },
      "source": [
        "display = pd.read_sql_query(\"\"\"\n",
        "\n",
        "                            select * from Reviews where Score !=3 and UserId=\"#oc-R11D9D7SHXIJB9\" ORDER BY ProductID\n",
        "                            \n",
        "                            \"\"\" , con)\n",
        "\n",
        "display.head(10)"
      ],
      "execution_count": 140,
      "outputs": [
        {
          "output_type": "execute_result",
          "data": {
            "text/html": [
              "<div>\n",
              "<style scoped>\n",
              "    .dataframe tbody tr th:only-of-type {\n",
              "        vertical-align: middle;\n",
              "    }\n",
              "\n",
              "    .dataframe tbody tr th {\n",
              "        vertical-align: top;\n",
              "    }\n",
              "\n",
              "    .dataframe thead th {\n",
              "        text-align: right;\n",
              "    }\n",
              "</style>\n",
              "<table border=\"1\" class=\"dataframe\">\n",
              "  <thead>\n",
              "    <tr style=\"text-align: right;\">\n",
              "      <th></th>\n",
              "      <th>Id</th>\n",
              "      <th>ProductId</th>\n",
              "      <th>UserId</th>\n",
              "      <th>ProfileName</th>\n",
              "      <th>HelpfulnessNumerator</th>\n",
              "      <th>HelpfulnessDenominator</th>\n",
              "      <th>Score</th>\n",
              "      <th>Time</th>\n",
              "      <th>Summary</th>\n",
              "      <th>Text</th>\n",
              "    </tr>\n",
              "  </thead>\n",
              "  <tbody>\n",
              "    <tr>\n",
              "      <th>0</th>\n",
              "      <td>455534</td>\n",
              "      <td>B005HG9ERW</td>\n",
              "      <td>#oc-R11D9D7SHXIJB9</td>\n",
              "      <td>Louis E. Emory \"hoppy\"</td>\n",
              "      <td>0</td>\n",
              "      <td>0</td>\n",
              "      <td>5</td>\n",
              "      <td>1342396800</td>\n",
              "      <td>Muscle spasms</td>\n",
              "      <td>My wife has recurring extreme muscle spasms, u...</td>\n",
              "    </tr>\n",
              "    <tr>\n",
              "      <th>1</th>\n",
              "      <td>290948</td>\n",
              "      <td>B005HG9ESG</td>\n",
              "      <td>#oc-R11D9D7SHXIJB9</td>\n",
              "      <td>Louis E. Emory \"hoppy\"</td>\n",
              "      <td>0</td>\n",
              "      <td>0</td>\n",
              "      <td>5</td>\n",
              "      <td>1342396800</td>\n",
              "      <td>Muscle spasms</td>\n",
              "      <td>My wife has recurring extreme muscle spasms, u...</td>\n",
              "    </tr>\n",
              "    <tr>\n",
              "      <th>2</th>\n",
              "      <td>496894</td>\n",
              "      <td>B005HG9ET0</td>\n",
              "      <td>#oc-R11D9D7SHXIJB9</td>\n",
              "      <td>Louis E. Emory \"hoppy\"</td>\n",
              "      <td>0</td>\n",
              "      <td>0</td>\n",
              "      <td>5</td>\n",
              "      <td>1342396800</td>\n",
              "      <td>Muscle spasms</td>\n",
              "      <td>My wife has recurring extreme muscle spasms, u...</td>\n",
              "    </tr>\n",
              "  </tbody>\n",
              "</table>\n",
              "</div>"
            ],
            "text/plain": [
              "       Id  ...                                               Text\n",
              "0  455534  ...  My wife has recurring extreme muscle spasms, u...\n",
              "1  290948  ...  My wife has recurring extreme muscle spasms, u...\n",
              "2  496894  ...  My wife has recurring extreme muscle spasms, u...\n",
              "\n",
              "[3 rows x 10 columns]"
            ]
          },
          "metadata": {
            "tags": []
          },
          "execution_count": 140
        }
      ]
    },
    {
      "cell_type": "markdown",
      "metadata": {
        "id": "Z_i5co-DBLwp",
        "colab_type": "text"
      },
      "source": [
        "Check how many product the perticular customer but at a same time.\n",
        "\n",
        "\n",
        "Check some other Users"
      ]
    },
    {
      "cell_type": "code",
      "metadata": {
        "id": "dy3kEeFsBLwq",
        "colab_type": "code",
        "outputId": "e7b49adc-5ad1-464c-82f8-bbb83cd941c8",
        "colab": {
          "base_uri": "https://localhost:8080/",
          "height": 204
        }
      },
      "source": [
        "display= pd.read_sql_query(\"\"\"\n",
        "\n",
        "                        select *\n",
        "                        from Reviews\n",
        "                        where Score != 3 AND UserId = \"AR5J8UI46CURR\"\n",
        "                        ORDER BY ProductID\n",
        "                        \n",
        "                        \"\"\", con)\n",
        "display.head()"
      ],
      "execution_count": 141,
      "outputs": [
        {
          "output_type": "execute_result",
          "data": {
            "text/html": [
              "<div>\n",
              "<style scoped>\n",
              "    .dataframe tbody tr th:only-of-type {\n",
              "        vertical-align: middle;\n",
              "    }\n",
              "\n",
              "    .dataframe tbody tr th {\n",
              "        vertical-align: top;\n",
              "    }\n",
              "\n",
              "    .dataframe thead th {\n",
              "        text-align: right;\n",
              "    }\n",
              "</style>\n",
              "<table border=\"1\" class=\"dataframe\">\n",
              "  <thead>\n",
              "    <tr style=\"text-align: right;\">\n",
              "      <th></th>\n",
              "      <th>Id</th>\n",
              "      <th>ProductId</th>\n",
              "      <th>UserId</th>\n",
              "      <th>ProfileName</th>\n",
              "      <th>HelpfulnessNumerator</th>\n",
              "      <th>HelpfulnessDenominator</th>\n",
              "      <th>Score</th>\n",
              "      <th>Time</th>\n",
              "      <th>Summary</th>\n",
              "      <th>Text</th>\n",
              "    </tr>\n",
              "  </thead>\n",
              "  <tbody>\n",
              "    <tr>\n",
              "      <th>0</th>\n",
              "      <td>78445</td>\n",
              "      <td>B000HDL1RQ</td>\n",
              "      <td>AR5J8UI46CURR</td>\n",
              "      <td>Geetha Krishnan</td>\n",
              "      <td>2</td>\n",
              "      <td>2</td>\n",
              "      <td>5</td>\n",
              "      <td>1199577600</td>\n",
              "      <td>LOACKER QUADRATINI VANILLA WAFERS</td>\n",
              "      <td>DELICIOUS WAFERS. I FIND THAT EUROPEAN WAFERS ...</td>\n",
              "    </tr>\n",
              "    <tr>\n",
              "      <th>1</th>\n",
              "      <td>138317</td>\n",
              "      <td>B000HDOPYC</td>\n",
              "      <td>AR5J8UI46CURR</td>\n",
              "      <td>Geetha Krishnan</td>\n",
              "      <td>2</td>\n",
              "      <td>2</td>\n",
              "      <td>5</td>\n",
              "      <td>1199577600</td>\n",
              "      <td>LOACKER QUADRATINI VANILLA WAFERS</td>\n",
              "      <td>DELICIOUS WAFERS. I FIND THAT EUROPEAN WAFERS ...</td>\n",
              "    </tr>\n",
              "    <tr>\n",
              "      <th>2</th>\n",
              "      <td>138277</td>\n",
              "      <td>B000HDOPYM</td>\n",
              "      <td>AR5J8UI46CURR</td>\n",
              "      <td>Geetha Krishnan</td>\n",
              "      <td>2</td>\n",
              "      <td>2</td>\n",
              "      <td>5</td>\n",
              "      <td>1199577600</td>\n",
              "      <td>LOACKER QUADRATINI VANILLA WAFERS</td>\n",
              "      <td>DELICIOUS WAFERS. I FIND THAT EUROPEAN WAFERS ...</td>\n",
              "    </tr>\n",
              "    <tr>\n",
              "      <th>3</th>\n",
              "      <td>73791</td>\n",
              "      <td>B000HDOPZG</td>\n",
              "      <td>AR5J8UI46CURR</td>\n",
              "      <td>Geetha Krishnan</td>\n",
              "      <td>2</td>\n",
              "      <td>2</td>\n",
              "      <td>5</td>\n",
              "      <td>1199577600</td>\n",
              "      <td>LOACKER QUADRATINI VANILLA WAFERS</td>\n",
              "      <td>DELICIOUS WAFERS. I FIND THAT EUROPEAN WAFERS ...</td>\n",
              "    </tr>\n",
              "    <tr>\n",
              "      <th>4</th>\n",
              "      <td>155049</td>\n",
              "      <td>B000PAQ75C</td>\n",
              "      <td>AR5J8UI46CURR</td>\n",
              "      <td>Geetha Krishnan</td>\n",
              "      <td>2</td>\n",
              "      <td>2</td>\n",
              "      <td>5</td>\n",
              "      <td>1199577600</td>\n",
              "      <td>LOACKER QUADRATINI VANILLA WAFERS</td>\n",
              "      <td>DELICIOUS WAFERS. I FIND THAT EUROPEAN WAFERS ...</td>\n",
              "    </tr>\n",
              "  </tbody>\n",
              "</table>\n",
              "</div>"
            ],
            "text/plain": [
              "       Id  ...                                               Text\n",
              "0   78445  ...  DELICIOUS WAFERS. I FIND THAT EUROPEAN WAFERS ...\n",
              "1  138317  ...  DELICIOUS WAFERS. I FIND THAT EUROPEAN WAFERS ...\n",
              "2  138277  ...  DELICIOUS WAFERS. I FIND THAT EUROPEAN WAFERS ...\n",
              "3   73791  ...  DELICIOUS WAFERS. I FIND THAT EUROPEAN WAFERS ...\n",
              "4  155049  ...  DELICIOUS WAFERS. I FIND THAT EUROPEAN WAFERS ...\n",
              "\n",
              "[5 rows x 10 columns]"
            ]
          },
          "metadata": {
            "tags": []
          },
          "execution_count": 141
        }
      ]
    },
    {
      "cell_type": "markdown",
      "metadata": {
        "id": "QBZKll8sBLwv",
        "colab_type": "text"
      },
      "source": [
        "It is shown that this customer also have buy many different product at the same time and review it.This can be happen when a specific product have different color or differnet flavor.\n",
        "So remove the duplicate all rows."
      ]
    },
    {
      "cell_type": "code",
      "metadata": {
        "id": "YgUWFnGVBLwx",
        "colab_type": "code",
        "outputId": "8e2b8a35-a31c-4204-a1e3-4a6ae7fe0915",
        "colab": {
          "base_uri": "https://localhost:8080/",
          "height": 204
        }
      },
      "source": [
        "# Sorting the dataset according to productID\n",
        "\n",
        "sorted_data = dataset_sqlite.sort_values(\n",
        "                        'ProductId' , axis = 0 , ascending = True , inplace = False , kind = 'quicksort' ,  na_position='last'\n",
        "                        )\n",
        "sorted_data.head()"
      ],
      "execution_count": 142,
      "outputs": [
        {
          "output_type": "execute_result",
          "data": {
            "text/html": [
              "<div>\n",
              "<style scoped>\n",
              "    .dataframe tbody tr th:only-of-type {\n",
              "        vertical-align: middle;\n",
              "    }\n",
              "\n",
              "    .dataframe tbody tr th {\n",
              "        vertical-align: top;\n",
              "    }\n",
              "\n",
              "    .dataframe thead th {\n",
              "        text-align: right;\n",
              "    }\n",
              "</style>\n",
              "<table border=\"1\" class=\"dataframe\">\n",
              "  <thead>\n",
              "    <tr style=\"text-align: right;\">\n",
              "      <th></th>\n",
              "      <th>Id</th>\n",
              "      <th>ProductId</th>\n",
              "      <th>UserId</th>\n",
              "      <th>ProfileName</th>\n",
              "      <th>HelpfulnessNumerator</th>\n",
              "      <th>HelpfulnessDenominator</th>\n",
              "      <th>Score</th>\n",
              "      <th>Time</th>\n",
              "      <th>Summary</th>\n",
              "      <th>Text</th>\n",
              "    </tr>\n",
              "  </thead>\n",
              "  <tbody>\n",
              "    <tr>\n",
              "      <th>138706</th>\n",
              "      <td>150524</td>\n",
              "      <td>0006641040</td>\n",
              "      <td>ACITT7DI6IDDL</td>\n",
              "      <td>shari zychinski</td>\n",
              "      <td>0</td>\n",
              "      <td>0</td>\n",
              "      <td>positive</td>\n",
              "      <td>939340800</td>\n",
              "      <td>EVERY book is educational</td>\n",
              "      <td>this witty little book makes my son laugh at l...</td>\n",
              "    </tr>\n",
              "    <tr>\n",
              "      <th>138688</th>\n",
              "      <td>150506</td>\n",
              "      <td>0006641040</td>\n",
              "      <td>A2IW4PEEKO2R0U</td>\n",
              "      <td>Tracy</td>\n",
              "      <td>1</td>\n",
              "      <td>1</td>\n",
              "      <td>positive</td>\n",
              "      <td>1194739200</td>\n",
              "      <td>Love the book, miss the hard cover version</td>\n",
              "      <td>I grew up reading these Sendak books, and watc...</td>\n",
              "    </tr>\n",
              "    <tr>\n",
              "      <th>138689</th>\n",
              "      <td>150507</td>\n",
              "      <td>0006641040</td>\n",
              "      <td>A1S4A3IQ2MU7V4</td>\n",
              "      <td>sally sue \"sally sue\"</td>\n",
              "      <td>1</td>\n",
              "      <td>1</td>\n",
              "      <td>positive</td>\n",
              "      <td>1191456000</td>\n",
              "      <td>chicken soup with rice months</td>\n",
              "      <td>This is a fun way for children to learn their ...</td>\n",
              "    </tr>\n",
              "    <tr>\n",
              "      <th>138690</th>\n",
              "      <td>150508</td>\n",
              "      <td>0006641040</td>\n",
              "      <td>AZGXZ2UUK6X</td>\n",
              "      <td>Catherine Hallberg \"(Kate)\"</td>\n",
              "      <td>1</td>\n",
              "      <td>1</td>\n",
              "      <td>positive</td>\n",
              "      <td>1076025600</td>\n",
              "      <td>a good swingy rhythm for reading aloud</td>\n",
              "      <td>This is a great little book to read aloud- it ...</td>\n",
              "    </tr>\n",
              "    <tr>\n",
              "      <th>138691</th>\n",
              "      <td>150509</td>\n",
              "      <td>0006641040</td>\n",
              "      <td>A3CMRKGE0P909G</td>\n",
              "      <td>Teresa</td>\n",
              "      <td>3</td>\n",
              "      <td>4</td>\n",
              "      <td>positive</td>\n",
              "      <td>1018396800</td>\n",
              "      <td>A great way to learn the months</td>\n",
              "      <td>This is a book of poetry about the months of t...</td>\n",
              "    </tr>\n",
              "  </tbody>\n",
              "</table>\n",
              "</div>"
            ],
            "text/plain": [
              "            Id  ...                                               Text\n",
              "138706  150524  ...  this witty little book makes my son laugh at l...\n",
              "138688  150506  ...  I grew up reading these Sendak books, and watc...\n",
              "138689  150507  ...  This is a fun way for children to learn their ...\n",
              "138690  150508  ...  This is a great little book to read aloud- it ...\n",
              "138691  150509  ...  This is a book of poetry about the months of t...\n",
              "\n",
              "[5 rows x 10 columns]"
            ]
          },
          "metadata": {
            "tags": []
          },
          "execution_count": 142
        }
      ]
    },
    {
      "cell_type": "markdown",
      "metadata": {
        "id": "t3_OfKDlBLw3",
        "colab_type": "text"
      },
      "source": [
        "Find the duplicates if the useid , profilename , time , text is the same then it is duplicate.And remove those rows."
      ]
    },
    {
      "cell_type": "code",
      "metadata": {
        "id": "puHq-RGUBLw5",
        "colab_type": "code",
        "outputId": "38246a9e-e3bf-4df9-a869-b41c4600f806",
        "colab": {
          "base_uri": "https://localhost:8080/",
          "height": 34
        }
      },
      "source": [
        "#Deduplication of entries\n",
        "\n",
        "final = sorted_data.drop_duplicates(subset = {'UserId' , 'ProfileName' , 'Time' , 'Text'} , keep = 'first' , inplace = False)\n",
        "final.shape"
      ],
      "execution_count": 23,
      "outputs": [
        {
          "output_type": "execute_result",
          "data": {
            "text/plain": [
              "(364173, 10)"
            ]
          },
          "metadata": {
            "tags": []
          },
          "execution_count": 23
        }
      ]
    },
    {
      "cell_type": "code",
      "metadata": {
        "id": "nfmHUCT2BLw-",
        "colab_type": "code",
        "outputId": "aea65191-88f2-441a-95b0-125575b4a57b",
        "colab": {
          "base_uri": "https://localhost:8080/",
          "height": 34
        }
      },
      "source": [
        "#Checking to see how much % of data still remains\n",
        "(final['Id'].size*1.0) / (dataset_sqlite['Id'].size*1.0) * 100"
      ],
      "execution_count": 143,
      "outputs": [
        {
          "output_type": "execute_result",
          "data": {
            "text/plain": [
              "28.527197830411517"
            ]
          },
          "metadata": {
            "tags": []
          },
          "execution_count": 143
        }
      ]
    },
    {
      "cell_type": "markdown",
      "metadata": {
        "id": "9apgK4uYBLxC",
        "colab_type": "text"
      },
      "source": [
        "After removing those duplicates rows we hvae 69% data remaining."
      ]
    },
    {
      "cell_type": "markdown",
      "metadata": {
        "id": "d4MaytrOBLxD",
        "colab_type": "text"
      },
      "source": [
        "Another way to fina inconsistency in the dataset is if the <b>HelpfulnessNumerator</b> is greater than <b>HelpfulnessDenominator</b>"
      ]
    },
    {
      "cell_type": "code",
      "metadata": {
        "id": "lHDtTVu0BLxE",
        "colab_type": "code",
        "outputId": "1a70c21b-dc78-4675-8ce8-ff0ec2016085",
        "colab": {
          "base_uri": "https://localhost:8080/",
          "height": 111
        }
      },
      "source": [
        "display= pd.read_sql_query(\"\"\"\n",
        "\n",
        "                        SELECT *\n",
        "                        FROM Reviews\n",
        "                        WHERE HelpfulnessNumerator > HelpfulnessDenominator\n",
        "                        \n",
        "                        \"\"\", con)\n",
        "\n",
        "display.head()"
      ],
      "execution_count": 144,
      "outputs": [
        {
          "output_type": "execute_result",
          "data": {
            "text/html": [
              "<div>\n",
              "<style scoped>\n",
              "    .dataframe tbody tr th:only-of-type {\n",
              "        vertical-align: middle;\n",
              "    }\n",
              "\n",
              "    .dataframe tbody tr th {\n",
              "        vertical-align: top;\n",
              "    }\n",
              "\n",
              "    .dataframe thead th {\n",
              "        text-align: right;\n",
              "    }\n",
              "</style>\n",
              "<table border=\"1\" class=\"dataframe\">\n",
              "  <thead>\n",
              "    <tr style=\"text-align: right;\">\n",
              "      <th></th>\n",
              "      <th>Id</th>\n",
              "      <th>ProductId</th>\n",
              "      <th>UserId</th>\n",
              "      <th>ProfileName</th>\n",
              "      <th>HelpfulnessNumerator</th>\n",
              "      <th>HelpfulnessDenominator</th>\n",
              "      <th>Score</th>\n",
              "      <th>Time</th>\n",
              "      <th>Summary</th>\n",
              "      <th>Text</th>\n",
              "    </tr>\n",
              "  </thead>\n",
              "  <tbody>\n",
              "    <tr>\n",
              "      <th>0</th>\n",
              "      <td>44737</td>\n",
              "      <td>B001EQ55RW</td>\n",
              "      <td>A2V0I904FH7ABY</td>\n",
              "      <td>Ram</td>\n",
              "      <td>3</td>\n",
              "      <td>2</td>\n",
              "      <td>4</td>\n",
              "      <td>1212883200</td>\n",
              "      <td>Pure cocoa taste with crunchy almonds inside</td>\n",
              "      <td>It was almost a 'love at first bite' - the per...</td>\n",
              "    </tr>\n",
              "    <tr>\n",
              "      <th>1</th>\n",
              "      <td>64422</td>\n",
              "      <td>B000MIDROQ</td>\n",
              "      <td>A161DK06JJMCYF</td>\n",
              "      <td>J. E. Stephens \"Jeanne\"</td>\n",
              "      <td>3</td>\n",
              "      <td>1</td>\n",
              "      <td>5</td>\n",
              "      <td>1224892800</td>\n",
              "      <td>Bought This for My Son at College</td>\n",
              "      <td>My son loves spaghetti so I didn't hesitate or...</td>\n",
              "    </tr>\n",
              "  </tbody>\n",
              "</table>\n",
              "</div>"
            ],
            "text/plain": [
              "      Id  ...                                               Text\n",
              "0  44737  ...  It was almost a 'love at first bite' - the per...\n",
              "1  64422  ...  My son loves spaghetti so I didn't hesitate or...\n",
              "\n",
              "[2 rows x 10 columns]"
            ]
          },
          "metadata": {
            "tags": []
          },
          "execution_count": 144
        }
      ]
    },
    {
      "cell_type": "markdown",
      "metadata": {
        "id": "t37o_E71BLxH",
        "colab_type": "text"
      },
      "source": [
        "It was also seen that in two rows given below the value of HelpfulnessNumerator is greater than HelpfulnessDenominator which is not practically possible hence these two rows too are removed from calcualtions"
      ]
    },
    {
      "cell_type": "code",
      "metadata": {
        "id": "vD2gL8EbBLxI",
        "colab_type": "code",
        "outputId": "98b0e759-de62-4dc6-c0a8-f1ff6768b7f7",
        "colab": {
          "base_uri": "https://localhost:8080/",
          "height": 111
        }
      },
      "source": [
        "display= pd.read_sql_query(\"\"\"\n",
        "\n",
        "                        SELECT *\n",
        "                        FROM Reviews\n",
        "                        WHERE Score != 3 AND Id=44737 OR Id=64422\n",
        "                        ORDER BY ProductID\n",
        "                        \n",
        "                        \"\"\", con)\n",
        "\n",
        "display.head()"
      ],
      "execution_count": 145,
      "outputs": [
        {
          "output_type": "execute_result",
          "data": {
            "text/html": [
              "<div>\n",
              "<style scoped>\n",
              "    .dataframe tbody tr th:only-of-type {\n",
              "        vertical-align: middle;\n",
              "    }\n",
              "\n",
              "    .dataframe tbody tr th {\n",
              "        vertical-align: top;\n",
              "    }\n",
              "\n",
              "    .dataframe thead th {\n",
              "        text-align: right;\n",
              "    }\n",
              "</style>\n",
              "<table border=\"1\" class=\"dataframe\">\n",
              "  <thead>\n",
              "    <tr style=\"text-align: right;\">\n",
              "      <th></th>\n",
              "      <th>Id</th>\n",
              "      <th>ProductId</th>\n",
              "      <th>UserId</th>\n",
              "      <th>ProfileName</th>\n",
              "      <th>HelpfulnessNumerator</th>\n",
              "      <th>HelpfulnessDenominator</th>\n",
              "      <th>Score</th>\n",
              "      <th>Time</th>\n",
              "      <th>Summary</th>\n",
              "      <th>Text</th>\n",
              "    </tr>\n",
              "  </thead>\n",
              "  <tbody>\n",
              "    <tr>\n",
              "      <th>0</th>\n",
              "      <td>64422</td>\n",
              "      <td>B000MIDROQ</td>\n",
              "      <td>A161DK06JJMCYF</td>\n",
              "      <td>J. E. Stephens \"Jeanne\"</td>\n",
              "      <td>3</td>\n",
              "      <td>1</td>\n",
              "      <td>5</td>\n",
              "      <td>1224892800</td>\n",
              "      <td>Bought This for My Son at College</td>\n",
              "      <td>My son loves spaghetti so I didn't hesitate or...</td>\n",
              "    </tr>\n",
              "    <tr>\n",
              "      <th>1</th>\n",
              "      <td>44737</td>\n",
              "      <td>B001EQ55RW</td>\n",
              "      <td>A2V0I904FH7ABY</td>\n",
              "      <td>Ram</td>\n",
              "      <td>3</td>\n",
              "      <td>2</td>\n",
              "      <td>4</td>\n",
              "      <td>1212883200</td>\n",
              "      <td>Pure cocoa taste with crunchy almonds inside</td>\n",
              "      <td>It was almost a 'love at first bite' - the per...</td>\n",
              "    </tr>\n",
              "  </tbody>\n",
              "</table>\n",
              "</div>"
            ],
            "text/plain": [
              "      Id  ...                                               Text\n",
              "0  64422  ...  My son loves spaghetti so I didn't hesitate or...\n",
              "1  44737  ...  It was almost a 'love at first bite' - the per...\n",
              "\n",
              "[2 rows x 10 columns]"
            ]
          },
          "metadata": {
            "tags": []
          },
          "execution_count": 145
        }
      ]
    },
    {
      "cell_type": "code",
      "metadata": {
        "id": "k3A01mF5BLxN",
        "colab_type": "code",
        "colab": {}
      },
      "source": [
        "final = final[final.HelpfulnessNumerator <= final.HelpfulnessDenominator]"
      ],
      "execution_count": 0,
      "outputs": []
    },
    {
      "cell_type": "code",
      "metadata": {
        "id": "htlE7YXkBLxR",
        "colab_type": "code",
        "outputId": "468d90cc-ddb4-42a6-a23f-192fbde44337",
        "colab": {
          "base_uri": "https://localhost:8080/",
          "height": 34
        }
      },
      "source": [
        "final.shape"
      ],
      "execution_count": 147,
      "outputs": [
        {
          "output_type": "execute_result",
          "data": {
            "text/plain": [
              "(150000, 11)"
            ]
          },
          "metadata": {
            "tags": []
          },
          "execution_count": 147
        }
      ]
    },
    {
      "cell_type": "code",
      "metadata": {
        "id": "nF3p4vUABLxU",
        "colab_type": "code",
        "outputId": "a088c5a0-32d7-400a-9e13-1ca0c1b69a0a",
        "colab": {
          "base_uri": "https://localhost:8080/",
          "height": 296
        }
      },
      "source": [
        "sns.countplot(x = 'Score' , data = final)"
      ],
      "execution_count": 148,
      "outputs": [
        {
          "output_type": "execute_result",
          "data": {
            "text/plain": [
              "<matplotlib.axes._subplots.AxesSubplot at 0x7fc13253b668>"
            ]
          },
          "metadata": {
            "tags": []
          },
          "execution_count": 148
        },
        {
          "output_type": "display_data",
          "data": {
            "image/png": "[encoded data removed]",
            "text/plain": [
              "<Figure size 432x288 with 1 Axes>"
            ]
          },
          "metadata": {
            "tags": []
          }
        }
      ]
    },
    {
      "cell_type": "markdown",
      "metadata": {
        "id": "R2VKl_1cBLxY",
        "colab_type": "text"
      },
      "source": [
        "## Text Preprocessing"
      ]
    },
    {
      "cell_type": "markdown",
      "metadata": {
        "id": "AzFu_9vpBLxZ",
        "colab_type": "text"
      },
      "source": [
        "We already remove the duplicates values from the dataset.Now it's time to preprocess the dataset.There are many ways to clean or preprocess the dataset.\n"
      ]
    },
    {
      "cell_type": "code",
      "metadata": {
        "id": "sRKf5HTxJBWq",
        "colab_type": "code",
        "outputId": "161507a1-404f-49f3-816e-7e6b3b6a76ac",
        "colab": {
          "base_uri": "https://localhost:8080/",
          "height": 68
        }
      },
      "source": [
        "import nltk\n",
        "nltk.download('stopwords')"
      ],
      "execution_count": 149,
      "outputs": [
        {
          "output_type": "stream",
          "text": [
            "[nltk_data] Downloading package stopwords to /root/nltk_data...\n",
            "[nltk_data]   Package stopwords is already up-to-date!\n"
          ],
          "name": "stdout"
        },
        {
          "output_type": "execute_result",
          "data": {
            "text/plain": [
              "True"
            ]
          },
          "metadata": {
            "tags": []
          },
          "execution_count": 149
        }
      ]
    },
    {
      "cell_type": "code",
      "metadata": {
        "id": "f_DG8XfGBLxc",
        "colab_type": "code",
        "colab": {}
      },
      "source": [
        "stop = set(stopwords.words('english'))\n",
        "sno = nltk.stem.SnowballStemmer('english') "
      ],
      "execution_count": 0,
      "outputs": []
    },
    {
      "cell_type": "code",
      "metadata": {
        "id": "NH9OaKVQBLxj",
        "colab_type": "code",
        "colab": {}
      },
      "source": [
        "def cleanhtml(sentence):\n",
        "    cleanr = re.compile('<.*?>')\n",
        "    cleantext = re.sub(cleanr, ' ', sentence)\n",
        "    return cleantext"
      ],
      "execution_count": 0,
      "outputs": []
    },
    {
      "cell_type": "code",
      "metadata": {
        "id": "KyrvHjFwBLxm",
        "colab_type": "code",
        "colab": {}
      },
      "source": [
        "def cleanpunc(sentence):\n",
        "    cleaned = re.sub(r'[?|!|\\'|\"|#]',r'',sentence)\n",
        "    cleaned = re.sub(r'[.|,|)|(|\\|/]',r' ',cleaned)\n",
        "    return  cleaned"
      ],
      "execution_count": 0,
      "outputs": []
    },
    {
      "cell_type": "code",
      "metadata": {
        "id": "0q824asFBLxs",
        "colab_type": "code",
        "outputId": "a417dc10-09a7-4b75-dc1d-f7dc96a1d454",
        "colab": {
          "base_uri": "https://localhost:8080/",
          "height": 34
        }
      },
      "source": [
        "i=0\n",
        "str1=' '\n",
        "final_string=[]\n",
        "all_positive_words=[] \n",
        "all_negative_words=[] \n",
        "s=''\n",
        "\n",
        "for sent in tqdm(final['Text'].values):\n",
        "\n",
        "    filtered_sentence=[]\n",
        "\n",
        "    sent=cleanhtml(sent) \n",
        "\n",
        "    for w in sent.split():\n",
        "        for cleaned_words in cleanpunc(w).split():\n",
        "\n",
        "            if((cleaned_words.isalpha()) & (len(cleaned_words) > 2)):    \n",
        "                if(cleaned_words.lower() not in stop):\n",
        "                    s = (sno.stem(cleaned_words.lower())).encode('utf8')\n",
        "                    filtered_sentence.append(s)\n",
        "                    \n",
        "                    if (final['Score'].values)[i] == 'positive': \n",
        "                        all_positive_words.append(s)\n",
        "                    if(final['Score'].values)[i] == 'negative':\n",
        "                        all_negative_words.append(s)\n",
        "                else:\n",
        "                    continue\n",
        "            else:\n",
        "                continue \n",
        "                \n",
        "    str1 = b\" \".join(filtered_sentence) #final string of cleaned words\n",
        "    #print(\"***********************************************************************\")\n",
        "    \n",
        "    final_string.append(str1)\n",
        "    i+=1"
      ],
      "execution_count": 153,
      "outputs": [
        {
          "output_type": "stream",
          "text": [
            "100%|██████████| 150000/150000 [02:52<00:00, 871.78it/s]\n"
          ],
          "name": "stderr"
        }
      ]
    },
    {
      "cell_type": "code",
      "metadata": {
        "id": "N7GfBhLVJ6RE",
        "colab_type": "code",
        "outputId": "c9a5f38e-a41c-417e-f933-49f788cfeee8",
        "colab": {
          "base_uri": "https://localhost:8080/",
          "height": 193
        }
      },
      "source": [
        "final['CleanedText'] = final_string\n",
        "final['CleanedText'] = final['CleanedText'].str.decode(\"utf-8\")\n",
        "final.head(3)"
      ],
      "execution_count": 154,
      "outputs": [
        {
          "output_type": "execute_result",
          "data": {
            "text/html": [
              "<div>\n",
              "<style scoped>\n",
              "    .dataframe tbody tr th:only-of-type {\n",
              "        vertical-align: middle;\n",
              "    }\n",
              "\n",
              "    .dataframe tbody tr th {\n",
              "        vertical-align: top;\n",
              "    }\n",
              "\n",
              "    .dataframe thead th {\n",
              "        text-align: right;\n",
              "    }\n",
              "</style>\n",
              "<table border=\"1\" class=\"dataframe\">\n",
              "  <thead>\n",
              "    <tr style=\"text-align: right;\">\n",
              "      <th></th>\n",
              "      <th>Id</th>\n",
              "      <th>ProductId</th>\n",
              "      <th>UserId</th>\n",
              "      <th>ProfileName</th>\n",
              "      <th>HelpfulnessNumerator</th>\n",
              "      <th>HelpfulnessDenominator</th>\n",
              "      <th>Score</th>\n",
              "      <th>Time</th>\n",
              "      <th>Summary</th>\n",
              "      <th>Text</th>\n",
              "      <th>CleanedText</th>\n",
              "    </tr>\n",
              "  </thead>\n",
              "  <tbody>\n",
              "    <tr>\n",
              "      <th>138706</th>\n",
              "      <td>150524</td>\n",
              "      <td>0006641040</td>\n",
              "      <td>ACITT7DI6IDDL</td>\n",
              "      <td>shari zychinski</td>\n",
              "      <td>0</td>\n",
              "      <td>0</td>\n",
              "      <td>positive</td>\n",
              "      <td>939340800</td>\n",
              "      <td>EVERY book is educational</td>\n",
              "      <td>this witty little book makes my son laugh at l...</td>\n",
              "      <td>witti littl book make son laugh loud recit car...</td>\n",
              "    </tr>\n",
              "    <tr>\n",
              "      <th>138683</th>\n",
              "      <td>150501</td>\n",
              "      <td>0006641040</td>\n",
              "      <td>AJ46FKXOVC7NR</td>\n",
              "      <td>Nicholas A Mesiano</td>\n",
              "      <td>2</td>\n",
              "      <td>2</td>\n",
              "      <td>positive</td>\n",
              "      <td>940809600</td>\n",
              "      <td>This whole series is great way to spend time w...</td>\n",
              "      <td>I can remember seeing the show when it aired o...</td>\n",
              "      <td>rememb see show air televis year ago child sis...</td>\n",
              "    </tr>\n",
              "    <tr>\n",
              "      <th>417839</th>\n",
              "      <td>451856</td>\n",
              "      <td>B00004CXX9</td>\n",
              "      <td>AIUWLEQ1ADEG5</td>\n",
              "      <td>Elizabeth Medina</td>\n",
              "      <td>0</td>\n",
              "      <td>0</td>\n",
              "      <td>positive</td>\n",
              "      <td>944092800</td>\n",
              "      <td>Entertainingl Funny!</td>\n",
              "      <td>Beetlejuice is a well written movie ..... ever...</td>\n",
              "      <td>beetlejuic well written movi everyth excel act...</td>\n",
              "    </tr>\n",
              "  </tbody>\n",
              "</table>\n",
              "</div>"
            ],
            "text/plain": [
              "            Id  ...                                        CleanedText\n",
              "138706  150524  ...  witti littl book make son laugh loud recit car...\n",
              "138683  150501  ...  rememb see show air televis year ago child sis...\n",
              "417839  451856  ...  beetlejuic well written movi everyth excel act...\n",
              "\n",
              "[3 rows x 11 columns]"
            ]
          },
          "metadata": {
            "tags": []
          },
          "execution_count": 154
        }
      ]
    },
    {
      "cell_type": "code",
      "metadata": {
        "id": "K3oY9Il8J6ej",
        "colab_type": "code",
        "colab": {}
      },
      "source": [
        "final_data = final.sort_values('Time', axis=0 , ascending=True , inplace=False , kind='quicksort' , na_position = 'last')"
      ],
      "execution_count": 0,
      "outputs": []
    },
    {
      "cell_type": "code",
      "metadata": {
        "id": "ydNF3cotL5Gu",
        "colab_type": "code",
        "outputId": "dfe17961-e788-4715-8865-5b92ca4153ad",
        "colab": {
          "base_uri": "https://localhost:8080/",
          "height": 34
        }
      },
      "source": [
        "final_data.shape"
      ],
      "execution_count": 156,
      "outputs": [
        {
          "output_type": "execute_result",
          "data": {
            "text/plain": [
              "(150000, 11)"
            ]
          },
          "metadata": {
            "tags": []
          },
          "execution_count": 156
        }
      ]
    },
    {
      "cell_type": "code",
      "metadata": {
        "id": "6_E_X0bVJ6mj",
        "colab_type": "code",
        "outputId": "b61c6b31-3baa-4995-f7b2-9755cc75b756",
        "colab": {
          "base_uri": "https://localhost:8080/",
          "height": 289
        }
      },
      "source": [
        "final = final_data.head(150000)\n",
        "final.head()"
      ],
      "execution_count": 157,
      "outputs": [
        {
          "output_type": "execute_result",
          "data": {
            "text/html": [
              "<div>\n",
              "<style scoped>\n",
              "    .dataframe tbody tr th:only-of-type {\n",
              "        vertical-align: middle;\n",
              "    }\n",
              "\n",
              "    .dataframe tbody tr th {\n",
              "        vertical-align: top;\n",
              "    }\n",
              "\n",
              "    .dataframe thead th {\n",
              "        text-align: right;\n",
              "    }\n",
              "</style>\n",
              "<table border=\"1\" class=\"dataframe\">\n",
              "  <thead>\n",
              "    <tr style=\"text-align: right;\">\n",
              "      <th></th>\n",
              "      <th>Id</th>\n",
              "      <th>ProductId</th>\n",
              "      <th>UserId</th>\n",
              "      <th>ProfileName</th>\n",
              "      <th>HelpfulnessNumerator</th>\n",
              "      <th>HelpfulnessDenominator</th>\n",
              "      <th>Score</th>\n",
              "      <th>Time</th>\n",
              "      <th>Summary</th>\n",
              "      <th>Text</th>\n",
              "      <th>CleanedText</th>\n",
              "    </tr>\n",
              "  </thead>\n",
              "  <tbody>\n",
              "    <tr>\n",
              "      <th>138706</th>\n",
              "      <td>150524</td>\n",
              "      <td>0006641040</td>\n",
              "      <td>ACITT7DI6IDDL</td>\n",
              "      <td>shari zychinski</td>\n",
              "      <td>0</td>\n",
              "      <td>0</td>\n",
              "      <td>positive</td>\n",
              "      <td>939340800</td>\n",
              "      <td>EVERY book is educational</td>\n",
              "      <td>this witty little book makes my son laugh at l...</td>\n",
              "      <td>witti littl book make son laugh loud recit car...</td>\n",
              "    </tr>\n",
              "    <tr>\n",
              "      <th>138683</th>\n",
              "      <td>150501</td>\n",
              "      <td>0006641040</td>\n",
              "      <td>AJ46FKXOVC7NR</td>\n",
              "      <td>Nicholas A Mesiano</td>\n",
              "      <td>2</td>\n",
              "      <td>2</td>\n",
              "      <td>positive</td>\n",
              "      <td>940809600</td>\n",
              "      <td>This whole series is great way to spend time w...</td>\n",
              "      <td>I can remember seeing the show when it aired o...</td>\n",
              "      <td>rememb see show air televis year ago child sis...</td>\n",
              "    </tr>\n",
              "    <tr>\n",
              "      <th>417839</th>\n",
              "      <td>451856</td>\n",
              "      <td>B00004CXX9</td>\n",
              "      <td>AIUWLEQ1ADEG5</td>\n",
              "      <td>Elizabeth Medina</td>\n",
              "      <td>0</td>\n",
              "      <td>0</td>\n",
              "      <td>positive</td>\n",
              "      <td>944092800</td>\n",
              "      <td>Entertainingl Funny!</td>\n",
              "      <td>Beetlejuice is a well written movie ..... ever...</td>\n",
              "      <td>beetlejuic well written movi everyth excel act...</td>\n",
              "    </tr>\n",
              "    <tr>\n",
              "      <th>346055</th>\n",
              "      <td>374359</td>\n",
              "      <td>B00004CI84</td>\n",
              "      <td>A344SMIA5JECGM</td>\n",
              "      <td>Vincent P. Ross</td>\n",
              "      <td>1</td>\n",
              "      <td>2</td>\n",
              "      <td>positive</td>\n",
              "      <td>944438400</td>\n",
              "      <td>A modern day fairy tale</td>\n",
              "      <td>A twist of rumplestiskin captured on film, sta...</td>\n",
              "      <td>twist rumplestiskin captur film star michael k...</td>\n",
              "    </tr>\n",
              "    <tr>\n",
              "      <th>417838</th>\n",
              "      <td>451855</td>\n",
              "      <td>B00004CXX9</td>\n",
              "      <td>AJH6LUC1UT1ON</td>\n",
              "      <td>The Phantom of the Opera</td>\n",
              "      <td>0</td>\n",
              "      <td>0</td>\n",
              "      <td>positive</td>\n",
              "      <td>946857600</td>\n",
              "      <td>FANTASTIC!</td>\n",
              "      <td>Beetlejuice is an excellent and funny movie. K...</td>\n",
              "      <td>beetlejuic excel funni movi keaton hilari wack...</td>\n",
              "    </tr>\n",
              "  </tbody>\n",
              "</table>\n",
              "</div>"
            ],
            "text/plain": [
              "            Id  ...                                        CleanedText\n",
              "138706  150524  ...  witti littl book make son laugh loud recit car...\n",
              "138683  150501  ...  rememb see show air televis year ago child sis...\n",
              "417839  451856  ...  beetlejuic well written movi everyth excel act...\n",
              "346055  374359  ...  twist rumplestiskin captur film star michael k...\n",
              "417838  451855  ...  beetlejuic excel funni movi keaton hilari wack...\n",
              "\n",
              "[5 rows x 11 columns]"
            ]
          },
          "metadata": {
            "tags": []
          },
          "execution_count": 157
        }
      ]
    },
    {
      "cell_type": "code",
      "metadata": {
        "id": "v49sw6MAMjye",
        "colab_type": "code",
        "colab": {}
      },
      "source": [
        "x = final.drop(['Score'] , axis = 1)\n",
        "y = final['Score']"
      ],
      "execution_count": 0,
      "outputs": []
    },
    {
      "cell_type": "code",
      "metadata": {
        "id": "wXN4vYp5Mj74",
        "colab_type": "code",
        "colab": {}
      },
      "source": [
        "x_train , x_test , y_train , y_test = train_test_split(x , y , test_size = 0.25)"
      ],
      "execution_count": 0,
      "outputs": []
    },
    {
      "cell_type": "code",
      "metadata": {
        "id": "iG4iQAPWNNZ_",
        "colab_type": "code",
        "outputId": "7403c8f1-12b8-4d21-95b5-7ec346b2b7fc",
        "colab": {
          "base_uri": "https://localhost:8080/",
          "height": 68
        }
      },
      "source": [
        "print(x_train.shape)\n",
        "print(x_test.shape)\n",
        "print(y_train.shape)"
      ],
      "execution_count": 160,
      "outputs": [
        {
          "output_type": "stream",
          "text": [
            "(112500, 10)\n",
            "(37500, 10)\n",
            "(112500,)\n"
          ],
          "name": "stdout"
        }
      ]
    },
    {
      "cell_type": "code",
      "metadata": {
        "id": "FQ8tJUrJJ6yF",
        "colab_type": "code",
        "colab": {}
      },
      "source": [
        "x_train_data = final[:100000]\n",
        "x_test_data = final[100000:150000]\n",
        "y_train = x_train_data['Score']\n",
        "y_test = x_test_data['Score']"
      ],
      "execution_count": 0,
      "outputs": []
    },
    {
      "cell_type": "code",
      "metadata": {
        "id": "lv8u8YGvJ7Rm",
        "colab_type": "code",
        "outputId": "a0f3e86d-dc4d-4db6-c337-a8e55b4d3cc3",
        "colab": {
          "base_uri": "https://localhost:8080/",
          "height": 119
        }
      },
      "source": [
        "print(\"Data\")\n",
        "print(x_train_data.shape)\n",
        "print(x_test_data.shape)\n",
        "print(\"Label\")\n",
        "print(y_train.shape)\n",
        "print(y_test.shape)"
      ],
      "execution_count": 162,
      "outputs": [
        {
          "output_type": "stream",
          "text": [
            "Data\n",
            "(100000, 11)\n",
            "(50000, 11)\n",
            "Label\n",
            "(100000,)\n",
            "(50000,)\n"
          ],
          "name": "stdout"
        }
      ]
    },
    {
      "cell_type": "code",
      "metadata": {
        "id": "V_NxqCkLJ7n4",
        "colab_type": "code",
        "outputId": "e1d2cded-e0c3-42c1-b380-5a7460e92b79",
        "colab": {
          "base_uri": "https://localhost:8080/",
          "height": 153
        }
      },
      "source": [
        "#BoW on Text\n",
        "print(\"**Bow Vectorizer**\")\n",
        "print(\"=\"*50)\n",
        "count_vect = CountVectorizer(min_df = 50)\n",
        "X_train_BOW = count_vect.fit_transform(x_train_data['CleanedText'])\n",
        "X_test_BOW = count_vect.transform(x_test_data['CleanedText'])\n",
        "print(X_train_BOW.shape)\n",
        "print(X_test_BOW.shape)\n",
        "\n",
        "\n",
        "\n",
        "\n",
        "print(\"**Bow Vectorizer-1**\")\n",
        "print(\"=\"*50)\n",
        "count_vect1 = CountVectorizer(min_df = 50) #since it is very costly for rbf kernel so reducing the dimention\n",
        "X_train_BOW1 = count_vect1.fit_transform(x_train_data['CleanedText'])\n",
        "X_test_BOW1 = count_vect1.transform(x_test_data['CleanedText'])\n",
        "print(X_train_BOW1.shape)\n",
        "print(X_test_BOW1.shape)"
      ],
      "execution_count": 221,
      "outputs": [
        {
          "output_type": "stream",
          "text": [
            "**Bow Vectorizer**\n",
            "==================================================\n",
            "(100000, 3846)\n",
            "(50000, 3846)\n",
            "**Bow Vectorizer-1**\n",
            "==================================================\n",
            "(100000, 3846)\n",
            "(50000, 3846)\n"
          ],
          "name": "stdout"
        }
      ]
    },
    {
      "cell_type": "code",
      "metadata": {
        "id": "wmQo8A4hJ8GT",
        "colab_type": "code",
        "outputId": "9d972075-09a6-47bf-c636-9c2f28c5c842",
        "colab": {
          "base_uri": "https://localhost:8080/",
          "height": 85
        }
      },
      "source": [
        "#TFIDF on Text\n",
        "print(\"**TFIDF Vectorizer**\")\n",
        "print(\"=\"*50) \n",
        "tf_idf_vect = TfidfVectorizer(min_df = 50)\n",
        "X_train_tfidf = tf_idf_vect.fit_transform(x_train_data['CleanedText'])\n",
        "X_test_tfidf = tf_idf_vect.transform(x_test_data['CleanedText'])\n",
        "print(X_train_tfidf.shape)\n",
        "print(X_test_tfidf.shape)"
      ],
      "execution_count": 164,
      "outputs": [
        {
          "output_type": "stream",
          "text": [
            "**TFIDF Vectorizer**\n",
            "==================================================\n",
            "(100000, 3846)\n",
            "(50000, 3846)\n"
          ],
          "name": "stdout"
        }
      ]
    },
    {
      "cell_type": "code",
      "metadata": {
        "id": "qdLxDhQyJ8ly",
        "colab_type": "code",
        "outputId": "b2edc8db-0893-404d-cd2e-91e61904dc02",
        "colab": {
          "base_uri": "https://localhost:8080/",
          "height": 34
        }
      },
      "source": [
        "# Word2Vec in training part\n",
        "\n",
        "import gensim\n",
        "i=0\n",
        "list_of_sent_train=[]\n",
        "for sent in tqdm(x_train_data['Text'].values):\n",
        "    filtered_sentence=[]\n",
        "    sent=cleanhtml(sent)\n",
        "    for w in sent.split():\n",
        "        for cleaned_words in cleanpunc(w).split():\n",
        "            if(cleaned_words.isalpha()):    # checking is the word is alphabet\n",
        "                filtered_sentence.append(cleaned_words.lower()) # appending to the list\n",
        "            else:\n",
        "                continue \n",
        "    list_of_sent_train.append(filtered_sentence)"
      ],
      "execution_count": 165,
      "outputs": [
        {
          "output_type": "stream",
          "text": [
            "100%|██████████| 100000/100000 [00:19<00:00, 5193.60it/s]\n"
          ],
          "name": "stderr"
        }
      ]
    },
    {
      "cell_type": "code",
      "metadata": {
        "id": "z9FiGHMxSRco",
        "colab_type": "code",
        "outputId": "ef358093-e859-4416-83a0-54a45755cac8",
        "colab": {
          "base_uri": "https://localhost:8080/",
          "height": 34
        }
      },
      "source": [
        "# word2vec in testing part\n",
        "\n",
        "import gensim\n",
        "i=0\n",
        "list_of_sent_test=[]\n",
        "for sent in tqdm(x_test_data['Text'].values):\n",
        "    filtered_sentence=[]\n",
        "    sent=cleanhtml(sent)\n",
        "    for w in sent.split():\n",
        "        for cleaned_words in cleanpunc(w).split():\n",
        "            if(cleaned_words.isalpha()):    # checking is the word is alphabet\n",
        "                filtered_sentence.append(cleaned_words.lower()) # appending to the list\n",
        "            else:\n",
        "                continue \n",
        "    list_of_sent_test.append(filtered_sentence)"
      ],
      "execution_count": 166,
      "outputs": [
        {
          "output_type": "stream",
          "text": [
            "100%|██████████| 50000/50000 [00:10<00:00, 4630.05it/s]\n"
          ],
          "name": "stderr"
        }
      ]
    },
    {
      "cell_type": "code",
      "metadata": {
        "id": "rauy05t7J839",
        "colab_type": "code",
        "outputId": "55e5370b-476f-4ba7-d89c-aece5b0759e8",
        "colab": {
          "base_uri": "https://localhost:8080/",
          "height": 88
        }
      },
      "source": [
        "print(x_train_data['Text'].values[0])\n",
        "print(\"*****************************************************************\")\n",
        "print(list_of_sent_train[0])"
      ],
      "execution_count": 167,
      "outputs": [
        {
          "output_type": "stream",
          "text": [
            "this witty little book makes my son laugh at loud. i recite it in the car as we're driving along and he always can sing the refrain. he's learned about whales, India, drooping roses:  i love all the new words this book  introduces and the silliness of it all.  this is a classic book i am  willing to bet my son will STILL be able to recite from memory when he is  in college\n",
            "*****************************************************************\n",
            "['this', 'witty', 'little', 'book', 'makes', 'my', 'son', 'laugh', 'at', 'loud', 'i', 'recite', 'it', 'in', 'the', 'car', 'as', 'were', 'driving', 'along', 'and', 'he', 'always', 'can', 'sing', 'the', 'refrain', 'hes', 'learned', 'about', 'whales', 'india', 'drooping', 'i', 'love', 'all', 'the', 'new', 'words', 'this', 'book', 'introduces', 'and', 'the', 'silliness', 'of', 'it', 'all', 'this', 'is', 'a', 'classic', 'book', 'i', 'am', 'willing', 'to', 'bet', 'my', 'son', 'will', 'still', 'be', 'able', 'to', 'recite', 'from', 'memory', 'when', 'he', 'is', 'in', 'college']\n"
          ],
          "name": "stdout"
        }
      ]
    },
    {
      "cell_type": "code",
      "metadata": {
        "id": "C1UWVBXNJ81x",
        "colab_type": "code",
        "colab": {}
      },
      "source": [
        "w2v_model = gensim.models.Word2Vec(list_of_sent_train , min_count = 5 , size = 50)"
      ],
      "execution_count": 0,
      "outputs": []
    },
    {
      "cell_type": "code",
      "metadata": {
        "id": "pdFhfji5J8yw",
        "colab_type": "code",
        "outputId": "a90e9e5f-7ea4-48c7-9a01-6ec3f17c2eb8",
        "colab": {
          "base_uri": "https://localhost:8080/",
          "height": 34
        }
      },
      "source": [
        "w2v_words = list(w2v_model.wv.vocab)\n",
        "print(len(w2v_words))"
      ],
      "execution_count": 169,
      "outputs": [
        {
          "output_type": "stream",
          "text": [
            "19044\n"
          ],
          "name": "stdout"
        }
      ]
    },
    {
      "cell_type": "code",
      "metadata": {
        "id": "7psf_lh-J8wg",
        "colab_type": "code",
        "outputId": "7ff01dc8-a5ce-4c42-bbed-58582d83be9d",
        "colab": {
          "base_uri": "https://localhost:8080/",
          "height": 241
        }
      },
      "source": [
        "w2v_model.wv.most_similar('good')"
      ],
      "execution_count": 170,
      "outputs": [
        {
          "output_type": "stream",
          "text": [
            "/usr/local/lib/python3.6/dist-packages/gensim/matutils.py:737: FutureWarning: Conversion of the second argument of issubdtype from `int` to `np.signedinteger` is deprecated. In future, it will be treated as `np.int64 == np.dtype(int).type`.\n",
            "  if np.issubdtype(vec.dtype, np.int):\n"
          ],
          "name": "stderr"
        },
        {
          "output_type": "execute_result",
          "data": {
            "text/plain": [
              "[('great', 0.8260831236839294),\n",
              " ('decent', 0.8195675611495972),\n",
              " ('terrific', 0.7372971773147583),\n",
              " ('fantastic', 0.733842134475708),\n",
              " ('yummy', 0.7324783205986023),\n",
              " ('fine', 0.7224534749984741),\n",
              " ('bad', 0.7097476720809937),\n",
              " ('tasty', 0.6908984780311584),\n",
              " ('nice', 0.6904658675193787),\n",
              " ('awesome', 0.680310070514679)]"
            ]
          },
          "metadata": {
            "tags": []
          },
          "execution_count": 170
        }
      ]
    },
    {
      "cell_type": "code",
      "metadata": {
        "id": "LV6e7MpaJ8s2",
        "colab_type": "code",
        "outputId": "d4100b1d-2093-4bbd-c240-cabec1a40f7e",
        "colab": {
          "base_uri": "https://localhost:8080/",
          "height": 68
        }
      },
      "source": [
        "# average Word2Vec in trainin\n",
        "\n",
        "sent_vectors_train = []; \n",
        "\n",
        "for sent in tqdm(list_of_sent_train):\n",
        "    sent_vec = np.zeros(50) \n",
        "    cnt_words =0; \n",
        "    for word in sent: # \n",
        "        if word in w2v_words:\n",
        "            vec = w2v_model.wv[word]\n",
        "            sent_vec += vec\n",
        "            cnt_words += 1\n",
        "    if cnt_words != 0:\n",
        "        sent_vec /= cnt_words\n",
        "    sent_vectors_train.append(sent_vec) \n",
        "\n",
        "print(len(sent_vectors_train))\n",
        "print(len(sent_vectors_train[0]))"
      ],
      "execution_count": 171,
      "outputs": [
        {
          "output_type": "stream",
          "text": [
            "100%|██████████| 100000/100000 [04:20<00:00, 384.58it/s]"
          ],
          "name": "stderr"
        },
        {
          "output_type": "stream",
          "text": [
            "100000\n",
            "50\n"
          ],
          "name": "stdout"
        },
        {
          "output_type": "stream",
          "text": [
            "\n"
          ],
          "name": "stderr"
        }
      ]
    },
    {
      "cell_type": "code",
      "metadata": {
        "id": "iUoogBSXJ8i7",
        "colab_type": "code",
        "outputId": "4bd00906-996d-4f04-fc91-fa8f4e6528a9",
        "colab": {
          "base_uri": "https://localhost:8080/",
          "height": 68
        }
      },
      "source": [
        "# average Word2Vec in testing\n",
        "\n",
        "sent_vectors_test = []; \n",
        "for sent in tqdm(list_of_sent_test):\n",
        "    sent_vec = np.zeros(50) \n",
        "    cnt_words =0; \n",
        "    for word in sent: # \n",
        "        if word in w2v_words:\n",
        "            vec = w2v_model.wv[word]\n",
        "            sent_vec += vec\n",
        "            cnt_words += 1\n",
        "    if cnt_words != 0:\n",
        "        sent_vec /= cnt_words\n",
        "    sent_vectors_test.append(sent_vec) \n",
        "    \n",
        "print(len(sent_vectors_test))\n",
        "print(len(sent_vectors_test[0]))"
      ],
      "execution_count": 172,
      "outputs": [
        {
          "output_type": "stream",
          "text": [
            "100%|██████████| 50000/50000 [02:24<00:00, 346.30it/s]"
          ],
          "name": "stderr"
        },
        {
          "output_type": "stream",
          "text": [
            "50000\n",
            "50\n"
          ],
          "name": "stdout"
        },
        {
          "output_type": "stream",
          "text": [
            "\n"
          ],
          "name": "stderr"
        }
      ]
    },
    {
      "cell_type": "code",
      "metadata": {
        "id": "AidS-NVqJ8g1",
        "colab_type": "code",
        "colab": {}
      },
      "source": [
        "tfidf_vect = TfidfVectorizer(min_df = 50)\n",
        "train_tfidf_w2v = tfidf_vect.fit_transform(x_train_data[\"CleanedText\"])\n",
        "test_tfidf_w2v = tfidf_vect.transform(x_test_data[\"CleanedText\"])\n",
        "\n",
        "dictionary = dict(zip(tfidf_vect.get_feature_names(), list(tfidf_vect.idf_)))"
      ],
      "execution_count": 0,
      "outputs": []
    },
    {
      "cell_type": "code",
      "metadata": {
        "id": "ribzkETGJ8e1",
        "colab_type": "code",
        "outputId": "3e471ad5-12ac-455a-e9b4-950e75a93442",
        "colab": {
          "base_uri": "https://localhost:8080/",
          "height": 51
        }
      },
      "source": [
        "print(train_tfidf_w2v.shape)\n",
        "print(test_tfidf_w2v.shape)"
      ],
      "execution_count": 174,
      "outputs": [
        {
          "output_type": "stream",
          "text": [
            "(100000, 3846)\n",
            "(50000, 3846)\n"
          ],
          "name": "stdout"
        }
      ]
    },
    {
      "cell_type": "code",
      "metadata": {
        "id": "SkJ51v7EJ8af",
        "colab_type": "code",
        "outputId": "66fa3b3c-e867-4397-86cd-f539bab3743d",
        "colab": {
          "base_uri": "https://localhost:8080/",
          "height": 34
        }
      },
      "source": [
        "# TF-IDF weighted Word2Vec in training\n",
        "\n",
        "tfidf_feat = tfidf_vect.get_feature_names() \n",
        "\n",
        "tfidf_sent_vectors_train = []\n",
        "row=0;\n",
        "\n",
        "for sent in tqdm(list_of_sent_train): \n",
        "    sent_vec = np.zeros(50) \n",
        "    weight_sum =0\n",
        "\n",
        "    for word in sent: \n",
        "        if word in w2v_words and word in tfidf_feat:\n",
        "            vec = w2v_model.wv[word]\n",
        "            tf_idf = dictionary[word]*(sent.count(word)/len(sent))\n",
        "\n",
        "            sent_vec += (vec * tf_idf)\n",
        "            weight_sum += tf_idf\n",
        "\n",
        "    if weight_sum != 0:\n",
        "        sent_vec /= weight_sum\n",
        "    tfidf_sent_vectors_train.append(sent_vec)\n",
        "    row += 1"
      ],
      "execution_count": 175,
      "outputs": [
        {
          "output_type": "stream",
          "text": [
            "100%|██████████| 100000/100000 [11:34<00:00, 127.89it/s]\n"
          ],
          "name": "stderr"
        }
      ]
    },
    {
      "cell_type": "code",
      "metadata": {
        "id": "LkhFEv-uJ8XA",
        "colab_type": "code",
        "outputId": "731a3c4b-3d77-432d-ecf6-b8366ea3fc95",
        "colab": {
          "base_uri": "https://localhost:8080/",
          "height": 34
        }
      },
      "source": [
        "# TF-IDF weighted Word2Vec in testing\n",
        "\n",
        "tfidf_feat = tfidf_vect.get_feature_names() \n",
        "\n",
        "tfidf_sent_vectors_test = []\n",
        "row=0\n",
        "\n",
        "for sent in tqdm(list_of_sent_test): \n",
        "    sent_vec = np.zeros(50)\n",
        "    weight_sum =0\n",
        "    for word in sent: \n",
        "        if word in w2v_words and word in tfidf_feat:\n",
        "            vec = w2v_model.wv[word]\n",
        "            tf_idf = dictionary[word]*(sent.count(word)/len(sent))\n",
        "\n",
        "            sent_vec += (vec * tf_idf)\n",
        "            weight_sum += tf_idf\n",
        "            \n",
        "    if weight_sum != 0:\n",
        "        sent_vec /= weight_sum\n",
        "    tfidf_sent_vectors_test.append(sent_vec)\n",
        "    row += 1"
      ],
      "execution_count": 179,
      "outputs": [
        {
          "output_type": "stream",
          "text": [
            "100%|██████████| 50000/50000 [06:09<00:00, 135.40it/s]\n"
          ],
          "name": "stderr"
        }
      ]
    },
    {
      "cell_type": "code",
      "metadata": {
        "id": "plM7cqvkJ8U5",
        "colab_type": "code",
        "colab": {}
      },
      "source": [
        "# SVM with BOW"
      ],
      "execution_count": 0,
      "outputs": []
    },
    {
      "cell_type": "code",
      "metadata": {
        "id": "XNMJyapgpLr_",
        "colab_type": "code",
        "outputId": "4b2ad6f8-0cb6-488a-ce1d-d959a43e6d60",
        "colab": {
          "base_uri": "https://localhost:8080/",
          "height": 221
        }
      },
      "source": [
        "!pip install scikit-plot"
      ],
      "execution_count": 181,
      "outputs": [
        {
          "output_type": "stream",
          "text": [
            "Requirement already satisfied: scikit-plot in /usr/local/lib/python3.6/dist-packages (0.3.7)\n",
            "Requirement already satisfied: matplotlib>=1.4.0 in /usr/local/lib/python3.6/dist-packages (from scikit-plot) (3.1.3)\n",
            "Requirement already satisfied: scipy>=0.9 in /usr/local/lib/python3.6/dist-packages (from scikit-plot) (1.4.1)\n",
            "Requirement already satisfied: scikit-learn>=0.18 in /usr/local/lib/python3.6/dist-packages (from scikit-plot) (0.22.1)\n",
            "Requirement already satisfied: joblib>=0.10 in /usr/local/lib/python3.6/dist-packages (from scikit-plot) (0.14.1)\n",
            "Requirement already satisfied: cycler>=0.10 in /usr/local/lib/python3.6/dist-packages (from matplotlib>=1.4.0->scikit-plot) (0.10.0)\n",
            "Requirement already satisfied: pyparsing!=2.0.4,!=2.1.2,!=2.1.6,>=2.0.1 in /usr/local/lib/python3.6/dist-packages (from matplotlib>=1.4.0->scikit-plot) (2.4.6)\n",
            "Requirement already satisfied: numpy>=1.11 in /usr/local/lib/python3.6/dist-packages (from matplotlib>=1.4.0->scikit-plot) (1.17.5)\n",
            "Requirement already satisfied: python-dateutil>=2.1 in /usr/local/lib/python3.6/dist-packages (from matplotlib>=1.4.0->scikit-plot) (2.6.1)\n",
            "Requirement already satisfied: kiwisolver>=1.0.1 in /usr/local/lib/python3.6/dist-packages (from matplotlib>=1.4.0->scikit-plot) (1.1.0)\n",
            "Requirement already satisfied: six in /usr/local/lib/python3.6/dist-packages (from cycler>=0.10->matplotlib>=1.4.0->scikit-plot) (1.12.0)\n",
            "Requirement already satisfied: setuptools in /usr/local/lib/python3.6/dist-packages (from kiwisolver>=1.0.1->matplotlib>=1.4.0->scikit-plot) (45.2.0)\n"
          ],
          "name": "stdout"
        }
      ]
    },
    {
      "cell_type": "code",
      "metadata": {
        "id": "4zrYCfLppO1O",
        "colab_type": "code",
        "colab": {}
      },
      "source": [
        "import scikitplot as skplt"
      ],
      "execution_count": 0,
      "outputs": []
    },
    {
      "cell_type": "code",
      "metadata": {
        "id": "D__xrwpkJ8Sp",
        "colab_type": "code",
        "colab": {}
      },
      "source": [
        "#Standardising the train and test data\n",
        "sc = StandardScaler(copy = True , with_mean = False , with_std = True)\n",
        "X_train = sc.fit_transform(X_train_BOW)\n",
        "X_test = sc.transform(X_test_BOW)"
      ],
      "execution_count": 0,
      "outputs": []
    },
    {
      "cell_type": "code",
      "metadata": {
        "id": "Viv6jaCHJ8Ql",
        "colab_type": "code",
        "outputId": "1d3ad055-3a11-483a-d6a5-1232415fefaa",
        "colab": {
          "base_uri": "https://localhost:8080/",
          "height": 34
        }
      },
      "source": [
        "alpha = [10**-4, 10**-3, 10**-2, 10**-1, 10**0, 10**1, 10**2, 10**3, 10**4]\n",
        "auc_score=[]\n",
        "\n",
        "for i in tqdm(alpha):\n",
        "    model = linear_model.SGDClassifier(alpha = i , loss = 'hinge' , class_weight = 'balanced')\n",
        "    model.fit(X_train , y_train)\n",
        "    \n",
        "    Cal_CV_model = CalibratedClassifierCV(model , method = \"sigmoid\" , cv = 10)\n",
        "    Cal_CV_model.fit(X_train, y_train)\n",
        "    predict_y = Cal_CV_model.predict_proba(X_train)\n",
        "    preds = predict_y[:,1]\n",
        "    roc_auc = roc_auc_score(y_train, preds)\n",
        "    auc_score.append(roc_auc)"
      ],
      "execution_count": 185,
      "outputs": [
        {
          "output_type": "stream",
          "text": [
            "100%|██████████| 9/9 [01:16<00:00,  5.36s/it]\n"
          ],
          "name": "stderr"
        }
      ]
    },
    {
      "cell_type": "code",
      "metadata": {
        "id": "efAVOdSkdgrx",
        "colab_type": "code",
        "outputId": "fec07b05-c6d1-47af-fefb-ca14dd0bc0b5",
        "colab": {
          "base_uri": "https://localhost:8080/",
          "height": 51
        }
      },
      "source": [
        "optimal_alpha = alpha[auc_score.index(max(auc_score))]\n",
        "print('\\nThe optimal value of alpha is %.3f.' % optimal_alpha)"
      ],
      "execution_count": 186,
      "outputs": [
        {
          "output_type": "stream",
          "text": [
            "\n",
            "The optimal value of alpha is 0.001.\n"
          ],
          "name": "stdout"
        }
      ]
    },
    {
      "cell_type": "code",
      "metadata": {
        "id": "lHYV_-4xJ8OW",
        "colab_type": "code",
        "outputId": "9a267730-922d-4239-db14-37e34b4dbea6",
        "colab": {
          "base_uri": "https://localhost:8080/",
          "height": 296
        }
      },
      "source": [
        "# determining best value of alpha\n",
        "\n",
        "plt.plot(alpha , auc_score , label = \"Train AUC\" , color = 'r')\n",
        "plt.xlabel('Hypreparameter',size=9)\n",
        "plt.ylabel('Area under ROC Curve',size=9)\n",
        "plt.title('Area under ROC Curve VS Hyperparameter curve',size=16)\n",
        "plt.legend(loc='best')\n",
        "plt.grid()\n",
        "plt.show()"
      ],
      "execution_count": 188,
      "outputs": [
        {
          "output_type": "display_data",
          "data": {
            "image/png": "[encoded data removed]",
            "text/plain": [
              "<Figure size 432x288 with 1 Axes>"
            ]
          },
          "metadata": {
            "tags": []
          }
        }
      ]
    },
    {
      "cell_type": "code",
      "metadata": {
        "id": "IGwTcIM0J8EB",
        "colab_type": "code",
        "outputId": "cdcd2e41-53c2-4b63-94ab-c744039f913f",
        "colab": {
          "base_uri": "https://localhost:8080/",
          "height": 346
        }
      },
      "source": [
        "model = linear_model.SGDClassifier(alpha=optimal_alpha, loss='hinge', class_weight='balanced')\n",
        "model.fit(X_train, y_train)\n",
        "\n",
        "lr = CalibratedClassifierCV(model, method=\"sigmoid\",cv=10)\n",
        "lr.fit(X_train, y_train)\n",
        "pred = lr.predict(X_test)\n",
        "\n",
        "\n",
        "print(\"***Test Data Report***\")\n",
        "print(\"Best alpha = \",optimal_alpha)\n",
        "fpr, tpr, threshold = metrics.roc_curve(y_test, lr.predict_proba(X_test)[:,1],pos_label=\"positive\")\n",
        "auc = metrics.auc(fpr, tpr)\n",
        "print(\"AUC = \",auc*100)\n",
        "skplt.metrics.plot_confusion_matrix(y_test, pred)\n",
        "plt.show()\n",
        "\n",
        "\n",
        "\n",
        "fpr, tpr, threshold = metrics.roc_curve(y_test, lr.predict_proba(X_test)[:,1] , pos_label = \"positive\")\n",
        "fpr2, tpr2, threshold2 = metrics.roc_curve(y_train, lr.predict_proba(X_train)[:,1] , pos_label = \"positive\")\n",
        "\n",
        "roc_auc = metrics.auc(fpr, tpr)\n",
        "roc_auc2 = metrics.auc(fpr2, tpr2)"
      ],
      "execution_count": 189,
      "outputs": [
        {
          "output_type": "stream",
          "text": [
            "***Test Data Report***\n",
            "Best alpha =  0.001\n",
            "AUC =  92.48867960017031\n"
          ],
          "name": "stdout"
        },
        {
          "output_type": "display_data",
          "data": {
            "image/png": "[encoded data removed]",
            "text/plain": [
              "<Figure size 432x288 with 2 Axes>"
            ]
          },
          "metadata": {
            "tags": []
          }
        }
      ]
    },
    {
      "cell_type": "code",
      "metadata": {
        "id": "vtoXhmurJ8BX",
        "colab_type": "code",
        "outputId": "c35b3d87-94f6-4844-b9d0-67fb843e6ad2",
        "colab": {
          "base_uri": "https://localhost:8080/",
          "height": 312
        }
      },
      "source": [
        "# method I: plt\n",
        "plt.figure(figsize = (20 ,10))\n",
        "f, ax = plt.subplots()\n",
        "plt.title('Receiver Operating Characteristic Curve')\n",
        "cy = cycler('color', ['red', 'green', 'blue'])\n",
        "ax.set_prop_cycle(cy)\n",
        "ax.plot(fpr, tpr, label = 'AUC = %0.2f' % roc_auc)\n",
        "ax.plot(fpr2, tpr2, label = 'AUC = %0.2f' % roc_auc2)\n",
        "plt.legend(['TEST Data', 'TRAIN Data'],loc = 'lower right')\n",
        "\n",
        "ax.plot([0, 1], [0, 1])\n",
        "plt.xlim([0, 1])\n",
        "plt.ylim([0, 1])\n",
        "plt.ylabel('True Positive Rate')\n",
        "plt.xlabel('False Positive Rate')\n",
        "plt.show()"
      ],
      "execution_count": 192,
      "outputs": [
        {
          "output_type": "display_data",
          "data": {
            "text/plain": [
              "<Figure size 1440x720 with 0 Axes>"
            ]
          },
          "metadata": {
            "tags": []
          }
        },
        {
          "output_type": "display_data",
          "data": {
            "image/png": "[encoded data removed]",
            "text/plain": [
              "<Figure size 432x288 with 1 Axes>"
            ]
          },
          "metadata": {
            "tags": []
          }
        }
      ]
    },
    {
      "cell_type": "code",
      "metadata": {
        "id": "RGu1Ilg6J7-f",
        "colab_type": "code",
        "colab": {}
      },
      "source": [
        "## Positive Features"
      ],
      "execution_count": 0,
      "outputs": []
    },
    {
      "cell_type": "code",
      "metadata": {
        "id": "b5Q8LNMkJ77J",
        "colab_type": "code",
        "colab": {
          "base_uri": "https://localhost:8080/",
          "height": 374
        },
        "outputId": "31fb579d-1a32-40db-b911-cc9d49f901bd"
      },
      "source": [
        "#Top 20 positive features\n",
        "\n",
        "feature_name = count_vect.get_feature_names()\n",
        "w = model.coef_\n",
        "weight=w.reshape(-1)\n",
        "sorted_feature = np.argsort(weight)\n",
        "top_20_positive_feature=sorted_feature[:-20:-1]\n",
        "\n",
        "print(\"Positive feature top 20 :\")\n",
        "print(\"-------\")\n",
        "for i in top_20_positive_feature:\n",
        "    print(\"%s\\t-->\\t%f\"%(feature_name[i],weight[i]))"
      ],
      "execution_count": 196,
      "outputs": [
        {
          "output_type": "stream",
          "text": [
            "Positive feature top 20 :\n",
            "-------\n",
            "great\t-->\t0.726402\n",
            "best\t-->\t0.550854\n",
            "love\t-->\t0.538433\n",
            "delici\t-->\t0.492200\n",
            "perfect\t-->\t0.428480\n",
            "good\t-->\t0.419633\n",
            "excel\t-->\t0.374821\n",
            "amaz\t-->\t0.325990\n",
            "nice\t-->\t0.306731\n",
            "favorit\t-->\t0.267623\n",
            "wonder\t-->\t0.266709\n",
            "yummi\t-->\t0.231074\n",
            "hook\t-->\t0.225442\n",
            "addict\t-->\t0.224985\n",
            "litter\t-->\t0.218722\n",
            "tasti\t-->\t0.213602\n",
            "easi\t-->\t0.208932\n",
            "happi\t-->\t0.203560\n",
            "awesom\t-->\t0.202836\n"
          ],
          "name": "stdout"
        }
      ]
    },
    {
      "cell_type": "code",
      "metadata": {
        "id": "R--pyO_gJ730",
        "colab_type": "code",
        "colab": {}
      },
      "source": [
        "## Negetive Features"
      ],
      "execution_count": 0,
      "outputs": []
    },
    {
      "cell_type": "code",
      "metadata": {
        "id": "oT-p6etlJ711",
        "colab_type": "code",
        "colab": {
          "base_uri": "https://localhost:8080/",
          "height": 391
        },
        "outputId": "7ba7c32f-6767-48b9-f1ba-c7cd496e296e"
      },
      "source": [
        "#Top 20 negative features\n",
        "weight=w.reshape(-1)\n",
        "sorted_feature = np.argsort(weight)\n",
        "feature_name = tf_idf_vect.get_feature_names()\n",
        "top_20_negative_feature = sorted_feature[:20]\n",
        "\n",
        "print(\"Negative feature top 20 :\")\n",
        "print(\"-------\")\n",
        "for i in top_20_negative_feature:\n",
        "    print(\"%s\\t -->\\t%f  \"%(feature_name[i],weight[i]))"
      ],
      "execution_count": 198,
      "outputs": [
        {
          "output_type": "stream",
          "text": [
            "Negative feature top 20 :\n",
            "-------\n",
            "disappoint\t -->\t-0.325233  \n",
            "worst\t -->\t-0.272925  \n",
            "glutam\t -->\t-0.263759  \n",
            "unfortun\t -->\t-0.196308  \n",
            "tast\t -->\t-0.186596  \n",
            "terribl\t -->\t-0.178509  \n",
            "bland\t -->\t-0.177803  \n",
            "would\t -->\t-0.175479  \n",
            "thought\t -->\t-0.164611  \n",
            "stale\t -->\t-0.152230  \n",
            "hope\t -->\t-0.152190  \n",
            "bad\t -->\t-0.152118  \n",
            "return\t -->\t-0.150574  \n",
            "stick\t -->\t-0.150090  \n",
            "aw\t -->\t-0.143465  \n",
            "money\t -->\t-0.140695  \n",
            "horribl\t -->\t-0.140249  \n",
            "sound\t -->\t-0.135526  \n",
            "earth\t -->\t-0.133003  \n",
            "mayb\t -->\t-0.130184  \n"
          ],
          "name": "stdout"
        }
      ]
    },
    {
      "cell_type": "code",
      "metadata": {
        "id": "WTGHgjURJ7z6",
        "colab_type": "code",
        "colab": {}
      },
      "source": [
        "## Linear-SVM in Tf-Idf"
      ],
      "execution_count": 0,
      "outputs": []
    },
    {
      "cell_type": "code",
      "metadata": {
        "id": "I5TgIcm3J7xb",
        "colab_type": "code",
        "colab": {}
      },
      "source": [
        "sc = StandardScaler(copy=True, with_mean=False, with_std=True)\n",
        "X_train = sc.fit_transform(X_train_tfidf)\n",
        "X_test = sc.transform(X_test_tfidf)"
      ],
      "execution_count": 0,
      "outputs": []
    },
    {
      "cell_type": "code",
      "metadata": {
        "id": "t5AHrOhiJ7t1",
        "colab_type": "code",
        "colab": {
          "base_uri": "https://localhost:8080/",
          "height": 34
        },
        "outputId": "07edb31e-064a-49b2-861a-a0760ab1d50b"
      },
      "source": [
        "alpha = [10**-4, 10**-3, 10**-2, 10**-1, 10**0, 10**1, 10**2, 10**3, 10**4] #alpha range between 10^-4 to 10^4\n",
        "auc_score=[] # storing the auc value for each alpha\n",
        "\n",
        "\n",
        "for i in tqdm(alpha):\n",
        "    model = linear_model.SGDClassifier(alpha=i, loss='hinge', class_weight='balanced')\n",
        "    \n",
        "    Cal_CV_model = CalibratedClassifierCV(model, method=\"sigmoid\",cv=10)\n",
        "    Cal_CV_model.fit(X_train, y_train)\n",
        "    predict_y = Cal_CV_model.predict_proba(X_train)\n",
        "    preds = predict_y[:,1]\n",
        "    roc_auc = roc_auc_score(y_train, preds)\n",
        "    auc_score.append(roc_auc)"
      ],
      "execution_count": 201,
      "outputs": [
        {
          "output_type": "stream",
          "text": [
            "100%|██████████| 9/9 [01:15<00:00,  5.07s/it]\n"
          ],
          "name": "stderr"
        }
      ]
    },
    {
      "cell_type": "code",
      "metadata": {
        "id": "NIht_I6KNuIa",
        "colab_type": "code",
        "colab": {
          "base_uri": "https://localhost:8080/",
          "height": 51
        },
        "outputId": "c4d7741b-2e8a-4b07-a073-161d9bb526b2"
      },
      "source": [
        "# determining best value of alpha\n",
        "optimal_alpha = alpha[auc_score.index(max(auc_score))]\n",
        "print('\\nThe optimal value of alpha is %.3f.' % optimal_alpha)"
      ],
      "execution_count": 202,
      "outputs": [
        {
          "output_type": "stream",
          "text": [
            "\n",
            "The optimal value of alpha is 0.001.\n"
          ],
          "name": "stdout"
        }
      ]
    },
    {
      "cell_type": "code",
      "metadata": {
        "id": "Zwd398wIJ7l7",
        "colab_type": "code",
        "colab": {
          "base_uri": "https://localhost:8080/",
          "height": 296
        },
        "outputId": "9749f0bb-db94-48da-a7c1-e2cc7f54a519"
      },
      "source": [
        "# plot accuracy vs alpha \n",
        "plt.plot(alpha, auc_score,label=\"Train AUC\")\n",
        "plt.xlabel('Hypreparameter',size=9)\n",
        "plt.ylabel('Area under ROC Curve',size=9)\n",
        "plt.title('Area under ROC Curve VS Hyperparameter curve',size=16)\n",
        "plt.legend(loc='best')\n",
        "plt.grid()\n",
        "plt.show()"
      ],
      "execution_count": 203,
      "outputs": [
        {
          "output_type": "display_data",
          "data": {
            "image/png": "[encoded data removed]",
            "text/plain": [
              "<Figure size 432x288 with 1 Axes>"
            ]
          },
          "metadata": {
            "tags": []
          }
        }
      ]
    },
    {
      "cell_type": "code",
      "metadata": {
        "id": "LttLJq78J7kH",
        "colab_type": "code",
        "colab": {
          "base_uri": "https://localhost:8080/",
          "height": 624
        },
        "outputId": "edc494f8-418d-4c5f-a4da-9f01d079995d"
      },
      "source": [
        "model = linear_model.SGDClassifier(alpha=optimal_alpha, loss='hinge', class_weight='balanced')\n",
        "model.fit(X_train, y_train)\n",
        "\n",
        "lr = CalibratedClassifierCV(model, method=\"sigmoid\",cv=10)\n",
        "lr.fit(X_train, y_train)\n",
        "pred = lr.predict(X_test)\n",
        "\n",
        "\n",
        "print(\"***Test Data Report***\")\n",
        "print(\"Best alpha = \",optimal_alpha)\n",
        "fpr, tpr, threshold = metrics.roc_curve(y_test, lr.predict_proba(X_test)[:,1],pos_label=\"positive\")\n",
        "auc = metrics.auc(fpr, tpr)\n",
        "print(\"AUC = \",auc*100)\n",
        "skplt.metrics.plot_confusion_matrix(y_test, pred)\n",
        "plt.show()\n",
        "\n",
        "\n",
        "\n",
        "fpr, tpr, threshold = metrics.roc_curve(y_test, lr.predict_proba(X_test)[:,1],pos_label=\"positive\")\n",
        "fpr2, tpr2, threshold2 = metrics.roc_curve(y_train, lr.predict_proba(X_train)[:,1],pos_label=\"positive\")\n",
        "\n",
        "roc_auc = metrics.auc(fpr, tpr)\n",
        "roc_auc2 = metrics.auc(fpr2, tpr2)\n",
        "\n",
        "# method I: plt\n",
        "import matplotlib.pyplot as plt\n",
        "f, ax = plt.subplots()\n",
        "plt.title('Receiver Operating Characteristic Curve')\n",
        "cy = cycler('color', ['red', 'green', 'blue'])\n",
        "ax.set_prop_cycle(cy)\n",
        "ax.plot(fpr, tpr, label = 'AUC = %0.2f' % roc_auc)\n",
        "ax.plot(fpr2, tpr2, label = 'AUC = %0.2f' % roc_auc2)\n",
        "plt.legend(['TEST Data', 'TRAIN Data'],loc = 'lower right')\n",
        "\n",
        "ax.plot([0, 1], [0, 1])\n",
        "plt.xlim([0, 1])\n",
        "plt.ylim([0, 1])\n",
        "plt.ylabel('True Positive Rate')\n",
        "plt.xlabel('False Positive Rate')\n",
        "plt.show()"
      ],
      "execution_count": 204,
      "outputs": [
        {
          "output_type": "stream",
          "text": [
            "***Test Data Report***\n",
            "Best alpha =  0.001\n",
            "AUC =  93.36985891734011\n"
          ],
          "name": "stdout"
        },
        {
          "output_type": "display_data",
          "data": {
            "image/png": "[encoded data removed]",
            "text/plain": [
              "<Figure size 432x288 with 2 Axes>"
            ]
          },
          "metadata": {
            "tags": []
          }
        },
        {
          "output_type": "display_data",
          "data": {
            "image/png": "[encoded data removed]",
            "text/plain": [
              "<Figure size 432x288 with 1 Axes>"
            ]
          },
          "metadata": {
            "tags": []
          }
        }
      ]
    },
    {
      "cell_type": "code",
      "metadata": {
        "id": "0-qSIZMQJ7iU",
        "colab_type": "code",
        "colab": {}
      },
      "source": [
        "## Linear-SVM in "
      ],
      "execution_count": 0,
      "outputs": []
    },
    {
      "cell_type": "code",
      "metadata": {
        "id": "eCX71LXvJ7gN",
        "colab_type": "code",
        "colab": {}
      },
      "source": [
        "sc = StandardScaler()\n",
        "X_train = sc.fit_transform(sent_vectors_train)\n",
        "X_test = sc.transform(sent_vectors_test)"
      ],
      "execution_count": 0,
      "outputs": []
    },
    {
      "cell_type": "code",
      "metadata": {
        "id": "_JRon6o3J7c0",
        "colab_type": "code",
        "colab": {
          "base_uri": "https://localhost:8080/",
          "height": 34
        },
        "outputId": "4584638e-017f-473f-dfaa-4d230a9b10ac"
      },
      "source": [
        "alpha = [10**-4, 10**-3, 10**-2, 10**-1, 10**0, 10**1, 10**2, 10**3, 10**4] #alpha range between 10^-4 to 10^4\n",
        "auc_score=[] # storing the auc value for each alpha\n",
        "\n",
        "\n",
        "for i in tqdm(alpha):\n",
        "    model = linear_model.SGDClassifier(alpha=i, loss='hinge', class_weight='balanced')\n",
        "    \n",
        "    Cal_CV_model = CalibratedClassifierCV(model, method=\"sigmoid\",cv=10)\n",
        "    Cal_CV_model.fit(X_train, y_train)\n",
        "    predict_y = Cal_CV_model.predict_proba(X_train)\n",
        "    preds = predict_y[:,1]\n",
        "    roc_auc = roc_auc_score(y_train, preds)\n",
        "    auc_score.append(roc_auc)"
      ],
      "execution_count": 208,
      "outputs": [
        {
          "output_type": "stream",
          "text": [
            "100%|██████████| 9/9 [00:45<00:00,  4.38s/it]\n"
          ],
          "name": "stderr"
        }
      ]
    },
    {
      "cell_type": "code",
      "metadata": {
        "id": "2yzVMwpPJ7XK",
        "colab_type": "code",
        "colab": {
          "base_uri": "https://localhost:8080/",
          "height": 330
        },
        "outputId": "cc251c0d-bcec-4b74-bf4c-2372940640a7"
      },
      "source": [
        "# determining best value of alpha\n",
        "optimal_alpha = alpha[auc_score.index(max(auc_score))]\n",
        "print('\\nThe optimal value of alpha is %.3f.' % optimal_alpha)\n",
        "# plot accuracy vs alpha \n",
        "plt.plot(alpha, auc_score,label=\"Train AUC\")\n",
        "plt.xlabel('Hypreparameter',size=9)\n",
        "plt.ylabel('Area under ROC Curve',size=9)\n",
        "plt.title('Area under ROC Curve VS Hyperparameter curve',size=16)\n",
        "plt.legend(loc='best')\n",
        "plt.grid()\n",
        "plt.show()"
      ],
      "execution_count": 209,
      "outputs": [
        {
          "output_type": "stream",
          "text": [
            "\n",
            "The optimal value of alpha is 0.000.\n"
          ],
          "name": "stdout"
        },
        {
          "output_type": "display_data",
          "data": {
            "image/png": "[encoded data removed]",
            "text/plain": [
              "<Figure size 432x288 with 1 Axes>"
            ]
          },
          "metadata": {
            "tags": []
          }
        }
      ]
    },
    {
      "cell_type": "code",
      "metadata": {
        "id": "xfgbQ1GNJ7Pg",
        "colab_type": "code",
        "colab": {
          "base_uri": "https://localhost:8080/",
          "height": 624
        },
        "outputId": "dc318325-7b2e-4e17-d7e7-e7dae656b48a"
      },
      "source": [
        "model = linear_model.SGDClassifier(alpha=optimal_alpha, loss='hinge', class_weight='balanced')\n",
        "\n",
        "lr = CalibratedClassifierCV(model, method=\"sigmoid\",cv=10)\n",
        "lr.fit(X_train, y_train)\n",
        "pred = lr.predict(X_test)\n",
        "\n",
        "\n",
        "print(\"***Test Data Report***\")\n",
        "print(\"Best alpha = \",optimal_alpha)\n",
        "fpr, tpr, threshold = metrics.roc_curve(y_test, lr.predict_proba(X_test)[:,1],pos_label=\"positive\")\n",
        "auc = metrics.auc(fpr, tpr)\n",
        "print(\"AUC = \",auc*100)\n",
        "skplt.metrics.plot_confusion_matrix(y_test, pred)\n",
        "plt.show()\n",
        "\n",
        "\n",
        "\n",
        "fpr, tpr, threshold = metrics.roc_curve(y_test, lr.predict_proba(X_test)[:,1],pos_label=\"positive\")\n",
        "fpr2, tpr2, threshold2 = metrics.roc_curve(y_train, lr.predict_proba(X_train)[:,1],pos_label=\"positive\")\n",
        "\n",
        "roc_auc = metrics.auc(fpr, tpr)\n",
        "roc_auc2 = metrics.auc(fpr2, tpr2)\n",
        "\n",
        "# method I: plt\n",
        "import matplotlib.pyplot as plt\n",
        "f, ax = plt.subplots()\n",
        "plt.title('Receiver Operating Characteristic Curve')\n",
        "cy = cycler('color', ['red', 'green', 'blue'])\n",
        "ax.set_prop_cycle(cy)\n",
        "ax.plot(fpr, tpr, label = 'AUC = %0.2f' % roc_auc)\n",
        "ax.plot(fpr2, tpr2, label = 'AUC = %0.2f' % roc_auc2)\n",
        "plt.legend(['TEST Data', 'TRAIN Data'],loc = 'lower right')\n",
        "\n",
        "ax.plot([0, 1], [0, 1])\n",
        "plt.xlim([0, 1])\n",
        "plt.ylim([0, 1])\n",
        "plt.ylabel('True Positive Rate')\n",
        "plt.xlabel('False Positive Rate')\n",
        "plt.show()"
      ],
      "execution_count": 210,
      "outputs": [
        {
          "output_type": "stream",
          "text": [
            "***Test Data Report***\n",
            "Best alpha =  0.0001\n",
            "AUC =  88.78594265598015\n"
          ],
          "name": "stdout"
        },
        {
          "output_type": "display_data",
          "data": {
            "image/png": "[encoded data removed]",
            "text/plain": [
              "<Figure size 432x288 with 2 Axes>"
            ]
          },
          "metadata": {
            "tags": []
          }
        },
        {
          "output_type": "display_data",
          "data": {
            "image/png": "[encoded data removed]",
            "text/plain": [
              "<Figure size 432x288 with 1 Axes>"
            ]
          },
          "metadata": {
            "tags": []
          }
        }
      ]
    },
    {
      "cell_type": "code",
      "metadata": {
        "id": "L7g2KT55J7MX",
        "colab_type": "code",
        "colab": {}
      },
      "source": [
        "## Linear-SVM in Tf-Idf W2V"
      ],
      "execution_count": 0,
      "outputs": []
    },
    {
      "cell_type": "code",
      "metadata": {
        "id": "nfd_IgDLJ7KX",
        "colab_type": "code",
        "colab": {}
      },
      "source": [
        "sc = StandardScaler(copy=True, with_mean=False, with_std=True)\n",
        "X_train = sc.fit_transform(tfidf_sent_vectors_train)\n",
        "X_test = sc.transform(tfidf_sent_vectors_test)"
      ],
      "execution_count": 0,
      "outputs": []
    },
    {
      "cell_type": "code",
      "metadata": {
        "id": "M6nTXy4zJ7G3",
        "colab_type": "code",
        "colab": {
          "base_uri": "https://localhost:8080/",
          "height": 34
        },
        "outputId": "a16602bf-db50-41db-ca77-51244663cc71"
      },
      "source": [
        "alpha = [10**-4, 10**-3, 10**-2, 10**-1, 10**0, 10**1, 10**2, 10**3, 10**4] \n",
        "auc_score=[]\n",
        "\n",
        "\n",
        "for i in tqdm(alpha):\n",
        "    model = linear_model.SGDClassifier(alpha=i, loss='hinge', class_weight='balanced')\n",
        "    \n",
        "    Cal_CV_model = CalibratedClassifierCV(model, method=\"sigmoid\",cv=10)\n",
        "    Cal_CV_model.fit(X_train, y_train)\n",
        "    predict_y = Cal_CV_model.predict_proba(X_train)\n",
        "    preds = predict_y[:,1]\n",
        "    roc_auc = roc_auc_score(y_train, preds)\n",
        "    auc_score.append(roc_auc)"
      ],
      "execution_count": 213,
      "outputs": [
        {
          "output_type": "stream",
          "text": [
            "100%|██████████| 9/9 [00:52<00:00,  4.76s/it]\n"
          ],
          "name": "stderr"
        }
      ]
    },
    {
      "cell_type": "code",
      "metadata": {
        "id": "wwRDG-lmJ7DR",
        "colab_type": "code",
        "colab": {
          "base_uri": "https://localhost:8080/",
          "height": 330
        },
        "outputId": "724ea304-cbc0-4f9d-92f8-8952ff1aabc9"
      },
      "source": [
        "# determining best value of alpha\n",
        "optimal_alpha = alpha[auc_score.index(max(auc_score))]\n",
        "print('\\nThe optimal value of alpha is %.3f.' % optimal_alpha)\n",
        "# plot accuracy vs alpha \n",
        "plt.plot(alpha, auc_score,label=\"Train AUC\")\n",
        "plt.xlabel('Hypreparameter',size=9)\n",
        "plt.ylabel('Area under ROC Curve',size=9)\n",
        "plt.title('Area under ROC Curve VS Hyperparameter curve',size=16)\n",
        "plt.legend(loc='best')\n",
        "plt.grid()\n",
        "plt.show()"
      ],
      "execution_count": 214,
      "outputs": [
        {
          "output_type": "stream",
          "text": [
            "\n",
            "The optimal value of alpha is 0.001.\n"
          ],
          "name": "stdout"
        },
        {
          "output_type": "display_data",
          "data": {
            "image/png": "[encoded data removed]",
            "text/plain": [
              "<Figure size 432x288 with 1 Axes>"
            ]
          },
          "metadata": {
            "tags": []
          }
        }
      ]
    },
    {
      "cell_type": "code",
      "metadata": {
        "id": "0J1L8bErJ7Be",
        "colab_type": "code",
        "colab": {
          "base_uri": "https://localhost:8080/",
          "height": 624
        },
        "outputId": "1e11915a-9d68-47d8-9733-b3dc3c2c9cf3"
      },
      "source": [
        "model = linear_model.SGDClassifier(alpha=optimal_alpha, loss='hinge', class_weight='balanced')\n",
        "\n",
        "lr = CalibratedClassifierCV(model, method=\"sigmoid\",cv=10)\n",
        "lr.fit(X_train, y_train)\n",
        "pred = lr.predict(X_test)\n",
        "\n",
        "\n",
        "print(\"***Test Data Report***\")\n",
        "print(\"Best alpha = \",optimal_alpha)\n",
        "fpr, tpr, threshold = metrics.roc_curve(y_test, lr.predict_proba(X_test)[:,1],pos_label=\"positive\")\n",
        "auc = metrics.auc(fpr, tpr)\n",
        "print(\"AUC = \",auc*100)\n",
        "skplt.metrics.plot_confusion_matrix(y_test, pred)\n",
        "plt.show()\n",
        "\n",
        "\n",
        "\n",
        "fpr, tpr, threshold = metrics.roc_curve(y_test, lr.predict_proba(X_test)[:,1],pos_label=\"positive\") #test data\n",
        "fpr2, tpr2, threshold2 = metrics.roc_curve(y_train, lr.predict_proba(X_train)[:,1],pos_label=\"positive\") #train data\n",
        "\n",
        "roc_auc = metrics.auc(fpr, tpr)\n",
        "roc_auc2 = metrics.auc(fpr2, tpr2)\n",
        "\n",
        "# method I: plt\n",
        "import matplotlib.pyplot as plt\n",
        "f, ax = plt.subplots()\n",
        "plt.title('Receiver Operating Characteristic Curve')\n",
        "cy = cycler('color', ['red', 'green', 'blue'])\n",
        "ax.set_prop_cycle(cy)\n",
        "ax.plot(fpr, tpr, label = 'AUC = %0.2f' % roc_auc)\n",
        "ax.plot(fpr2, tpr2, label = 'AUC = %0.2f' % roc_auc2)\n",
        "plt.legend(['TEST Data', 'TRAIN Data'],loc = 'lower right')\n",
        "\n",
        "ax.plot([0, 1], [0, 1])\n",
        "plt.xlim([0, 1])\n",
        "plt.ylim([0, 1])\n",
        "plt.ylabel('True Positive Rate')\n",
        "plt.xlabel('False Positive Rate')\n",
        "plt.show()"
      ],
      "execution_count": 215,
      "outputs": [
        {
          "output_type": "stream",
          "text": [
            "***Test Data Report***\n",
            "Best alpha =  0.001\n",
            "AUC =  80.90423457826157\n"
          ],
          "name": "stdout"
        },
        {
          "output_type": "display_data",
          "data": {
            "image/png": "[encoded data removed]",
            "text/plain": [
              "<Figure size 432x288 with 2 Axes>"
            ]
          },
          "metadata": {
            "tags": []
          }
        },
        {
          "output_type": "display_data",
          "data": {
            "image/png": "[encoded data removed]",
            "text/plain": [
              "<Figure size 432x288 with 1 Axes>"
            ]
          },
          "metadata": {
            "tags": []
          }
        }
      ]
    },
    {
      "cell_type": "code",
      "metadata": {
        "id": "UOkeTdKdJ6_p",
        "colab_type": "code",
        "colab": {}
      },
      "source": [
        "## RBF-SVM in BOW"
      ],
      "execution_count": 0,
      "outputs": []
    },
    {
      "cell_type": "code",
      "metadata": {
        "id": "4hgEo03vJ692",
        "colab_type": "code",
        "colab": {}
      },
      "source": [
        "sc = StandardScaler(copy=True, with_mean=False, with_std=True)\n",
        "X_train = sc.fit_transform(X_train_BOW1)\n",
        "X_test = sc.transform(X_test_BOW1)"
      ],
      "execution_count": 0,
      "outputs": []
    },
    {
      "cell_type": "code",
      "metadata": {
        "id": "BDN5JfOnJ67n",
        "colab_type": "code",
        "colab": {
          "base_uri": "https://localhost:8080/",
          "height": 34
        },
        "outputId": "f3abf17f-5894-4e98-a0ad-1adf848b31a5"
      },
      "source": [
        "all_C = [2**-1, 2**1, 2**3, 2**5, 2**7, 2**9]\n",
        "all_Gammas = [2**-5, 2**-3, 2**-1, 2**1, 2**3, 2**5]\n",
        "\n",
        "auc_scores = []\n",
        "\n",
        "for i in tqdm(range(0,len(all_C))):\n",
        "    model = svm.SVC(C = all_C[i], gamma=all_Gammas[i], kernel='rbf', probability=True, class_weight='balanced')\n",
        "    model.fit(X_train,y_train)\n",
        "    pred = model.predict(X_test)\n",
        "    fpr, tpr, threshold = metrics.roc_curve(y_test1, model.predict_proba(X_test)[:,1],pos_label=\"positive\")\n",
        "    auc = metrics.auc(fpr, tpr)\n",
        "    auc_scores.append(auc*100)"
      ],
      "execution_count": 0,
      "outputs": [
        {
          "output_type": "stream",
          "text": [
            "\r  0%|          | 0/6 [00:00<?, ?it/s]"
          ],
          "name": "stderr"
        }
      ]
    },
    {
      "cell_type": "code",
      "metadata": {
        "id": "lEg0-PNsJ63U",
        "colab_type": "code",
        "colab": {
          "base_uri": "https://localhost:8080/",
          "height": 34
        },
        "outputId": "dd622cb3-9e3f-4d8d-a3ba-a0e35e04e2bb"
      },
      "source": [
        "optimal_C = all_C[auc_scores.index(max(auc_scores))]\n",
        "optimal_Gamma = all_Gammas[auc_scores.index(max(auc_scores))]\n",
        "print('\\nThe optimal value of C is %.3f.' % optimal_C)\n",
        "print('\\nThe optimal value of Gamma is %.3f.' % optimal_Gamma)\n",
        "\n",
        "# plot AUC vs C\n",
        "plt.plot(all_C, auc_scores,label=\"Train AUC\")\n",
        "plt.xlabel('Hypreparameter',size=9)\n",
        "plt.ylabel('Area under ROC Curve',size=9)\n",
        "plt.title('Area under ROC Curve VS Hyperparameter curve',size=16)\n",
        "plt.legend(loc='best')\n",
        "plt.grid()\n",
        "plt.show()"
      ],
      "execution_count": 97,
      "outputs": [
        {
          "output_type": "stream",
          "text": [
            "100%|██████████| 5/5 [01:11<00:00, 14.09s/it]\n"
          ],
          "name": "stderr"
        }
      ]
    },
    {
      "cell_type": "code",
      "metadata": {
        "id": "djYQIxC4J6wD",
        "colab_type": "code",
        "colab": {
          "base_uri": "https://localhost:8080/",
          "height": 330
        },
        "outputId": "9b04b2df-e6fb-416b-a705-8f0e54357f94"
      },
      "source": [
        "optimal_C = 0.500\n",
        "optimal_Gamma = 0.031"
      ],
      "execution_count": 98,
      "outputs": [
        {
          "output_type": "stream",
          "text": [
            "\n",
            "The optimal value of C is 0.000.\n"
          ],
          "name": "stdout"
        },
        {
          "output_type": "display_data",
          "data": {
            "image/png": "[encoded data removed]",
            "text/plain": [
              "<Figure size 432x288 with 1 Axes>"
            ]
          },
          "metadata": {
            "tags": []
          }
        }
      ]
    },
    {
      "cell_type": "code",
      "metadata": {
        "id": "gnqPycGrJ6t-",
        "colab_type": "code",
        "colab": {
          "base_uri": "https://localhost:8080/",
          "height": 624
        },
        "outputId": "19b8f5f4-3f7c-46e0-e77c-81403e93ed06"
      },
      "source": [
        "lr = svm.SVC(C = optimal_C, gamma=optimal_Gamma, kernel='rbf', probability=True, class_weight='balanced')#probability=True for computing the ROC score\n",
        "lr.fit(X_train,y_train1)\n",
        "pred = lr.predict(X_test)\n",
        "\n",
        "\n",
        "\n",
        "print(\"***Test Data Report***\")\n",
        "fpr, tpr, threshold = metrics.roc_curve(y_test1, lr.predict_proba(X_test)[:,1],pos_label=\"positive\")\n",
        "auc = metrics.auc(fpr, tpr)\n",
        "print(\"AUC = \",auc*100)\n",
        "skplt.metrics.plot_confusion_matrix(y_test1, pred)\n",
        "plt.show()\n",
        "\n",
        "\n",
        "\n",
        "fpr, tpr, threshold = metrics.roc_curve(y_test1, lr.predict_proba(X_test)[:,1],pos_label=\"positive\") #test data\n",
        "fpr2, tpr2, threshold2 = metrics.roc_curve(y_train1, lr.predict_proba(X_train)[:,1],pos_label=\"positive\") #train data\n",
        "\n",
        "roc_auc = metrics.auc(fpr, tpr)\n",
        "roc_auc2 = metrics.auc(fpr2, tpr2)\n",
        "\n",
        "# method I: plt\n",
        "import matplotlib.pyplot as plt\n",
        "f, ax = plt.subplots()\n",
        "plt.title('Receiver Operating Characteristic Curve')\n",
        "cy = cycler('color', ['red', 'green', 'blue'])\n",
        "ax.set_prop_cycle(cy)\n",
        "ax.plot(fpr, tpr, label = 'AUC = %0.2f' % roc_auc)\n",
        "ax.plot(fpr2, tpr2, label = 'AUC = %0.2f' % roc_auc2)\n",
        "plt.legend(['TEST Data', 'TRAIN Data'],loc = 'lower right')\n",
        "\n",
        "ax.plot([0, 1], [0, 1])\n",
        "plt.xlim([0, 1])\n",
        "plt.ylim([0, 1])\n",
        "plt.ylabel('True Positive Rate')\n",
        "plt.xlabel('False Positive Rate')\n",
        "plt.show()"
      ],
      "execution_count": 100,
      "outputs": [
        {
          "output_type": "stream",
          "text": [
            "***Test Data Report***\n",
            "Best C =  0.0001\n",
            "AUC =  93.66731573335812\n"
          ],
          "name": "stdout"
        },
        {
          "output_type": "display_data",
          "data": {
            "image/png": "[encoded data removed]",
            "text/plain": [
              "<Figure size 432x288 with 2 Axes>"
            ]
          },
          "metadata": {
            "tags": []
          }
        },
        {
          "output_type": "display_data",
          "data": {
            "image/png": "[encoded data removed]",
            "text/plain": [
              "<Figure size 432x288 with 1 Axes>"
            ]
          },
          "metadata": {
            "tags": []
          }
        }
      ]
    },
    {
      "cell_type": "code",
      "metadata": {
        "id": "3cA4owPSJ6cl",
        "colab_type": "code",
        "colab": {}
      },
      "source": [
        "# RBF-SVM on TF-IDF"
      ],
      "execution_count": 0,
      "outputs": []
    },
    {
      "cell_type": "code",
      "metadata": {
        "id": "OxQLZeagJ6Wu",
        "colab_type": "code",
        "colab": {}
      },
      "source": [
        "sc = StandardScaler(copy=True, with_mean=False, with_std=True)\n",
        "X_train = sc.fit_transform(X_train_tfidf)\n",
        "X_test = sc.transform(X_test_tfidf)"
      ],
      "execution_count": 0,
      "outputs": []
    },
    {
      "cell_type": "code",
      "metadata": {
        "id": "ytFxaGyZor9_",
        "colab_type": "code",
        "colab": {
          "base_uri": "https://localhost:8080/",
          "height": 374
        },
        "outputId": "ca832cbc-1efd-4a6b-dae5-644e06a9ecf5"
      },
      "source": [
        "all_C = [2**-1, 2**1, 2**3, 2**5, 2**7, 2**9]\n",
        "all_Gammas = [2**-5, 2**-3, 2**-1, 2**1, 2**3, 2**5]\n",
        "#param_grid = {'C': all_C, 'gamma' : all_Gammas}\n",
        "auc_scores = []\n",
        "# range of C and Gamas\n",
        "# https://stats.stackexchange.com/questions/43943/which-search-range-for-determining-svm-optimal-c-and-gamma-parameters\n",
        "\n",
        "\n",
        "for i in tqdm(range(0,len(all_C))):\n",
        "    model = svm.SVC(C = all_C[i], gamma=all_Gammas[i], kernel='rbf', probability=True, class_weight='balanced')#probability=True for computing the ROC score\n",
        "    model.fit(X_train,y_train1)\n",
        "    pred = model.predict(X_test)\n",
        "    fpr, tpr, threshold = metrics.roc_curve(y_test1, model.predict_proba(X_test)[:,1],pos_label=\"positive\")\n",
        "    auc = metrics.auc(fpr, tpr)\n",
        "    auc_scores.append(auc*100)"
      ],
      "execution_count": 104,
      "outputs": [
        {
          "output_type": "stream",
          "text": [
            "Positive feature top 20 :\n",
            "-------\n",
            "great\t-->\t0.172712\n",
            "love\t-->\t0.127362\n",
            "best\t-->\t0.123505\n",
            "delici\t-->\t0.101504\n",
            "good\t-->\t0.085574\n",
            "perfect\t-->\t0.084130\n",
            "excel\t-->\t0.081663\n",
            "favorit\t-->\t0.071779\n",
            "nice\t-->\t0.069402\n",
            "wonder\t-->\t0.068849\n",
            "easi\t-->\t0.062981\n",
            "find\t-->\t0.060398\n",
            "amaz\t-->\t0.058427\n",
            "alway\t-->\t0.057432\n",
            "tasti\t-->\t0.056317\n",
            "thank\t-->\t0.055925\n",
            "happi\t-->\t0.052258\n",
            "addict\t-->\t0.050018\n",
            "keep\t-->\t0.049245\n"
          ],
          "name": "stdout"
        }
      ]
    },
    {
      "cell_type": "code",
      "metadata": {
        "id": "zqoCz5NFosNZ",
        "colab_type": "code",
        "colab": {}
      },
      "source": [
        "optimal_C = all_C[auc_scores.index(max(auc_scores))]\n",
        "optimal_Gamma = all_Gammas[auc_scores.index(max(auc_scores))]\n",
        "print('\\nThe optimal value of C is %.3f.' % optimal_C)\n",
        "print('\\nThe optimal value of Gamma is %.3f.' % optimal_Gamma)"
      ],
      "execution_count": 0,
      "outputs": []
    },
    {
      "cell_type": "code",
      "metadata": {
        "id": "8odqOSjfXtUz",
        "colab_type": "code",
        "colab": {}
      },
      "source": [
        "# plot AUC vs C\n",
        "plt.plot(all_C, auc_scores,label=\"Train AUC\")\n",
        "plt.xlabel('Hypreparameter',size=9)\n",
        "plt.ylabel('Area under ROC Curve',size=9)\n",
        "plt.title('Area under ROC Curve VS Hyperparameter curve',size=16)\n",
        "plt.legend(loc='best')\n",
        "plt.grid()\n",
        "plt.show()"
      ],
      "execution_count": 0,
      "outputs": []
    },
    {
      "cell_type": "code",
      "metadata": {
        "id": "1WH0hlByostd",
        "colab_type": "code",
        "colab": {}
      },
      "source": [
        "lr = svm.SVC(C = optimal_C, gamma=optimal_Gamma, kernel='rbf', probability=True, class_weight='balanced')#probability=True for computing the ROC score\n",
        "lr.fit(X_train,y_train1)\n",
        "pred = lr.predict(X_test)\n",
        "\n",
        "\n",
        "\n",
        "print(\"***Test Data Report***\")\n",
        "fpr, tpr, threshold = metrics.roc_curve(y_test1, lr.predict_proba(X_test)[:,1],pos_label=\"positive\")\n",
        "auc = metrics.auc(fpr, tpr)\n",
        "print(\"AUC = \",auc*100)\n",
        "skplt.metrics.plot_confusion_matrix(y_test1, pred)\n",
        "plt.show()\n",
        "\n",
        "\n",
        "\n",
        "fpr, tpr, threshold = metrics.roc_curve(y_test1, lr.predict_proba(X_test)[:,1],pos_label=\"positive\") #test data\n",
        "fpr2, tpr2, threshold2 = metrics.roc_curve(y_train1, lr.predict_proba(X_train)[:,1],pos_label=\"positive\") #train data\n",
        "\n",
        "roc_auc = metrics.auc(fpr, tpr)\n",
        "roc_auc2 = metrics.auc(fpr2, tpr2)\n",
        "\n",
        "# method I: plt\n",
        "import matplotlib.pyplot as plt\n",
        "f, ax = plt.subplots()\n",
        "plt.title('Receiver Operating Characteristic Curve')\n",
        "cy = cycler('color', ['red', 'green', 'blue'])\n",
        "ax.set_prop_cycle(cy)\n",
        "ax.plot(fpr, tpr, label = 'AUC = %0.2f' % roc_auc)\n",
        "ax.plot(fpr2, tpr2, label = 'AUC = %0.2f' % roc_auc2)\n",
        "plt.legend(['TEST Data', 'TRAIN Data'],loc = 'lower right')\n",
        "\n",
        "ax.plot([0, 1], [0, 1])\n",
        "plt.xlim([0, 1])\n",
        "plt.ylim([0, 1])\n",
        "plt.ylabel('True Positive Rate')\n",
        "plt.xlabel('False Positive Rate')\n",
        "plt.show()"
      ],
      "execution_count": 0,
      "outputs": []
    }
  ]
}