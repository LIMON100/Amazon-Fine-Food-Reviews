{
  "nbformat": 4,
  "nbformat_minor": 0,
  "metadata": {
    "kernelspec": {
      "name": "python3",
      "display_name": "Python 3"
    },
    "language_info": {
      "codemirror_mode": {
        "name": "ipython",
        "version": 3
      },
      "file_extension": ".py",
      "mimetype": "text/x-python",
      "name": "python",
      "nbconvert_exporter": "python",
      "pygments_lexer": "ipython3",
      "version": "3.7.4"
    },
    "colab": {
      "name": "Random Forest on Amazon Fine Food Reviews.ipynb",
      "provenance": [],
      "collapsed_sections": []
    },
    "accelerator": "GPU"
  },
  "cells": [
    {
      "cell_type": "markdown",
      "metadata": {
        "id": "bh6-ioXpBLvT",
        "colab_type": "text"
      },
      "source": [
        "# Project : Amazon Fine Food Reviews."
      ]
    },
    {
      "cell_type": "code",
      "metadata": {
        "id": "D7g512odBLvW",
        "colab_type": "code",
        "colab": {}
      },
      "source": [
        "# import the libarys\n",
        "\n",
        "import numpy as np\n",
        "import pandas as pd\n",
        "import nltk\n",
        "import matplotlib.pyplot as plt\n",
        "import sqlite3\n",
        "import seaborn as sns\n",
        "import re\n",
        "import string\n",
        "import os\n",
        "import pickle\n",
        "\n",
        "from sklearn.feature_extraction.text import TfidfTransformer , TfidfVectorizer , CountVectorizer\n",
        "from sklearn.metrics import confusion_matrix , roc_curve\n",
        "from sklearn.model_selection import train_test_split , cross_val_score\n",
        "from sklearn.preprocessing import StandardScaler\n",
        "from sklearn.metrics import roc_curve, auc\n",
        "from sklearn import linear_model\n",
        "from sklearn import linear_model\n",
        "from sklearn.calibration import CalibratedClassifierCV\n",
        "from sklearn.metrics import roc_auc_score\n",
        "from sklearn.preprocessing import StandardScaler\n",
        "from cycler import cycler\n",
        "from sklearn.model_selection import GridSearchCV\n",
        "from sklearn import svm\n",
        "from sklearn.ensemble import RandomForestClassifier\n",
        "from sklearn.metrics import roc_auc_score\n",
        "#import scikitplot as skplt\n",
        "from cycler import cycler\n",
        "from sklearn.metrics import accuracy_score,precision_score,recall_score,confusion_matrix,classification_report , f1_score\n",
        "import warnings\n",
        "warnings.filterwarnings(\"ignore\")\n",
        "from wordcloud import WordCloud \n",
        "import xgboost as xgb\n",
        "from sklearn import metrics\n",
        "\n",
        "from nltk.corpus import stopwords\n",
        "from nltk.stem.porter import PorterStemmer\n",
        "from nltk.stem.wordnet import WordNetLemmatizer\n",
        "\n",
        "from gensim.models import Word2Vec , KeyedVectors\n",
        "\n",
        "from tqdm import tqdm\n",
        "\n",
        "from bs4 import BeautifulSoup\n",
        "\n",
        "from prettytable import PrettyTable"
      ],
      "execution_count": 0,
      "outputs": []
    },
    {
      "cell_type": "code",
      "metadata": {
        "id": "DvODNwwjBpeS",
        "colab_type": "code",
        "colab": {}
      },
      "source": [
        "!pip install -U -q PyDrive\n",
        "from pydrive.auth import GoogleAuth\n",
        "from pydrive.drive import GoogleDrive\n",
        "from google.colab import auth\n",
        "from oauth2client.client import GoogleCredentials"
      ],
      "execution_count": 0,
      "outputs": []
    },
    {
      "cell_type": "code",
      "metadata": {
        "id": "Y9qr1f-NBtqj",
        "colab_type": "code",
        "colab": {}
      },
      "source": [
        "auth.authenticate_user()\n",
        "gauth = GoogleAuth()\n",
        "gauth.credentials = GoogleCredentials.get_application_default()\n",
        "drive = GoogleDrive(gauth)"
      ],
      "execution_count": 0,
      "outputs": []
    },
    {
      "cell_type": "code",
      "metadata": {
        "id": "sFxHKGtcBubE",
        "colab_type": "code",
        "colab": {}
      },
      "source": [
        "downloaded = drive.CreateFile({'id':'19VumHcTH6JaUWpUTA58SecT_Z8RJIxrk'})\n",
        "downloaded.GetContentFile('database.sqlite')"
      ],
      "execution_count": 0,
      "outputs": []
    },
    {
      "cell_type": "markdown",
      "metadata": {
        "id": "7Yjj3_eEBLva",
        "colab_type": "text"
      },
      "source": [
        "### Read the file"
      ]
    },
    {
      "cell_type": "code",
      "metadata": {
        "id": "p8CnudAaBLvd",
        "colab_type": "code",
        "colab": {}
      },
      "source": [
        "# using the SQLite Table to read data.\n",
        "con = sqlite3.connect('database.sqlite') \n",
        "\n",
        "dataset_sqlite = pd.read_sql_query(\"\"\"\n",
        "                                    SELECT * FROM Reviews where Score != 3\n",
        "                                    \"\"\" , con)"
      ],
      "execution_count": 0,
      "outputs": []
    },
    {
      "cell_type": "code",
      "metadata": {
        "id": "NaQHBsh2BLvh",
        "colab_type": "code",
        "outputId": "0da21a6e-8540-43d4-d088-c68fc8344cc8",
        "colab": {
          "base_uri": "https://localhost:8080/",
          "height": 204
        }
      },
      "source": [
        "dataset_sqlite.head()"
      ],
      "execution_count": 64,
      "outputs": [
        {
          "output_type": "execute_result",
          "data": {
            "text/html": [
              "<div>\n",
              "<style scoped>\n",
              "    .dataframe tbody tr th:only-of-type {\n",
              "        vertical-align: middle;\n",
              "    }\n",
              "\n",
              "    .dataframe tbody tr th {\n",
              "        vertical-align: top;\n",
              "    }\n",
              "\n",
              "    .dataframe thead th {\n",
              "        text-align: right;\n",
              "    }\n",
              "</style>\n",
              "<table border=\"1\" class=\"dataframe\">\n",
              "  <thead>\n",
              "    <tr style=\"text-align: right;\">\n",
              "      <th></th>\n",
              "      <th>Id</th>\n",
              "      <th>ProductId</th>\n",
              "      <th>UserId</th>\n",
              "      <th>ProfileName</th>\n",
              "      <th>HelpfulnessNumerator</th>\n",
              "      <th>HelpfulnessDenominator</th>\n",
              "      <th>Score</th>\n",
              "      <th>Time</th>\n",
              "      <th>Summary</th>\n",
              "      <th>Text</th>\n",
              "    </tr>\n",
              "  </thead>\n",
              "  <tbody>\n",
              "    <tr>\n",
              "      <th>0</th>\n",
              "      <td>1</td>\n",
              "      <td>B001E4KFG0</td>\n",
              "      <td>A3SGXH7AUHU8GW</td>\n",
              "      <td>delmartian</td>\n",
              "      <td>1</td>\n",
              "      <td>1</td>\n",
              "      <td>5</td>\n",
              "      <td>1303862400</td>\n",
              "      <td>Good Quality Dog Food</td>\n",
              "      <td>I have bought several of the Vitality canned d...</td>\n",
              "    </tr>\n",
              "    <tr>\n",
              "      <th>1</th>\n",
              "      <td>2</td>\n",
              "      <td>B00813GRG4</td>\n",
              "      <td>A1D87F6ZCVE5NK</td>\n",
              "      <td>dll pa</td>\n",
              "      <td>0</td>\n",
              "      <td>0</td>\n",
              "      <td>1</td>\n",
              "      <td>1346976000</td>\n",
              "      <td>Not as Advertised</td>\n",
              "      <td>Product arrived labeled as Jumbo Salted Peanut...</td>\n",
              "    </tr>\n",
              "    <tr>\n",
              "      <th>2</th>\n",
              "      <td>3</td>\n",
              "      <td>B000LQOCH0</td>\n",
              "      <td>ABXLMWJIXXAIN</td>\n",
              "      <td>Natalia Corres \"Natalia Corres\"</td>\n",
              "      <td>1</td>\n",
              "      <td>1</td>\n",
              "      <td>4</td>\n",
              "      <td>1219017600</td>\n",
              "      <td>\"Delight\" says it all</td>\n",
              "      <td>This is a confection that has been around a fe...</td>\n",
              "    </tr>\n",
              "    <tr>\n",
              "      <th>3</th>\n",
              "      <td>4</td>\n",
              "      <td>B000UA0QIQ</td>\n",
              "      <td>A395BORC6FGVXV</td>\n",
              "      <td>Karl</td>\n",
              "      <td>3</td>\n",
              "      <td>3</td>\n",
              "      <td>2</td>\n",
              "      <td>1307923200</td>\n",
              "      <td>Cough Medicine</td>\n",
              "      <td>If you are looking for the secret ingredient i...</td>\n",
              "    </tr>\n",
              "    <tr>\n",
              "      <th>4</th>\n",
              "      <td>5</td>\n",
              "      <td>B006K2ZZ7K</td>\n",
              "      <td>A1UQRSCLF8GW1T</td>\n",
              "      <td>Michael D. Bigham \"M. Wassir\"</td>\n",
              "      <td>0</td>\n",
              "      <td>0</td>\n",
              "      <td>5</td>\n",
              "      <td>1350777600</td>\n",
              "      <td>Great taffy</td>\n",
              "      <td>Great taffy at a great price.  There was a wid...</td>\n",
              "    </tr>\n",
              "  </tbody>\n",
              "</table>\n",
              "</div>"
            ],
            "text/plain": [
              "   Id  ...                                               Text\n",
              "0   1  ...  I have bought several of the Vitality canned d...\n",
              "1   2  ...  Product arrived labeled as Jumbo Salted Peanut...\n",
              "2   3  ...  This is a confection that has been around a fe...\n",
              "3   4  ...  If you are looking for the secret ingredient i...\n",
              "4   5  ...  Great taffy at a great price.  There was a wid...\n",
              "\n",
              "[5 rows x 10 columns]"
            ]
          },
          "metadata": {
            "tags": []
          },
          "execution_count": 64
        }
      ]
    },
    {
      "cell_type": "code",
      "metadata": {
        "id": "I8KTSJqUBLvl",
        "colab_type": "code",
        "outputId": "ab28dcb7-9e61-4715-f758-dd293c6ad700",
        "colab": {
          "base_uri": "https://localhost:8080/",
          "height": 34
        }
      },
      "source": [
        "np.unique(dataset_sqlite['Score'])"
      ],
      "execution_count": 65,
      "outputs": [
        {
          "output_type": "execute_result",
          "data": {
            "text/plain": [
              "array([1, 2, 4, 5])"
            ]
          },
          "metadata": {
            "tags": []
          },
          "execution_count": 65
        }
      ]
    },
    {
      "cell_type": "code",
      "metadata": {
        "id": "TWJokEO0BLvq",
        "colab_type": "code",
        "colab": {}
      },
      "source": [
        "amnt_1 = dataset_sqlite.Score.value_counts()[1]\n",
        "amnt_2 = dataset_sqlite.Score.value_counts()[2]\n",
        "amnt_4 = dataset_sqlite.Score.value_counts()[4]\n",
        "amnt_5 = dataset_sqlite.Score.value_counts()[5]"
      ],
      "execution_count": 0,
      "outputs": []
    },
    {
      "cell_type": "code",
      "metadata": {
        "id": "ntMsIB8uBLv2",
        "colab_type": "code",
        "colab": {}
      },
      "source": [
        "# Convert the Reviews value into positive and negetive\n",
        "\n",
        "def partition(x):\n",
        "    if x < 3:\n",
        "        return 'negetive'\n",
        "    \n",
        "    return 'positive'"
      ],
      "execution_count": 0,
      "outputs": []
    },
    {
      "cell_type": "code",
      "metadata": {
        "id": "D8iR21uXBLv8",
        "colab_type": "code",
        "colab": {}
      },
      "source": [
        "actual_score = dataset_sqlite['Score']\n",
        "positiveNegetive = actual_score.map(partition)\n",
        "dataset_sqlite['Score'] = positiveNegetive"
      ],
      "execution_count": 0,
      "outputs": []
    },
    {
      "cell_type": "code",
      "metadata": {
        "id": "hYqifdS1BLwC",
        "colab_type": "code",
        "outputId": "aa0c0955-ea4d-4066-c4de-68a766fc9bb3",
        "colab": {
          "base_uri": "https://localhost:8080/",
          "height": 359
        }
      },
      "source": [
        "dataset_sqlite.head(10)"
      ],
      "execution_count": 69,
      "outputs": [
        {
          "output_type": "execute_result",
          "data": {
            "text/html": [
              "<div>\n",
              "<style scoped>\n",
              "    .dataframe tbody tr th:only-of-type {\n",
              "        vertical-align: middle;\n",
              "    }\n",
              "\n",
              "    .dataframe tbody tr th {\n",
              "        vertical-align: top;\n",
              "    }\n",
              "\n",
              "    .dataframe thead th {\n",
              "        text-align: right;\n",
              "    }\n",
              "</style>\n",
              "<table border=\"1\" class=\"dataframe\">\n",
              "  <thead>\n",
              "    <tr style=\"text-align: right;\">\n",
              "      <th></th>\n",
              "      <th>Id</th>\n",
              "      <th>ProductId</th>\n",
              "      <th>UserId</th>\n",
              "      <th>ProfileName</th>\n",
              "      <th>HelpfulnessNumerator</th>\n",
              "      <th>HelpfulnessDenominator</th>\n",
              "      <th>Score</th>\n",
              "      <th>Time</th>\n",
              "      <th>Summary</th>\n",
              "      <th>Text</th>\n",
              "    </tr>\n",
              "  </thead>\n",
              "  <tbody>\n",
              "    <tr>\n",
              "      <th>0</th>\n",
              "      <td>1</td>\n",
              "      <td>B001E4KFG0</td>\n",
              "      <td>A3SGXH7AUHU8GW</td>\n",
              "      <td>delmartian</td>\n",
              "      <td>1</td>\n",
              "      <td>1</td>\n",
              "      <td>positive</td>\n",
              "      <td>1303862400</td>\n",
              "      <td>Good Quality Dog Food</td>\n",
              "      <td>I have bought several of the Vitality canned d...</td>\n",
              "    </tr>\n",
              "    <tr>\n",
              "      <th>1</th>\n",
              "      <td>2</td>\n",
              "      <td>B00813GRG4</td>\n",
              "      <td>A1D87F6ZCVE5NK</td>\n",
              "      <td>dll pa</td>\n",
              "      <td>0</td>\n",
              "      <td>0</td>\n",
              "      <td>negetive</td>\n",
              "      <td>1346976000</td>\n",
              "      <td>Not as Advertised</td>\n",
              "      <td>Product arrived labeled as Jumbo Salted Peanut...</td>\n",
              "    </tr>\n",
              "    <tr>\n",
              "      <th>2</th>\n",
              "      <td>3</td>\n",
              "      <td>B000LQOCH0</td>\n",
              "      <td>ABXLMWJIXXAIN</td>\n",
              "      <td>Natalia Corres \"Natalia Corres\"</td>\n",
              "      <td>1</td>\n",
              "      <td>1</td>\n",
              "      <td>positive</td>\n",
              "      <td>1219017600</td>\n",
              "      <td>\"Delight\" says it all</td>\n",
              "      <td>This is a confection that has been around a fe...</td>\n",
              "    </tr>\n",
              "    <tr>\n",
              "      <th>3</th>\n",
              "      <td>4</td>\n",
              "      <td>B000UA0QIQ</td>\n",
              "      <td>A395BORC6FGVXV</td>\n",
              "      <td>Karl</td>\n",
              "      <td>3</td>\n",
              "      <td>3</td>\n",
              "      <td>negetive</td>\n",
              "      <td>1307923200</td>\n",
              "      <td>Cough Medicine</td>\n",
              "      <td>If you are looking for the secret ingredient i...</td>\n",
              "    </tr>\n",
              "    <tr>\n",
              "      <th>4</th>\n",
              "      <td>5</td>\n",
              "      <td>B006K2ZZ7K</td>\n",
              "      <td>A1UQRSCLF8GW1T</td>\n",
              "      <td>Michael D. Bigham \"M. Wassir\"</td>\n",
              "      <td>0</td>\n",
              "      <td>0</td>\n",
              "      <td>positive</td>\n",
              "      <td>1350777600</td>\n",
              "      <td>Great taffy</td>\n",
              "      <td>Great taffy at a great price.  There was a wid...</td>\n",
              "    </tr>\n",
              "    <tr>\n",
              "      <th>5</th>\n",
              "      <td>6</td>\n",
              "      <td>B006K2ZZ7K</td>\n",
              "      <td>ADT0SRK1MGOEU</td>\n",
              "      <td>Twoapennything</td>\n",
              "      <td>0</td>\n",
              "      <td>0</td>\n",
              "      <td>positive</td>\n",
              "      <td>1342051200</td>\n",
              "      <td>Nice Taffy</td>\n",
              "      <td>I got a wild hair for taffy and ordered this f...</td>\n",
              "    </tr>\n",
              "    <tr>\n",
              "      <th>6</th>\n",
              "      <td>7</td>\n",
              "      <td>B006K2ZZ7K</td>\n",
              "      <td>A1SP2KVKFXXRU1</td>\n",
              "      <td>David C. Sullivan</td>\n",
              "      <td>0</td>\n",
              "      <td>0</td>\n",
              "      <td>positive</td>\n",
              "      <td>1340150400</td>\n",
              "      <td>Great!  Just as good as the expensive brands!</td>\n",
              "      <td>This saltwater taffy had great flavors and was...</td>\n",
              "    </tr>\n",
              "    <tr>\n",
              "      <th>7</th>\n",
              "      <td>8</td>\n",
              "      <td>B006K2ZZ7K</td>\n",
              "      <td>A3JRGQVEQN31IQ</td>\n",
              "      <td>Pamela G. Williams</td>\n",
              "      <td>0</td>\n",
              "      <td>0</td>\n",
              "      <td>positive</td>\n",
              "      <td>1336003200</td>\n",
              "      <td>Wonderful, tasty taffy</td>\n",
              "      <td>This taffy is so good.  It is very soft and ch...</td>\n",
              "    </tr>\n",
              "    <tr>\n",
              "      <th>8</th>\n",
              "      <td>9</td>\n",
              "      <td>B000E7L2R4</td>\n",
              "      <td>A1MZYO9TZK0BBI</td>\n",
              "      <td>R. James</td>\n",
              "      <td>1</td>\n",
              "      <td>1</td>\n",
              "      <td>positive</td>\n",
              "      <td>1322006400</td>\n",
              "      <td>Yay Barley</td>\n",
              "      <td>Right now I'm mostly just sprouting this so my...</td>\n",
              "    </tr>\n",
              "    <tr>\n",
              "      <th>9</th>\n",
              "      <td>10</td>\n",
              "      <td>B00171APVA</td>\n",
              "      <td>A21BT40VZCCYT4</td>\n",
              "      <td>Carol A. Reed</td>\n",
              "      <td>0</td>\n",
              "      <td>0</td>\n",
              "      <td>positive</td>\n",
              "      <td>1351209600</td>\n",
              "      <td>Healthy Dog Food</td>\n",
              "      <td>This is a very healthy dog food. Good for thei...</td>\n",
              "    </tr>\n",
              "  </tbody>\n",
              "</table>\n",
              "</div>"
            ],
            "text/plain": [
              "   Id  ...                                               Text\n",
              "0   1  ...  I have bought several of the Vitality canned d...\n",
              "1   2  ...  Product arrived labeled as Jumbo Salted Peanut...\n",
              "2   3  ...  This is a confection that has been around a fe...\n",
              "3   4  ...  If you are looking for the secret ingredient i...\n",
              "4   5  ...  Great taffy at a great price.  There was a wid...\n",
              "5   6  ...  I got a wild hair for taffy and ordered this f...\n",
              "6   7  ...  This saltwater taffy had great flavors and was...\n",
              "7   8  ...  This taffy is so good.  It is very soft and ch...\n",
              "8   9  ...  Right now I'm mostly just sprouting this so my...\n",
              "9  10  ...  This is a very healthy dog food. Good for thei...\n",
              "\n",
              "[10 rows x 10 columns]"
            ]
          },
          "metadata": {
            "tags": []
          },
          "execution_count": 69
        }
      ]
    },
    {
      "cell_type": "code",
      "metadata": {
        "id": "OUlRuhIvBLwH",
        "colab_type": "code",
        "outputId": "280f24b0-9601-44a4-e4a5-3a149cb1478e",
        "colab": {
          "base_uri": "https://localhost:8080/",
          "height": 34
        }
      },
      "source": [
        "dataset_sqlite.shape"
      ],
      "execution_count": 70,
      "outputs": [
        {
          "output_type": "execute_result",
          "data": {
            "text/plain": [
              "(525814, 10)"
            ]
          },
          "metadata": {
            "tags": []
          },
          "execution_count": 70
        }
      ]
    },
    {
      "cell_type": "code",
      "metadata": {
        "id": "ciySb_xaBLwM",
        "colab_type": "code",
        "outputId": "a51d1b81-79c9-4cba-e627-6c80f074adef",
        "colab": {
          "base_uri": "https://localhost:8080/",
          "height": 272
        }
      },
      "source": [
        "dataset_sqlite.info()"
      ],
      "execution_count": 71,
      "outputs": [
        {
          "output_type": "stream",
          "text": [
            "<class 'pandas.core.frame.DataFrame'>\n",
            "RangeIndex: 525814 entries, 0 to 525813\n",
            "Data columns (total 10 columns):\n",
            "Id                        525814 non-null int64\n",
            "ProductId                 525814 non-null object\n",
            "UserId                    525814 non-null object\n",
            "ProfileName               525814 non-null object\n",
            "HelpfulnessNumerator      525814 non-null int64\n",
            "HelpfulnessDenominator    525814 non-null int64\n",
            "Score                     525814 non-null object\n",
            "Time                      525814 non-null int64\n",
            "Summary                   525814 non-null object\n",
            "Text                      525814 non-null object\n",
            "dtypes: int64(4), object(6)\n",
            "memory usage: 40.1+ MB\n"
          ],
          "name": "stdout"
        }
      ]
    },
    {
      "cell_type": "code",
      "metadata": {
        "id": "Ys5fXU32BLwP",
        "colab_type": "code",
        "outputId": "a63954b4-d1d4-4e14-c953-66a0a63f65fe",
        "colab": {
          "base_uri": "https://localhost:8080/",
          "height": 204
        }
      },
      "source": [
        "dataset_sqlite.isnull().sum()"
      ],
      "execution_count": 72,
      "outputs": [
        {
          "output_type": "execute_result",
          "data": {
            "text/plain": [
              "Id                        0\n",
              "ProductId                 0\n",
              "UserId                    0\n",
              "ProfileName               0\n",
              "HelpfulnessNumerator      0\n",
              "HelpfulnessDenominator    0\n",
              "Score                     0\n",
              "Time                      0\n",
              "Summary                   0\n",
              "Text                      0\n",
              "dtype: int64"
            ]
          },
          "metadata": {
            "tags": []
          },
          "execution_count": 72
        }
      ]
    },
    {
      "cell_type": "code",
      "metadata": {
        "id": "g6sTx1jcBLwT",
        "colab_type": "code",
        "colab": {}
      },
      "source": [
        "amnt_pos = dataset_sqlite.Score.value_counts()['positive']\n",
        "amnt_neg = dataset_sqlite.Score.value_counts()['negetive']"
      ],
      "execution_count": 0,
      "outputs": []
    },
    {
      "cell_type": "code",
      "metadata": {
        "id": "QYr1UuZ5BLwW",
        "colab_type": "code",
        "outputId": "60fb32e9-f9cc-49fe-a4bf-07423ec85b0d",
        "colab": {
          "base_uri": "https://localhost:8080/",
          "height": 640
        }
      },
      "source": [
        "category_names = ['Positive' , 'Negetive']\n",
        "sizes = [amnt_pos , amnt_neg]\n",
        "custom_colours = ['#4b6584', '#12CBC4']\n",
        "\n",
        "plt.figure(figsize = (10,8) , dpi=100)\n",
        "plt.pie(sizes, labels=category_names , textprops={'fontsize': 20} , startangle = 90 , \n",
        "       autopct='%1.0f%%' , colors=custom_colours , explode=[0 , 0.1])\n",
        "\n",
        "plt.show()"
      ],
      "execution_count": 74,
      "outputs": [
        {
          "output_type": "display_data",
          "data": {
            "image/png": "[encoded data removed]",
            "text/plain": [
              "<Figure size 1000x800 with 1 Axes>"
            ]
          },
          "metadata": {
            "tags": []
          }
        }
      ]
    },
    {
      "cell_type": "markdown",
      "metadata": {
        "id": "-AgvtMb-BLwc",
        "colab_type": "text"
      },
      "source": [
        "## Data Cleaning"
      ]
    },
    {
      "cell_type": "code",
      "metadata": {
        "id": "uROjr4jiBLwe",
        "colab_type": "code",
        "outputId": "0407884f-5909-47ec-8357-6eff7dce75e7",
        "colab": {
          "base_uri": "https://localhost:8080/",
          "height": 514
        }
      },
      "source": [
        "display = pd.read_sql_query(\"\"\"\n",
        "\n",
        "                            select * from Reviews ORDER BY UserId\n",
        "                            \n",
        "                            \"\"\" , con)\n",
        "\n",
        "display.head(15)"
      ],
      "execution_count": 75,
      "outputs": [
        {
          "output_type": "execute_result",
          "data": {
            "text/html": [
              "<div>\n",
              "<style scoped>\n",
              "    .dataframe tbody tr th:only-of-type {\n",
              "        vertical-align: middle;\n",
              "    }\n",
              "\n",
              "    .dataframe tbody tr th {\n",
              "        vertical-align: top;\n",
              "    }\n",
              "\n",
              "    .dataframe thead th {\n",
              "        text-align: right;\n",
              "    }\n",
              "</style>\n",
              "<table border=\"1\" class=\"dataframe\">\n",
              "  <thead>\n",
              "    <tr style=\"text-align: right;\">\n",
              "      <th></th>\n",
              "      <th>Id</th>\n",
              "      <th>ProductId</th>\n",
              "      <th>UserId</th>\n",
              "      <th>ProfileName</th>\n",
              "      <th>HelpfulnessNumerator</th>\n",
              "      <th>HelpfulnessDenominator</th>\n",
              "      <th>Score</th>\n",
              "      <th>Time</th>\n",
              "      <th>Summary</th>\n",
              "      <th>Text</th>\n",
              "    </tr>\n",
              "  </thead>\n",
              "  <tbody>\n",
              "    <tr>\n",
              "      <th>0</th>\n",
              "      <td>136323</td>\n",
              "      <td>B006Q820X0</td>\n",
              "      <td>#oc-R103C0QSV1DF5E</td>\n",
              "      <td>C</td>\n",
              "      <td>1</td>\n",
              "      <td>2</td>\n",
              "      <td>5</td>\n",
              "      <td>1343088000</td>\n",
              "      <td>Great for the Price</td>\n",
              "      <td>I have to say I was a little apprehensive to b...</td>\n",
              "    </tr>\n",
              "    <tr>\n",
              "      <th>1</th>\n",
              "      <td>516062</td>\n",
              "      <td>B008I1XPKA</td>\n",
              "      <td>#oc-R109MU5OBBZ59U</td>\n",
              "      <td>AayGee</td>\n",
              "      <td>0</td>\n",
              "      <td>1</td>\n",
              "      <td>5</td>\n",
              "      <td>1350086400</td>\n",
              "      <td>AWESOME Coffee!!!!</td>\n",
              "      <td>Received my free K cups as a sample promotion ...</td>\n",
              "    </tr>\n",
              "    <tr>\n",
              "      <th>2</th>\n",
              "      <td>516079</td>\n",
              "      <td>B008I1XPKA</td>\n",
              "      <td>#oc-R10LFEMQEW6QGZ</td>\n",
              "      <td>Julie</td>\n",
              "      <td>0</td>\n",
              "      <td>1</td>\n",
              "      <td>5</td>\n",
              "      <td>1345939200</td>\n",
              "      <td>Brooklyn Bean Roastery Breakfast Blend K-Cups</td>\n",
              "      <td>Brooklyn Bean Roastery Blend K-Cups are great ...</td>\n",
              "    </tr>\n",
              "    <tr>\n",
              "      <th>3</th>\n",
              "      <td>378693</td>\n",
              "      <td>B0026LJ3EA</td>\n",
              "      <td>#oc-R10LT57ZGIB140</td>\n",
              "      <td>dipr</td>\n",
              "      <td>0</td>\n",
              "      <td>0</td>\n",
              "      <td>3</td>\n",
              "      <td>1310601600</td>\n",
              "      <td>Some damage</td>\n",
              "      <td>The shipment of the dog food was quick.  Howev...</td>\n",
              "    </tr>\n",
              "    <tr>\n",
              "      <th>4</th>\n",
              "      <td>136545</td>\n",
              "      <td>B006Q820X0</td>\n",
              "      <td>#oc-R10UA029WVWIUI</td>\n",
              "      <td>Kim D</td>\n",
              "      <td>0</td>\n",
              "      <td>0</td>\n",
              "      <td>1</td>\n",
              "      <td>1342483200</td>\n",
              "      <td>Less than satisfactory.  I gave the Brooklyn K...</td>\n",
              "      <td>Brooklyn \"French Roast\" K-Cup Coffee is not on...</td>\n",
              "    </tr>\n",
              "    <tr>\n",
              "      <th>5</th>\n",
              "      <td>83318</td>\n",
              "      <td>B005ZBZLT4</td>\n",
              "      <td>#oc-R115TNMSPFT9I7</td>\n",
              "      <td>Breyton</td>\n",
              "      <td>2</td>\n",
              "      <td>3</td>\n",
              "      <td>2</td>\n",
              "      <td>1331510400</td>\n",
              "      <td>\"Green\" K-cup packaging sacrifices flavor</td>\n",
              "      <td>Overall its just OK when considering the price...</td>\n",
              "    </tr>\n",
              "    <tr>\n",
              "      <th>6</th>\n",
              "      <td>180872</td>\n",
              "      <td>B007Y59HVM</td>\n",
              "      <td>#oc-R115TNMSPFT9I7</td>\n",
              "      <td>Breyton</td>\n",
              "      <td>2</td>\n",
              "      <td>3</td>\n",
              "      <td>2</td>\n",
              "      <td>1331510400</td>\n",
              "      <td>\"Green\" K-cup packaging sacrifices flavor</td>\n",
              "      <td>Overall its just OK when considering the price...</td>\n",
              "    </tr>\n",
              "    <tr>\n",
              "      <th>7</th>\n",
              "      <td>21719</td>\n",
              "      <td>B005DVVB9K</td>\n",
              "      <td>#oc-R119LM8D59ZW8Y</td>\n",
              "      <td>Lee Mellott \"SEOmenu2go\"</td>\n",
              "      <td>5</td>\n",
              "      <td>11</td>\n",
              "      <td>1</td>\n",
              "      <td>1320192000</td>\n",
              "      <td>Not So Sweet Treat!</td>\n",
              "      <td>I love chocolate so I was excited to see the C...</td>\n",
              "    </tr>\n",
              "    <tr>\n",
              "      <th>8</th>\n",
              "      <td>290948</td>\n",
              "      <td>B005HG9ESG</td>\n",
              "      <td>#oc-R11D9D7SHXIJB9</td>\n",
              "      <td>Louis E. Emory \"hoppy\"</td>\n",
              "      <td>0</td>\n",
              "      <td>0</td>\n",
              "      <td>5</td>\n",
              "      <td>1342396800</td>\n",
              "      <td>Muscle spasms</td>\n",
              "      <td>My wife has recurring extreme muscle spasms, u...</td>\n",
              "    </tr>\n",
              "    <tr>\n",
              "      <th>9</th>\n",
              "      <td>455534</td>\n",
              "      <td>B005HG9ERW</td>\n",
              "      <td>#oc-R11D9D7SHXIJB9</td>\n",
              "      <td>Louis E. Emory \"hoppy\"</td>\n",
              "      <td>0</td>\n",
              "      <td>0</td>\n",
              "      <td>5</td>\n",
              "      <td>1342396800</td>\n",
              "      <td>Muscle spasms</td>\n",
              "      <td>My wife has recurring extreme muscle spasms, u...</td>\n",
              "    </tr>\n",
              "    <tr>\n",
              "      <th>10</th>\n",
              "      <td>496894</td>\n",
              "      <td>B005HG9ET0</td>\n",
              "      <td>#oc-R11D9D7SHXIJB9</td>\n",
              "      <td>Louis E. Emory \"hoppy\"</td>\n",
              "      <td>0</td>\n",
              "      <td>0</td>\n",
              "      <td>5</td>\n",
              "      <td>1342396800</td>\n",
              "      <td>Muscle spasms</td>\n",
              "      <td>My wife has recurring extreme muscle spasms, u...</td>\n",
              "    </tr>\n",
              "    <tr>\n",
              "      <th>11</th>\n",
              "      <td>516144</td>\n",
              "      <td>B008I1XPKA</td>\n",
              "      <td>#oc-R11D9LKDAN5NQJ</td>\n",
              "      <td>Melissa Korducavich</td>\n",
              "      <td>2</td>\n",
              "      <td>3</td>\n",
              "      <td>3</td>\n",
              "      <td>1348876800</td>\n",
              "      <td>Tastes great....makes a mess</td>\n",
              "      <td>I LOVE the taste of this coffee...bought the C...</td>\n",
              "    </tr>\n",
              "    <tr>\n",
              "      <th>12</th>\n",
              "      <td>83657</td>\n",
              "      <td>B005ZBZLT4</td>\n",
              "      <td>#oc-R11DNU2NBKQ23Z</td>\n",
              "      <td>Kim Cieszykowski</td>\n",
              "      <td>0</td>\n",
              "      <td>2</td>\n",
              "      <td>1</td>\n",
              "      <td>1348531200</td>\n",
              "      <td>Terrible coffee</td>\n",
              "      <td>This coffee is horrible and unfortunately not ...</td>\n",
              "    </tr>\n",
              "    <tr>\n",
              "      <th>13</th>\n",
              "      <td>181211</td>\n",
              "      <td>B007Y59HVM</td>\n",
              "      <td>#oc-R11DNU2NBKQ23Z</td>\n",
              "      <td>Kim Cieszykowski</td>\n",
              "      <td>0</td>\n",
              "      <td>2</td>\n",
              "      <td>1</td>\n",
              "      <td>1348531200</td>\n",
              "      <td>Terrible coffee</td>\n",
              "      <td>This coffee is horrible and unfortunately not ...</td>\n",
              "    </tr>\n",
              "    <tr>\n",
              "      <th>14</th>\n",
              "      <td>290774</td>\n",
              "      <td>B005HG9ESG</td>\n",
              "      <td>#oc-R11O5J5ZVQE25C</td>\n",
              "      <td>Penguin Chick</td>\n",
              "      <td>0</td>\n",
              "      <td>0</td>\n",
              "      <td>5</td>\n",
              "      <td>1346889600</td>\n",
              "      <td>Refreshing!</td>\n",
              "      <td>This will be the bottle that you grab from the...</td>\n",
              "    </tr>\n",
              "  </tbody>\n",
              "</table>\n",
              "</div>"
            ],
            "text/plain": [
              "        Id  ...                                               Text\n",
              "0   136323  ...  I have to say I was a little apprehensive to b...\n",
              "1   516062  ...  Received my free K cups as a sample promotion ...\n",
              "2   516079  ...  Brooklyn Bean Roastery Blend K-Cups are great ...\n",
              "3   378693  ...  The shipment of the dog food was quick.  Howev...\n",
              "4   136545  ...  Brooklyn \"French Roast\" K-Cup Coffee is not on...\n",
              "5    83318  ...  Overall its just OK when considering the price...\n",
              "6   180872  ...  Overall its just OK when considering the price...\n",
              "7    21719  ...  I love chocolate so I was excited to see the C...\n",
              "8   290948  ...  My wife has recurring extreme muscle spasms, u...\n",
              "9   455534  ...  My wife has recurring extreme muscle spasms, u...\n",
              "10  496894  ...  My wife has recurring extreme muscle spasms, u...\n",
              "11  516144  ...  I LOVE the taste of this coffee...bought the C...\n",
              "12   83657  ...  This coffee is horrible and unfortunately not ...\n",
              "13  181211  ...  This coffee is horrible and unfortunately not ...\n",
              "14  290774  ...  This will be the bottle that you grab from the...\n",
              "\n",
              "[15 rows x 10 columns]"
            ]
          },
          "metadata": {
            "tags": []
          },
          "execution_count": 75
        }
      ]
    },
    {
      "cell_type": "markdown",
      "metadata": {
        "id": "GglZCBFkBLwj",
        "colab_type": "text"
      },
      "source": [
        "There have been many duplicates rows in the dataset.In the above table 8,9,10 rows have similar customer and he buy different product and review it at the same time.So it can be a garbage value.There can be some miscalculation when save it into the database.So it is necessasry to remove those rows for better performance."
      ]
    },
    {
      "cell_type": "code",
      "metadata": {
        "id": "bPq6l1-uBLwk",
        "colab_type": "code",
        "outputId": "95a8f7ee-cbc6-4b47-a80b-0ff422c28c0b",
        "colab": {
          "base_uri": "https://localhost:8080/",
          "height": 142
        }
      },
      "source": [
        "display = pd.read_sql_query(\"\"\"\n",
        "\n",
        "                            select * from Reviews where Score !=3 and UserId=\"#oc-R11D9D7SHXIJB9\" ORDER BY ProductID\n",
        "                            \n",
        "                            \"\"\" , con)\n",
        "\n",
        "display.head(10)"
      ],
      "execution_count": 76,
      "outputs": [
        {
          "output_type": "execute_result",
          "data": {
            "text/html": [
              "<div>\n",
              "<style scoped>\n",
              "    .dataframe tbody tr th:only-of-type {\n",
              "        vertical-align: middle;\n",
              "    }\n",
              "\n",
              "    .dataframe tbody tr th {\n",
              "        vertical-align: top;\n",
              "    }\n",
              "\n",
              "    .dataframe thead th {\n",
              "        text-align: right;\n",
              "    }\n",
              "</style>\n",
              "<table border=\"1\" class=\"dataframe\">\n",
              "  <thead>\n",
              "    <tr style=\"text-align: right;\">\n",
              "      <th></th>\n",
              "      <th>Id</th>\n",
              "      <th>ProductId</th>\n",
              "      <th>UserId</th>\n",
              "      <th>ProfileName</th>\n",
              "      <th>HelpfulnessNumerator</th>\n",
              "      <th>HelpfulnessDenominator</th>\n",
              "      <th>Score</th>\n",
              "      <th>Time</th>\n",
              "      <th>Summary</th>\n",
              "      <th>Text</th>\n",
              "    </tr>\n",
              "  </thead>\n",
              "  <tbody>\n",
              "    <tr>\n",
              "      <th>0</th>\n",
              "      <td>455534</td>\n",
              "      <td>B005HG9ERW</td>\n",
              "      <td>#oc-R11D9D7SHXIJB9</td>\n",
              "      <td>Louis E. Emory \"hoppy\"</td>\n",
              "      <td>0</td>\n",
              "      <td>0</td>\n",
              "      <td>5</td>\n",
              "      <td>1342396800</td>\n",
              "      <td>Muscle spasms</td>\n",
              "      <td>My wife has recurring extreme muscle spasms, u...</td>\n",
              "    </tr>\n",
              "    <tr>\n",
              "      <th>1</th>\n",
              "      <td>290948</td>\n",
              "      <td>B005HG9ESG</td>\n",
              "      <td>#oc-R11D9D7SHXIJB9</td>\n",
              "      <td>Louis E. Emory \"hoppy\"</td>\n",
              "      <td>0</td>\n",
              "      <td>0</td>\n",
              "      <td>5</td>\n",
              "      <td>1342396800</td>\n",
              "      <td>Muscle spasms</td>\n",
              "      <td>My wife has recurring extreme muscle spasms, u...</td>\n",
              "    </tr>\n",
              "    <tr>\n",
              "      <th>2</th>\n",
              "      <td>496894</td>\n",
              "      <td>B005HG9ET0</td>\n",
              "      <td>#oc-R11D9D7SHXIJB9</td>\n",
              "      <td>Louis E. Emory \"hoppy\"</td>\n",
              "      <td>0</td>\n",
              "      <td>0</td>\n",
              "      <td>5</td>\n",
              "      <td>1342396800</td>\n",
              "      <td>Muscle spasms</td>\n",
              "      <td>My wife has recurring extreme muscle spasms, u...</td>\n",
              "    </tr>\n",
              "  </tbody>\n",
              "</table>\n",
              "</div>"
            ],
            "text/plain": [
              "       Id  ...                                               Text\n",
              "0  455534  ...  My wife has recurring extreme muscle spasms, u...\n",
              "1  290948  ...  My wife has recurring extreme muscle spasms, u...\n",
              "2  496894  ...  My wife has recurring extreme muscle spasms, u...\n",
              "\n",
              "[3 rows x 10 columns]"
            ]
          },
          "metadata": {
            "tags": []
          },
          "execution_count": 76
        }
      ]
    },
    {
      "cell_type": "markdown",
      "metadata": {
        "id": "Z_i5co-DBLwp",
        "colab_type": "text"
      },
      "source": [
        "Check how many product the perticular customer but at a same time.\n",
        "\n",
        "\n",
        "Check some other Users"
      ]
    },
    {
      "cell_type": "code",
      "metadata": {
        "id": "dy3kEeFsBLwq",
        "colab_type": "code",
        "outputId": "12f61f11-a372-48d5-aee8-90c797c51dc1",
        "colab": {
          "base_uri": "https://localhost:8080/",
          "height": 204
        }
      },
      "source": [
        "display= pd.read_sql_query(\"\"\"\n",
        "\n",
        "                        select *\n",
        "                        from Reviews\n",
        "                        where Score != 3 AND UserId = \"AR5J8UI46CURR\"\n",
        "                        ORDER BY ProductID\n",
        "                        \n",
        "                        \"\"\", con)\n",
        "display.head()"
      ],
      "execution_count": 77,
      "outputs": [
        {
          "output_type": "execute_result",
          "data": {
            "text/html": [
              "<div>\n",
              "<style scoped>\n",
              "    .dataframe tbody tr th:only-of-type {\n",
              "        vertical-align: middle;\n",
              "    }\n",
              "\n",
              "    .dataframe tbody tr th {\n",
              "        vertical-align: top;\n",
              "    }\n",
              "\n",
              "    .dataframe thead th {\n",
              "        text-align: right;\n",
              "    }\n",
              "</style>\n",
              "<table border=\"1\" class=\"dataframe\">\n",
              "  <thead>\n",
              "    <tr style=\"text-align: right;\">\n",
              "      <th></th>\n",
              "      <th>Id</th>\n",
              "      <th>ProductId</th>\n",
              "      <th>UserId</th>\n",
              "      <th>ProfileName</th>\n",
              "      <th>HelpfulnessNumerator</th>\n",
              "      <th>HelpfulnessDenominator</th>\n",
              "      <th>Score</th>\n",
              "      <th>Time</th>\n",
              "      <th>Summary</th>\n",
              "      <th>Text</th>\n",
              "    </tr>\n",
              "  </thead>\n",
              "  <tbody>\n",
              "    <tr>\n",
              "      <th>0</th>\n",
              "      <td>78445</td>\n",
              "      <td>B000HDL1RQ</td>\n",
              "      <td>AR5J8UI46CURR</td>\n",
              "      <td>Geetha Krishnan</td>\n",
              "      <td>2</td>\n",
              "      <td>2</td>\n",
              "      <td>5</td>\n",
              "      <td>1199577600</td>\n",
              "      <td>LOACKER QUADRATINI VANILLA WAFERS</td>\n",
              "      <td>DELICIOUS WAFERS. I FIND THAT EUROPEAN WAFERS ...</td>\n",
              "    </tr>\n",
              "    <tr>\n",
              "      <th>1</th>\n",
              "      <td>138317</td>\n",
              "      <td>B000HDOPYC</td>\n",
              "      <td>AR5J8UI46CURR</td>\n",
              "      <td>Geetha Krishnan</td>\n",
              "      <td>2</td>\n",
              "      <td>2</td>\n",
              "      <td>5</td>\n",
              "      <td>1199577600</td>\n",
              "      <td>LOACKER QUADRATINI VANILLA WAFERS</td>\n",
              "      <td>DELICIOUS WAFERS. I FIND THAT EUROPEAN WAFERS ...</td>\n",
              "    </tr>\n",
              "    <tr>\n",
              "      <th>2</th>\n",
              "      <td>138277</td>\n",
              "      <td>B000HDOPYM</td>\n",
              "      <td>AR5J8UI46CURR</td>\n",
              "      <td>Geetha Krishnan</td>\n",
              "      <td>2</td>\n",
              "      <td>2</td>\n",
              "      <td>5</td>\n",
              "      <td>1199577600</td>\n",
              "      <td>LOACKER QUADRATINI VANILLA WAFERS</td>\n",
              "      <td>DELICIOUS WAFERS. I FIND THAT EUROPEAN WAFERS ...</td>\n",
              "    </tr>\n",
              "    <tr>\n",
              "      <th>3</th>\n",
              "      <td>73791</td>\n",
              "      <td>B000HDOPZG</td>\n",
              "      <td>AR5J8UI46CURR</td>\n",
              "      <td>Geetha Krishnan</td>\n",
              "      <td>2</td>\n",
              "      <td>2</td>\n",
              "      <td>5</td>\n",
              "      <td>1199577600</td>\n",
              "      <td>LOACKER QUADRATINI VANILLA WAFERS</td>\n",
              "      <td>DELICIOUS WAFERS. I FIND THAT EUROPEAN WAFERS ...</td>\n",
              "    </tr>\n",
              "    <tr>\n",
              "      <th>4</th>\n",
              "      <td>155049</td>\n",
              "      <td>B000PAQ75C</td>\n",
              "      <td>AR5J8UI46CURR</td>\n",
              "      <td>Geetha Krishnan</td>\n",
              "      <td>2</td>\n",
              "      <td>2</td>\n",
              "      <td>5</td>\n",
              "      <td>1199577600</td>\n",
              "      <td>LOACKER QUADRATINI VANILLA WAFERS</td>\n",
              "      <td>DELICIOUS WAFERS. I FIND THAT EUROPEAN WAFERS ...</td>\n",
              "    </tr>\n",
              "  </tbody>\n",
              "</table>\n",
              "</div>"
            ],
            "text/plain": [
              "       Id  ...                                               Text\n",
              "0   78445  ...  DELICIOUS WAFERS. I FIND THAT EUROPEAN WAFERS ...\n",
              "1  138317  ...  DELICIOUS WAFERS. I FIND THAT EUROPEAN WAFERS ...\n",
              "2  138277  ...  DELICIOUS WAFERS. I FIND THAT EUROPEAN WAFERS ...\n",
              "3   73791  ...  DELICIOUS WAFERS. I FIND THAT EUROPEAN WAFERS ...\n",
              "4  155049  ...  DELICIOUS WAFERS. I FIND THAT EUROPEAN WAFERS ...\n",
              "\n",
              "[5 rows x 10 columns]"
            ]
          },
          "metadata": {
            "tags": []
          },
          "execution_count": 77
        }
      ]
    },
    {
      "cell_type": "markdown",
      "metadata": {
        "id": "QBZKll8sBLwv",
        "colab_type": "text"
      },
      "source": [
        "It is shown that this customer also have buy many different product at the same time and review it.This can be happen when a specific product have different color or differnet flavor.\n",
        "So remove the duplicate all rows."
      ]
    },
    {
      "cell_type": "code",
      "metadata": {
        "id": "YgUWFnGVBLwx",
        "colab_type": "code",
        "outputId": "4324fe7d-6ca4-4320-ff10-62360f6f6b7c",
        "colab": {
          "base_uri": "https://localhost:8080/",
          "height": 204
        }
      },
      "source": [
        "# Sorting the dataset according to productID\n",
        "\n",
        "sorted_data = dataset_sqlite.sort_values(\n",
        "                        'ProductId' , axis = 0 , ascending = True , inplace = False , kind = 'quicksort' ,  na_position='last'\n",
        "                        )\n",
        "sorted_data.head()"
      ],
      "execution_count": 78,
      "outputs": [
        {
          "output_type": "execute_result",
          "data": {
            "text/html": [
              "<div>\n",
              "<style scoped>\n",
              "    .dataframe tbody tr th:only-of-type {\n",
              "        vertical-align: middle;\n",
              "    }\n",
              "\n",
              "    .dataframe tbody tr th {\n",
              "        vertical-align: top;\n",
              "    }\n",
              "\n",
              "    .dataframe thead th {\n",
              "        text-align: right;\n",
              "    }\n",
              "</style>\n",
              "<table border=\"1\" class=\"dataframe\">\n",
              "  <thead>\n",
              "    <tr style=\"text-align: right;\">\n",
              "      <th></th>\n",
              "      <th>Id</th>\n",
              "      <th>ProductId</th>\n",
              "      <th>UserId</th>\n",
              "      <th>ProfileName</th>\n",
              "      <th>HelpfulnessNumerator</th>\n",
              "      <th>HelpfulnessDenominator</th>\n",
              "      <th>Score</th>\n",
              "      <th>Time</th>\n",
              "      <th>Summary</th>\n",
              "      <th>Text</th>\n",
              "    </tr>\n",
              "  </thead>\n",
              "  <tbody>\n",
              "    <tr>\n",
              "      <th>138706</th>\n",
              "      <td>150524</td>\n",
              "      <td>0006641040</td>\n",
              "      <td>ACITT7DI6IDDL</td>\n",
              "      <td>shari zychinski</td>\n",
              "      <td>0</td>\n",
              "      <td>0</td>\n",
              "      <td>positive</td>\n",
              "      <td>939340800</td>\n",
              "      <td>EVERY book is educational</td>\n",
              "      <td>this witty little book makes my son laugh at l...</td>\n",
              "    </tr>\n",
              "    <tr>\n",
              "      <th>138688</th>\n",
              "      <td>150506</td>\n",
              "      <td>0006641040</td>\n",
              "      <td>A2IW4PEEKO2R0U</td>\n",
              "      <td>Tracy</td>\n",
              "      <td>1</td>\n",
              "      <td>1</td>\n",
              "      <td>positive</td>\n",
              "      <td>1194739200</td>\n",
              "      <td>Love the book, miss the hard cover version</td>\n",
              "      <td>I grew up reading these Sendak books, and watc...</td>\n",
              "    </tr>\n",
              "    <tr>\n",
              "      <th>138689</th>\n",
              "      <td>150507</td>\n",
              "      <td>0006641040</td>\n",
              "      <td>A1S4A3IQ2MU7V4</td>\n",
              "      <td>sally sue \"sally sue\"</td>\n",
              "      <td>1</td>\n",
              "      <td>1</td>\n",
              "      <td>positive</td>\n",
              "      <td>1191456000</td>\n",
              "      <td>chicken soup with rice months</td>\n",
              "      <td>This is a fun way for children to learn their ...</td>\n",
              "    </tr>\n",
              "    <tr>\n",
              "      <th>138690</th>\n",
              "      <td>150508</td>\n",
              "      <td>0006641040</td>\n",
              "      <td>AZGXZ2UUK6X</td>\n",
              "      <td>Catherine Hallberg \"(Kate)\"</td>\n",
              "      <td>1</td>\n",
              "      <td>1</td>\n",
              "      <td>positive</td>\n",
              "      <td>1076025600</td>\n",
              "      <td>a good swingy rhythm for reading aloud</td>\n",
              "      <td>This is a great little book to read aloud- it ...</td>\n",
              "    </tr>\n",
              "    <tr>\n",
              "      <th>138691</th>\n",
              "      <td>150509</td>\n",
              "      <td>0006641040</td>\n",
              "      <td>A3CMRKGE0P909G</td>\n",
              "      <td>Teresa</td>\n",
              "      <td>3</td>\n",
              "      <td>4</td>\n",
              "      <td>positive</td>\n",
              "      <td>1018396800</td>\n",
              "      <td>A great way to learn the months</td>\n",
              "      <td>This is a book of poetry about the months of t...</td>\n",
              "    </tr>\n",
              "  </tbody>\n",
              "</table>\n",
              "</div>"
            ],
            "text/plain": [
              "            Id  ...                                               Text\n",
              "138706  150524  ...  this witty little book makes my son laugh at l...\n",
              "138688  150506  ...  I grew up reading these Sendak books, and watc...\n",
              "138689  150507  ...  This is a fun way for children to learn their ...\n",
              "138690  150508  ...  This is a great little book to read aloud- it ...\n",
              "138691  150509  ...  This is a book of poetry about the months of t...\n",
              "\n",
              "[5 rows x 10 columns]"
            ]
          },
          "metadata": {
            "tags": []
          },
          "execution_count": 78
        }
      ]
    },
    {
      "cell_type": "markdown",
      "metadata": {
        "id": "t3_OfKDlBLw3",
        "colab_type": "text"
      },
      "source": [
        "Find the duplicates if the useid , profilename , time , text is the same then it is duplicate.And remove those rows."
      ]
    },
    {
      "cell_type": "code",
      "metadata": {
        "id": "puHq-RGUBLw5",
        "colab_type": "code",
        "outputId": "50cae8cb-73d0-414f-9ec2-18be6d52b8f7",
        "colab": {
          "base_uri": "https://localhost:8080/",
          "height": 34
        }
      },
      "source": [
        "#Deduplication of entries\n",
        "\n",
        "final = sorted_data.drop_duplicates(subset = {'UserId' , 'ProfileName' , 'Time' , 'Text'} , keep = 'first' , inplace = False)\n",
        "final.shape"
      ],
      "execution_count": 79,
      "outputs": [
        {
          "output_type": "execute_result",
          "data": {
            "text/plain": [
              "(364173, 10)"
            ]
          },
          "metadata": {
            "tags": []
          },
          "execution_count": 79
        }
      ]
    },
    {
      "cell_type": "code",
      "metadata": {
        "id": "nfmHUCT2BLw-",
        "colab_type": "code",
        "outputId": "dc7d5252-4316-434d-81c6-fe8cdd23d051",
        "colab": {
          "base_uri": "https://localhost:8080/",
          "height": 34
        }
      },
      "source": [
        "#Checking to see how much % of data still remains\n",
        "(final['Id'].size*1.0) / (dataset_sqlite['Id'].size*1.0) * 100"
      ],
      "execution_count": 80,
      "outputs": [
        {
          "output_type": "execute_result",
          "data": {
            "text/plain": [
              "69.25890143662969"
            ]
          },
          "metadata": {
            "tags": []
          },
          "execution_count": 80
        }
      ]
    },
    {
      "cell_type": "markdown",
      "metadata": {
        "id": "9apgK4uYBLxC",
        "colab_type": "text"
      },
      "source": [
        "After removing those duplicates rows we hvae 69% data remaining."
      ]
    },
    {
      "cell_type": "markdown",
      "metadata": {
        "id": "d4MaytrOBLxD",
        "colab_type": "text"
      },
      "source": [
        "Another way to fina inconsistency in the dataset is if the <b>HelpfulnessNumerator</b> is greater than <b>HelpfulnessDenominator</b>"
      ]
    },
    {
      "cell_type": "code",
      "metadata": {
        "id": "lHDtTVu0BLxE",
        "colab_type": "code",
        "outputId": "75a04217-61f5-4936-aeb2-be6b8c0ba41b",
        "colab": {
          "base_uri": "https://localhost:8080/",
          "height": 111
        }
      },
      "source": [
        "display= pd.read_sql_query(\"\"\"\n",
        "\n",
        "                        SELECT *\n",
        "                        FROM Reviews\n",
        "                        WHERE HelpfulnessNumerator > HelpfulnessDenominator\n",
        "                        \n",
        "                        \"\"\", con)\n",
        "\n",
        "display.head()"
      ],
      "execution_count": 81,
      "outputs": [
        {
          "output_type": "execute_result",
          "data": {
            "text/html": [
              "<div>\n",
              "<style scoped>\n",
              "    .dataframe tbody tr th:only-of-type {\n",
              "        vertical-align: middle;\n",
              "    }\n",
              "\n",
              "    .dataframe tbody tr th {\n",
              "        vertical-align: top;\n",
              "    }\n",
              "\n",
              "    .dataframe thead th {\n",
              "        text-align: right;\n",
              "    }\n",
              "</style>\n",
              "<table border=\"1\" class=\"dataframe\">\n",
              "  <thead>\n",
              "    <tr style=\"text-align: right;\">\n",
              "      <th></th>\n",
              "      <th>Id</th>\n",
              "      <th>ProductId</th>\n",
              "      <th>UserId</th>\n",
              "      <th>ProfileName</th>\n",
              "      <th>HelpfulnessNumerator</th>\n",
              "      <th>HelpfulnessDenominator</th>\n",
              "      <th>Score</th>\n",
              "      <th>Time</th>\n",
              "      <th>Summary</th>\n",
              "      <th>Text</th>\n",
              "    </tr>\n",
              "  </thead>\n",
              "  <tbody>\n",
              "    <tr>\n",
              "      <th>0</th>\n",
              "      <td>44737</td>\n",
              "      <td>B001EQ55RW</td>\n",
              "      <td>A2V0I904FH7ABY</td>\n",
              "      <td>Ram</td>\n",
              "      <td>3</td>\n",
              "      <td>2</td>\n",
              "      <td>4</td>\n",
              "      <td>1212883200</td>\n",
              "      <td>Pure cocoa taste with crunchy almonds inside</td>\n",
              "      <td>It was almost a 'love at first bite' - the per...</td>\n",
              "    </tr>\n",
              "    <tr>\n",
              "      <th>1</th>\n",
              "      <td>64422</td>\n",
              "      <td>B000MIDROQ</td>\n",
              "      <td>A161DK06JJMCYF</td>\n",
              "      <td>J. E. Stephens \"Jeanne\"</td>\n",
              "      <td>3</td>\n",
              "      <td>1</td>\n",
              "      <td>5</td>\n",
              "      <td>1224892800</td>\n",
              "      <td>Bought This for My Son at College</td>\n",
              "      <td>My son loves spaghetti so I didn't hesitate or...</td>\n",
              "    </tr>\n",
              "  </tbody>\n",
              "</table>\n",
              "</div>"
            ],
            "text/plain": [
              "      Id  ...                                               Text\n",
              "0  44737  ...  It was almost a 'love at first bite' - the per...\n",
              "1  64422  ...  My son loves spaghetti so I didn't hesitate or...\n",
              "\n",
              "[2 rows x 10 columns]"
            ]
          },
          "metadata": {
            "tags": []
          },
          "execution_count": 81
        }
      ]
    },
    {
      "cell_type": "markdown",
      "metadata": {
        "id": "t37o_E71BLxH",
        "colab_type": "text"
      },
      "source": [
        "It was also seen that in two rows given below the value of HelpfulnessNumerator is greater than HelpfulnessDenominator which is not practically possible hence these two rows too are removed from calcualtions"
      ]
    },
    {
      "cell_type": "code",
      "metadata": {
        "id": "vD2gL8EbBLxI",
        "colab_type": "code",
        "outputId": "8883759a-8bee-42fb-f7a9-640cac191210",
        "colab": {
          "base_uri": "https://localhost:8080/",
          "height": 111
        }
      },
      "source": [
        "display= pd.read_sql_query(\"\"\"\n",
        "\n",
        "                        SELECT *\n",
        "                        FROM Reviews\n",
        "                        WHERE Score != 3 AND Id=44737 OR Id=64422\n",
        "                        ORDER BY ProductID\n",
        "                        \n",
        "                        \"\"\", con)\n",
        "\n",
        "display.head()"
      ],
      "execution_count": 82,
      "outputs": [
        {
          "output_type": "execute_result",
          "data": {
            "text/html": [
              "<div>\n",
              "<style scoped>\n",
              "    .dataframe tbody tr th:only-of-type {\n",
              "        vertical-align: middle;\n",
              "    }\n",
              "\n",
              "    .dataframe tbody tr th {\n",
              "        vertical-align: top;\n",
              "    }\n",
              "\n",
              "    .dataframe thead th {\n",
              "        text-align: right;\n",
              "    }\n",
              "</style>\n",
              "<table border=\"1\" class=\"dataframe\">\n",
              "  <thead>\n",
              "    <tr style=\"text-align: right;\">\n",
              "      <th></th>\n",
              "      <th>Id</th>\n",
              "      <th>ProductId</th>\n",
              "      <th>UserId</th>\n",
              "      <th>ProfileName</th>\n",
              "      <th>HelpfulnessNumerator</th>\n",
              "      <th>HelpfulnessDenominator</th>\n",
              "      <th>Score</th>\n",
              "      <th>Time</th>\n",
              "      <th>Summary</th>\n",
              "      <th>Text</th>\n",
              "    </tr>\n",
              "  </thead>\n",
              "  <tbody>\n",
              "    <tr>\n",
              "      <th>0</th>\n",
              "      <td>64422</td>\n",
              "      <td>B000MIDROQ</td>\n",
              "      <td>A161DK06JJMCYF</td>\n",
              "      <td>J. E. Stephens \"Jeanne\"</td>\n",
              "      <td>3</td>\n",
              "      <td>1</td>\n",
              "      <td>5</td>\n",
              "      <td>1224892800</td>\n",
              "      <td>Bought This for My Son at College</td>\n",
              "      <td>My son loves spaghetti so I didn't hesitate or...</td>\n",
              "    </tr>\n",
              "    <tr>\n",
              "      <th>1</th>\n",
              "      <td>44737</td>\n",
              "      <td>B001EQ55RW</td>\n",
              "      <td>A2V0I904FH7ABY</td>\n",
              "      <td>Ram</td>\n",
              "      <td>3</td>\n",
              "      <td>2</td>\n",
              "      <td>4</td>\n",
              "      <td>1212883200</td>\n",
              "      <td>Pure cocoa taste with crunchy almonds inside</td>\n",
              "      <td>It was almost a 'love at first bite' - the per...</td>\n",
              "    </tr>\n",
              "  </tbody>\n",
              "</table>\n",
              "</div>"
            ],
            "text/plain": [
              "      Id  ...                                               Text\n",
              "0  64422  ...  My son loves spaghetti so I didn't hesitate or...\n",
              "1  44737  ...  It was almost a 'love at first bite' - the per...\n",
              "\n",
              "[2 rows x 10 columns]"
            ]
          },
          "metadata": {
            "tags": []
          },
          "execution_count": 82
        }
      ]
    },
    {
      "cell_type": "code",
      "metadata": {
        "id": "k3A01mF5BLxN",
        "colab_type": "code",
        "colab": {}
      },
      "source": [
        "final = final[final.HelpfulnessNumerator <= final.HelpfulnessDenominator]"
      ],
      "execution_count": 0,
      "outputs": []
    },
    {
      "cell_type": "code",
      "metadata": {
        "id": "htlE7YXkBLxR",
        "colab_type": "code",
        "outputId": "7a25cb48-bbae-4427-b64a-5f4441b51b0f",
        "colab": {
          "base_uri": "https://localhost:8080/",
          "height": 34
        }
      },
      "source": [
        "final.shape"
      ],
      "execution_count": 84,
      "outputs": [
        {
          "output_type": "execute_result",
          "data": {
            "text/plain": [
              "(364171, 10)"
            ]
          },
          "metadata": {
            "tags": []
          },
          "execution_count": 84
        }
      ]
    },
    {
      "cell_type": "code",
      "metadata": {
        "id": "nF3p4vUABLxU",
        "colab_type": "code",
        "outputId": "7765ed1d-6e38-464a-81b0-7198843a91e4",
        "colab": {
          "base_uri": "https://localhost:8080/",
          "height": 296
        }
      },
      "source": [
        "sns.countplot(x = 'Score' , data = final)"
      ],
      "execution_count": 85,
      "outputs": [
        {
          "output_type": "execute_result",
          "data": {
            "text/plain": [
              "<matplotlib.axes._subplots.AxesSubplot at 0x7fd5e3825240>"
            ]
          },
          "metadata": {
            "tags": []
          },
          "execution_count": 85
        },
        {
          "output_type": "display_data",
          "data": {
            "image/png": "[encoded data removed]",
            "text/plain": [
              "<Figure size 432x288 with 1 Axes>"
            ]
          },
          "metadata": {
            "tags": []
          }
        }
      ]
    },
    {
      "cell_type": "markdown",
      "metadata": {
        "id": "R2VKl_1cBLxY",
        "colab_type": "text"
      },
      "source": [
        "## Text Preprocessing"
      ]
    },
    {
      "cell_type": "markdown",
      "metadata": {
        "id": "AzFu_9vpBLxZ",
        "colab_type": "text"
      },
      "source": [
        "We already remove the duplicates values from the dataset.Now it's time to preprocess the dataset.There are many ways to clean or preprocess the dataset.\n"
      ]
    },
    {
      "cell_type": "code",
      "metadata": {
        "id": "sRKf5HTxJBWq",
        "colab_type": "code",
        "outputId": "430a0ce2-4b31-4288-bb44-8aa8fc5cb05d",
        "colab": {
          "base_uri": "https://localhost:8080/",
          "height": 68
        }
      },
      "source": [
        "import nltk\n",
        "nltk.download('stopwords')"
      ],
      "execution_count": 86,
      "outputs": [
        {
          "output_type": "stream",
          "text": [
            "[nltk_data] Downloading package stopwords to /root/nltk_data...\n",
            "[nltk_data]   Package stopwords is already up-to-date!\n"
          ],
          "name": "stdout"
        },
        {
          "output_type": "execute_result",
          "data": {
            "text/plain": [
              "True"
            ]
          },
          "metadata": {
            "tags": []
          },
          "execution_count": 86
        }
      ]
    },
    {
      "cell_type": "code",
      "metadata": {
        "id": "f_DG8XfGBLxc",
        "colab_type": "code",
        "colab": {}
      },
      "source": [
        "stop = set(stopwords.words('english'))\n",
        "sno = nltk.stem.SnowballStemmer('english') "
      ],
      "execution_count": 0,
      "outputs": []
    },
    {
      "cell_type": "code",
      "metadata": {
        "id": "NH9OaKVQBLxj",
        "colab_type": "code",
        "colab": {}
      },
      "source": [
        "def cleanhtml(sentence):\n",
        "    cleanr = re.compile('<.*?>')\n",
        "    cleantext = re.sub(cleanr, ' ', sentence)\n",
        "    return cleantext"
      ],
      "execution_count": 0,
      "outputs": []
    },
    {
      "cell_type": "code",
      "metadata": {
        "id": "KyrvHjFwBLxm",
        "colab_type": "code",
        "colab": {}
      },
      "source": [
        "def cleanpunc(sentence):\n",
        "    cleaned = re.sub(r'[?|!|\\'|\"|#]',r'',sentence)\n",
        "    cleaned = re.sub(r'[.|,|)|(|\\|/]',r' ',cleaned)\n",
        "    return  cleaned"
      ],
      "execution_count": 0,
      "outputs": []
    },
    {
      "cell_type": "code",
      "metadata": {
        "id": "0q824asFBLxs",
        "colab_type": "code",
        "outputId": "fd471d70-2a0b-4c6e-a1f8-fe231c2cdc54",
        "colab": {
          "base_uri": "https://localhost:8080/",
          "height": 34
        }
      },
      "source": [
        "i=0\n",
        "str1=' '\n",
        "final_string=[]\n",
        "all_positive_words=[] \n",
        "all_negative_words=[] \n",
        "s=''\n",
        "\n",
        "for sent in tqdm(final['Text'].values):\n",
        "\n",
        "    filtered_sentence=[]\n",
        "\n",
        "    sent=cleanhtml(sent) \n",
        "\n",
        "    for w in sent.split():\n",
        "        for cleaned_words in cleanpunc(w).split():\n",
        "\n",
        "            if((cleaned_words.isalpha()) & (len(cleaned_words) > 2)):    \n",
        "                if(cleaned_words.lower() not in stop):\n",
        "                    s = (sno.stem(cleaned_words.lower())).encode('utf8')\n",
        "                    filtered_sentence.append(s)\n",
        "                    \n",
        "                    if (final['Score'].values)[i] == 'positive': \n",
        "                        all_positive_words.append(s)\n",
        "                    if(final['Score'].values)[i] == 'negative':\n",
        "                        all_negative_words.append(s)\n",
        "                else:\n",
        "                    continue\n",
        "            else:\n",
        "                continue \n",
        "                \n",
        "    str1 = b\" \".join(filtered_sentence) #final string of cleaned words\n",
        "    #print(\"***********************************************************************\")\n",
        "    \n",
        "    final_string.append(str1)\n",
        "    i+=1"
      ],
      "execution_count": 90,
      "outputs": [
        {
          "output_type": "stream",
          "text": [
            "100%|██████████| 364171/364171 [05:32<00:00, 1095.31it/s]\n"
          ],
          "name": "stderr"
        }
      ]
    },
    {
      "cell_type": "code",
      "metadata": {
        "id": "N7GfBhLVJ6RE",
        "colab_type": "code",
        "outputId": "4a4bac11-6478-47d6-a64a-51806071eadd",
        "colab": {
          "base_uri": "https://localhost:8080/",
          "height": 193
        }
      },
      "source": [
        "final['CleanedText'] = final_string\n",
        "final['CleanedText'] = final['CleanedText'].str.decode(\"utf-8\")\n",
        "final.head(3)"
      ],
      "execution_count": 91,
      "outputs": [
        {
          "output_type": "execute_result",
          "data": {
            "text/html": [
              "<div>\n",
              "<style scoped>\n",
              "    .dataframe tbody tr th:only-of-type {\n",
              "        vertical-align: middle;\n",
              "    }\n",
              "\n",
              "    .dataframe tbody tr th {\n",
              "        vertical-align: top;\n",
              "    }\n",
              "\n",
              "    .dataframe thead th {\n",
              "        text-align: right;\n",
              "    }\n",
              "</style>\n",
              "<table border=\"1\" class=\"dataframe\">\n",
              "  <thead>\n",
              "    <tr style=\"text-align: right;\">\n",
              "      <th></th>\n",
              "      <th>Id</th>\n",
              "      <th>ProductId</th>\n",
              "      <th>UserId</th>\n",
              "      <th>ProfileName</th>\n",
              "      <th>HelpfulnessNumerator</th>\n",
              "      <th>HelpfulnessDenominator</th>\n",
              "      <th>Score</th>\n",
              "      <th>Time</th>\n",
              "      <th>Summary</th>\n",
              "      <th>Text</th>\n",
              "      <th>CleanedText</th>\n",
              "    </tr>\n",
              "  </thead>\n",
              "  <tbody>\n",
              "    <tr>\n",
              "      <th>138706</th>\n",
              "      <td>150524</td>\n",
              "      <td>0006641040</td>\n",
              "      <td>ACITT7DI6IDDL</td>\n",
              "      <td>shari zychinski</td>\n",
              "      <td>0</td>\n",
              "      <td>0</td>\n",
              "      <td>positive</td>\n",
              "      <td>939340800</td>\n",
              "      <td>EVERY book is educational</td>\n",
              "      <td>this witty little book makes my son laugh at l...</td>\n",
              "      <td>witti littl book make son laugh loud recit car...</td>\n",
              "    </tr>\n",
              "    <tr>\n",
              "      <th>138688</th>\n",
              "      <td>150506</td>\n",
              "      <td>0006641040</td>\n",
              "      <td>A2IW4PEEKO2R0U</td>\n",
              "      <td>Tracy</td>\n",
              "      <td>1</td>\n",
              "      <td>1</td>\n",
              "      <td>positive</td>\n",
              "      <td>1194739200</td>\n",
              "      <td>Love the book, miss the hard cover version</td>\n",
              "      <td>I grew up reading these Sendak books, and watc...</td>\n",
              "      <td>grew read sendak book watch realli rosi movi i...</td>\n",
              "    </tr>\n",
              "    <tr>\n",
              "      <th>138689</th>\n",
              "      <td>150507</td>\n",
              "      <td>0006641040</td>\n",
              "      <td>A1S4A3IQ2MU7V4</td>\n",
              "      <td>sally sue \"sally sue\"</td>\n",
              "      <td>1</td>\n",
              "      <td>1</td>\n",
              "      <td>positive</td>\n",
              "      <td>1191456000</td>\n",
              "      <td>chicken soup with rice months</td>\n",
              "      <td>This is a fun way for children to learn their ...</td>\n",
              "      <td>fun way children learn month year learn poem t...</td>\n",
              "    </tr>\n",
              "  </tbody>\n",
              "</table>\n",
              "</div>"
            ],
            "text/plain": [
              "            Id  ...                                        CleanedText\n",
              "138706  150524  ...  witti littl book make son laugh loud recit car...\n",
              "138688  150506  ...  grew read sendak book watch realli rosi movi i...\n",
              "138689  150507  ...  fun way children learn month year learn poem t...\n",
              "\n",
              "[3 rows x 11 columns]"
            ]
          },
          "metadata": {
            "tags": []
          },
          "execution_count": 91
        }
      ]
    },
    {
      "cell_type": "code",
      "metadata": {
        "id": "K3oY9Il8J6ej",
        "colab_type": "code",
        "colab": {}
      },
      "source": [
        "final_data = final.sort_values('Time', axis=0 , ascending=True , inplace=False , kind='quicksort' , na_position = 'last')"
      ],
      "execution_count": 0,
      "outputs": []
    },
    {
      "cell_type": "code",
      "metadata": {
        "id": "ydNF3cotL5Gu",
        "colab_type": "code",
        "outputId": "9bb78ef4-ddeb-4238-d758-fc4829c8ca39",
        "colab": {
          "base_uri": "https://localhost:8080/",
          "height": 34
        }
      },
      "source": [
        "final_data.shape"
      ],
      "execution_count": 93,
      "outputs": [
        {
          "output_type": "execute_result",
          "data": {
            "text/plain": [
              "(364171, 11)"
            ]
          },
          "metadata": {
            "tags": []
          },
          "execution_count": 93
        }
      ]
    },
    {
      "cell_type": "code",
      "metadata": {
        "id": "6_E_X0bVJ6mj",
        "colab_type": "code",
        "outputId": "c3069015-b727-4e18-c8db-24bf2d5194c1",
        "colab": {
          "base_uri": "https://localhost:8080/",
          "height": 289
        }
      },
      "source": [
        "final = final_data.head(150000)\n",
        "final.head()"
      ],
      "execution_count": 94,
      "outputs": [
        {
          "output_type": "execute_result",
          "data": {
            "text/html": [
              "<div>\n",
              "<style scoped>\n",
              "    .dataframe tbody tr th:only-of-type {\n",
              "        vertical-align: middle;\n",
              "    }\n",
              "\n",
              "    .dataframe tbody tr th {\n",
              "        vertical-align: top;\n",
              "    }\n",
              "\n",
              "    .dataframe thead th {\n",
              "        text-align: right;\n",
              "    }\n",
              "</style>\n",
              "<table border=\"1\" class=\"dataframe\">\n",
              "  <thead>\n",
              "    <tr style=\"text-align: right;\">\n",
              "      <th></th>\n",
              "      <th>Id</th>\n",
              "      <th>ProductId</th>\n",
              "      <th>UserId</th>\n",
              "      <th>ProfileName</th>\n",
              "      <th>HelpfulnessNumerator</th>\n",
              "      <th>HelpfulnessDenominator</th>\n",
              "      <th>Score</th>\n",
              "      <th>Time</th>\n",
              "      <th>Summary</th>\n",
              "      <th>Text</th>\n",
              "      <th>CleanedText</th>\n",
              "    </tr>\n",
              "  </thead>\n",
              "  <tbody>\n",
              "    <tr>\n",
              "      <th>138706</th>\n",
              "      <td>150524</td>\n",
              "      <td>0006641040</td>\n",
              "      <td>ACITT7DI6IDDL</td>\n",
              "      <td>shari zychinski</td>\n",
              "      <td>0</td>\n",
              "      <td>0</td>\n",
              "      <td>positive</td>\n",
              "      <td>939340800</td>\n",
              "      <td>EVERY book is educational</td>\n",
              "      <td>this witty little book makes my son laugh at l...</td>\n",
              "      <td>witti littl book make son laugh loud recit car...</td>\n",
              "    </tr>\n",
              "    <tr>\n",
              "      <th>138683</th>\n",
              "      <td>150501</td>\n",
              "      <td>0006641040</td>\n",
              "      <td>AJ46FKXOVC7NR</td>\n",
              "      <td>Nicholas A Mesiano</td>\n",
              "      <td>2</td>\n",
              "      <td>2</td>\n",
              "      <td>positive</td>\n",
              "      <td>940809600</td>\n",
              "      <td>This whole series is great way to spend time w...</td>\n",
              "      <td>I can remember seeing the show when it aired o...</td>\n",
              "      <td>rememb see show air televis year ago child sis...</td>\n",
              "    </tr>\n",
              "    <tr>\n",
              "      <th>417839</th>\n",
              "      <td>451856</td>\n",
              "      <td>B00004CXX9</td>\n",
              "      <td>AIUWLEQ1ADEG5</td>\n",
              "      <td>Elizabeth Medina</td>\n",
              "      <td>0</td>\n",
              "      <td>0</td>\n",
              "      <td>positive</td>\n",
              "      <td>944092800</td>\n",
              "      <td>Entertainingl Funny!</td>\n",
              "      <td>Beetlejuice is a well written movie ..... ever...</td>\n",
              "      <td>beetlejuic well written movi everyth excel act...</td>\n",
              "    </tr>\n",
              "    <tr>\n",
              "      <th>346055</th>\n",
              "      <td>374359</td>\n",
              "      <td>B00004CI84</td>\n",
              "      <td>A344SMIA5JECGM</td>\n",
              "      <td>Vincent P. Ross</td>\n",
              "      <td>1</td>\n",
              "      <td>2</td>\n",
              "      <td>positive</td>\n",
              "      <td>944438400</td>\n",
              "      <td>A modern day fairy tale</td>\n",
              "      <td>A twist of rumplestiskin captured on film, sta...</td>\n",
              "      <td>twist rumplestiskin captur film star michael k...</td>\n",
              "    </tr>\n",
              "    <tr>\n",
              "      <th>417838</th>\n",
              "      <td>451855</td>\n",
              "      <td>B00004CXX9</td>\n",
              "      <td>AJH6LUC1UT1ON</td>\n",
              "      <td>The Phantom of the Opera</td>\n",
              "      <td>0</td>\n",
              "      <td>0</td>\n",
              "      <td>positive</td>\n",
              "      <td>946857600</td>\n",
              "      <td>FANTASTIC!</td>\n",
              "      <td>Beetlejuice is an excellent and funny movie. K...</td>\n",
              "      <td>beetlejuic excel funni movi keaton hilari wack...</td>\n",
              "    </tr>\n",
              "  </tbody>\n",
              "</table>\n",
              "</div>"
            ],
            "text/plain": [
              "            Id  ...                                        CleanedText\n",
              "138706  150524  ...  witti littl book make son laugh loud recit car...\n",
              "138683  150501  ...  rememb see show air televis year ago child sis...\n",
              "417839  451856  ...  beetlejuic well written movi everyth excel act...\n",
              "346055  374359  ...  twist rumplestiskin captur film star michael k...\n",
              "417838  451855  ...  beetlejuic excel funni movi keaton hilari wack...\n",
              "\n",
              "[5 rows x 11 columns]"
            ]
          },
          "metadata": {
            "tags": []
          },
          "execution_count": 94
        }
      ]
    },
    {
      "cell_type": "code",
      "metadata": {
        "id": "v49sw6MAMjye",
        "colab_type": "code",
        "colab": {}
      },
      "source": [
        "x = final.drop(['Score'] , axis = 1)\n",
        "y = final['Score']"
      ],
      "execution_count": 0,
      "outputs": []
    },
    {
      "cell_type": "code",
      "metadata": {
        "id": "wXN4vYp5Mj74",
        "colab_type": "code",
        "colab": {}
      },
      "source": [
        "x_train , x_test , y_train , y_test = train_test_split(x , y , test_size = 0.25)"
      ],
      "execution_count": 0,
      "outputs": []
    },
    {
      "cell_type": "code",
      "metadata": {
        "id": "iG4iQAPWNNZ_",
        "colab_type": "code",
        "outputId": "793cfaaf-0c64-4ccd-b79c-d515417de51e",
        "colab": {
          "base_uri": "https://localhost:8080/",
          "height": 68
        }
      },
      "source": [
        "print(x_train.shape)\n",
        "print(x_test.shape)\n",
        "print(y_train.shape)"
      ],
      "execution_count": 97,
      "outputs": [
        {
          "output_type": "stream",
          "text": [
            "(112500, 10)\n",
            "(37500, 10)\n",
            "(112500,)\n"
          ],
          "name": "stdout"
        }
      ]
    },
    {
      "cell_type": "code",
      "metadata": {
        "id": "FQ8tJUrJJ6yF",
        "colab_type": "code",
        "colab": {}
      },
      "source": [
        "x_train_data = final[:100000]\n",
        "x_test_data = final[100000:150000]\n",
        "y_train = x_train_data['Score']\n",
        "y_test = x_test_data['Score']"
      ],
      "execution_count": 0,
      "outputs": []
    },
    {
      "cell_type": "code",
      "metadata": {
        "id": "lv8u8YGvJ7Rm",
        "colab_type": "code",
        "outputId": "30f1df2e-1c3d-474d-9216-504cb658b335",
        "colab": {
          "base_uri": "https://localhost:8080/",
          "height": 119
        }
      },
      "source": [
        "print(\"Data\")\n",
        "print(x_train_data.shape)\n",
        "print(x_test_data.shape)\n",
        "print(\"Label\")\n",
        "print(y_train.shape)\n",
        "print(y_test.shape)"
      ],
      "execution_count": 99,
      "outputs": [
        {
          "output_type": "stream",
          "text": [
            "Data\n",
            "(100000, 11)\n",
            "(50000, 11)\n",
            "Label\n",
            "(100000,)\n",
            "(50000,)\n"
          ],
          "name": "stdout"
        }
      ]
    },
    {
      "cell_type": "code",
      "metadata": {
        "id": "V_NxqCkLJ7n4",
        "colab_type": "code",
        "outputId": "033247c1-7aaa-4c15-a053-04308c7af7d4",
        "colab": {
          "base_uri": "https://localhost:8080/",
          "height": 153
        }
      },
      "source": [
        "#BoW on Text\n",
        "print(\"**Bow Vectorizer**\")\n",
        "print(\"=\"*50)\n",
        "count_vect = CountVectorizer(min_df = 50)\n",
        "X_train_BOW = count_vect.fit_transform(x_train_data['CleanedText'])\n",
        "X_test_BOW = count_vect.transform(x_test_data['CleanedText'])\n",
        "print(X_train_BOW.shape)\n",
        "print(X_test_BOW.shape)\n",
        "\n",
        "\n",
        "\n",
        "\n",
        "print(\"**Bow Vectorizer-1**\")\n",
        "print(\"=\"*50)\n",
        "count_vect1 = CountVectorizer(min_df = 50) #since it is very costly for rbf kernel so reducing the dimention\n",
        "X_train_BOW1 = count_vect1.fit_transform(x_train_data['CleanedText'])\n",
        "X_test_BOW1 = count_vect1.transform(x_test_data['CleanedText'])\n",
        "print(X_train_BOW1.shape)\n",
        "print(X_test_BOW1.shape)"
      ],
      "execution_count": 100,
      "outputs": [
        {
          "output_type": "stream",
          "text": [
            "**Bow Vectorizer**\n",
            "==================================================\n",
            "(100000, 3846)\n",
            "(50000, 3846)\n",
            "**Bow Vectorizer-1**\n",
            "==================================================\n",
            "(100000, 3846)\n",
            "(50000, 3846)\n"
          ],
          "name": "stdout"
        }
      ]
    },
    {
      "cell_type": "code",
      "metadata": {
        "id": "wmQo8A4hJ8GT",
        "colab_type": "code",
        "outputId": "dcd593d4-ec6e-43e6-e125-cf6ae7f01c09",
        "colab": {
          "base_uri": "https://localhost:8080/",
          "height": 85
        }
      },
      "source": [
        "#TFIDF on Text\n",
        "print(\"**TFIDF Vectorizer**\")\n",
        "print(\"=\"*50) \n",
        "tf_idf_vect = TfidfVectorizer(min_df = 50)\n",
        "X_train_tfidf = tf_idf_vect.fit_transform(x_train_data['CleanedText'])\n",
        "X_test_tfidf = tf_idf_vect.transform(x_test_data['CleanedText'])\n",
        "print(X_train_tfidf.shape)\n",
        "print(X_test_tfidf.shape)"
      ],
      "execution_count": 101,
      "outputs": [
        {
          "output_type": "stream",
          "text": [
            "**TFIDF Vectorizer**\n",
            "==================================================\n",
            "(100000, 3846)\n",
            "(50000, 3846)\n"
          ],
          "name": "stdout"
        }
      ]
    },
    {
      "cell_type": "code",
      "metadata": {
        "id": "qdLxDhQyJ8ly",
        "colab_type": "code",
        "outputId": "c0458d3d-b0c0-4fbc-a476-3237c72b1cf2",
        "colab": {
          "base_uri": "https://localhost:8080/",
          "height": 34
        }
      },
      "source": [
        "# Word2Vec in training part\n",
        "\n",
        "import gensim\n",
        "i=0\n",
        "list_of_sent_train=[]\n",
        "for sent in tqdm(x_train_data['Text'].values):\n",
        "    filtered_sentence=[]\n",
        "    sent=cleanhtml(sent)\n",
        "    for w in sent.split():\n",
        "        for cleaned_words in cleanpunc(w).split():\n",
        "            if(cleaned_words.isalpha()):    # checking is the word is alphabet\n",
        "                filtered_sentence.append(cleaned_words.lower()) # appending to the list\n",
        "            else:\n",
        "                continue \n",
        "    list_of_sent_train.append(filtered_sentence)"
      ],
      "execution_count": 102,
      "outputs": [
        {
          "output_type": "stream",
          "text": [
            "100%|██████████| 100000/100000 [00:15<00:00, 6326.36it/s]\n"
          ],
          "name": "stderr"
        }
      ]
    },
    {
      "cell_type": "code",
      "metadata": {
        "id": "z9FiGHMxSRco",
        "colab_type": "code",
        "outputId": "7ffb0ddc-1ce6-4ae1-e59a-86299a7eeb28",
        "colab": {
          "base_uri": "https://localhost:8080/",
          "height": 34
        }
      },
      "source": [
        "# word2vec in testing part\n",
        "\n",
        "import gensim\n",
        "i=0\n",
        "list_of_sent_test=[]\n",
        "for sent in tqdm(x_test_data['Text'].values):\n",
        "    filtered_sentence=[]\n",
        "    sent=cleanhtml(sent)\n",
        "    for w in sent.split():\n",
        "        for cleaned_words in cleanpunc(w).split():\n",
        "            if(cleaned_words.isalpha()):    # checking is the word is alphabet\n",
        "                filtered_sentence.append(cleaned_words.lower()) # appending to the list\n",
        "            else:\n",
        "                continue \n",
        "    list_of_sent_test.append(filtered_sentence)"
      ],
      "execution_count": 103,
      "outputs": [
        {
          "output_type": "stream",
          "text": [
            "100%|██████████| 50000/50000 [00:08<00:00, 5729.29it/s]\n"
          ],
          "name": "stderr"
        }
      ]
    },
    {
      "cell_type": "code",
      "metadata": {
        "id": "rauy05t7J839",
        "colab_type": "code",
        "outputId": "c09d7f02-29c0-4db5-f714-663dbf20d867",
        "colab": {
          "base_uri": "https://localhost:8080/",
          "height": 88
        }
      },
      "source": [
        "print(x_train_data['Text'].values[0])\n",
        "print(\"*****************************************************************\")\n",
        "print(list_of_sent_train[0])"
      ],
      "execution_count": 104,
      "outputs": [
        {
          "output_type": "stream",
          "text": [
            "this witty little book makes my son laugh at loud. i recite it in the car as we're driving along and he always can sing the refrain. he's learned about whales, India, drooping roses:  i love all the new words this book  introduces and the silliness of it all.  this is a classic book i am  willing to bet my son will STILL be able to recite from memory when he is  in college\n",
            "*****************************************************************\n",
            "['this', 'witty', 'little', 'book', 'makes', 'my', 'son', 'laugh', 'at', 'loud', 'i', 'recite', 'it', 'in', 'the', 'car', 'as', 'were', 'driving', 'along', 'and', 'he', 'always', 'can', 'sing', 'the', 'refrain', 'hes', 'learned', 'about', 'whales', 'india', 'drooping', 'i', 'love', 'all', 'the', 'new', 'words', 'this', 'book', 'introduces', 'and', 'the', 'silliness', 'of', 'it', 'all', 'this', 'is', 'a', 'classic', 'book', 'i', 'am', 'willing', 'to', 'bet', 'my', 'son', 'will', 'still', 'be', 'able', 'to', 'recite', 'from', 'memory', 'when', 'he', 'is', 'in', 'college']\n"
          ],
          "name": "stdout"
        }
      ]
    },
    {
      "cell_type": "code",
      "metadata": {
        "id": "C1UWVBXNJ81x",
        "colab_type": "code",
        "colab": {}
      },
      "source": [
        "w2v_model = gensim.models.Word2Vec(list_of_sent_train , min_count = 5 , size = 50)"
      ],
      "execution_count": 0,
      "outputs": []
    },
    {
      "cell_type": "code",
      "metadata": {
        "id": "pdFhfji5J8yw",
        "colab_type": "code",
        "outputId": "92173017-6fc3-4ec8-c89f-6d73d30457ce",
        "colab": {
          "base_uri": "https://localhost:8080/",
          "height": 34
        }
      },
      "source": [
        "w2v_words = list(w2v_model.wv.vocab)\n",
        "print(len(w2v_words))"
      ],
      "execution_count": 106,
      "outputs": [
        {
          "output_type": "stream",
          "text": [
            "19044\n"
          ],
          "name": "stdout"
        }
      ]
    },
    {
      "cell_type": "code",
      "metadata": {
        "id": "7psf_lh-J8wg",
        "colab_type": "code",
        "outputId": "8201c591-d68c-434a-9e8e-fac4e08b8cc8",
        "colab": {
          "base_uri": "https://localhost:8080/",
          "height": 187
        }
      },
      "source": [
        "w2v_model.wv.most_similar('good')"
      ],
      "execution_count": 107,
      "outputs": [
        {
          "output_type": "execute_result",
          "data": {
            "text/plain": [
              "[('decent', 0.8312526941299438),\n",
              " ('great', 0.8234800100326538),\n",
              " ('fantastic', 0.733142614364624),\n",
              " ('terrific', 0.7195083498954773),\n",
              " ('fine', 0.7092441320419312),\n",
              " ('yummy', 0.7022995352745056),\n",
              " ('bad', 0.7011812329292297),\n",
              " ('awesome', 0.6929152607917786),\n",
              " ('wonderful', 0.6918590068817139),\n",
              " ('nice', 0.6901782155036926)]"
            ]
          },
          "metadata": {
            "tags": []
          },
          "execution_count": 107
        }
      ]
    },
    {
      "cell_type": "code",
      "metadata": {
        "id": "LV6e7MpaJ8s2",
        "colab_type": "code",
        "outputId": "26c8afb7-b3b8-41a2-b85a-f0d850e3c263",
        "colab": {
          "base_uri": "https://localhost:8080/",
          "height": 68
        }
      },
      "source": [
        "# average Word2Vec in trainin\n",
        "\n",
        "sent_vectors_train = []; \n",
        "\n",
        "for sent in tqdm(list_of_sent_train):\n",
        "    sent_vec = np.zeros(50) \n",
        "    cnt_words =0; \n",
        "    for word in sent: # \n",
        "        if word in w2v_words:\n",
        "            vec = w2v_model.wv[word]\n",
        "            sent_vec += vec\n",
        "            cnt_words += 1\n",
        "    if cnt_words != 0:\n",
        "        sent_vec /= cnt_words\n",
        "    sent_vectors_train.append(sent_vec) \n",
        "\n",
        "print(len(sent_vectors_train))\n",
        "print(len(sent_vectors_train[0]))"
      ],
      "execution_count": 108,
      "outputs": [
        {
          "output_type": "stream",
          "text": [
            "100%|██████████| 100000/100000 [03:20<00:00, 499.98it/s]"
          ],
          "name": "stderr"
        },
        {
          "output_type": "stream",
          "text": [
            "100000\n",
            "50\n"
          ],
          "name": "stdout"
        },
        {
          "output_type": "stream",
          "text": [
            "\n"
          ],
          "name": "stderr"
        }
      ]
    },
    {
      "cell_type": "code",
      "metadata": {
        "id": "iUoogBSXJ8i7",
        "colab_type": "code",
        "outputId": "ba7b4130-a24a-4282-8411-0b2081f0dfd5",
        "colab": {
          "base_uri": "https://localhost:8080/",
          "height": 68
        }
      },
      "source": [
        "# average Word2Vec in testing\n",
        "\n",
        "sent_vectors_test = []; \n",
        "for sent in tqdm(list_of_sent_test):\n",
        "    sent_vec = np.zeros(50) \n",
        "    cnt_words =0; \n",
        "    for word in sent: # \n",
        "        if word in w2v_words:\n",
        "            vec = w2v_model.wv[word]\n",
        "            sent_vec += vec\n",
        "            cnt_words += 1\n",
        "    if cnt_words != 0:\n",
        "        sent_vec /= cnt_words\n",
        "    sent_vectors_test.append(sent_vec) \n",
        "    \n",
        "print(len(sent_vectors_test))\n",
        "print(len(sent_vectors_test[0]))"
      ],
      "execution_count": 109,
      "outputs": [
        {
          "output_type": "stream",
          "text": [
            "100%|██████████| 50000/50000 [01:48<00:00, 458.73it/s]"
          ],
          "name": "stderr"
        },
        {
          "output_type": "stream",
          "text": [
            "50000\n",
            "50\n"
          ],
          "name": "stdout"
        },
        {
          "output_type": "stream",
          "text": [
            "\n"
          ],
          "name": "stderr"
        }
      ]
    },
    {
      "cell_type": "code",
      "metadata": {
        "id": "AidS-NVqJ8g1",
        "colab_type": "code",
        "colab": {}
      },
      "source": [
        "tfidf_vect = TfidfVectorizer(min_df = 50)\n",
        "train_tfidf_w2v = tfidf_vect.fit_transform(x_train_data[\"CleanedText\"])\n",
        "test_tfidf_w2v = tfidf_vect.transform(x_test_data[\"CleanedText\"])\n",
        "\n",
        "dictionary = dict(zip(tfidf_vect.get_feature_names(), list(tfidf_vect.idf_)))"
      ],
      "execution_count": 0,
      "outputs": []
    },
    {
      "cell_type": "code",
      "metadata": {
        "id": "ribzkETGJ8e1",
        "colab_type": "code",
        "outputId": "a1ff88da-fb18-49ac-bfcd-625cef96c2ab",
        "colab": {
          "base_uri": "https://localhost:8080/",
          "height": 51
        }
      },
      "source": [
        "print(train_tfidf_w2v.shape)\n",
        "print(test_tfidf_w2v.shape)"
      ],
      "execution_count": 111,
      "outputs": [
        {
          "output_type": "stream",
          "text": [
            "(100000, 3846)\n",
            "(50000, 3846)\n"
          ],
          "name": "stdout"
        }
      ]
    },
    {
      "cell_type": "code",
      "metadata": {
        "id": "SkJ51v7EJ8af",
        "colab_type": "code",
        "outputId": "8ea6c45e-637a-4117-cd52-861d9c68daac",
        "colab": {
          "base_uri": "https://localhost:8080/",
          "height": 34
        }
      },
      "source": [
        "# TF-IDF weighted Word2Vec in training\n",
        "\n",
        "tfidf_feat = tfidf_vect.get_feature_names() \n",
        "\n",
        "tfidf_sent_vectors_train = []\n",
        "row=0;\n",
        "\n",
        "for sent in tqdm(list_of_sent_train): \n",
        "    sent_vec = np.zeros(50) \n",
        "    weight_sum =0\n",
        "\n",
        "    for word in sent: \n",
        "        if word in w2v_words and word in tfidf_feat:\n",
        "            vec = w2v_model.wv[word]\n",
        "            tf_idf = dictionary[word]*(sent.count(word)/len(sent))\n",
        "\n",
        "            sent_vec += (vec * tf_idf)\n",
        "            weight_sum += tf_idf\n",
        "\n",
        "    if weight_sum != 0:\n",
        "        sent_vec /= weight_sum\n",
        "    tfidf_sent_vectors_train.append(sent_vec)\n",
        "    row += 1"
      ],
      "execution_count": 112,
      "outputs": [
        {
          "output_type": "stream",
          "text": [
            "100%|██████████| 100000/100000 [08:35<00:00, 193.97it/s]\n"
          ],
          "name": "stderr"
        }
      ]
    },
    {
      "cell_type": "code",
      "metadata": {
        "id": "LkhFEv-uJ8XA",
        "colab_type": "code",
        "outputId": "64a7b544-2b23-4ca2-88e9-bdb9f342cb0e",
        "colab": {
          "base_uri": "https://localhost:8080/",
          "height": 34
        }
      },
      "source": [
        "# TF-IDF weighted Word2Vec in testing\n",
        "\n",
        "tfidf_feat = tfidf_vect.get_feature_names() \n",
        "\n",
        "tfidf_sent_vectors_test = []\n",
        "row=0\n",
        "\n",
        "for sent in tqdm(list_of_sent_test): \n",
        "    sent_vec = np.zeros(50)\n",
        "    weight_sum =0\n",
        "    for word in sent: \n",
        "        if word in w2v_words and word in tfidf_feat:\n",
        "            vec = w2v_model.wv[word]\n",
        "            tf_idf = dictionary[word]*(sent.count(word)/len(sent))\n",
        "\n",
        "            sent_vec += (vec * tf_idf)\n",
        "            weight_sum += tf_idf\n",
        "            \n",
        "    if weight_sum != 0:\n",
        "        sent_vec /= weight_sum\n",
        "    tfidf_sent_vectors_test.append(sent_vec)\n",
        "    row += 1"
      ],
      "execution_count": 113,
      "outputs": [
        {
          "output_type": "stream",
          "text": [
            "100%|██████████| 50000/50000 [04:39<00:00, 179.14it/s]\n"
          ],
          "name": "stderr"
        }
      ]
    },
    {
      "cell_type": "code",
      "metadata": {
        "id": "plM7cqvkJ8U5",
        "colab_type": "code",
        "colab": {}
      },
      "source": [
        "# SVM with BOW"
      ],
      "execution_count": 0,
      "outputs": []
    },
    {
      "cell_type": "code",
      "metadata": {
        "id": "XNMJyapgpLr_",
        "colab_type": "code",
        "outputId": "2cca31e2-a650-4094-824f-d87cf374ae45",
        "colab": {
          "base_uri": "https://localhost:8080/",
          "height": 272
        }
      },
      "source": [
        "!pip install scikit-plot"
      ],
      "execution_count": 115,
      "outputs": [
        {
          "output_type": "stream",
          "text": [
            "Collecting scikit-plot\n",
            "  Downloading https://files.pythonhosted.org/packages/7c/47/32520e259340c140a4ad27c1b97050dd3254fdc517b1d59974d47037510e/scikit_plot-0.3.7-py3-none-any.whl\n",
            "Requirement already satisfied: scikit-learn>=0.18 in /usr/local/lib/python3.6/dist-packages (from scikit-plot) (0.22.1)\n",
            "Requirement already satisfied: joblib>=0.10 in /usr/local/lib/python3.6/dist-packages (from scikit-plot) (0.14.1)\n",
            "Requirement already satisfied: matplotlib>=1.4.0 in /usr/local/lib/python3.6/dist-packages (from scikit-plot) (3.1.3)\n",
            "Requirement already satisfied: scipy>=0.9 in /usr/local/lib/python3.6/dist-packages (from scikit-plot) (1.4.1)\n",
            "Requirement already satisfied: numpy>=1.11.0 in /usr/local/lib/python3.6/dist-packages (from scikit-learn>=0.18->scikit-plot) (1.17.5)\n",
            "Requirement already satisfied: pyparsing!=2.0.4,!=2.1.2,!=2.1.6,>=2.0.1 in /usr/local/lib/python3.6/dist-packages (from matplotlib>=1.4.0->scikit-plot) (2.4.6)\n",
            "Requirement already satisfied: python-dateutil>=2.1 in /usr/local/lib/python3.6/dist-packages (from matplotlib>=1.4.0->scikit-plot) (2.6.1)\n",
            "Requirement already satisfied: cycler>=0.10 in /usr/local/lib/python3.6/dist-packages (from matplotlib>=1.4.0->scikit-plot) (0.10.0)\n",
            "Requirement already satisfied: kiwisolver>=1.0.1 in /usr/local/lib/python3.6/dist-packages (from matplotlib>=1.4.0->scikit-plot) (1.1.0)\n",
            "Requirement already satisfied: six>=1.5 in /usr/local/lib/python3.6/dist-packages (from python-dateutil>=2.1->matplotlib>=1.4.0->scikit-plot) (1.12.0)\n",
            "Requirement already satisfied: setuptools in /usr/local/lib/python3.6/dist-packages (from kiwisolver>=1.0.1->matplotlib>=1.4.0->scikit-plot) (45.2.0)\n",
            "Installing collected packages: scikit-plot\n",
            "Successfully installed scikit-plot-0.3.7\n"
          ],
          "name": "stdout"
        }
      ]
    },
    {
      "cell_type": "code",
      "metadata": {
        "id": "4zrYCfLppO1O",
        "colab_type": "code",
        "colab": {}
      },
      "source": [
        "import scikitplot as skplt"
      ],
      "execution_count": 0,
      "outputs": []
    },
    {
      "cell_type": "code",
      "metadata": {
        "id": "NXZRyaLR5LsB",
        "colab_type": "code",
        "colab": {}
      },
      "source": [
        "X_train = X_train_BOW\n",
        "X_test = X_test_BOW"
      ],
      "execution_count": 0,
      "outputs": []
    },
    {
      "cell_type": "code",
      "metadata": {
        "id": "D__xrwpkJ8Sp",
        "colab_type": "code",
        "colab": {}
      },
      "source": [
        "# #Standardising the train and test data\n",
        "# sc = StandardScaler(copy = True , with_mean = False , with_std = True)\n",
        "# X_train = sc.fit_transform(X_train_BOW)\n",
        "# X_test = sc.transform(X_test_BOW)"
      ],
      "execution_count": 0,
      "outputs": []
    },
    {
      "cell_type": "code",
      "metadata": {
        "id": "efAVOdSkdgrx",
        "colab_type": "code",
        "outputId": "c4382c8a-de8d-4857-a652-cd03ba4a4871",
        "colab": {
          "base_uri": "https://localhost:8080/",
          "height": 187
        }
      },
      "source": [
        "max_depths = [2,4,6,9,11]\n",
        "base_learners = [1, 5, 10, 50, 100]\n",
        "param_grid = {'max_depth': max_depths,'n_estimators':base_learners}\n",
        "\n",
        "\n",
        "model = GridSearchCV(RandomForestClassifier(class_weight='balanced'), param_grid, return_train_score = True , scoring = 'roc_auc', cv=3 , n_jobs = -1)\n",
        "model.fit(X_train, y_train)\n",
        "print(\"Model with best parameters :\\n\",model.best_estimator_)\n",
        "print(\"Accuracy of the model : \",model.score(X_train, y_train))"
      ],
      "execution_count": 119,
      "outputs": [
        {
          "output_type": "stream",
          "text": [
            "Model with best parameters :\n",
            " RandomForestClassifier(bootstrap=True, ccp_alpha=0.0, class_weight='balanced',\n",
            "                       criterion='gini', max_depth=11, max_features='auto',\n",
            "                       max_leaf_nodes=None, max_samples=None,\n",
            "                       min_impurity_decrease=0.0, min_impurity_split=None,\n",
            "                       min_samples_leaf=1, min_samples_split=2,\n",
            "                       min_weight_fraction_leaf=0.0, n_estimators=100,\n",
            "                       n_jobs=None, oob_score=False, random_state=None,\n",
            "                       verbose=0, warm_start=False)\n",
            "Accuracy of the model :  0.9188624508889647\n"
          ],
          "name": "stdout"
        }
      ]
    },
    {
      "cell_type": "code",
      "metadata": {
        "id": "lHYV_-4xJ8OW",
        "colab_type": "code",
        "colab": {}
      },
      "source": [
        "dataframe = pd.DataFrame(model.cv_results_) "
      ],
      "execution_count": 0,
      "outputs": []
    },
    {
      "cell_type": "code",
      "metadata": {
        "id": "IGwTcIM0J8EB",
        "colab_type": "code",
        "outputId": "f322386d-a1f4-4aec-e4bd-bbf72ad16e19",
        "colab": {
          "base_uri": "https://localhost:8080/",
          "height": 731
        }
      },
      "source": [
        "# Train Data Auc Score Vs hyperparameter Heatmap\n",
        "max_scores = dataframe.groupby(['param_max_depth' , 'param_n_estimators']).max()\n",
        "max_scores = max_scores.unstack()[['mean_test_score', 'mean_train_score']]\n",
        "plt.figure(figsize=(15 , 12))\n",
        "sns.heatmap(max_scores.mean_train_score*100 , annot=True , fmt='.4g' , cmap = 'Greys')\n",
        "ax = plt.axes()\n",
        "ax.set_title('AUC Score Train data')\n",
        "plt.show()"
      ],
      "execution_count": 121,
      "outputs": [
        {
          "output_type": "display_data",
          "data": {
            "image/png": "[encoded data removed]",
            "text/plain": [
              "<Figure size 1080x864 with 2 Axes>"
            ]
          },
          "metadata": {
            "tags": []
          }
        }
      ]
    },
    {
      "cell_type": "code",
      "metadata": {
        "id": "vtoXhmurJ8BX",
        "colab_type": "code",
        "outputId": "9d7bba43-713a-41ef-b8a5-790553939fe1",
        "colab": {
          "base_uri": "https://localhost:8080/",
          "height": 731
        }
      },
      "source": [
        "# CV Data Auc Score Vs hyperparameter Heatmap\n",
        "max_scores = dataframe.groupby(['param_max_depth',  'param_n_estimators']).max()\n",
        "max_scores = max_scores.unstack()[['mean_test_score', 'mean_train_score']]\n",
        "plt.figure(figsize=(15 , 12))\n",
        "sns.heatmap(max_scores.mean_test_score*100, annot=True, fmt='.4g' , cmap = 'Purples')\n",
        "ax = plt.axes()\n",
        "ax.set_title('AUC Score Data Heatmap')\n",
        "plt.show()"
      ],
      "execution_count": 122,
      "outputs": [
        {
          "output_type": "display_data",
          "data": {
            "image/png": "[encoded data removed]",
            "text/plain": [
              "<Figure size 1080x864 with 2 Axes>"
            ]
          },
          "metadata": {
            "tags": []
          }
        }
      ]
    },
    {
      "cell_type": "code",
      "metadata": {
        "id": "RGu1Ilg6J7-f",
        "colab_type": "code",
        "colab": {}
      },
      "source": [
        "optimal_depth = 11\n",
        "optimal_estimators = 100"
      ],
      "execution_count": 0,
      "outputs": []
    },
    {
      "cell_type": "code",
      "metadata": {
        "id": "b5Q8LNMkJ77J",
        "colab_type": "code",
        "outputId": "b4a31673-f650-4674-f8ab-5ef21be655a7",
        "colab": {
          "base_uri": "https://localhost:8080/",
          "height": 641
        }
      },
      "source": [
        "lr = RandomForestClassifier(n_estimators = optimal_estimators, max_depth=optimal_depth, class_weight='balanced')\n",
        "lr.fit(X_train_BOW,y_train)\n",
        "pred = lr.predict(X_test_BOW)\n",
        "\n",
        "print(\"***Test Data Report***\")\n",
        "print(\"Best max_depth = \",optimal_depth)\n",
        "print(\"Best Base Learners = \",optimal_estimators)\n",
        "fpr, tpr, threshold = metrics.roc_curve(y_test, lr.predict_proba(X_test)[:,1],pos_label=\"positive\")\n",
        "auc = metrics.auc(fpr, tpr)\n",
        "print(\"AUC = \",auc*100)\n",
        "skplt.metrics.plot_confusion_matrix(y_test, pred)\n",
        "plt.show()\n",
        "\n",
        "\n",
        "\n",
        "fpr, tpr, threshold = metrics.roc_curve(y_test, lr.predict_proba(X_test)[:,1],pos_label=\"positive\")\n",
        "fpr2, tpr2, threshold2 = metrics.roc_curve(y_train, lr.predict_proba(X_train)[:,1],pos_label=\"positive\")\n",
        "\n",
        "roc_auc = metrics.auc(fpr, tpr)\n",
        "roc_auc2 = metrics.auc(fpr2, tpr2)\n",
        "\n",
        "# method I: plt\n",
        "import matplotlib.pyplot as plt\n",
        "f, ax = plt.subplots()\n",
        "plt.title('Receiver Operating Characteristic Curve')\n",
        "cy = cycler('color', ['red', 'green', 'blue'])\n",
        "ax.set_prop_cycle(cy)\n",
        "ax.plot(fpr, tpr, label = 'AUC = %0.2f' % roc_auc)\n",
        "ax.plot(fpr2, tpr2, label = 'AUC = %0.2f' % roc_auc2)\n",
        "plt.legend(['TEST Data', 'TRAIN Data'],loc = 'lower right')\n",
        "\n",
        "ax.plot([0, 1], [0, 1])\n",
        "plt.xlim([0, 1])\n",
        "plt.ylim([0, 1])\n",
        "plt.ylabel('True Positive Rate')\n",
        "plt.xlabel('False Positive Rate')\n",
        "plt.show()"
      ],
      "execution_count": 124,
      "outputs": [
        {
          "output_type": "stream",
          "text": [
            "***Test Data Report***\n",
            "Best max_depth =  11\n",
            "Best Base Learners =  100\n",
            "AUC =  89.51775277345455\n"
          ],
          "name": "stdout"
        },
        {
          "output_type": "display_data",
          "data": {
            "image/png": "[encoded data removed]",
            "text/plain": [
              "<Figure size 432x288 with 2 Axes>"
            ]
          },
          "metadata": {
            "tags": []
          }
        },
        {
          "output_type": "display_data",
          "data": {
            "image/png": "[encoded data removed]",
            "text/plain": [
              "<Figure size 432x288 with 1 Axes>"
            ]
          },
          "metadata": {
            "tags": []
          }
        }
      ]
    },
    {
      "cell_type": "code",
      "metadata": {
        "id": "oT-p6etlJ711",
        "colab_type": "code",
        "colab": {}
      },
      "source": [
        "#Top 20 Positive features\n",
        "feature_name = count_vect.get_feature_names()\n",
        "w = lr.feature_importances_ \n",
        "weight=w.reshape(-1)\n",
        "sorted_feature = np.argsort(weight)\n",
        "top_20_positive_feature=sorted_feature[:-20:-1]"
      ],
      "execution_count": 0,
      "outputs": []
    },
    {
      "cell_type": "code",
      "metadata": {
        "id": "WTGHgjURJ7z6",
        "colab_type": "code",
        "outputId": "1fd09bbf-e36a-432f-d037-4debe387efe9",
        "colab": {
          "base_uri": "https://localhost:8080/",
          "height": 374
        }
      },
      "source": [
        "top_feature_names = []\n",
        "print(\"Top 20 features :\")\n",
        "print(\"-------\")\n",
        "for i in top_20_positive_feature:\n",
        "    print(\"%s\\t-->\\t%f\"%(feature_name[i],weight[i]))\n",
        "    top_feature_names.append(feature_name[i])"
      ],
      "execution_count": 126,
      "outputs": [
        {
          "output_type": "stream",
          "text": [
            "Top 20 features :\n",
            "-------\n",
            "great\t-->\t0.062114\n",
            "love\t-->\t0.048421\n",
            "best\t-->\t0.041555\n",
            "disappoint\t-->\t0.038227\n",
            "delici\t-->\t0.021249\n",
            "money\t-->\t0.021219\n",
            "wast\t-->\t0.019988\n",
            "bad\t-->\t0.018424\n",
            "thought\t-->\t0.017801\n",
            "would\t-->\t0.017535\n",
            "favorit\t-->\t0.016444\n",
            "didnt\t-->\t0.016378\n",
            "easi\t-->\t0.016154\n",
            "product\t-->\t0.013335\n",
            "terribl\t-->\t0.012229\n",
            "aw\t-->\t0.012054\n",
            "return\t-->\t0.011966\n",
            "horribl\t-->\t0.011656\n",
            "perfect\t-->\t0.011502\n"
          ],
          "name": "stdout"
        }
      ]
    },
    {
      "cell_type": "code",
      "metadata": {
        "id": "I5TgIcm3J7xb",
        "colab_type": "code",
        "outputId": "c52347be-e591-416d-e055-fda9aa0b2360",
        "colab": {
          "base_uri": "https://localhost:8080/",
          "height": 366
        }
      },
      "source": [
        "#convert list to string and generate\n",
        "unique_string=(\" \").join(top_feature_names)\n",
        "wordcloud = WordCloud(width = 1000, height = 400,background_color ='black').generate(unique_string)\n",
        "plt.figure(figsize = (15, 12), facecolor = None) \n",
        "plt.imshow(wordcloud)\n",
        "plt.axis(\"off\")\n",
        "plt.savefig(\"your_file_name\"+\".png\", bbox_inches='tight')\n",
        "plt.show()\n",
        "plt.close()"
      ],
      "execution_count": 127,
      "outputs": [
        {
          "output_type": "display_data",
          "data": {
            "image/png": "[encoded data removed]",
            "text/plain": [
              "<Figure size 1080x864 with 1 Axes>"
            ]
          },
          "metadata": {
            "tags": []
          }
        }
      ]
    },
    {
      "cell_type": "code",
      "metadata": {
        "id": "t5AHrOhiJ7t1",
        "colab_type": "code",
        "colab": {}
      },
      "source": [
        "## Random Forest on Tf-idf"
      ],
      "execution_count": 0,
      "outputs": []
    },
    {
      "cell_type": "code",
      "metadata": {
        "id": "NIht_I6KNuIa",
        "colab_type": "code",
        "colab": {}
      },
      "source": [
        "X_train = X_train_tfidf\n",
        "X_test = X_test_tfidf"
      ],
      "execution_count": 0,
      "outputs": []
    },
    {
      "cell_type": "code",
      "metadata": {
        "id": "Zwd398wIJ7l7",
        "colab_type": "code",
        "outputId": "d41eb79a-b204-477c-998e-505b3a3e10a1",
        "colab": {
          "base_uri": "https://localhost:8080/",
          "height": 187
        }
      },
      "source": [
        "max_depths = [2,4,6,9,11]\n",
        "base_learners = [1, 5, 10, 50, 100]\n",
        "param_grid = {'max_depth': max_depths,'n_estimators':base_learners}\n",
        "\n",
        "\n",
        "model = GridSearchCV(RandomForestClassifier(class_weight='balanced'), param_grid, scoring = 'roc_auc', cv=3 , n_jobs = -1 , return_train_score = True )\n",
        "model.fit(X_train, y_train)\n",
        "print(\"Model with best parameters :\\n\",model.best_estimator_)\n",
        "print(\"Accuracy of the model : \",model.score(X_train, y_train))"
      ],
      "execution_count": 130,
      "outputs": [
        {
          "output_type": "stream",
          "text": [
            "Model with best parameters :\n",
            " RandomForestClassifier(bootstrap=True, ccp_alpha=0.0, class_weight='balanced',\n",
            "                       criterion='gini', max_depth=11, max_features='auto',\n",
            "                       max_leaf_nodes=None, max_samples=None,\n",
            "                       min_impurity_decrease=0.0, min_impurity_split=None,\n",
            "                       min_samples_leaf=1, min_samples_split=2,\n",
            "                       min_weight_fraction_leaf=0.0, n_estimators=100,\n",
            "                       n_jobs=None, oob_score=False, random_state=None,\n",
            "                       verbose=0, warm_start=False)\n",
            "Accuracy of the model :  0.9200871785911175\n"
          ],
          "name": "stdout"
        }
      ]
    },
    {
      "cell_type": "code",
      "metadata": {
        "id": "LttLJq78J7kH",
        "colab_type": "code",
        "outputId": "fb874b7f-1b09-4223-de23-08a7247cdbc8",
        "colab": {
          "base_uri": "https://localhost:8080/",
          "height": 731
        }
      },
      "source": [
        "# Train Data Auc Score Vs hyperparameter Heatmap\n",
        "max_scores = dataframe.groupby(['param_max_depth', \n",
        "                                    'param_n_estimators']).max()\n",
        "max_scores = max_scores.unstack()[['mean_test_score', 'mean_train_score']]\n",
        "plt.figure(figsize = (15 , 12))\n",
        "sns.heatmap(max_scores.mean_train_score*100, annot=True, fmt='.4g' , cmap = 'Greens')\n",
        "ax = plt.axes()\n",
        "ax.set_title('AUC Score Train data')\n",
        "plt.show()"
      ],
      "execution_count": 131,
      "outputs": [
        {
          "output_type": "display_data",
          "data": {
            "image/png": "[encoded data removed]",
            "text/plain": [
              "<Figure size 1080x864 with 2 Axes>"
            ]
          },
          "metadata": {
            "tags": []
          }
        }
      ]
    },
    {
      "cell_type": "code",
      "metadata": {
        "id": "AFDrd6_r_gFQ",
        "colab_type": "code",
        "outputId": "6ad26502-f24c-421a-9c4f-82b00f689c75",
        "colab": {
          "base_uri": "https://localhost:8080/",
          "height": 731
        }
      },
      "source": [
        "# CV Data Auc Score Vs hyperparameter Heatmap\n",
        "max_scores = dataframe.groupby(['param_max_depth', \n",
        "                                    'param_n_estimators']).max()\n",
        "max_scores = max_scores.unstack()[['mean_test_score', 'mean_train_score']]\n",
        "plt.figure(figsize = (15 , 12))\n",
        "sns.heatmap(max_scores.mean_test_score*100, annot=True, fmt='.4g' , cmap = 'YlOrBr')\n",
        "ax = plt.axes()\n",
        "ax.set_title('AUC Score Data Heatmap')\n",
        "plt.show()"
      ],
      "execution_count": 132,
      "outputs": [
        {
          "output_type": "display_data",
          "data": {
            "image/png": "[encoded data removed]",
            "text/plain": [
              "<Figure size 1080x864 with 2 Axes>"
            ]
          },
          "metadata": {
            "tags": []
          }
        }
      ]
    },
    {
      "cell_type": "code",
      "metadata": {
        "id": "eCX71LXvJ7gN",
        "colab_type": "code",
        "colab": {}
      },
      "source": [
        "optimal_depth = 11\n",
        "optimal_estimators = 100"
      ],
      "execution_count": 0,
      "outputs": []
    },
    {
      "cell_type": "code",
      "metadata": {
        "id": "_JRon6o3J7c0",
        "colab_type": "code",
        "outputId": "20c0ae8f-87dd-48f3-acf3-903942f75ada",
        "colab": {
          "base_uri": "https://localhost:8080/",
          "height": 641
        }
      },
      "source": [
        "lr = RandomForestClassifier(n_estimators=optimal_estimators, max_depth=optimal_depth, class_weight='balanced')\n",
        "lr.fit(X_train,y_train)\n",
        "pred = lr.predict(X_test)\n",
        "\n",
        "print(\"***Test Data Report***\")\n",
        "print(\"Best max_depth = \",optimal_depth)\n",
        "print(\"Best Base Learners = \",optimal_estimators)\n",
        "fpr, tpr, threshold = metrics.roc_curve(y_test, lr.predict_proba(X_test)[:,1],pos_label=\"positive\")\n",
        "auc = metrics.auc(fpr, tpr)\n",
        "print(\"AUC = \",auc*100)\n",
        "skplt.metrics.plot_confusion_matrix(y_test, pred)\n",
        "plt.show()\n",
        "\n",
        "\n",
        "\n",
        "fpr, tpr, threshold = metrics.roc_curve(y_test, lr.predict_proba(X_test)[:,1],pos_label=\"positive\")\n",
        "fpr2, tpr2, threshold2 = metrics.roc_curve(y_train, lr.predict_proba(X_train)[:,1],pos_label=\"positive\")\n",
        "\n",
        "roc_auc = metrics.auc(fpr, tpr)\n",
        "roc_auc2 = metrics.auc(fpr2, tpr2)\n",
        "\n",
        "# method I: plt\n",
        "import matplotlib.pyplot as plt\n",
        "f, ax = plt.subplots()\n",
        "plt.title('Receiver Operating Characteristic Curve')\n",
        "cy = cycler('color', ['red', 'green', 'blue'])\n",
        "ax.set_prop_cycle(cy)\n",
        "ax.plot(fpr, tpr, label = 'AUC = %0.2f' % roc_auc)\n",
        "ax.plot(fpr2, tpr2, label = 'AUC = %0.2f' % roc_auc2)\n",
        "plt.legend(['TEST Data', 'TRAIN Data'],loc = 'lower right')\n",
        "\n",
        "ax.plot([0, 1], [0, 1])\n",
        "plt.xlim([0, 1])\n",
        "plt.ylim([0, 1])\n",
        "plt.ylabel('True Positive Rate')\n",
        "plt.xlabel('False Positive Rate')\n",
        "plt.show()"
      ],
      "execution_count": 134,
      "outputs": [
        {
          "output_type": "stream",
          "text": [
            "***Test Data Report***\n",
            "Best max_depth =  11\n",
            "Best Base Learners =  100\n",
            "AUC =  89.57953006053317\n"
          ],
          "name": "stdout"
        },
        {
          "output_type": "display_data",
          "data": {
            "image/png": "[encoded data removed]",
            "text/plain": [
              "<Figure size 432x288 with 2 Axes>"
            ]
          },
          "metadata": {
            "tags": []
          }
        },
        {
          "output_type": "display_data",
          "data": {
            "image/png": "[encoded data removed]",
            "text/plain": [
              "<Figure size 432x288 with 1 Axes>"
            ]
          },
          "metadata": {
            "tags": []
          }
        }
      ]
    },
    {
      "cell_type": "code",
      "metadata": {
        "id": "2yzVMwpPJ7XK",
        "colab_type": "code",
        "colab": {}
      },
      "source": [
        "# Top 20 important features\n",
        "feature_name = tf_idf_vect.get_feature_names()\n",
        "w = lr.feature_importances_ \n",
        "weight=w.reshape(-1)\n",
        "sorted_feature = np.argsort(weight)\n",
        "top_20_positive_feature=sorted_feature[:-20:-1]"
      ],
      "execution_count": 0,
      "outputs": []
    },
    {
      "cell_type": "code",
      "metadata": {
        "id": "xfgbQ1GNJ7Pg",
        "colab_type": "code",
        "outputId": "c9cdb0ba-f44c-468b-d32b-7f55cc420844",
        "colab": {
          "base_uri": "https://localhost:8080/",
          "height": 374
        }
      },
      "source": [
        "top_feature_names = []\n",
        "print(\"Top 20 features :\")\n",
        "print(\"-------\")\n",
        "for i in top_20_positive_feature:\n",
        "    print(\"%s\\t-->\\t%f\"%(feature_name[i],weight[i]))\n",
        "    top_feature_names.append(feature_name[i])"
      ],
      "execution_count": 136,
      "outputs": [
        {
          "output_type": "stream",
          "text": [
            "Top 20 features :\n",
            "-------\n",
            "great\t-->\t0.062450\n",
            "best\t-->\t0.050081\n",
            "love\t-->\t0.044014\n",
            "bad\t-->\t0.030061\n",
            "money\t-->\t0.023892\n",
            "delici\t-->\t0.022445\n",
            "perfect\t-->\t0.021284\n",
            "disappoint\t-->\t0.021163\n",
            "return\t-->\t0.020933\n",
            "favorit\t-->\t0.017987\n",
            "aw\t-->\t0.016548\n",
            "would\t-->\t0.016533\n",
            "easi\t-->\t0.016396\n",
            "wast\t-->\t0.015780\n",
            "excel\t-->\t0.015709\n",
            "worst\t-->\t0.015346\n",
            "horribl\t-->\t0.014603\n",
            "threw\t-->\t0.013568\n",
            "receiv\t-->\t0.012959\n"
          ],
          "name": "stdout"
        }
      ]
    },
    {
      "cell_type": "code",
      "metadata": {
        "id": "L7g2KT55J7MX",
        "colab_type": "code",
        "outputId": "4f39a123-4c89-4a8b-f1f8-173ff3c1dbee",
        "colab": {
          "base_uri": "https://localhost:8080/",
          "height": 366
        }
      },
      "source": [
        "#convert list to string and generate\n",
        "unique_string=(\" \").join(top_feature_names)\n",
        "wordcloud = WordCloud(width = 1000, height = 400,background_color ='grey').generate(unique_string)\n",
        "plt.figure(figsize = (15 , 12), facecolor = None) \n",
        "plt.imshow(wordcloud)\n",
        "plt.axis(\"off\")\n",
        "plt.savefig(\"your_file_name\"+\".png\", bbox_inches='tight')\n",
        "plt.show()\n",
        "plt.close()"
      ],
      "execution_count": 137,
      "outputs": [
        {
          "output_type": "display_data",
          "data": {
            "image/png": "[encoded data removed]",
            "text/plain": [
              "<Figure size 1080x864 with 1 Axes>"
            ]
          },
          "metadata": {
            "tags": []
          }
        }
      ]
    },
    {
      "cell_type": "code",
      "metadata": {
        "id": "nfd_IgDLJ7KX",
        "colab_type": "code",
        "colab": {}
      },
      "source": [
        "## Random Forest on AVG-W2V"
      ],
      "execution_count": 0,
      "outputs": []
    },
    {
      "cell_type": "code",
      "metadata": {
        "id": "M6nTXy4zJ7G3",
        "colab_type": "code",
        "colab": {}
      },
      "source": [
        "X_train = sent_vectors_train\n",
        "X_test = sent_vectors_test"
      ],
      "execution_count": 0,
      "outputs": []
    },
    {
      "cell_type": "code",
      "metadata": {
        "id": "wwRDG-lmJ7DR",
        "colab_type": "code",
        "colab": {
          "base_uri": "https://localhost:8080/",
          "height": 187
        },
        "outputId": "ba07b3f6-4b98-42f6-8ae9-08511320b8cf"
      },
      "source": [
        "max_depths = [2,4,6,9,11]\n",
        "base_learners = [1, 5, 10, 50, 100]\n",
        "param_grid = {'max_depth': max_depths,'n_estimators':base_learners}\n",
        "\n",
        "\n",
        "model = GridSearchCV(RandomForestClassifier(class_weight='balanced'), param_grid, scoring = 'roc_auc', cv=3 , n_jobs = -1 , return_train_score=True)\n",
        "model.fit(X_train, y_train)\n",
        "print(\"Model with best parameters :\\n\",model.best_estimator_)\n",
        "print(\"Accuracy of the model : \",model.score(X_train, y_train))"
      ],
      "execution_count": 140,
      "outputs": [
        {
          "output_type": "stream",
          "text": [
            "Model with best parameters :\n",
            " RandomForestClassifier(bootstrap=True, ccp_alpha=0.0, class_weight='balanced',\n",
            "                       criterion='gini', max_depth=11, max_features='auto',\n",
            "                       max_leaf_nodes=None, max_samples=None,\n",
            "                       min_impurity_decrease=0.0, min_impurity_split=None,\n",
            "                       min_samples_leaf=1, min_samples_split=2,\n",
            "                       min_weight_fraction_leaf=0.0, n_estimators=100,\n",
            "                       n_jobs=None, oob_score=False, random_state=None,\n",
            "                       verbose=0, warm_start=False)\n",
            "Accuracy of the model :  0.9607052131454684\n"
          ],
          "name": "stdout"
        }
      ]
    },
    {
      "cell_type": "code",
      "metadata": {
        "id": "0J1L8bErJ7Be",
        "colab_type": "code",
        "colab": {}
      },
      "source": [
        "dataframe = pd.DataFrame(model.cv_results_)"
      ],
      "execution_count": 0,
      "outputs": []
    },
    {
      "cell_type": "code",
      "metadata": {
        "id": "UOkeTdKdJ6_p",
        "colab_type": "code",
        "colab": {
          "base_uri": "https://localhost:8080/",
          "height": 731
        },
        "outputId": "c9edf949-f3da-4ced-9b34-24b443a7f834"
      },
      "source": [
        "# Train Data Auc Score Vs hyperparameter Heatmap\n",
        "max_scores = dataframe.groupby(['param_max_depth', \n",
        "                                    'param_n_estimators']).max()\n",
        "max_scores = max_scores.unstack()[['mean_test_score', 'mean_train_score']]\n",
        "plt.figure(figsize = (15 , 12))\n",
        "sns.heatmap(max_scores.mean_train_score*100, annot=True, fmt='.4g' , cmap = 'PuRd')\n",
        "ax = plt.axes()\n",
        "ax.set_title('AUC Score Train data')\n",
        "plt.show()"
      ],
      "execution_count": 142,
      "outputs": [
        {
          "output_type": "display_data",
          "data": {
            "image/png": "[encoded data removed]",
            "text/plain": [
              "<Figure size 1080x864 with 2 Axes>"
            ]
          },
          "metadata": {
            "tags": []
          }
        }
      ]
    },
    {
      "cell_type": "code",
      "metadata": {
        "id": "4hgEo03vJ692",
        "colab_type": "code",
        "colab": {
          "base_uri": "https://localhost:8080/",
          "height": 731
        },
        "outputId": "c9e7971f-6470-4ac9-b5ba-dcb44f68aa79"
      },
      "source": [
        "# CV Data Auc Score Vs hyperparameter Heatmap\n",
        "max_scores = dataframe.groupby(['param_max_depth', \n",
        "                                    'param_n_estimators']).max()\n",
        "max_scores = max_scores.unstack()[['mean_test_score', 'mean_train_score']]\n",
        "plt.figure(figsize = (15 , 12))\n",
        "sns.heatmap(max_scores.mean_test_score*100, annot=True, fmt='.4g' , cmap = 'BuPu')\n",
        "ax = plt.axes()\n",
        "ax.set_title('AUC Score Data Heatmap')\n",
        "plt.show()"
      ],
      "execution_count": 143,
      "outputs": [
        {
          "output_type": "display_data",
          "data": {
            "image/png": "[encoded data removed]",
            "text/plain": [
              "<Figure size 1080x864 with 2 Axes>"
            ]
          },
          "metadata": {
            "tags": []
          }
        }
      ]
    },
    {
      "cell_type": "code",
      "metadata": {
        "id": "BDN5JfOnJ67n",
        "colab_type": "code",
        "colab": {}
      },
      "source": [
        "optimal_depth = 11\n",
        "optimal_estimators = 100"
      ],
      "execution_count": 0,
      "outputs": []
    },
    {
      "cell_type": "code",
      "metadata": {
        "id": "lEg0-PNsJ63U",
        "colab_type": "code",
        "colab": {
          "base_uri": "https://localhost:8080/",
          "height": 641
        },
        "outputId": "ba37a527-5e6e-49d3-c8c2-7a3029b75951"
      },
      "source": [
        "lr = RandomForestClassifier(n_estimators=optimal_estimators, max_depth=optimal_depth, class_weight='balanced')\n",
        "lr.fit(X_train,y_train)\n",
        "pred = lr.predict(X_test)\n",
        "\n",
        "print(\"***Test Data Report***\")\n",
        "print(\"Best max_depth = \",optimal_depth)\n",
        "print(\"Best Base Learners = \",optimal_estimators)\n",
        "fpr, tpr, threshold = metrics.roc_curve(y_test, lr.predict_proba(X_test)[:,1],pos_label=\"positive\")\n",
        "auc = metrics.auc(fpr, tpr)\n",
        "print(\"AUC = \",auc*100)\n",
        "skplt.metrics.plot_confusion_matrix(y_test, pred)\n",
        "plt.show()\n",
        "\n",
        "fpr, tpr, threshold = metrics.roc_curve(y_test, lr.predict_proba(X_test)[:,1],pos_label=\"positive\")\n",
        "fpr2, tpr2, threshold2 = metrics.roc_curve(y_train, lr.predict_proba(X_train)[:,1],pos_label=\"positive\")\n",
        "\n",
        "roc_auc = metrics.auc(fpr, tpr)\n",
        "roc_auc2 = metrics.auc(fpr2, tpr2)\n",
        "\n",
        "# method I: plt\n",
        "import matplotlib.pyplot as plt\n",
        "f, ax = plt.subplots()\n",
        "plt.title('Receiver Operating Characteristic Curve')\n",
        "cy = cycler('color', ['red', 'green', 'blue'])\n",
        "ax.set_prop_cycle(cy)\n",
        "ax.plot(fpr, tpr, label = 'AUC = %0.2f' % roc_auc)\n",
        "ax.plot(fpr2, tpr2, label = 'AUC = %0.2f' % roc_auc2)\n",
        "plt.legend(['TEST Data', 'TRAIN Data'],loc = 'lower right')\n",
        "\n",
        "ax.plot([0, 1], [0, 1])\n",
        "plt.xlim([0, 1])\n",
        "plt.ylim([0, 1])\n",
        "plt.ylabel('True Positive Rate')\n",
        "plt.xlabel('False Positive Rate')\n",
        "plt.show()"
      ],
      "execution_count": 145,
      "outputs": [
        {
          "output_type": "stream",
          "text": [
            "***Test Data Report***\n",
            "Best max_depth =  11\n",
            "Best Base Learners =  100\n",
            "AUC =  87.25378094567911\n"
          ],
          "name": "stdout"
        },
        {
          "output_type": "display_data",
          "data": {
            "image/png": "[encoded data removed]",
            "text/plain": [
              "<Figure size 432x288 with 2 Axes>"
            ]
          },
          "metadata": {
            "tags": []
          }
        },
        {
          "output_type": "display_data",
          "data": {
            "image/png": "[encoded data removed]",
            "text/plain": [
              "<Figure size 432x288 with 1 Axes>"
            ]
          },
          "metadata": {
            "tags": []
          }
        }
      ]
    },
    {
      "cell_type": "code",
      "metadata": {
        "id": "djYQIxC4J6wD",
        "colab_type": "code",
        "colab": {}
      },
      "source": [
        "## Random_Forest on Tf-idf-W2V"
      ],
      "execution_count": 0,
      "outputs": []
    },
    {
      "cell_type": "code",
      "metadata": {
        "id": "gnqPycGrJ6t-",
        "colab_type": "code",
        "colab": {}
      },
      "source": [
        "X_train = tfidf_sent_vectors_train\n",
        "X_test = tfidf_sent_vectors_test"
      ],
      "execution_count": 0,
      "outputs": []
    },
    {
      "cell_type": "code",
      "metadata": {
        "id": "3cA4owPSJ6cl",
        "colab_type": "code",
        "colab": {
          "base_uri": "https://localhost:8080/",
          "height": 187
        },
        "outputId": "5c9bc2c7-9b45-4f69-a3b1-15722d891af0"
      },
      "source": [
        "max_depths = [2,4,6,9,11]\n",
        "base_learners = [1, 5, 10, 50, 100]\n",
        "param_grid = {'max_depth': max_depths,'n_estimators':base_learners}\n",
        "\n",
        "\n",
        "model = GridSearchCV(RandomForestClassifier(class_weight='balanced'), param_grid, scoring = 'roc_auc', cv=3 , n_jobs = -1 , return_train_score = 'True')\n",
        "model.fit(X_train, y_train)\n",
        "print(\"Model with best parameters :\\n\",model.best_estimator_)\n",
        "print(\"Accuracy of the model : \",model.score(X_train, y_train))"
      ],
      "execution_count": 148,
      "outputs": [
        {
          "output_type": "stream",
          "text": [
            "Model with best parameters :\n",
            " RandomForestClassifier(bootstrap=True, ccp_alpha=0.0, class_weight='balanced',\n",
            "                       criterion='gini', max_depth=11, max_features='auto',\n",
            "                       max_leaf_nodes=None, max_samples=None,\n",
            "                       min_impurity_decrease=0.0, min_impurity_split=None,\n",
            "                       min_samples_leaf=1, min_samples_split=2,\n",
            "                       min_weight_fraction_leaf=0.0, n_estimators=100,\n",
            "                       n_jobs=None, oob_score=False, random_state=None,\n",
            "                       verbose=0, warm_start=False)\n",
            "Accuracy of the model :  0.9402220590158575\n"
          ],
          "name": "stdout"
        }
      ]
    },
    {
      "cell_type": "code",
      "metadata": {
        "id": "OxQLZeagJ6Wu",
        "colab_type": "code",
        "colab": {}
      },
      "source": [
        "dataframe = pd.DataFrame(model.cv_results_)"
      ],
      "execution_count": 0,
      "outputs": []
    },
    {
      "cell_type": "code",
      "metadata": {
        "id": "ytFxaGyZor9_",
        "colab_type": "code",
        "colab": {
          "base_uri": "https://localhost:8080/",
          "height": 731
        },
        "outputId": "3197a8d7-d7a8-4e47-90d7-0d7dc98f5fc9"
      },
      "source": [
        "# Train Data Auc Score Vs hyperparameter Heatmap\n",
        "max_scores = dataframe.groupby(['param_max_depth', \n",
        "                                    'param_n_estimators']).max()\n",
        "max_scores = max_scores.unstack()[['mean_test_score', 'mean_train_score']]\n",
        "plt.figure(figsize = (15 , 12))\n",
        "sns.heatmap(max_scores.mean_train_score*100, annot=True, fmt='.4g' , cmap = 'GnBu')\n",
        "ax = plt.axes()\n",
        "ax.set_title('AUC Score Train data')\n",
        "plt.show()"
      ],
      "execution_count": 154,
      "outputs": [
        {
          "output_type": "display_data",
          "data": {
            "image/png": "[encoded data removed]",
            "text/plain": [
              "<Figure size 1080x864 with 2 Axes>"
            ]
          },
          "metadata": {
            "tags": []
          }
        }
      ]
    },
    {
      "cell_type": "code",
      "metadata": {
        "id": "zqoCz5NFosNZ",
        "colab_type": "code",
        "colab": {
          "base_uri": "https://localhost:8080/",
          "height": 731
        },
        "outputId": "34ea2159-4cac-424f-a5ea-1d5033e8bd25"
      },
      "source": [
        "# CV Data Auc Score Vs hyperparameter Heatmap\n",
        "max_scores = dataframe.groupby(['param_max_depth', \n",
        "                                    'param_n_estimators']).max()\n",
        "max_scores = max_scores.unstack()[['mean_test_score', 'mean_train_score']]\n",
        "plt.figure(figsize = (15 , 12))\n",
        "sns.heatmap(max_scores.mean_test_score*100, annot=True, fmt='.4g' , cmap = 'YlGn')\n",
        "ax = plt.axes()\n",
        "ax.set_title('AUC Score Data Heatmap')\n",
        "plt.show()"
      ],
      "execution_count": 155,
      "outputs": [
        {
          "output_type": "display_data",
          "data": {
            "image/png": "[encoded data removed]",
            "text/plain": [
              "<Figure size 1080x864 with 2 Axes>"
            ]
          },
          "metadata": {
            "tags": []
          }
        }
      ]
    },
    {
      "cell_type": "code",
      "metadata": {
        "id": "8odqOSjfXtUz",
        "colab_type": "code",
        "colab": {}
      },
      "source": [
        "optimal_depth = 11\n",
        "optimal_estimators = 100"
      ],
      "execution_count": 0,
      "outputs": []
    },
    {
      "cell_type": "code",
      "metadata": {
        "id": "1WH0hlByostd",
        "colab_type": "code",
        "colab": {
          "base_uri": "https://localhost:8080/",
          "height": 641
        },
        "outputId": "39fda9a8-f2f4-4bff-b3a2-400c1cd6a9b6"
      },
      "source": [
        "lr = RandomForestClassifier(n_estimators=optimal_estimators, max_depth=optimal_depth, class_weight='balanced')\n",
        "lr.fit(X_train,y_train)\n",
        "pred = lr.predict(X_test)\n",
        "\n",
        "print(\"***Test Data Report***\")\n",
        "print(\"Best max_depth = \",optimal_depth)\n",
        "print(\"Best Base Learners = \",optimal_estimators)\n",
        "fpr, tpr, threshold = metrics.roc_curve(y_test, lr.predict_proba(X_test)[:,1],pos_label=\"positive\")\n",
        "auc = metrics.auc(fpr, tpr)\n",
        "print(\"AUC = \",auc*100)\n",
        "skplt.metrics.plot_confusion_matrix(y_test, pred)\n",
        "plt.show()\n",
        "\n",
        "fpr, tpr, threshold = metrics.roc_curve(y_test, lr.predict_proba(X_test)[:,1],pos_label=\"positive\")\n",
        "fpr2, tpr2, threshold2 = metrics.roc_curve(y_train, lr.predict_proba(X_train)[:,1],pos_label=\"positive\")\n",
        "\n",
        "roc_auc = metrics.auc(fpr, tpr)\n",
        "roc_auc2 = metrics.auc(fpr2, tpr2)\n",
        "\n",
        "# method I: plt\n",
        "import matplotlib.pyplot as plt\n",
        "f, ax = plt.subplots()\n",
        "plt.title('Receiver Operating Characteristic Curve')\n",
        "cy = cycler('color', ['red', 'green', 'blue'])\n",
        "ax.set_prop_cycle(cy)\n",
        "ax.plot(fpr, tpr, label = 'AUC = %0.2f' % roc_auc)\n",
        "ax.plot(fpr2, tpr2, label = 'AUC = %0.2f' % roc_auc2)\n",
        "plt.legend(['TEST Data', 'TRAIN Data'],loc = 'lower right')\n",
        "\n",
        "ax.plot([0, 1], [0, 1])\n",
        "plt.xlim([0, 1])\n",
        "plt.ylim([0, 1])\n",
        "plt.ylabel('True Positive Rate')\n",
        "plt.xlabel('False Positive Rate')\n",
        "plt.show()"
      ],
      "execution_count": 153,
      "outputs": [
        {
          "output_type": "stream",
          "text": [
            "***Test Data Report***\n",
            "Best max_depth =  11\n",
            "Best Base Learners =  100\n",
            "AUC =  79.4801234982254\n"
          ],
          "name": "stdout"
        },
        {
          "output_type": "display_data",
          "data": {
            "image/png": "[encoded data removed]",
            "text/plain": [
              "<Figure size 432x288 with 2 Axes>"
            ]
          },
          "metadata": {
            "tags": []
          }
        },
        {
          "output_type": "display_data",
          "data": {
            "image/png": "[encoded data removed]",
            "text/plain": [
              "<Figure size 432x288 with 1 Axes>"
            ]
          },
          "metadata": {
            "tags": []
          }
        }
      ]
    }
  ]
}