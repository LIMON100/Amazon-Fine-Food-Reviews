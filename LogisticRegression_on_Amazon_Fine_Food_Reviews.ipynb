{
  "nbformat": 4,
  "nbformat_minor": 0,
  "metadata": {
    "kernelspec": {
      "name": "python3",
      "display_name": "Python 3"
    },
    "language_info": {
      "codemirror_mode": {
        "name": "ipython",
        "version": 3
      },
      "file_extension": ".py",
      "mimetype": "text/x-python",
      "name": "python",
      "nbconvert_exporter": "python",
      "pygments_lexer": "ipython3",
      "version": "3.7.4"
    },
    "colab": {
      "name": "LogisticRegression on Amazon Fine Food Reviews.ipynb",
      "provenance": [],
      "collapsed_sections": []
    },
    "accelerator": "GPU"
  },
  "cells": [
    {
      "cell_type": "markdown",
      "metadata": {
        "id": "bh6-ioXpBLvT",
        "colab_type": "text"
      },
      "source": [
        "# Project : Amazon Fine Food Reviews."
      ]
    },
    {
      "cell_type": "code",
      "metadata": {
        "id": "D7g512odBLvW",
        "colab_type": "code",
        "colab": {}
      },
      "source": [
        "# import the libarys\n",
        "\n",
        "import numpy as np\n",
        "import pandas as pd\n",
        "import nltk\n",
        "import matplotlib.pyplot as plt\n",
        "import sqlite3\n",
        "import seaborn as sns\n",
        "import re\n",
        "import string\n",
        "import os\n",
        "import pickle\n",
        "\n",
        "from sklearn.feature_extraction.text import TfidfTransformer , TfidfVectorizer , CountVectorizer\n",
        "from sklearn.metrics import confusion_matrix , roc_curve\n",
        "from sklearn.model_selection import train_test_split , cross_val_score\n",
        "from sklearn.preprocessing import StandardScaler\n",
        "from sklearn.metrics import roc_curve, auc\n",
        "from sklearn.linear_model import LogisticRegression\n",
        "\n",
        "from nltk.corpus import stopwords\n",
        "from nltk.stem.porter import PorterStemmer\n",
        "from nltk.stem.wordnet import WordNetLemmatizer\n",
        "\n",
        "from gensim.models import Word2Vec , KeyedVectors\n",
        "\n",
        "from tqdm import tqdm\n",
        "\n",
        "from bs4 import BeautifulSoup\n"
      ],
      "execution_count": 0,
      "outputs": []
    },
    {
      "cell_type": "code",
      "metadata": {
        "id": "DvODNwwjBpeS",
        "colab_type": "code",
        "colab": {}
      },
      "source": [
        "!pip install -U -q PyDrive\n",
        "from pydrive.auth import GoogleAuth\n",
        "from pydrive.drive import GoogleDrive\n",
        "from google.colab import auth\n",
        "from oauth2client.client import GoogleCredentials"
      ],
      "execution_count": 0,
      "outputs": []
    },
    {
      "cell_type": "code",
      "metadata": {
        "id": "Y9qr1f-NBtqj",
        "colab_type": "code",
        "colab": {}
      },
      "source": [
        "auth.authenticate_user()\n",
        "gauth = GoogleAuth()\n",
        "gauth.credentials = GoogleCredentials.get_application_default()\n",
        "drive = GoogleDrive(gauth)"
      ],
      "execution_count": 0,
      "outputs": []
    },
    {
      "cell_type": "code",
      "metadata": {
        "id": "sFxHKGtcBubE",
        "colab_type": "code",
        "colab": {}
      },
      "source": [
        "downloaded = drive.CreateFile({'id':'19VumHcTH6JaUWpUTA58SecT_Z8RJIxrk'})\n",
        "downloaded.GetContentFile('database.sqlite')"
      ],
      "execution_count": 0,
      "outputs": []
    },
    {
      "cell_type": "markdown",
      "metadata": {
        "id": "7Yjj3_eEBLva",
        "colab_type": "text"
      },
      "source": [
        "### Read the file"
      ]
    },
    {
      "cell_type": "code",
      "metadata": {
        "id": "p8CnudAaBLvd",
        "colab_type": "code",
        "colab": {}
      },
      "source": [
        "# using the SQLite Table to read data.\n",
        "con = sqlite3.connect('database.sqlite') \n",
        "\n",
        "dataset_sqlite = pd.read_sql_query(\"\"\"\n",
        "                                    SELECT * FROM Reviews where Score != 3\n",
        "                                    \"\"\" , con)"
      ],
      "execution_count": 0,
      "outputs": []
    },
    {
      "cell_type": "code",
      "metadata": {
        "id": "NaQHBsh2BLvh",
        "colab_type": "code",
        "outputId": "58fa4e08-fbc8-48fe-b9a2-bf83707b4308",
        "colab": {
          "base_uri": "https://localhost:8080/",
          "height": 204
        }
      },
      "source": [
        "dataset_sqlite.head()"
      ],
      "execution_count": 12,
      "outputs": [
        {
          "output_type": "execute_result",
          "data": {
            "text/html": [
              "<div>\n",
              "<style scoped>\n",
              "    .dataframe tbody tr th:only-of-type {\n",
              "        vertical-align: middle;\n",
              "    }\n",
              "\n",
              "    .dataframe tbody tr th {\n",
              "        vertical-align: top;\n",
              "    }\n",
              "\n",
              "    .dataframe thead th {\n",
              "        text-align: right;\n",
              "    }\n",
              "</style>\n",
              "<table border=\"1\" class=\"dataframe\">\n",
              "  <thead>\n",
              "    <tr style=\"text-align: right;\">\n",
              "      <th></th>\n",
              "      <th>Id</th>\n",
              "      <th>ProductId</th>\n",
              "      <th>UserId</th>\n",
              "      <th>ProfileName</th>\n",
              "      <th>HelpfulnessNumerator</th>\n",
              "      <th>HelpfulnessDenominator</th>\n",
              "      <th>Score</th>\n",
              "      <th>Time</th>\n",
              "      <th>Summary</th>\n",
              "      <th>Text</th>\n",
              "    </tr>\n",
              "  </thead>\n",
              "  <tbody>\n",
              "    <tr>\n",
              "      <th>0</th>\n",
              "      <td>1</td>\n",
              "      <td>B001E4KFG0</td>\n",
              "      <td>A3SGXH7AUHU8GW</td>\n",
              "      <td>delmartian</td>\n",
              "      <td>1</td>\n",
              "      <td>1</td>\n",
              "      <td>5</td>\n",
              "      <td>1303862400</td>\n",
              "      <td>Good Quality Dog Food</td>\n",
              "      <td>I have bought several of the Vitality canned d...</td>\n",
              "    </tr>\n",
              "    <tr>\n",
              "      <th>1</th>\n",
              "      <td>2</td>\n",
              "      <td>B00813GRG4</td>\n",
              "      <td>A1D87F6ZCVE5NK</td>\n",
              "      <td>dll pa</td>\n",
              "      <td>0</td>\n",
              "      <td>0</td>\n",
              "      <td>1</td>\n",
              "      <td>1346976000</td>\n",
              "      <td>Not as Advertised</td>\n",
              "      <td>Product arrived labeled as Jumbo Salted Peanut...</td>\n",
              "    </tr>\n",
              "    <tr>\n",
              "      <th>2</th>\n",
              "      <td>3</td>\n",
              "      <td>B000LQOCH0</td>\n",
              "      <td>ABXLMWJIXXAIN</td>\n",
              "      <td>Natalia Corres \"Natalia Corres\"</td>\n",
              "      <td>1</td>\n",
              "      <td>1</td>\n",
              "      <td>4</td>\n",
              "      <td>1219017600</td>\n",
              "      <td>\"Delight\" says it all</td>\n",
              "      <td>This is a confection that has been around a fe...</td>\n",
              "    </tr>\n",
              "    <tr>\n",
              "      <th>3</th>\n",
              "      <td>4</td>\n",
              "      <td>B000UA0QIQ</td>\n",
              "      <td>A395BORC6FGVXV</td>\n",
              "      <td>Karl</td>\n",
              "      <td>3</td>\n",
              "      <td>3</td>\n",
              "      <td>2</td>\n",
              "      <td>1307923200</td>\n",
              "      <td>Cough Medicine</td>\n",
              "      <td>If you are looking for the secret ingredient i...</td>\n",
              "    </tr>\n",
              "    <tr>\n",
              "      <th>4</th>\n",
              "      <td>5</td>\n",
              "      <td>B006K2ZZ7K</td>\n",
              "      <td>A1UQRSCLF8GW1T</td>\n",
              "      <td>Michael D. Bigham \"M. Wassir\"</td>\n",
              "      <td>0</td>\n",
              "      <td>0</td>\n",
              "      <td>5</td>\n",
              "      <td>1350777600</td>\n",
              "      <td>Great taffy</td>\n",
              "      <td>Great taffy at a great price.  There was a wid...</td>\n",
              "    </tr>\n",
              "  </tbody>\n",
              "</table>\n",
              "</div>"
            ],
            "text/plain": [
              "   Id  ...                                               Text\n",
              "0   1  ...  I have bought several of the Vitality canned d...\n",
              "1   2  ...  Product arrived labeled as Jumbo Salted Peanut...\n",
              "2   3  ...  This is a confection that has been around a fe...\n",
              "3   4  ...  If you are looking for the secret ingredient i...\n",
              "4   5  ...  Great taffy at a great price.  There was a wid...\n",
              "\n",
              "[5 rows x 10 columns]"
            ]
          },
          "metadata": {
            "tags": []
          },
          "execution_count": 12
        }
      ]
    },
    {
      "cell_type": "code",
      "metadata": {
        "id": "I8KTSJqUBLvl",
        "colab_type": "code",
        "outputId": "3f4e0021-b354-4a86-f2f6-9abe589b8043",
        "colab": {
          "base_uri": "https://localhost:8080/",
          "height": 34
        }
      },
      "source": [
        "np.unique(dataset_sqlite['Score'])"
      ],
      "execution_count": 13,
      "outputs": [
        {
          "output_type": "execute_result",
          "data": {
            "text/plain": [
              "array([1, 2, 4, 5])"
            ]
          },
          "metadata": {
            "tags": []
          },
          "execution_count": 13
        }
      ]
    },
    {
      "cell_type": "code",
      "metadata": {
        "id": "TWJokEO0BLvq",
        "colab_type": "code",
        "colab": {}
      },
      "source": [
        "amnt_1 = dataset_sqlite.Score.value_counts()[1]\n",
        "amnt_2 = dataset_sqlite.Score.value_counts()[2]\n",
        "amnt_4 = dataset_sqlite.Score.value_counts()[4]\n",
        "amnt_5 = dataset_sqlite.Score.value_counts()[5]"
      ],
      "execution_count": 0,
      "outputs": []
    },
    {
      "cell_type": "code",
      "metadata": {
        "id": "tqQ2eO-EBLvu",
        "colab_type": "code",
        "outputId": "12bee0b7-515a-43e7-f764-94ecc1d1d2fd",
        "colab": {
          "base_uri": "https://localhost:8080/",
          "height": 792
        }
      },
      "source": [
        "category_names = ['1', '2', '4', '5']\n",
        "sizes = [amnt_1 , amnt_2 , amnt_4 ,  amnt_5]\n",
        "custom_colours = ['#12CBC4', '#6F1E51', '#C4E538', '#bdc3c7']\n",
        "offset = [0.05 , 0.05 , 0.05 , 0.05]\n",
        "\n",
        "\n",
        "plt.figure(figsize = (12 , 10) , dpi=100)\n",
        "plt.pie(sizes, labels=category_names, textprops={'fontsize': 20}, startangle=47, \n",
        "       autopct='%1.0f%%', colors=custom_colours, pctdistance=0.8, explode=offset)\n",
        "\n",
        "# draw circle\n",
        "centre_circle = plt.Circle((0, 0), radius=0.6, fc='white')\n",
        "plt.gca().add_artist(centre_circle)\n",
        "\n",
        "plt.show()"
      ],
      "execution_count": 15,
      "outputs": [
        {
          "output_type": "display_data",
          "data": {
            "image/png": "[encoded data removed]",
            "text/plain": [
              "<Figure size 1200x1000 with 1 Axes>"
            ]
          },
          "metadata": {
            "tags": []
          }
        }
      ]
    },
    {
      "cell_type": "markdown",
      "metadata": {
        "id": "i9JafG9dBLv0",
        "colab_type": "text"
      },
      "source": [
        "Most of the customer given 5 reviews on products."
      ]
    },
    {
      "cell_type": "code",
      "metadata": {
        "id": "ntMsIB8uBLv2",
        "colab_type": "code",
        "colab": {}
      },
      "source": [
        "# Convert the Reviews value into positive and negetive\n",
        "\n",
        "def partition(x):\n",
        "    if x < 3:\n",
        "        return 'negetive'\n",
        "    \n",
        "    return 'positive'"
      ],
      "execution_count": 0,
      "outputs": []
    },
    {
      "cell_type": "code",
      "metadata": {
        "id": "D8iR21uXBLv8",
        "colab_type": "code",
        "colab": {}
      },
      "source": [
        "actual_score = dataset_sqlite['Score']\n",
        "positiveNegetive = actual_score.map(partition)\n",
        "dataset_sqlite['Score'] = positiveNegetive"
      ],
      "execution_count": 0,
      "outputs": []
    },
    {
      "cell_type": "code",
      "metadata": {
        "id": "hYqifdS1BLwC",
        "colab_type": "code",
        "outputId": "344e32bc-153f-4e2b-ec4a-26e876b7830d",
        "colab": {
          "base_uri": "https://localhost:8080/",
          "height": 359
        }
      },
      "source": [
        "dataset_sqlite.head(10)"
      ],
      "execution_count": 18,
      "outputs": [
        {
          "output_type": "execute_result",
          "data": {
            "text/html": [
              "<div>\n",
              "<style scoped>\n",
              "    .dataframe tbody tr th:only-of-type {\n",
              "        vertical-align: middle;\n",
              "    }\n",
              "\n",
              "    .dataframe tbody tr th {\n",
              "        vertical-align: top;\n",
              "    }\n",
              "\n",
              "    .dataframe thead th {\n",
              "        text-align: right;\n",
              "    }\n",
              "</style>\n",
              "<table border=\"1\" class=\"dataframe\">\n",
              "  <thead>\n",
              "    <tr style=\"text-align: right;\">\n",
              "      <th></th>\n",
              "      <th>Id</th>\n",
              "      <th>ProductId</th>\n",
              "      <th>UserId</th>\n",
              "      <th>ProfileName</th>\n",
              "      <th>HelpfulnessNumerator</th>\n",
              "      <th>HelpfulnessDenominator</th>\n",
              "      <th>Score</th>\n",
              "      <th>Time</th>\n",
              "      <th>Summary</th>\n",
              "      <th>Text</th>\n",
              "    </tr>\n",
              "  </thead>\n",
              "  <tbody>\n",
              "    <tr>\n",
              "      <th>0</th>\n",
              "      <td>1</td>\n",
              "      <td>B001E4KFG0</td>\n",
              "      <td>A3SGXH7AUHU8GW</td>\n",
              "      <td>delmartian</td>\n",
              "      <td>1</td>\n",
              "      <td>1</td>\n",
              "      <td>positive</td>\n",
              "      <td>1303862400</td>\n",
              "      <td>Good Quality Dog Food</td>\n",
              "      <td>I have bought several of the Vitality canned d...</td>\n",
              "    </tr>\n",
              "    <tr>\n",
              "      <th>1</th>\n",
              "      <td>2</td>\n",
              "      <td>B00813GRG4</td>\n",
              "      <td>A1D87F6ZCVE5NK</td>\n",
              "      <td>dll pa</td>\n",
              "      <td>0</td>\n",
              "      <td>0</td>\n",
              "      <td>negetive</td>\n",
              "      <td>1346976000</td>\n",
              "      <td>Not as Advertised</td>\n",
              "      <td>Product arrived labeled as Jumbo Salted Peanut...</td>\n",
              "    </tr>\n",
              "    <tr>\n",
              "      <th>2</th>\n",
              "      <td>3</td>\n",
              "      <td>B000LQOCH0</td>\n",
              "      <td>ABXLMWJIXXAIN</td>\n",
              "      <td>Natalia Corres \"Natalia Corres\"</td>\n",
              "      <td>1</td>\n",
              "      <td>1</td>\n",
              "      <td>positive</td>\n",
              "      <td>1219017600</td>\n",
              "      <td>\"Delight\" says it all</td>\n",
              "      <td>This is a confection that has been around a fe...</td>\n",
              "    </tr>\n",
              "    <tr>\n",
              "      <th>3</th>\n",
              "      <td>4</td>\n",
              "      <td>B000UA0QIQ</td>\n",
              "      <td>A395BORC6FGVXV</td>\n",
              "      <td>Karl</td>\n",
              "      <td>3</td>\n",
              "      <td>3</td>\n",
              "      <td>negetive</td>\n",
              "      <td>1307923200</td>\n",
              "      <td>Cough Medicine</td>\n",
              "      <td>If you are looking for the secret ingredient i...</td>\n",
              "    </tr>\n",
              "    <tr>\n",
              "      <th>4</th>\n",
              "      <td>5</td>\n",
              "      <td>B006K2ZZ7K</td>\n",
              "      <td>A1UQRSCLF8GW1T</td>\n",
              "      <td>Michael D. Bigham \"M. Wassir\"</td>\n",
              "      <td>0</td>\n",
              "      <td>0</td>\n",
              "      <td>positive</td>\n",
              "      <td>1350777600</td>\n",
              "      <td>Great taffy</td>\n",
              "      <td>Great taffy at a great price.  There was a wid...</td>\n",
              "    </tr>\n",
              "    <tr>\n",
              "      <th>5</th>\n",
              "      <td>6</td>\n",
              "      <td>B006K2ZZ7K</td>\n",
              "      <td>ADT0SRK1MGOEU</td>\n",
              "      <td>Twoapennything</td>\n",
              "      <td>0</td>\n",
              "      <td>0</td>\n",
              "      <td>positive</td>\n",
              "      <td>1342051200</td>\n",
              "      <td>Nice Taffy</td>\n",
              "      <td>I got a wild hair for taffy and ordered this f...</td>\n",
              "    </tr>\n",
              "    <tr>\n",
              "      <th>6</th>\n",
              "      <td>7</td>\n",
              "      <td>B006K2ZZ7K</td>\n",
              "      <td>A1SP2KVKFXXRU1</td>\n",
              "      <td>David C. Sullivan</td>\n",
              "      <td>0</td>\n",
              "      <td>0</td>\n",
              "      <td>positive</td>\n",
              "      <td>1340150400</td>\n",
              "      <td>Great!  Just as good as the expensive brands!</td>\n",
              "      <td>This saltwater taffy had great flavors and was...</td>\n",
              "    </tr>\n",
              "    <tr>\n",
              "      <th>7</th>\n",
              "      <td>8</td>\n",
              "      <td>B006K2ZZ7K</td>\n",
              "      <td>A3JRGQVEQN31IQ</td>\n",
              "      <td>Pamela G. Williams</td>\n",
              "      <td>0</td>\n",
              "      <td>0</td>\n",
              "      <td>positive</td>\n",
              "      <td>1336003200</td>\n",
              "      <td>Wonderful, tasty taffy</td>\n",
              "      <td>This taffy is so good.  It is very soft and ch...</td>\n",
              "    </tr>\n",
              "    <tr>\n",
              "      <th>8</th>\n",
              "      <td>9</td>\n",
              "      <td>B000E7L2R4</td>\n",
              "      <td>A1MZYO9TZK0BBI</td>\n",
              "      <td>R. James</td>\n",
              "      <td>1</td>\n",
              "      <td>1</td>\n",
              "      <td>positive</td>\n",
              "      <td>1322006400</td>\n",
              "      <td>Yay Barley</td>\n",
              "      <td>Right now I'm mostly just sprouting this so my...</td>\n",
              "    </tr>\n",
              "    <tr>\n",
              "      <th>9</th>\n",
              "      <td>10</td>\n",
              "      <td>B00171APVA</td>\n",
              "      <td>A21BT40VZCCYT4</td>\n",
              "      <td>Carol A. Reed</td>\n",
              "      <td>0</td>\n",
              "      <td>0</td>\n",
              "      <td>positive</td>\n",
              "      <td>1351209600</td>\n",
              "      <td>Healthy Dog Food</td>\n",
              "      <td>This is a very healthy dog food. Good for thei...</td>\n",
              "    </tr>\n",
              "  </tbody>\n",
              "</table>\n",
              "</div>"
            ],
            "text/plain": [
              "   Id  ...                                               Text\n",
              "0   1  ...  I have bought several of the Vitality canned d...\n",
              "1   2  ...  Product arrived labeled as Jumbo Salted Peanut...\n",
              "2   3  ...  This is a confection that has been around a fe...\n",
              "3   4  ...  If you are looking for the secret ingredient i...\n",
              "4   5  ...  Great taffy at a great price.  There was a wid...\n",
              "5   6  ...  I got a wild hair for taffy and ordered this f...\n",
              "6   7  ...  This saltwater taffy had great flavors and was...\n",
              "7   8  ...  This taffy is so good.  It is very soft and ch...\n",
              "8   9  ...  Right now I'm mostly just sprouting this so my...\n",
              "9  10  ...  This is a very healthy dog food. Good for thei...\n",
              "\n",
              "[10 rows x 10 columns]"
            ]
          },
          "metadata": {
            "tags": []
          },
          "execution_count": 18
        }
      ]
    },
    {
      "cell_type": "code",
      "metadata": {
        "id": "OUlRuhIvBLwH",
        "colab_type": "code",
        "outputId": "c41dc686-f286-498d-f9a7-7f1871c5a673",
        "colab": {
          "base_uri": "https://localhost:8080/",
          "height": 34
        }
      },
      "source": [
        "dataset_sqlite.shape"
      ],
      "execution_count": 19,
      "outputs": [
        {
          "output_type": "execute_result",
          "data": {
            "text/plain": [
              "(525814, 10)"
            ]
          },
          "metadata": {
            "tags": []
          },
          "execution_count": 19
        }
      ]
    },
    {
      "cell_type": "code",
      "metadata": {
        "id": "ciySb_xaBLwM",
        "colab_type": "code",
        "outputId": "b863ec11-d7ca-4dbe-8364-c03697f2714e",
        "colab": {
          "base_uri": "https://localhost:8080/",
          "height": 272
        }
      },
      "source": [
        "dataset_sqlite.info()"
      ],
      "execution_count": 20,
      "outputs": [
        {
          "output_type": "stream",
          "text": [
            "<class 'pandas.core.frame.DataFrame'>\n",
            "RangeIndex: 525814 entries, 0 to 525813\n",
            "Data columns (total 10 columns):\n",
            "Id                        525814 non-null int64\n",
            "ProductId                 525814 non-null object\n",
            "UserId                    525814 non-null object\n",
            "ProfileName               525814 non-null object\n",
            "HelpfulnessNumerator      525814 non-null int64\n",
            "HelpfulnessDenominator    525814 non-null int64\n",
            "Score                     525814 non-null object\n",
            "Time                      525814 non-null int64\n",
            "Summary                   525814 non-null object\n",
            "Text                      525814 non-null object\n",
            "dtypes: int64(4), object(6)\n",
            "memory usage: 40.1+ MB\n"
          ],
          "name": "stdout"
        }
      ]
    },
    {
      "cell_type": "code",
      "metadata": {
        "id": "Ys5fXU32BLwP",
        "colab_type": "code",
        "outputId": "4d08536e-665b-46be-e0bd-1fbac6b82682",
        "colab": {
          "base_uri": "https://localhost:8080/",
          "height": 204
        }
      },
      "source": [
        "dataset_sqlite.isnull().sum()"
      ],
      "execution_count": 21,
      "outputs": [
        {
          "output_type": "execute_result",
          "data": {
            "text/plain": [
              "Id                        0\n",
              "ProductId                 0\n",
              "UserId                    0\n",
              "ProfileName               0\n",
              "HelpfulnessNumerator      0\n",
              "HelpfulnessDenominator    0\n",
              "Score                     0\n",
              "Time                      0\n",
              "Summary                   0\n",
              "Text                      0\n",
              "dtype: int64"
            ]
          },
          "metadata": {
            "tags": []
          },
          "execution_count": 21
        }
      ]
    },
    {
      "cell_type": "code",
      "metadata": {
        "id": "g6sTx1jcBLwT",
        "colab_type": "code",
        "colab": {}
      },
      "source": [
        "amnt_pos = dataset_sqlite.Score.value_counts()['positive']\n",
        "amnt_neg = dataset_sqlite.Score.value_counts()['negetive']"
      ],
      "execution_count": 0,
      "outputs": []
    },
    {
      "cell_type": "code",
      "metadata": {
        "id": "QYr1UuZ5BLwW",
        "colab_type": "code",
        "outputId": "d3a9e109-7798-402a-bcab-f447149118b3",
        "colab": {
          "base_uri": "https://localhost:8080/",
          "height": 640
        }
      },
      "source": [
        "category_names = ['Positive' , 'Negetive']\n",
        "sizes = [amnt_pos , amnt_neg]\n",
        "custom_colours = ['#4b6584', '#12CBC4']\n",
        "\n",
        "plt.figure(figsize = (10,8) , dpi=100)\n",
        "plt.pie(sizes, labels=category_names , textprops={'fontsize': 20} , startangle = 90 , \n",
        "       autopct='%1.0f%%' , colors=custom_colours , explode=[0 , 0.1])\n",
        "\n",
        "plt.show()"
      ],
      "execution_count": 23,
      "outputs": [
        {
          "output_type": "display_data",
          "data": {
            "image/png": "[encoded data removed]",
            "text/plain": [
              "<Figure size 1000x800 with 1 Axes>"
            ]
          },
          "metadata": {
            "tags": []
          }
        }
      ]
    },
    {
      "cell_type": "markdown",
      "metadata": {
        "id": "-AgvtMb-BLwc",
        "colab_type": "text"
      },
      "source": [
        "## Data Cleaning"
      ]
    },
    {
      "cell_type": "code",
      "metadata": {
        "id": "uROjr4jiBLwe",
        "colab_type": "code",
        "outputId": "25e144e0-901e-472b-9295-764258619264",
        "colab": {
          "base_uri": "https://localhost:8080/",
          "height": 514
        }
      },
      "source": [
        "display = pd.read_sql_query(\"\"\"\n",
        "\n",
        "                            select * from Reviews ORDER BY UserId\n",
        "                            \n",
        "                            \"\"\" , con)\n",
        "\n",
        "display.head(15)"
      ],
      "execution_count": 24,
      "outputs": [
        {
          "output_type": "execute_result",
          "data": {
            "text/html": [
              "<div>\n",
              "<style scoped>\n",
              "    .dataframe tbody tr th:only-of-type {\n",
              "        vertical-align: middle;\n",
              "    }\n",
              "\n",
              "    .dataframe tbody tr th {\n",
              "        vertical-align: top;\n",
              "    }\n",
              "\n",
              "    .dataframe thead th {\n",
              "        text-align: right;\n",
              "    }\n",
              "</style>\n",
              "<table border=\"1\" class=\"dataframe\">\n",
              "  <thead>\n",
              "    <tr style=\"text-align: right;\">\n",
              "      <th></th>\n",
              "      <th>Id</th>\n",
              "      <th>ProductId</th>\n",
              "      <th>UserId</th>\n",
              "      <th>ProfileName</th>\n",
              "      <th>HelpfulnessNumerator</th>\n",
              "      <th>HelpfulnessDenominator</th>\n",
              "      <th>Score</th>\n",
              "      <th>Time</th>\n",
              "      <th>Summary</th>\n",
              "      <th>Text</th>\n",
              "    </tr>\n",
              "  </thead>\n",
              "  <tbody>\n",
              "    <tr>\n",
              "      <th>0</th>\n",
              "      <td>136323</td>\n",
              "      <td>B006Q820X0</td>\n",
              "      <td>#oc-R103C0QSV1DF5E</td>\n",
              "      <td>C</td>\n",
              "      <td>1</td>\n",
              "      <td>2</td>\n",
              "      <td>5</td>\n",
              "      <td>1343088000</td>\n",
              "      <td>Great for the Price</td>\n",
              "      <td>I have to say I was a little apprehensive to b...</td>\n",
              "    </tr>\n",
              "    <tr>\n",
              "      <th>1</th>\n",
              "      <td>516062</td>\n",
              "      <td>B008I1XPKA</td>\n",
              "      <td>#oc-R109MU5OBBZ59U</td>\n",
              "      <td>AayGee</td>\n",
              "      <td>0</td>\n",
              "      <td>1</td>\n",
              "      <td>5</td>\n",
              "      <td>1350086400</td>\n",
              "      <td>AWESOME Coffee!!!!</td>\n",
              "      <td>Received my free K cups as a sample promotion ...</td>\n",
              "    </tr>\n",
              "    <tr>\n",
              "      <th>2</th>\n",
              "      <td>516079</td>\n",
              "      <td>B008I1XPKA</td>\n",
              "      <td>#oc-R10LFEMQEW6QGZ</td>\n",
              "      <td>Julie</td>\n",
              "      <td>0</td>\n",
              "      <td>1</td>\n",
              "      <td>5</td>\n",
              "      <td>1345939200</td>\n",
              "      <td>Brooklyn Bean Roastery Breakfast Blend K-Cups</td>\n",
              "      <td>Brooklyn Bean Roastery Blend K-Cups are great ...</td>\n",
              "    </tr>\n",
              "    <tr>\n",
              "      <th>3</th>\n",
              "      <td>378693</td>\n",
              "      <td>B0026LJ3EA</td>\n",
              "      <td>#oc-R10LT57ZGIB140</td>\n",
              "      <td>dipr</td>\n",
              "      <td>0</td>\n",
              "      <td>0</td>\n",
              "      <td>3</td>\n",
              "      <td>1310601600</td>\n",
              "      <td>Some damage</td>\n",
              "      <td>The shipment of the dog food was quick.  Howev...</td>\n",
              "    </tr>\n",
              "    <tr>\n",
              "      <th>4</th>\n",
              "      <td>136545</td>\n",
              "      <td>B006Q820X0</td>\n",
              "      <td>#oc-R10UA029WVWIUI</td>\n",
              "      <td>Kim D</td>\n",
              "      <td>0</td>\n",
              "      <td>0</td>\n",
              "      <td>1</td>\n",
              "      <td>1342483200</td>\n",
              "      <td>Less than satisfactory.  I gave the Brooklyn K...</td>\n",
              "      <td>Brooklyn \"French Roast\" K-Cup Coffee is not on...</td>\n",
              "    </tr>\n",
              "    <tr>\n",
              "      <th>5</th>\n",
              "      <td>83318</td>\n",
              "      <td>B005ZBZLT4</td>\n",
              "      <td>#oc-R115TNMSPFT9I7</td>\n",
              "      <td>Breyton</td>\n",
              "      <td>2</td>\n",
              "      <td>3</td>\n",
              "      <td>2</td>\n",
              "      <td>1331510400</td>\n",
              "      <td>\"Green\" K-cup packaging sacrifices flavor</td>\n",
              "      <td>Overall its just OK when considering the price...</td>\n",
              "    </tr>\n",
              "    <tr>\n",
              "      <th>6</th>\n",
              "      <td>180872</td>\n",
              "      <td>B007Y59HVM</td>\n",
              "      <td>#oc-R115TNMSPFT9I7</td>\n",
              "      <td>Breyton</td>\n",
              "      <td>2</td>\n",
              "      <td>3</td>\n",
              "      <td>2</td>\n",
              "      <td>1331510400</td>\n",
              "      <td>\"Green\" K-cup packaging sacrifices flavor</td>\n",
              "      <td>Overall its just OK when considering the price...</td>\n",
              "    </tr>\n",
              "    <tr>\n",
              "      <th>7</th>\n",
              "      <td>21719</td>\n",
              "      <td>B005DVVB9K</td>\n",
              "      <td>#oc-R119LM8D59ZW8Y</td>\n",
              "      <td>Lee Mellott \"SEOmenu2go\"</td>\n",
              "      <td>5</td>\n",
              "      <td>11</td>\n",
              "      <td>1</td>\n",
              "      <td>1320192000</td>\n",
              "      <td>Not So Sweet Treat!</td>\n",
              "      <td>I love chocolate so I was excited to see the C...</td>\n",
              "    </tr>\n",
              "    <tr>\n",
              "      <th>8</th>\n",
              "      <td>290948</td>\n",
              "      <td>B005HG9ESG</td>\n",
              "      <td>#oc-R11D9D7SHXIJB9</td>\n",
              "      <td>Louis E. Emory \"hoppy\"</td>\n",
              "      <td>0</td>\n",
              "      <td>0</td>\n",
              "      <td>5</td>\n",
              "      <td>1342396800</td>\n",
              "      <td>Muscle spasms</td>\n",
              "      <td>My wife has recurring extreme muscle spasms, u...</td>\n",
              "    </tr>\n",
              "    <tr>\n",
              "      <th>9</th>\n",
              "      <td>455534</td>\n",
              "      <td>B005HG9ERW</td>\n",
              "      <td>#oc-R11D9D7SHXIJB9</td>\n",
              "      <td>Louis E. Emory \"hoppy\"</td>\n",
              "      <td>0</td>\n",
              "      <td>0</td>\n",
              "      <td>5</td>\n",
              "      <td>1342396800</td>\n",
              "      <td>Muscle spasms</td>\n",
              "      <td>My wife has recurring extreme muscle spasms, u...</td>\n",
              "    </tr>\n",
              "    <tr>\n",
              "      <th>10</th>\n",
              "      <td>496894</td>\n",
              "      <td>B005HG9ET0</td>\n",
              "      <td>#oc-R11D9D7SHXIJB9</td>\n",
              "      <td>Louis E. Emory \"hoppy\"</td>\n",
              "      <td>0</td>\n",
              "      <td>0</td>\n",
              "      <td>5</td>\n",
              "      <td>1342396800</td>\n",
              "      <td>Muscle spasms</td>\n",
              "      <td>My wife has recurring extreme muscle spasms, u...</td>\n",
              "    </tr>\n",
              "    <tr>\n",
              "      <th>11</th>\n",
              "      <td>516144</td>\n",
              "      <td>B008I1XPKA</td>\n",
              "      <td>#oc-R11D9LKDAN5NQJ</td>\n",
              "      <td>Melissa Korducavich</td>\n",
              "      <td>2</td>\n",
              "      <td>3</td>\n",
              "      <td>3</td>\n",
              "      <td>1348876800</td>\n",
              "      <td>Tastes great....makes a mess</td>\n",
              "      <td>I LOVE the taste of this coffee...bought the C...</td>\n",
              "    </tr>\n",
              "    <tr>\n",
              "      <th>12</th>\n",
              "      <td>83657</td>\n",
              "      <td>B005ZBZLT4</td>\n",
              "      <td>#oc-R11DNU2NBKQ23Z</td>\n",
              "      <td>Kim Cieszykowski</td>\n",
              "      <td>0</td>\n",
              "      <td>2</td>\n",
              "      <td>1</td>\n",
              "      <td>1348531200</td>\n",
              "      <td>Terrible coffee</td>\n",
              "      <td>This coffee is horrible and unfortunately not ...</td>\n",
              "    </tr>\n",
              "    <tr>\n",
              "      <th>13</th>\n",
              "      <td>181211</td>\n",
              "      <td>B007Y59HVM</td>\n",
              "      <td>#oc-R11DNU2NBKQ23Z</td>\n",
              "      <td>Kim Cieszykowski</td>\n",
              "      <td>0</td>\n",
              "      <td>2</td>\n",
              "      <td>1</td>\n",
              "      <td>1348531200</td>\n",
              "      <td>Terrible coffee</td>\n",
              "      <td>This coffee is horrible and unfortunately not ...</td>\n",
              "    </tr>\n",
              "    <tr>\n",
              "      <th>14</th>\n",
              "      <td>290774</td>\n",
              "      <td>B005HG9ESG</td>\n",
              "      <td>#oc-R11O5J5ZVQE25C</td>\n",
              "      <td>Penguin Chick</td>\n",
              "      <td>0</td>\n",
              "      <td>0</td>\n",
              "      <td>5</td>\n",
              "      <td>1346889600</td>\n",
              "      <td>Refreshing!</td>\n",
              "      <td>This will be the bottle that you grab from the...</td>\n",
              "    </tr>\n",
              "  </tbody>\n",
              "</table>\n",
              "</div>"
            ],
            "text/plain": [
              "        Id  ...                                               Text\n",
              "0   136323  ...  I have to say I was a little apprehensive to b...\n",
              "1   516062  ...  Received my free K cups as a sample promotion ...\n",
              "2   516079  ...  Brooklyn Bean Roastery Blend K-Cups are great ...\n",
              "3   378693  ...  The shipment of the dog food was quick.  Howev...\n",
              "4   136545  ...  Brooklyn \"French Roast\" K-Cup Coffee is not on...\n",
              "5    83318  ...  Overall its just OK when considering the price...\n",
              "6   180872  ...  Overall its just OK when considering the price...\n",
              "7    21719  ...  I love chocolate so I was excited to see the C...\n",
              "8   290948  ...  My wife has recurring extreme muscle spasms, u...\n",
              "9   455534  ...  My wife has recurring extreme muscle spasms, u...\n",
              "10  496894  ...  My wife has recurring extreme muscle spasms, u...\n",
              "11  516144  ...  I LOVE the taste of this coffee...bought the C...\n",
              "12   83657  ...  This coffee is horrible and unfortunately not ...\n",
              "13  181211  ...  This coffee is horrible and unfortunately not ...\n",
              "14  290774  ...  This will be the bottle that you grab from the...\n",
              "\n",
              "[15 rows x 10 columns]"
            ]
          },
          "metadata": {
            "tags": []
          },
          "execution_count": 24
        }
      ]
    },
    {
      "cell_type": "markdown",
      "metadata": {
        "id": "GglZCBFkBLwj",
        "colab_type": "text"
      },
      "source": [
        "There have been many duplicates rows in the dataset.In the above table 8,9,10 rows have similar customer and he buy different product and review it at the same time.So it can be a garbage value.There can be some miscalculation when save it into the database.So it is necessasry to remove those rows for better performance."
      ]
    },
    {
      "cell_type": "code",
      "metadata": {
        "id": "bPq6l1-uBLwk",
        "colab_type": "code",
        "outputId": "f4266b00-b945-4e13-8a33-23f805aa8ddc",
        "colab": {
          "base_uri": "https://localhost:8080/",
          "height": 142
        }
      },
      "source": [
        "display = pd.read_sql_query(\"\"\"\n",
        "\n",
        "                            select * from Reviews where Score !=3 and UserId=\"#oc-R11D9D7SHXIJB9\" ORDER BY ProductID\n",
        "                            \n",
        "                            \"\"\" , con)\n",
        "\n",
        "display.head(10)"
      ],
      "execution_count": 25,
      "outputs": [
        {
          "output_type": "execute_result",
          "data": {
            "text/html": [
              "<div>\n",
              "<style scoped>\n",
              "    .dataframe tbody tr th:only-of-type {\n",
              "        vertical-align: middle;\n",
              "    }\n",
              "\n",
              "    .dataframe tbody tr th {\n",
              "        vertical-align: top;\n",
              "    }\n",
              "\n",
              "    .dataframe thead th {\n",
              "        text-align: right;\n",
              "    }\n",
              "</style>\n",
              "<table border=\"1\" class=\"dataframe\">\n",
              "  <thead>\n",
              "    <tr style=\"text-align: right;\">\n",
              "      <th></th>\n",
              "      <th>Id</th>\n",
              "      <th>ProductId</th>\n",
              "      <th>UserId</th>\n",
              "      <th>ProfileName</th>\n",
              "      <th>HelpfulnessNumerator</th>\n",
              "      <th>HelpfulnessDenominator</th>\n",
              "      <th>Score</th>\n",
              "      <th>Time</th>\n",
              "      <th>Summary</th>\n",
              "      <th>Text</th>\n",
              "    </tr>\n",
              "  </thead>\n",
              "  <tbody>\n",
              "    <tr>\n",
              "      <th>0</th>\n",
              "      <td>455534</td>\n",
              "      <td>B005HG9ERW</td>\n",
              "      <td>#oc-R11D9D7SHXIJB9</td>\n",
              "      <td>Louis E. Emory \"hoppy\"</td>\n",
              "      <td>0</td>\n",
              "      <td>0</td>\n",
              "      <td>5</td>\n",
              "      <td>1342396800</td>\n",
              "      <td>Muscle spasms</td>\n",
              "      <td>My wife has recurring extreme muscle spasms, u...</td>\n",
              "    </tr>\n",
              "    <tr>\n",
              "      <th>1</th>\n",
              "      <td>290948</td>\n",
              "      <td>B005HG9ESG</td>\n",
              "      <td>#oc-R11D9D7SHXIJB9</td>\n",
              "      <td>Louis E. Emory \"hoppy\"</td>\n",
              "      <td>0</td>\n",
              "      <td>0</td>\n",
              "      <td>5</td>\n",
              "      <td>1342396800</td>\n",
              "      <td>Muscle spasms</td>\n",
              "      <td>My wife has recurring extreme muscle spasms, u...</td>\n",
              "    </tr>\n",
              "    <tr>\n",
              "      <th>2</th>\n",
              "      <td>496894</td>\n",
              "      <td>B005HG9ET0</td>\n",
              "      <td>#oc-R11D9D7SHXIJB9</td>\n",
              "      <td>Louis E. Emory \"hoppy\"</td>\n",
              "      <td>0</td>\n",
              "      <td>0</td>\n",
              "      <td>5</td>\n",
              "      <td>1342396800</td>\n",
              "      <td>Muscle spasms</td>\n",
              "      <td>My wife has recurring extreme muscle spasms, u...</td>\n",
              "    </tr>\n",
              "  </tbody>\n",
              "</table>\n",
              "</div>"
            ],
            "text/plain": [
              "       Id  ...                                               Text\n",
              "0  455534  ...  My wife has recurring extreme muscle spasms, u...\n",
              "1  290948  ...  My wife has recurring extreme muscle spasms, u...\n",
              "2  496894  ...  My wife has recurring extreme muscle spasms, u...\n",
              "\n",
              "[3 rows x 10 columns]"
            ]
          },
          "metadata": {
            "tags": []
          },
          "execution_count": 25
        }
      ]
    },
    {
      "cell_type": "markdown",
      "metadata": {
        "id": "Z_i5co-DBLwp",
        "colab_type": "text"
      },
      "source": [
        "Check how many product the perticular customer but at a same time.\n",
        "\n",
        "\n",
        "Check some other Users"
      ]
    },
    {
      "cell_type": "code",
      "metadata": {
        "id": "dy3kEeFsBLwq",
        "colab_type": "code",
        "outputId": "20d5eda1-5015-45a4-d135-8dd05feb576a",
        "colab": {
          "base_uri": "https://localhost:8080/",
          "height": 204
        }
      },
      "source": [
        "display= pd.read_sql_query(\"\"\"\n",
        "\n",
        "                        select *\n",
        "                        from Reviews\n",
        "                        where Score != 3 AND UserId = \"AR5J8UI46CURR\"\n",
        "                        ORDER BY ProductID\n",
        "                        \n",
        "                        \"\"\", con)\n",
        "display.head()"
      ],
      "execution_count": 26,
      "outputs": [
        {
          "output_type": "execute_result",
          "data": {
            "text/html": [
              "<div>\n",
              "<style scoped>\n",
              "    .dataframe tbody tr th:only-of-type {\n",
              "        vertical-align: middle;\n",
              "    }\n",
              "\n",
              "    .dataframe tbody tr th {\n",
              "        vertical-align: top;\n",
              "    }\n",
              "\n",
              "    .dataframe thead th {\n",
              "        text-align: right;\n",
              "    }\n",
              "</style>\n",
              "<table border=\"1\" class=\"dataframe\">\n",
              "  <thead>\n",
              "    <tr style=\"text-align: right;\">\n",
              "      <th></th>\n",
              "      <th>Id</th>\n",
              "      <th>ProductId</th>\n",
              "      <th>UserId</th>\n",
              "      <th>ProfileName</th>\n",
              "      <th>HelpfulnessNumerator</th>\n",
              "      <th>HelpfulnessDenominator</th>\n",
              "      <th>Score</th>\n",
              "      <th>Time</th>\n",
              "      <th>Summary</th>\n",
              "      <th>Text</th>\n",
              "    </tr>\n",
              "  </thead>\n",
              "  <tbody>\n",
              "    <tr>\n",
              "      <th>0</th>\n",
              "      <td>78445</td>\n",
              "      <td>B000HDL1RQ</td>\n",
              "      <td>AR5J8UI46CURR</td>\n",
              "      <td>Geetha Krishnan</td>\n",
              "      <td>2</td>\n",
              "      <td>2</td>\n",
              "      <td>5</td>\n",
              "      <td>1199577600</td>\n",
              "      <td>LOACKER QUADRATINI VANILLA WAFERS</td>\n",
              "      <td>DELICIOUS WAFERS. I FIND THAT EUROPEAN WAFERS ...</td>\n",
              "    </tr>\n",
              "    <tr>\n",
              "      <th>1</th>\n",
              "      <td>138317</td>\n",
              "      <td>B000HDOPYC</td>\n",
              "      <td>AR5J8UI46CURR</td>\n",
              "      <td>Geetha Krishnan</td>\n",
              "      <td>2</td>\n",
              "      <td>2</td>\n",
              "      <td>5</td>\n",
              "      <td>1199577600</td>\n",
              "      <td>LOACKER QUADRATINI VANILLA WAFERS</td>\n",
              "      <td>DELICIOUS WAFERS. I FIND THAT EUROPEAN WAFERS ...</td>\n",
              "    </tr>\n",
              "    <tr>\n",
              "      <th>2</th>\n",
              "      <td>138277</td>\n",
              "      <td>B000HDOPYM</td>\n",
              "      <td>AR5J8UI46CURR</td>\n",
              "      <td>Geetha Krishnan</td>\n",
              "      <td>2</td>\n",
              "      <td>2</td>\n",
              "      <td>5</td>\n",
              "      <td>1199577600</td>\n",
              "      <td>LOACKER QUADRATINI VANILLA WAFERS</td>\n",
              "      <td>DELICIOUS WAFERS. I FIND THAT EUROPEAN WAFERS ...</td>\n",
              "    </tr>\n",
              "    <tr>\n",
              "      <th>3</th>\n",
              "      <td>73791</td>\n",
              "      <td>B000HDOPZG</td>\n",
              "      <td>AR5J8UI46CURR</td>\n",
              "      <td>Geetha Krishnan</td>\n",
              "      <td>2</td>\n",
              "      <td>2</td>\n",
              "      <td>5</td>\n",
              "      <td>1199577600</td>\n",
              "      <td>LOACKER QUADRATINI VANILLA WAFERS</td>\n",
              "      <td>DELICIOUS WAFERS. I FIND THAT EUROPEAN WAFERS ...</td>\n",
              "    </tr>\n",
              "    <tr>\n",
              "      <th>4</th>\n",
              "      <td>155049</td>\n",
              "      <td>B000PAQ75C</td>\n",
              "      <td>AR5J8UI46CURR</td>\n",
              "      <td>Geetha Krishnan</td>\n",
              "      <td>2</td>\n",
              "      <td>2</td>\n",
              "      <td>5</td>\n",
              "      <td>1199577600</td>\n",
              "      <td>LOACKER QUADRATINI VANILLA WAFERS</td>\n",
              "      <td>DELICIOUS WAFERS. I FIND THAT EUROPEAN WAFERS ...</td>\n",
              "    </tr>\n",
              "  </tbody>\n",
              "</table>\n",
              "</div>"
            ],
            "text/plain": [
              "       Id  ...                                               Text\n",
              "0   78445  ...  DELICIOUS WAFERS. I FIND THAT EUROPEAN WAFERS ...\n",
              "1  138317  ...  DELICIOUS WAFERS. I FIND THAT EUROPEAN WAFERS ...\n",
              "2  138277  ...  DELICIOUS WAFERS. I FIND THAT EUROPEAN WAFERS ...\n",
              "3   73791  ...  DELICIOUS WAFERS. I FIND THAT EUROPEAN WAFERS ...\n",
              "4  155049  ...  DELICIOUS WAFERS. I FIND THAT EUROPEAN WAFERS ...\n",
              "\n",
              "[5 rows x 10 columns]"
            ]
          },
          "metadata": {
            "tags": []
          },
          "execution_count": 26
        }
      ]
    },
    {
      "cell_type": "markdown",
      "metadata": {
        "id": "QBZKll8sBLwv",
        "colab_type": "text"
      },
      "source": [
        "It is shown that this customer also have buy many different product at the same time and review it.This can be happen when a specific product have different color or differnet flavor.\n",
        "So remove the duplicate all rows."
      ]
    },
    {
      "cell_type": "code",
      "metadata": {
        "id": "YgUWFnGVBLwx",
        "colab_type": "code",
        "outputId": "892f8a56-75d3-416b-957b-74e9b11da140",
        "colab": {
          "base_uri": "https://localhost:8080/",
          "height": 204
        }
      },
      "source": [
        "# Sorting the dataset according to productID\n",
        "\n",
        "sorted_data = dataset_sqlite.sort_values(\n",
        "                        'ProductId' , axis = 0 , ascending = True , inplace = False , kind = 'quicksort' ,  na_position='last'\n",
        "                        )\n",
        "sorted_data.head()"
      ],
      "execution_count": 27,
      "outputs": [
        {
          "output_type": "execute_result",
          "data": {
            "text/html": [
              "<div>\n",
              "<style scoped>\n",
              "    .dataframe tbody tr th:only-of-type {\n",
              "        vertical-align: middle;\n",
              "    }\n",
              "\n",
              "    .dataframe tbody tr th {\n",
              "        vertical-align: top;\n",
              "    }\n",
              "\n",
              "    .dataframe thead th {\n",
              "        text-align: right;\n",
              "    }\n",
              "</style>\n",
              "<table border=\"1\" class=\"dataframe\">\n",
              "  <thead>\n",
              "    <tr style=\"text-align: right;\">\n",
              "      <th></th>\n",
              "      <th>Id</th>\n",
              "      <th>ProductId</th>\n",
              "      <th>UserId</th>\n",
              "      <th>ProfileName</th>\n",
              "      <th>HelpfulnessNumerator</th>\n",
              "      <th>HelpfulnessDenominator</th>\n",
              "      <th>Score</th>\n",
              "      <th>Time</th>\n",
              "      <th>Summary</th>\n",
              "      <th>Text</th>\n",
              "    </tr>\n",
              "  </thead>\n",
              "  <tbody>\n",
              "    <tr>\n",
              "      <th>138706</th>\n",
              "      <td>150524</td>\n",
              "      <td>0006641040</td>\n",
              "      <td>ACITT7DI6IDDL</td>\n",
              "      <td>shari zychinski</td>\n",
              "      <td>0</td>\n",
              "      <td>0</td>\n",
              "      <td>positive</td>\n",
              "      <td>939340800</td>\n",
              "      <td>EVERY book is educational</td>\n",
              "      <td>this witty little book makes my son laugh at l...</td>\n",
              "    </tr>\n",
              "    <tr>\n",
              "      <th>138688</th>\n",
              "      <td>150506</td>\n",
              "      <td>0006641040</td>\n",
              "      <td>A2IW4PEEKO2R0U</td>\n",
              "      <td>Tracy</td>\n",
              "      <td>1</td>\n",
              "      <td>1</td>\n",
              "      <td>positive</td>\n",
              "      <td>1194739200</td>\n",
              "      <td>Love the book, miss the hard cover version</td>\n",
              "      <td>I grew up reading these Sendak books, and watc...</td>\n",
              "    </tr>\n",
              "    <tr>\n",
              "      <th>138689</th>\n",
              "      <td>150507</td>\n",
              "      <td>0006641040</td>\n",
              "      <td>A1S4A3IQ2MU7V4</td>\n",
              "      <td>sally sue \"sally sue\"</td>\n",
              "      <td>1</td>\n",
              "      <td>1</td>\n",
              "      <td>positive</td>\n",
              "      <td>1191456000</td>\n",
              "      <td>chicken soup with rice months</td>\n",
              "      <td>This is a fun way for children to learn their ...</td>\n",
              "    </tr>\n",
              "    <tr>\n",
              "      <th>138690</th>\n",
              "      <td>150508</td>\n",
              "      <td>0006641040</td>\n",
              "      <td>AZGXZ2UUK6X</td>\n",
              "      <td>Catherine Hallberg \"(Kate)\"</td>\n",
              "      <td>1</td>\n",
              "      <td>1</td>\n",
              "      <td>positive</td>\n",
              "      <td>1076025600</td>\n",
              "      <td>a good swingy rhythm for reading aloud</td>\n",
              "      <td>This is a great little book to read aloud- it ...</td>\n",
              "    </tr>\n",
              "    <tr>\n",
              "      <th>138691</th>\n",
              "      <td>150509</td>\n",
              "      <td>0006641040</td>\n",
              "      <td>A3CMRKGE0P909G</td>\n",
              "      <td>Teresa</td>\n",
              "      <td>3</td>\n",
              "      <td>4</td>\n",
              "      <td>positive</td>\n",
              "      <td>1018396800</td>\n",
              "      <td>A great way to learn the months</td>\n",
              "      <td>This is a book of poetry about the months of t...</td>\n",
              "    </tr>\n",
              "  </tbody>\n",
              "</table>\n",
              "</div>"
            ],
            "text/plain": [
              "            Id  ...                                               Text\n",
              "138706  150524  ...  this witty little book makes my son laugh at l...\n",
              "138688  150506  ...  I grew up reading these Sendak books, and watc...\n",
              "138689  150507  ...  This is a fun way for children to learn their ...\n",
              "138690  150508  ...  This is a great little book to read aloud- it ...\n",
              "138691  150509  ...  This is a book of poetry about the months of t...\n",
              "\n",
              "[5 rows x 10 columns]"
            ]
          },
          "metadata": {
            "tags": []
          },
          "execution_count": 27
        }
      ]
    },
    {
      "cell_type": "markdown",
      "metadata": {
        "id": "t3_OfKDlBLw3",
        "colab_type": "text"
      },
      "source": [
        "Find the duplicates if the useid , profilename , time , text is the same then it is duplicate.And remove those rows."
      ]
    },
    {
      "cell_type": "code",
      "metadata": {
        "id": "puHq-RGUBLw5",
        "colab_type": "code",
        "outputId": "89664b7a-056f-48e8-9fe1-44bd418b995e",
        "colab": {
          "base_uri": "https://localhost:8080/",
          "height": 34
        }
      },
      "source": [
        "#Deduplication of entries\n",
        "\n",
        "final = sorted_data.drop_duplicates(subset = {'UserId' , 'ProfileName' , 'Time' , 'Text'} , keep = 'first' , inplace = False)\n",
        "final.shape"
      ],
      "execution_count": 28,
      "outputs": [
        {
          "output_type": "execute_result",
          "data": {
            "text/plain": [
              "(364173, 10)"
            ]
          },
          "metadata": {
            "tags": []
          },
          "execution_count": 28
        }
      ]
    },
    {
      "cell_type": "code",
      "metadata": {
        "id": "nfmHUCT2BLw-",
        "colab_type": "code",
        "outputId": "3247a3fc-8fcf-4ce2-8696-288c7827d380",
        "colab": {
          "base_uri": "https://localhost:8080/",
          "height": 34
        }
      },
      "source": [
        "#Checking to see how much % of data still remains\n",
        "(final['Id'].size*1.0) / (dataset_sqlite['Id'].size*1.0) * 100"
      ],
      "execution_count": 29,
      "outputs": [
        {
          "output_type": "execute_result",
          "data": {
            "text/plain": [
              "69.25890143662969"
            ]
          },
          "metadata": {
            "tags": []
          },
          "execution_count": 29
        }
      ]
    },
    {
      "cell_type": "markdown",
      "metadata": {
        "id": "9apgK4uYBLxC",
        "colab_type": "text"
      },
      "source": [
        "After removing those duplicates rows we hvae 69% data remaining."
      ]
    },
    {
      "cell_type": "markdown",
      "metadata": {
        "id": "d4MaytrOBLxD",
        "colab_type": "text"
      },
      "source": [
        "Another way to fina inconsistency in the dataset is if the <b>HelpfulnessNumerator</b> is greater than <b>HelpfulnessDenominator</b>"
      ]
    },
    {
      "cell_type": "code",
      "metadata": {
        "id": "lHDtTVu0BLxE",
        "colab_type": "code",
        "outputId": "8ad59339-2a43-4783-e0cf-dd2e2a6b4bbf",
        "colab": {
          "base_uri": "https://localhost:8080/",
          "height": 111
        }
      },
      "source": [
        "display= pd.read_sql_query(\"\"\"\n",
        "\n",
        "                        SELECT *\n",
        "                        FROM Reviews\n",
        "                        WHERE HelpfulnessNumerator > HelpfulnessDenominator\n",
        "                        \n",
        "                        \"\"\", con)\n",
        "\n",
        "display.head()"
      ],
      "execution_count": 30,
      "outputs": [
        {
          "output_type": "execute_result",
          "data": {
            "text/html": [
              "<div>\n",
              "<style scoped>\n",
              "    .dataframe tbody tr th:only-of-type {\n",
              "        vertical-align: middle;\n",
              "    }\n",
              "\n",
              "    .dataframe tbody tr th {\n",
              "        vertical-align: top;\n",
              "    }\n",
              "\n",
              "    .dataframe thead th {\n",
              "        text-align: right;\n",
              "    }\n",
              "</style>\n",
              "<table border=\"1\" class=\"dataframe\">\n",
              "  <thead>\n",
              "    <tr style=\"text-align: right;\">\n",
              "      <th></th>\n",
              "      <th>Id</th>\n",
              "      <th>ProductId</th>\n",
              "      <th>UserId</th>\n",
              "      <th>ProfileName</th>\n",
              "      <th>HelpfulnessNumerator</th>\n",
              "      <th>HelpfulnessDenominator</th>\n",
              "      <th>Score</th>\n",
              "      <th>Time</th>\n",
              "      <th>Summary</th>\n",
              "      <th>Text</th>\n",
              "    </tr>\n",
              "  </thead>\n",
              "  <tbody>\n",
              "    <tr>\n",
              "      <th>0</th>\n",
              "      <td>44737</td>\n",
              "      <td>B001EQ55RW</td>\n",
              "      <td>A2V0I904FH7ABY</td>\n",
              "      <td>Ram</td>\n",
              "      <td>3</td>\n",
              "      <td>2</td>\n",
              "      <td>4</td>\n",
              "      <td>1212883200</td>\n",
              "      <td>Pure cocoa taste with crunchy almonds inside</td>\n",
              "      <td>It was almost a 'love at first bite' - the per...</td>\n",
              "    </tr>\n",
              "    <tr>\n",
              "      <th>1</th>\n",
              "      <td>64422</td>\n",
              "      <td>B000MIDROQ</td>\n",
              "      <td>A161DK06JJMCYF</td>\n",
              "      <td>J. E. Stephens \"Jeanne\"</td>\n",
              "      <td>3</td>\n",
              "      <td>1</td>\n",
              "      <td>5</td>\n",
              "      <td>1224892800</td>\n",
              "      <td>Bought This for My Son at College</td>\n",
              "      <td>My son loves spaghetti so I didn't hesitate or...</td>\n",
              "    </tr>\n",
              "  </tbody>\n",
              "</table>\n",
              "</div>"
            ],
            "text/plain": [
              "      Id  ...                                               Text\n",
              "0  44737  ...  It was almost a 'love at first bite' - the per...\n",
              "1  64422  ...  My son loves spaghetti so I didn't hesitate or...\n",
              "\n",
              "[2 rows x 10 columns]"
            ]
          },
          "metadata": {
            "tags": []
          },
          "execution_count": 30
        }
      ]
    },
    {
      "cell_type": "markdown",
      "metadata": {
        "id": "t37o_E71BLxH",
        "colab_type": "text"
      },
      "source": [
        "It was also seen that in two rows given below the value of HelpfulnessNumerator is greater than HelpfulnessDenominator which is not practically possible hence these two rows too are removed from calcualtions"
      ]
    },
    {
      "cell_type": "code",
      "metadata": {
        "id": "vD2gL8EbBLxI",
        "colab_type": "code",
        "outputId": "fd3d5a20-3a94-46f0-81d7-cfa508d5ea5c",
        "colab": {
          "base_uri": "https://localhost:8080/",
          "height": 111
        }
      },
      "source": [
        "display= pd.read_sql_query(\"\"\"\n",
        "\n",
        "                        SELECT *\n",
        "                        FROM Reviews\n",
        "                        WHERE Score != 3 AND Id=44737 OR Id=64422\n",
        "                        ORDER BY ProductID\n",
        "                        \n",
        "                        \"\"\", con)\n",
        "\n",
        "display.head()"
      ],
      "execution_count": 31,
      "outputs": [
        {
          "output_type": "execute_result",
          "data": {
            "text/html": [
              "<div>\n",
              "<style scoped>\n",
              "    .dataframe tbody tr th:only-of-type {\n",
              "        vertical-align: middle;\n",
              "    }\n",
              "\n",
              "    .dataframe tbody tr th {\n",
              "        vertical-align: top;\n",
              "    }\n",
              "\n",
              "    .dataframe thead th {\n",
              "        text-align: right;\n",
              "    }\n",
              "</style>\n",
              "<table border=\"1\" class=\"dataframe\">\n",
              "  <thead>\n",
              "    <tr style=\"text-align: right;\">\n",
              "      <th></th>\n",
              "      <th>Id</th>\n",
              "      <th>ProductId</th>\n",
              "      <th>UserId</th>\n",
              "      <th>ProfileName</th>\n",
              "      <th>HelpfulnessNumerator</th>\n",
              "      <th>HelpfulnessDenominator</th>\n",
              "      <th>Score</th>\n",
              "      <th>Time</th>\n",
              "      <th>Summary</th>\n",
              "      <th>Text</th>\n",
              "    </tr>\n",
              "  </thead>\n",
              "  <tbody>\n",
              "    <tr>\n",
              "      <th>0</th>\n",
              "      <td>64422</td>\n",
              "      <td>B000MIDROQ</td>\n",
              "      <td>A161DK06JJMCYF</td>\n",
              "      <td>J. E. Stephens \"Jeanne\"</td>\n",
              "      <td>3</td>\n",
              "      <td>1</td>\n",
              "      <td>5</td>\n",
              "      <td>1224892800</td>\n",
              "      <td>Bought This for My Son at College</td>\n",
              "      <td>My son loves spaghetti so I didn't hesitate or...</td>\n",
              "    </tr>\n",
              "    <tr>\n",
              "      <th>1</th>\n",
              "      <td>44737</td>\n",
              "      <td>B001EQ55RW</td>\n",
              "      <td>A2V0I904FH7ABY</td>\n",
              "      <td>Ram</td>\n",
              "      <td>3</td>\n",
              "      <td>2</td>\n",
              "      <td>4</td>\n",
              "      <td>1212883200</td>\n",
              "      <td>Pure cocoa taste with crunchy almonds inside</td>\n",
              "      <td>It was almost a 'love at first bite' - the per...</td>\n",
              "    </tr>\n",
              "  </tbody>\n",
              "</table>\n",
              "</div>"
            ],
            "text/plain": [
              "      Id  ...                                               Text\n",
              "0  64422  ...  My son loves spaghetti so I didn't hesitate or...\n",
              "1  44737  ...  It was almost a 'love at first bite' - the per...\n",
              "\n",
              "[2 rows x 10 columns]"
            ]
          },
          "metadata": {
            "tags": []
          },
          "execution_count": 31
        }
      ]
    },
    {
      "cell_type": "code",
      "metadata": {
        "id": "k3A01mF5BLxN",
        "colab_type": "code",
        "colab": {}
      },
      "source": [
        "final = final[final.HelpfulnessNumerator <= final.HelpfulnessDenominator]"
      ],
      "execution_count": 0,
      "outputs": []
    },
    {
      "cell_type": "code",
      "metadata": {
        "id": "htlE7YXkBLxR",
        "colab_type": "code",
        "outputId": "21093ca2-d70b-4144-b568-b363a978c350",
        "colab": {
          "base_uri": "https://localhost:8080/",
          "height": 34
        }
      },
      "source": [
        "final.shape"
      ],
      "execution_count": 33,
      "outputs": [
        {
          "output_type": "execute_result",
          "data": {
            "text/plain": [
              "(364171, 10)"
            ]
          },
          "metadata": {
            "tags": []
          },
          "execution_count": 33
        }
      ]
    },
    {
      "cell_type": "code",
      "metadata": {
        "id": "nF3p4vUABLxU",
        "colab_type": "code",
        "outputId": "e6bfe6be-aa88-4971-fc0d-d58fefba9857",
        "colab": {
          "base_uri": "https://localhost:8080/",
          "height": 296
        }
      },
      "source": [
        "sns.countplot(x = 'Score' , data = final)"
      ],
      "execution_count": 34,
      "outputs": [
        {
          "output_type": "execute_result",
          "data": {
            "text/plain": [
              "<matplotlib.axes._subplots.AxesSubplot at 0x7f5cc02d2cc0>"
            ]
          },
          "metadata": {
            "tags": []
          },
          "execution_count": 34
        },
        {
          "output_type": "display_data",
          "data": {
            "image/png": "[encoded data removed]",
            "text/plain": [
              "<Figure size 432x288 with 1 Axes>"
            ]
          },
          "metadata": {
            "tags": []
          }
        }
      ]
    },
    {
      "cell_type": "markdown",
      "metadata": {
        "id": "R2VKl_1cBLxY",
        "colab_type": "text"
      },
      "source": [
        "## Text Preprocessing"
      ]
    },
    {
      "cell_type": "markdown",
      "metadata": {
        "id": "AzFu_9vpBLxZ",
        "colab_type": "text"
      },
      "source": [
        "We already remove the duplicates values from the dataset.Now it's time to preprocess the dataset.There are many ways to clean or preprocess the dataset.\n"
      ]
    },
    {
      "cell_type": "code",
      "metadata": {
        "id": "sRKf5HTxJBWq",
        "colab_type": "code",
        "outputId": "a480b1db-452b-427d-9214-1b1dee5cc9c2",
        "colab": {
          "base_uri": "https://localhost:8080/",
          "height": 68
        }
      },
      "source": [
        "import nltk\n",
        "nltk.download('stopwords')"
      ],
      "execution_count": 35,
      "outputs": [
        {
          "output_type": "stream",
          "text": [
            "[nltk_data] Downloading package stopwords to /root/nltk_data...\n",
            "[nltk_data]   Unzipping corpora/stopwords.zip.\n"
          ],
          "name": "stdout"
        },
        {
          "output_type": "execute_result",
          "data": {
            "text/plain": [
              "True"
            ]
          },
          "metadata": {
            "tags": []
          },
          "execution_count": 35
        }
      ]
    },
    {
      "cell_type": "code",
      "metadata": {
        "id": "f_DG8XfGBLxc",
        "colab_type": "code",
        "colab": {}
      },
      "source": [
        "stop = set(stopwords.words('english'))\n",
        "sno = nltk.stem.SnowballStemmer('english') "
      ],
      "execution_count": 0,
      "outputs": []
    },
    {
      "cell_type": "code",
      "metadata": {
        "id": "NH9OaKVQBLxj",
        "colab_type": "code",
        "colab": {}
      },
      "source": [
        "def cleanhtml(sentence):\n",
        "    cleanr = re.compile('<.*?>')\n",
        "    cleantext = re.sub(cleanr, ' ', sentence)\n",
        "    return cleantext"
      ],
      "execution_count": 0,
      "outputs": []
    },
    {
      "cell_type": "code",
      "metadata": {
        "id": "KyrvHjFwBLxm",
        "colab_type": "code",
        "colab": {}
      },
      "source": [
        "def cleanpunc(sentence):\n",
        "    cleaned = re.sub(r'[?|!|\\'|\"|#]',r'',sentence)\n",
        "    cleaned = re.sub(r'[.|,|)|(|\\|/]',r' ',cleaned)\n",
        "    return  cleaned"
      ],
      "execution_count": 0,
      "outputs": []
    },
    {
      "cell_type": "code",
      "metadata": {
        "id": "0q824asFBLxs",
        "colab_type": "code",
        "outputId": "5951b1c4-74c8-464d-dcff-1c730e822227",
        "colab": {
          "base_uri": "https://localhost:8080/",
          "height": 34
        }
      },
      "source": [
        "i=0\n",
        "str1=' '\n",
        "final_string=[]\n",
        "all_positive_words=[] \n",
        "all_negative_words=[] \n",
        "s=''\n",
        "\n",
        "for sent in tqdm(final['Text'].values):\n",
        "\n",
        "    filtered_sentence=[]\n",
        "\n",
        "    sent=cleanhtml(sent) \n",
        "\n",
        "    for w in sent.split():\n",
        "        for cleaned_words in cleanpunc(w).split():\n",
        "\n",
        "            if((cleaned_words.isalpha()) & (len(cleaned_words) > 2)):    \n",
        "                if(cleaned_words.lower() not in stop):\n",
        "                    s = (sno.stem(cleaned_words.lower())).encode('utf8')\n",
        "                    filtered_sentence.append(s)\n",
        "                    \n",
        "                    if (final['Score'].values)[i] == 'positive': \n",
        "                        all_positive_words.append(s)\n",
        "                    if(final['Score'].values)[i] == 'negative':\n",
        "                        all_negative_words.append(s)\n",
        "                else:\n",
        "                    continue\n",
        "            else:\n",
        "                continue \n",
        "                \n",
        "    str1 = b\" \".join(filtered_sentence) #final string of cleaned words\n",
        "    #print(\"***********************************************************************\")\n",
        "    \n",
        "    final_string.append(str1)\n",
        "    i+=1"
      ],
      "execution_count": 39,
      "outputs": [
        {
          "output_type": "stream",
          "text": [
            "100%|██████████| 364171/364171 [05:25<00:00, 1118.01it/s]\n"
          ],
          "name": "stderr"
        }
      ]
    },
    {
      "cell_type": "code",
      "metadata": {
        "id": "N7GfBhLVJ6RE",
        "colab_type": "code",
        "outputId": "8d86e578-b606-4158-c5b0-ff758ee089bf",
        "colab": {
          "base_uri": "https://localhost:8080/",
          "height": 193
        }
      },
      "source": [
        "final['CleanedText'] = final_string\n",
        "final['CleanedText'] = final['CleanedText'].str.decode(\"utf-8\")\n",
        "final.head(3)"
      ],
      "execution_count": 40,
      "outputs": [
        {
          "output_type": "execute_result",
          "data": {
            "text/html": [
              "<div>\n",
              "<style scoped>\n",
              "    .dataframe tbody tr th:only-of-type {\n",
              "        vertical-align: middle;\n",
              "    }\n",
              "\n",
              "    .dataframe tbody tr th {\n",
              "        vertical-align: top;\n",
              "    }\n",
              "\n",
              "    .dataframe thead th {\n",
              "        text-align: right;\n",
              "    }\n",
              "</style>\n",
              "<table border=\"1\" class=\"dataframe\">\n",
              "  <thead>\n",
              "    <tr style=\"text-align: right;\">\n",
              "      <th></th>\n",
              "      <th>Id</th>\n",
              "      <th>ProductId</th>\n",
              "      <th>UserId</th>\n",
              "      <th>ProfileName</th>\n",
              "      <th>HelpfulnessNumerator</th>\n",
              "      <th>HelpfulnessDenominator</th>\n",
              "      <th>Score</th>\n",
              "      <th>Time</th>\n",
              "      <th>Summary</th>\n",
              "      <th>Text</th>\n",
              "      <th>CleanedText</th>\n",
              "    </tr>\n",
              "  </thead>\n",
              "  <tbody>\n",
              "    <tr>\n",
              "      <th>138706</th>\n",
              "      <td>150524</td>\n",
              "      <td>0006641040</td>\n",
              "      <td>ACITT7DI6IDDL</td>\n",
              "      <td>shari zychinski</td>\n",
              "      <td>0</td>\n",
              "      <td>0</td>\n",
              "      <td>positive</td>\n",
              "      <td>939340800</td>\n",
              "      <td>EVERY book is educational</td>\n",
              "      <td>this witty little book makes my son laugh at l...</td>\n",
              "      <td>witti littl book make son laugh loud recit car...</td>\n",
              "    </tr>\n",
              "    <tr>\n",
              "      <th>138688</th>\n",
              "      <td>150506</td>\n",
              "      <td>0006641040</td>\n",
              "      <td>A2IW4PEEKO2R0U</td>\n",
              "      <td>Tracy</td>\n",
              "      <td>1</td>\n",
              "      <td>1</td>\n",
              "      <td>positive</td>\n",
              "      <td>1194739200</td>\n",
              "      <td>Love the book, miss the hard cover version</td>\n",
              "      <td>I grew up reading these Sendak books, and watc...</td>\n",
              "      <td>grew read sendak book watch realli rosi movi i...</td>\n",
              "    </tr>\n",
              "    <tr>\n",
              "      <th>138689</th>\n",
              "      <td>150507</td>\n",
              "      <td>0006641040</td>\n",
              "      <td>A1S4A3IQ2MU7V4</td>\n",
              "      <td>sally sue \"sally sue\"</td>\n",
              "      <td>1</td>\n",
              "      <td>1</td>\n",
              "      <td>positive</td>\n",
              "      <td>1191456000</td>\n",
              "      <td>chicken soup with rice months</td>\n",
              "      <td>This is a fun way for children to learn their ...</td>\n",
              "      <td>fun way children learn month year learn poem t...</td>\n",
              "    </tr>\n",
              "  </tbody>\n",
              "</table>\n",
              "</div>"
            ],
            "text/plain": [
              "            Id  ...                                        CleanedText\n",
              "138706  150524  ...  witti littl book make son laugh loud recit car...\n",
              "138688  150506  ...  grew read sendak book watch realli rosi movi i...\n",
              "138689  150507  ...  fun way children learn month year learn poem t...\n",
              "\n",
              "[3 rows x 11 columns]"
            ]
          },
          "metadata": {
            "tags": []
          },
          "execution_count": 40
        }
      ]
    },
    {
      "cell_type": "code",
      "metadata": {
        "id": "K3oY9Il8J6ej",
        "colab_type": "code",
        "colab": {}
      },
      "source": [
        "final_data = final.sort_values('Time', axis=0 , ascending=True , inplace=False , kind='quicksort' , na_position = 'last')"
      ],
      "execution_count": 0,
      "outputs": []
    },
    {
      "cell_type": "code",
      "metadata": {
        "id": "ydNF3cotL5Gu",
        "colab_type": "code",
        "outputId": "f56e34cf-5a4d-470a-fcda-bff0225b822e",
        "colab": {
          "base_uri": "https://localhost:8080/",
          "height": 34
        }
      },
      "source": [
        "final_data.shape"
      ],
      "execution_count": 42,
      "outputs": [
        {
          "output_type": "execute_result",
          "data": {
            "text/plain": [
              "(364171, 11)"
            ]
          },
          "metadata": {
            "tags": []
          },
          "execution_count": 42
        }
      ]
    },
    {
      "cell_type": "code",
      "metadata": {
        "id": "6_E_X0bVJ6mj",
        "colab_type": "code",
        "outputId": "62363aa9-4b35-4dbf-dbb1-28fbf70fd16b",
        "colab": {
          "base_uri": "https://localhost:8080/",
          "height": 289
        }
      },
      "source": [
        "final = final_data.head(150000)\n",
        "final.head()"
      ],
      "execution_count": 43,
      "outputs": [
        {
          "output_type": "execute_result",
          "data": {
            "text/html": [
              "<div>\n",
              "<style scoped>\n",
              "    .dataframe tbody tr th:only-of-type {\n",
              "        vertical-align: middle;\n",
              "    }\n",
              "\n",
              "    .dataframe tbody tr th {\n",
              "        vertical-align: top;\n",
              "    }\n",
              "\n",
              "    .dataframe thead th {\n",
              "        text-align: right;\n",
              "    }\n",
              "</style>\n",
              "<table border=\"1\" class=\"dataframe\">\n",
              "  <thead>\n",
              "    <tr style=\"text-align: right;\">\n",
              "      <th></th>\n",
              "      <th>Id</th>\n",
              "      <th>ProductId</th>\n",
              "      <th>UserId</th>\n",
              "      <th>ProfileName</th>\n",
              "      <th>HelpfulnessNumerator</th>\n",
              "      <th>HelpfulnessDenominator</th>\n",
              "      <th>Score</th>\n",
              "      <th>Time</th>\n",
              "      <th>Summary</th>\n",
              "      <th>Text</th>\n",
              "      <th>CleanedText</th>\n",
              "    </tr>\n",
              "  </thead>\n",
              "  <tbody>\n",
              "    <tr>\n",
              "      <th>138706</th>\n",
              "      <td>150524</td>\n",
              "      <td>0006641040</td>\n",
              "      <td>ACITT7DI6IDDL</td>\n",
              "      <td>shari zychinski</td>\n",
              "      <td>0</td>\n",
              "      <td>0</td>\n",
              "      <td>positive</td>\n",
              "      <td>939340800</td>\n",
              "      <td>EVERY book is educational</td>\n",
              "      <td>this witty little book makes my son laugh at l...</td>\n",
              "      <td>witti littl book make son laugh loud recit car...</td>\n",
              "    </tr>\n",
              "    <tr>\n",
              "      <th>138683</th>\n",
              "      <td>150501</td>\n",
              "      <td>0006641040</td>\n",
              "      <td>AJ46FKXOVC7NR</td>\n",
              "      <td>Nicholas A Mesiano</td>\n",
              "      <td>2</td>\n",
              "      <td>2</td>\n",
              "      <td>positive</td>\n",
              "      <td>940809600</td>\n",
              "      <td>This whole series is great way to spend time w...</td>\n",
              "      <td>I can remember seeing the show when it aired o...</td>\n",
              "      <td>rememb see show air televis year ago child sis...</td>\n",
              "    </tr>\n",
              "    <tr>\n",
              "      <th>417839</th>\n",
              "      <td>451856</td>\n",
              "      <td>B00004CXX9</td>\n",
              "      <td>AIUWLEQ1ADEG5</td>\n",
              "      <td>Elizabeth Medina</td>\n",
              "      <td>0</td>\n",
              "      <td>0</td>\n",
              "      <td>positive</td>\n",
              "      <td>944092800</td>\n",
              "      <td>Entertainingl Funny!</td>\n",
              "      <td>Beetlejuice is a well written movie ..... ever...</td>\n",
              "      <td>beetlejuic well written movi everyth excel act...</td>\n",
              "    </tr>\n",
              "    <tr>\n",
              "      <th>346055</th>\n",
              "      <td>374359</td>\n",
              "      <td>B00004CI84</td>\n",
              "      <td>A344SMIA5JECGM</td>\n",
              "      <td>Vincent P. Ross</td>\n",
              "      <td>1</td>\n",
              "      <td>2</td>\n",
              "      <td>positive</td>\n",
              "      <td>944438400</td>\n",
              "      <td>A modern day fairy tale</td>\n",
              "      <td>A twist of rumplestiskin captured on film, sta...</td>\n",
              "      <td>twist rumplestiskin captur film star michael k...</td>\n",
              "    </tr>\n",
              "    <tr>\n",
              "      <th>417838</th>\n",
              "      <td>451855</td>\n",
              "      <td>B00004CXX9</td>\n",
              "      <td>AJH6LUC1UT1ON</td>\n",
              "      <td>The Phantom of the Opera</td>\n",
              "      <td>0</td>\n",
              "      <td>0</td>\n",
              "      <td>positive</td>\n",
              "      <td>946857600</td>\n",
              "      <td>FANTASTIC!</td>\n",
              "      <td>Beetlejuice is an excellent and funny movie. K...</td>\n",
              "      <td>beetlejuic excel funni movi keaton hilari wack...</td>\n",
              "    </tr>\n",
              "  </tbody>\n",
              "</table>\n",
              "</div>"
            ],
            "text/plain": [
              "            Id  ...                                        CleanedText\n",
              "138706  150524  ...  witti littl book make son laugh loud recit car...\n",
              "138683  150501  ...  rememb see show air televis year ago child sis...\n",
              "417839  451856  ...  beetlejuic well written movi everyth excel act...\n",
              "346055  374359  ...  twist rumplestiskin captur film star michael k...\n",
              "417838  451855  ...  beetlejuic excel funni movi keaton hilari wack...\n",
              "\n",
              "[5 rows x 11 columns]"
            ]
          },
          "metadata": {
            "tags": []
          },
          "execution_count": 43
        }
      ]
    },
    {
      "cell_type": "code",
      "metadata": {
        "id": "v49sw6MAMjye",
        "colab_type": "code",
        "colab": {}
      },
      "source": [
        "x = final.drop(['Score'] , axis = 1)\n",
        "y = final['Score']"
      ],
      "execution_count": 0,
      "outputs": []
    },
    {
      "cell_type": "code",
      "metadata": {
        "id": "wXN4vYp5Mj74",
        "colab_type": "code",
        "colab": {}
      },
      "source": [
        "x_train , x_test , y_train , y_test = train_test_split(x , y , test_size = 0.25)"
      ],
      "execution_count": 0,
      "outputs": []
    },
    {
      "cell_type": "code",
      "metadata": {
        "id": "iG4iQAPWNNZ_",
        "colab_type": "code",
        "outputId": "0adab098-0131-45f9-9598-574fdb61419a",
        "colab": {
          "base_uri": "https://localhost:8080/",
          "height": 68
        }
      },
      "source": [
        "print(x_train.shape)\n",
        "print(x_test.shape)\n",
        "print(y_train.shape)"
      ],
      "execution_count": 46,
      "outputs": [
        {
          "output_type": "stream",
          "text": [
            "(112500, 10)\n",
            "(37500, 10)\n",
            "(112500,)\n"
          ],
          "name": "stdout"
        }
      ]
    },
    {
      "cell_type": "code",
      "metadata": {
        "id": "FQ8tJUrJJ6yF",
        "colab_type": "code",
        "colab": {}
      },
      "source": [
        "x_train_data = final[:100000]\n",
        "x_test_data = final[100000:150000]\n",
        "y_train = x_train_data['Score']\n",
        "y_test = x_test_data['Score']"
      ],
      "execution_count": 0,
      "outputs": []
    },
    {
      "cell_type": "code",
      "metadata": {
        "id": "lv8u8YGvJ7Rm",
        "colab_type": "code",
        "outputId": "ab72d4c6-802e-41a9-fd9d-14008cd9326b",
        "colab": {
          "base_uri": "https://localhost:8080/",
          "height": 119
        }
      },
      "source": [
        "print(\"Data\")\n",
        "print(x_train_data.shape)\n",
        "print(x_test_data.shape)\n",
        "print(\"Label\")\n",
        "print(y_train.shape)\n",
        "print(y_test.shape)"
      ],
      "execution_count": 48,
      "outputs": [
        {
          "output_type": "stream",
          "text": [
            "Data\n",
            "(100000, 11)\n",
            "(50000, 11)\n",
            "Label\n",
            "(100000,)\n",
            "(50000,)\n"
          ],
          "name": "stdout"
        }
      ]
    },
    {
      "cell_type": "code",
      "metadata": {
        "id": "V_NxqCkLJ7n4",
        "colab_type": "code",
        "outputId": "1acd3e29-29bd-4eef-a46a-ccbc76dd0f27",
        "colab": {
          "base_uri": "https://localhost:8080/",
          "height": 85
        }
      },
      "source": [
        "#BoW on Text\n",
        "print(\"**Bow Vectorizer**\")\n",
        "print(\"=\"*50)\n",
        "count_vect = CountVectorizer(min_df = 50)\n",
        "X_train_BOW = count_vect.fit_transform(x_train_data['CleanedText'])\n",
        "X_test_BOW = count_vect.transform(x_test_data['CleanedText'])\n",
        "print(X_train_BOW.shape)\n",
        "print(X_test_BOW.shape)"
      ],
      "execution_count": 49,
      "outputs": [
        {
          "output_type": "stream",
          "text": [
            "**Bow Vectorizer**\n",
            "==================================================\n",
            "(100000, 3846)\n",
            "(50000, 3846)\n"
          ],
          "name": "stdout"
        }
      ]
    },
    {
      "cell_type": "code",
      "metadata": {
        "id": "wmQo8A4hJ8GT",
        "colab_type": "code",
        "outputId": "08b03d8f-b7d3-41dc-fcb4-5482792c2a47",
        "colab": {
          "base_uri": "https://localhost:8080/",
          "height": 85
        }
      },
      "source": [
        "#TFIDF on Text\n",
        "print(\"**TFIDF Vectorizer**\")\n",
        "print(\"=\"*50) \n",
        "tf_idf_vect = TfidfVectorizer(min_df = 50)\n",
        "X_train_tfidf = tf_idf_vect.fit_transform(x_train_data['CleanedText'])\n",
        "X_test_tfidf = tf_idf_vect.transform(x_test_data['CleanedText'])\n",
        "print(X_train_tfidf.shape)\n",
        "print(X_test_tfidf.shape)"
      ],
      "execution_count": 53,
      "outputs": [
        {
          "output_type": "stream",
          "text": [
            "**TFIDF Vectorizer**\n",
            "==================================================\n",
            "(100000, 3846)\n",
            "(50000, 3846)\n"
          ],
          "name": "stdout"
        }
      ]
    },
    {
      "cell_type": "code",
      "metadata": {
        "id": "qdLxDhQyJ8ly",
        "colab_type": "code",
        "outputId": "97e07f7f-65ae-4fb6-848e-a20687f500ee",
        "colab": {
          "base_uri": "https://localhost:8080/",
          "height": 34
        }
      },
      "source": [
        "# Word2Vec in training part\n",
        "\n",
        "import gensim\n",
        "i=0\n",
        "list_of_sent_train=[]\n",
        "for sent in tqdm(x_train_data['Text'].values):\n",
        "    filtered_sentence=[]\n",
        "    sent=cleanhtml(sent)\n",
        "    for w in sent.split():\n",
        "        for cleaned_words in cleanpunc(w).split():\n",
        "            if(cleaned_words.isalpha()):    # checking is the word is alphabet\n",
        "                filtered_sentence.append(cleaned_words.lower()) # appending to the list\n",
        "            else:\n",
        "                continue \n",
        "    list_of_sent_train.append(filtered_sentence)"
      ],
      "execution_count": 54,
      "outputs": [
        {
          "output_type": "stream",
          "text": [
            "100%|██████████| 100000/100000 [00:15<00:00, 6257.33it/s]\n"
          ],
          "name": "stderr"
        }
      ]
    },
    {
      "cell_type": "code",
      "metadata": {
        "id": "z9FiGHMxSRco",
        "colab_type": "code",
        "outputId": "314fdd29-94ba-48a8-ba89-be1357b3530f",
        "colab": {
          "base_uri": "https://localhost:8080/",
          "height": 34
        }
      },
      "source": [
        "# word2vec in testing part\n",
        "\n",
        "import gensim\n",
        "i=0\n",
        "list_of_sent_test=[]\n",
        "for sent in tqdm(x_test_data['Text'].values):\n",
        "    filtered_sentence=[]\n",
        "    sent=cleanhtml(sent)\n",
        "    for w in sent.split():\n",
        "        for cleaned_words in cleanpunc(w).split():\n",
        "            if(cleaned_words.isalpha()):    # checking is the word is alphabet\n",
        "                filtered_sentence.append(cleaned_words.lower()) # appending to the list\n",
        "            else:\n",
        "                continue \n",
        "    list_of_sent_test.append(filtered_sentence)"
      ],
      "execution_count": 55,
      "outputs": [
        {
          "output_type": "stream",
          "text": [
            "100%|██████████| 50000/50000 [00:08<00:00, 5614.23it/s]\n"
          ],
          "name": "stderr"
        }
      ]
    },
    {
      "cell_type": "code",
      "metadata": {
        "id": "rauy05t7J839",
        "colab_type": "code",
        "outputId": "154309ba-c79a-4406-cd02-a7ad39146b3d",
        "colab": {
          "base_uri": "https://localhost:8080/",
          "height": 88
        }
      },
      "source": [
        "print(x_train_data['Text'].values[0])\n",
        "print(\"*****************************************************************\")\n",
        "print(list_of_sent_train[0])"
      ],
      "execution_count": 56,
      "outputs": [
        {
          "output_type": "stream",
          "text": [
            "this witty little book makes my son laugh at loud. i recite it in the car as we're driving along and he always can sing the refrain. he's learned about whales, India, drooping roses:  i love all the new words this book  introduces and the silliness of it all.  this is a classic book i am  willing to bet my son will STILL be able to recite from memory when he is  in college\n",
            "*****************************************************************\n",
            "['this', 'witty', 'little', 'book', 'makes', 'my', 'son', 'laugh', 'at', 'loud', 'i', 'recite', 'it', 'in', 'the', 'car', 'as', 'were', 'driving', 'along', 'and', 'he', 'always', 'can', 'sing', 'the', 'refrain', 'hes', 'learned', 'about', 'whales', 'india', 'drooping', 'i', 'love', 'all', 'the', 'new', 'words', 'this', 'book', 'introduces', 'and', 'the', 'silliness', 'of', 'it', 'all', 'this', 'is', 'a', 'classic', 'book', 'i', 'am', 'willing', 'to', 'bet', 'my', 'son', 'will', 'still', 'be', 'able', 'to', 'recite', 'from', 'memory', 'when', 'he', 'is', 'in', 'college']\n"
          ],
          "name": "stdout"
        }
      ]
    },
    {
      "cell_type": "code",
      "metadata": {
        "id": "C1UWVBXNJ81x",
        "colab_type": "code",
        "colab": {}
      },
      "source": [
        "w2v_model = gensim.models.Word2Vec(list_of_sent_train , min_count = 5 , size = 50)"
      ],
      "execution_count": 0,
      "outputs": []
    },
    {
      "cell_type": "code",
      "metadata": {
        "id": "pdFhfji5J8yw",
        "colab_type": "code",
        "outputId": "d6bba2af-4b45-47cf-e5e9-d5e9e4abbf1d",
        "colab": {
          "base_uri": "https://localhost:8080/",
          "height": 34
        }
      },
      "source": [
        "w2v_words = list(w2v_model.wv.vocab)\n",
        "print(len(w2v_words))"
      ],
      "execution_count": 58,
      "outputs": [
        {
          "output_type": "stream",
          "text": [
            "19044\n"
          ],
          "name": "stdout"
        }
      ]
    },
    {
      "cell_type": "code",
      "metadata": {
        "id": "7psf_lh-J8wg",
        "colab_type": "code",
        "outputId": "7f23ab11-fd00-4618-b676-50975419c3e6",
        "colab": {
          "base_uri": "https://localhost:8080/",
          "height": 241
        }
      },
      "source": [
        "w2v_model.wv.most_similar('good')"
      ],
      "execution_count": 59,
      "outputs": [
        {
          "output_type": "stream",
          "text": [
            "/usr/local/lib/python3.6/dist-packages/gensim/matutils.py:737: FutureWarning: Conversion of the second argument of issubdtype from `int` to `np.signedinteger` is deprecated. In future, it will be treated as `np.int64 == np.dtype(int).type`.\n",
            "  if np.issubdtype(vec.dtype, np.int):\n"
          ],
          "name": "stderr"
        },
        {
          "output_type": "execute_result",
          "data": {
            "text/plain": [
              "[('great', 0.8294131755828857),\n",
              " ('decent', 0.8234956860542297),\n",
              " ('fantastic', 0.7529265880584717),\n",
              " ('terrific', 0.7460836172103882),\n",
              " ('yummy', 0.7196772694587708),\n",
              " ('tasty', 0.7130869030952454),\n",
              " ('bad', 0.7093679308891296),\n",
              " ('wonderful', 0.7066047191619873),\n",
              " ('fine', 0.6886641979217529),\n",
              " ('nice', 0.6878748536109924)]"
            ]
          },
          "metadata": {
            "tags": []
          },
          "execution_count": 59
        }
      ]
    },
    {
      "cell_type": "code",
      "metadata": {
        "id": "LV6e7MpaJ8s2",
        "colab_type": "code",
        "outputId": "20339f7d-243b-478f-c64d-814e9c97c2d9",
        "colab": {
          "base_uri": "https://localhost:8080/",
          "height": 68
        }
      },
      "source": [
        "# average Word2Vec in trainin\n",
        "\n",
        "sent_vectors_train = []; \n",
        "\n",
        "for sent in tqdm(list_of_sent_train):\n",
        "    sent_vec = np.zeros(50) \n",
        "    cnt_words =0; \n",
        "    for word in sent: # \n",
        "        if word in w2v_words:\n",
        "            vec = w2v_model.wv[word]\n",
        "            sent_vec += vec\n",
        "            cnt_words += 1\n",
        "    if cnt_words != 0:\n",
        "        sent_vec /= cnt_words\n",
        "    sent_vectors_train.append(sent_vec) \n",
        "\n",
        "print(len(sent_vectors_train))\n",
        "print(len(sent_vectors_train[0]))"
      ],
      "execution_count": 60,
      "outputs": [
        {
          "output_type": "stream",
          "text": [
            "100%|██████████| 100000/100000 [03:25<00:00, 486.43it/s]"
          ],
          "name": "stderr"
        },
        {
          "output_type": "stream",
          "text": [
            "100000\n",
            "50\n"
          ],
          "name": "stdout"
        },
        {
          "output_type": "stream",
          "text": [
            "\n"
          ],
          "name": "stderr"
        }
      ]
    },
    {
      "cell_type": "code",
      "metadata": {
        "id": "iUoogBSXJ8i7",
        "colab_type": "code",
        "outputId": "2a2bcc4c-53fa-49b9-f985-4e3616a2c2c7",
        "colab": {
          "base_uri": "https://localhost:8080/",
          "height": 68
        }
      },
      "source": [
        "# average Word2Vec in testing\n",
        "\n",
        "sent_vectors_test = []; \n",
        "for sent in tqdm(list_of_sent_test):\n",
        "    sent_vec = np.zeros(50) \n",
        "    cnt_words =0; \n",
        "    for word in sent: # \n",
        "        if word in w2v_words:\n",
        "            vec = w2v_model.wv[word]\n",
        "            sent_vec += vec\n",
        "            cnt_words += 1\n",
        "    if cnt_words != 0:\n",
        "        sent_vec /= cnt_words\n",
        "    sent_vectors_test.append(sent_vec) \n",
        "    \n",
        "print(len(sent_vectors_test))\n",
        "print(len(sent_vectors_test[0]))"
      ],
      "execution_count": 61,
      "outputs": [
        {
          "output_type": "stream",
          "text": [
            "100%|██████████| 50000/50000 [01:50<00:00, 452.50it/s]"
          ],
          "name": "stderr"
        },
        {
          "output_type": "stream",
          "text": [
            "50000\n",
            "50\n"
          ],
          "name": "stdout"
        },
        {
          "output_type": "stream",
          "text": [
            "\n"
          ],
          "name": "stderr"
        }
      ]
    },
    {
      "cell_type": "code",
      "metadata": {
        "id": "AidS-NVqJ8g1",
        "colab_type": "code",
        "colab": {}
      },
      "source": [
        "tfidf_vect = TfidfVectorizer(min_df = 50)\n",
        "train_tfidf_w2v = tfidf_vect.fit_transform(x_train_data[\"CleanedText\"])\n",
        "test_tfidf_w2v = tfidf_vect.transform(x_test_data[\"CleanedText\"])\n",
        "\n",
        "dictionary = dict(zip(tfidf_vect.get_feature_names(), list(tfidf_vect.idf_)))"
      ],
      "execution_count": 0,
      "outputs": []
    },
    {
      "cell_type": "code",
      "metadata": {
        "id": "ribzkETGJ8e1",
        "colab_type": "code",
        "outputId": "d7da5935-11d0-4e96-f4ca-caccb1903004",
        "colab": {
          "base_uri": "https://localhost:8080/",
          "height": 51
        }
      },
      "source": [
        "print(train_tfidf_w2v.shape)\n",
        "print(test_tfidf_w2v.shape)"
      ],
      "execution_count": 63,
      "outputs": [
        {
          "output_type": "stream",
          "text": [
            "(100000, 3846)\n",
            "(50000, 3846)\n"
          ],
          "name": "stdout"
        }
      ]
    },
    {
      "cell_type": "code",
      "metadata": {
        "id": "SkJ51v7EJ8af",
        "colab_type": "code",
        "outputId": "a69f8a5f-2dea-4c19-c962-66c3a8591ddb",
        "colab": {
          "base_uri": "https://localhost:8080/",
          "height": 34
        }
      },
      "source": [
        "# TF-IDF weighted Word2Vec in training\n",
        "\n",
        "tfidf_feat = tfidf_vect.get_feature_names() \n",
        "\n",
        "tfidf_sent_vectors_train = []\n",
        "row=0;\n",
        "\n",
        "for sent in tqdm(list_of_sent_train): \n",
        "    sent_vec = np.zeros(50) \n",
        "    weight_sum =0\n",
        "\n",
        "    for word in sent: \n",
        "        if word in w2v_words and word in tfidf_feat:\n",
        "            vec = w2v_model.wv[word]\n",
        "            tf_idf = dictionary[word]*(sent.count(word)/len(sent))\n",
        "\n",
        "            sent_vec += (vec * tf_idf)\n",
        "            weight_sum += tf_idf\n",
        "\n",
        "    if weight_sum != 0:\n",
        "        sent_vec /= weight_sum\n",
        "    tfidf_sent_vectors_train.append(sent_vec)\n",
        "    row += 1"
      ],
      "execution_count": 64,
      "outputs": [
        {
          "output_type": "stream",
          "text": [
            "100%|██████████| 100000/100000 [08:45<00:00, 190.19it/s]\n"
          ],
          "name": "stderr"
        }
      ]
    },
    {
      "cell_type": "code",
      "metadata": {
        "id": "LkhFEv-uJ8XA",
        "colab_type": "code",
        "outputId": "47f2389e-71cc-43a3-8486-8e39928d9f5a",
        "colab": {
          "base_uri": "https://localhost:8080/",
          "height": 34
        }
      },
      "source": [
        "# TF-IDF weighted Word2Vec in testing\n",
        "\n",
        "tfidf_feat = tfidf_vect.get_feature_names() \n",
        "\n",
        "tfidf_sent_vectors_test = []\n",
        "row=0\n",
        "\n",
        "for sent in tqdm(list_of_sent_test): \n",
        "    sent_vec = np.zeros(50)\n",
        "    weight_sum =0\n",
        "    for word in sent: \n",
        "        if word in w2v_words and word in tfidf_feat:\n",
        "            vec = w2v_model.wv[word]\n",
        "            tf_idf = dictionary[word]*(sent.count(word)/len(sent))\n",
        "\n",
        "            sent_vec += (vec * tf_idf)\n",
        "            weight_sum += tf_idf\n",
        "            \n",
        "    if weight_sum != 0:\n",
        "        sent_vec /= weight_sum\n",
        "    tfidf_sent_vectors_test.append(sent_vec)\n",
        "    row += 1"
      ],
      "execution_count": 65,
      "outputs": [
        {
          "output_type": "stream",
          "text": [
            "100%|██████████| 50000/50000 [04:34<00:00, 182.23it/s]\n"
          ],
          "name": "stderr"
        }
      ]
    },
    {
      "cell_type": "code",
      "metadata": {
        "id": "plM7cqvkJ8U5",
        "colab_type": "code",
        "colab": {}
      },
      "source": [
        "# Logistic Regression with BOW"
      ],
      "execution_count": 0,
      "outputs": []
    },
    {
      "cell_type": "code",
      "metadata": {
        "id": "XNMJyapgpLr_",
        "colab_type": "code",
        "colab": {
          "base_uri": "https://localhost:8080/",
          "height": 221
        },
        "outputId": "f8bb2a78-2e58-4526-d227-06736d111a06"
      },
      "source": [
        "!pip install scikit-plot"
      ],
      "execution_count": 134,
      "outputs": [
        {
          "output_type": "stream",
          "text": [
            "Requirement already satisfied: scikit-plot in /usr/local/lib/python3.6/dist-packages (0.3.7)\n",
            "Requirement already satisfied: matplotlib>=1.4.0 in /usr/local/lib/python3.6/dist-packages (from scikit-plot) (3.1.3)\n",
            "Requirement already satisfied: scipy>=0.9 in /usr/local/lib/python3.6/dist-packages (from scikit-plot) (1.4.1)\n",
            "Requirement already satisfied: scikit-learn>=0.18 in /usr/local/lib/python3.6/dist-packages (from scikit-plot) (0.22.1)\n",
            "Requirement already satisfied: joblib>=0.10 in /usr/local/lib/python3.6/dist-packages (from scikit-plot) (0.14.1)\n",
            "Requirement already satisfied: pyparsing!=2.0.4,!=2.1.2,!=2.1.6,>=2.0.1 in /usr/local/lib/python3.6/dist-packages (from matplotlib>=1.4.0->scikit-plot) (2.4.6)\n",
            "Requirement already satisfied: cycler>=0.10 in /usr/local/lib/python3.6/dist-packages (from matplotlib>=1.4.0->scikit-plot) (0.10.0)\n",
            "Requirement already satisfied: kiwisolver>=1.0.1 in /usr/local/lib/python3.6/dist-packages (from matplotlib>=1.4.0->scikit-plot) (1.1.0)\n",
            "Requirement already satisfied: python-dateutil>=2.1 in /usr/local/lib/python3.6/dist-packages (from matplotlib>=1.4.0->scikit-plot) (2.6.1)\n",
            "Requirement already satisfied: numpy>=1.11 in /usr/local/lib/python3.6/dist-packages (from matplotlib>=1.4.0->scikit-plot) (1.17.5)\n",
            "Requirement already satisfied: six in /usr/local/lib/python3.6/dist-packages (from cycler>=0.10->matplotlib>=1.4.0->scikit-plot) (1.12.0)\n",
            "Requirement already satisfied: setuptools in /usr/local/lib/python3.6/dist-packages (from kiwisolver>=1.0.1->matplotlib>=1.4.0->scikit-plot) (45.2.0)\n"
          ],
          "name": "stdout"
        }
      ]
    },
    {
      "cell_type": "code",
      "metadata": {
        "id": "4zrYCfLppO1O",
        "colab_type": "code",
        "colab": {}
      },
      "source": [
        "import scikitplot as skplt"
      ],
      "execution_count": 0,
      "outputs": []
    },
    {
      "cell_type": "code",
      "metadata": {
        "id": "D__xrwpkJ8Sp",
        "colab_type": "code",
        "colab": {}
      },
      "source": [
        "#Standardising the train and test data\n",
        "sc = StandardScaler(copy = True , with_mean = False , with_std = True)\n",
        "X_train = sc.fit_transform(X_train_BOW)\n",
        "X_test = sc.transform(X_test_BOW)"
      ],
      "execution_count": 0,
      "outputs": []
    },
    {
      "cell_type": "code",
      "metadata": {
        "id": "Viv6jaCHJ8Ql",
        "colab_type": "code",
        "colab": {
          "base_uri": "https://localhost:8080/",
          "height": 34
        },
        "outputId": "f005ebe4-ef3f-4d14-b103-68383441d39b"
      },
      "source": [
        "from sklearn.linear_model import LogisticRegression\n",
        "\n",
        "tuned_parameters = [10**-4, 10**-2, 10**0, 10**2, 10**4]\n",
        "\n",
        "cv_scores = []\n",
        "\n",
        "for i in tqdm(tuned_parameters):\n",
        "    model = LogisticRegression(penalty = 'l1' , C = i , n_jobs = -1)\n",
        "    scores = cross_val_score(model , X_train , y_train , cv = 10 , scoring = 'roc_auc' , n_jobs = -1)\n",
        "    cv_scores.append(scores.mean()) "
      ],
      "execution_count": 92,
      "outputs": [
        {
          "output_type": "stream",
          "text": [
            "100%|██████████| 5/5 [00:01<00:00,  2.86it/s]\n"
          ],
          "name": "stderr"
        }
      ]
    },
    {
      "cell_type": "code",
      "metadata": {
        "id": "efAVOdSkdgrx",
        "colab_type": "code",
        "colab": {
          "base_uri": "https://localhost:8080/",
          "height": 51
        },
        "outputId": "c6c0a3c7-84b1-46d0-e5d3-7671c4fcc6eb"
      },
      "source": [
        "optimal_C = tuned_parameters[cv_scores.index(max(cv_scores))]\n",
        "print('\\nThe optimal value of C is %.3f.' % optimal_C)"
      ],
      "execution_count": 109,
      "outputs": [
        {
          "output_type": "stream",
          "text": [
            "\n",
            "The optimal value of C is 0.000.\n"
          ],
          "name": "stdout"
        }
      ]
    },
    {
      "cell_type": "code",
      "metadata": {
        "id": "lHYV_-4xJ8OW",
        "colab_type": "code",
        "colab": {
          "base_uri": "https://localhost:8080/",
          "height": 623
        },
        "outputId": "065f83a1-fde1-4a5b-b373-be2794f3fb71"
      },
      "source": [
        "# plot accuracy vs alpha \n",
        "plt.figure(figsize = (10 , 10))\n",
        "plt.plot(tuned_parameters , cv_scores , label = \"Train AUC\")\n",
        "plt.xlabel('Hypreparameter',size=9)\n",
        "plt.ylabel('Area under ROC Curve',size=9)\n",
        "plt.title('Area under ROC Curve VS Hyperparameter curve',size=16)\n",
        "plt.legend(loc='best')\n",
        "plt.grid()\n",
        "plt.show()"
      ],
      "execution_count": 95,
      "outputs": [
        {
          "output_type": "display_data",
          "data": {
            "image/png": "[encoded data removed]",
            "text/plain": [
              "<Figure size 720x720 with 1 Axes>"
            ]
          },
          "metadata": {
            "tags": []
          }
        }
      ]
    },
    {
      "cell_type": "code",
      "metadata": {
        "id": "IGwTcIM0J8EB",
        "colab_type": "code",
        "colab": {
          "base_uri": "https://localhost:8080/",
          "height": 346
        },
        "outputId": "4f587859-6b82-44e7-aa1c-55def12cb19a"
      },
      "source": [
        "# Logistic Regression with Optimal value of C i.e.(1/lambda)\n",
        "\n",
        "lr = LogisticRegression(penalty='l2', C = 0.010 , n_jobs=-1)\n",
        "lr.fit(X_train , y_train)\n",
        "pred = lr.predict(X_test)\n",
        "\n",
        "\n",
        "print(\"***Test Data Report***\")\n",
        "print(\"Best C = \",optimal_C)\n",
        "fpr, tpr, threshold = roc_curve(y_test, lr.predict_proba(X_test)[:,1],pos_label=\"positive\")\n",
        "auc = metrics.auc(fpr, tpr)\n",
        "print(\"AUC = \",auc*100)\n",
        "skplt.metrics.plot_confusion_matrix(y_test, pred)\n",
        "plt.show()"
      ],
      "execution_count": 136,
      "outputs": [
        {
          "output_type": "stream",
          "text": [
            "***Test Data Report***\n",
            "Best C =  0.0001\n",
            "AUC =  92.43015361850345\n"
          ],
          "name": "stdout"
        },
        {
          "output_type": "display_data",
          "data": {
            "image/png": "[encoded data removed]",
            "text/plain": [
              "<Figure size 432x288 with 2 Axes>"
            ]
          },
          "metadata": {
            "tags": []
          }
        }
      ]
    },
    {
      "cell_type": "code",
      "metadata": {
        "id": "vtoXhmurJ8BX",
        "colab_type": "code",
        "colab": {}
      },
      "source": [
        "fpr, tpr, threshold = metrics.roc_curve(y_test, lr.predict_proba(X_test)[:,1],pos_label=\"positive\")\n",
        "fpr2, tpr2, threshold2 = metrics.roc_curve(y_train, lr.predict_proba(X_train)[:,1],pos_label=\"positive\")\n",
        "\n",
        "roc_auc = metrics.auc(fpr, tpr)\n",
        "roc_auc2 = metrics.auc(fpr2, tpr2)"
      ],
      "execution_count": 0,
      "outputs": []
    },
    {
      "cell_type": "code",
      "metadata": {
        "id": "RGu1Ilg6J7-f",
        "colab_type": "code",
        "colab": {
          "base_uri": "https://localhost:8080/",
          "height": 495
        },
        "outputId": "76ac7cab-6132-40f6-fe46-70aa45ddf17c"
      },
      "source": [
        "# plot ROC-curve\n",
        "plt.title('Receiver Operating Characteristic Curve')\n",
        "plt.gca().set_color_cycle(['red', 'green'])\n",
        "plt.plot(fpr, tpr, label = 'AUC = %0.2f' % roc_auc)\n",
        "plt.plot(fpr2, tpr2, label = 'AUC = %0.2f' % roc_auc2)\n",
        "plt.legend(['TEST Data', 'TRAIN Data'],loc = 'lower right')\n",
        "\n",
        "plt.plot([0, 1], [0, 1],'r--')\n",
        "plt.xlim([0, 1])\n",
        "plt.ylim([0, 1])\n",
        "plt.ylabel('True Positive Rate')\n",
        "plt.xlabel('False Positive Rate')\n",
        "plt.show()"
      ],
      "execution_count": 118,
      "outputs": [
        {
          "output_type": "error",
          "ename": "AttributeError",
          "evalue": "ignored",
          "traceback": [
            "\u001b[0;31m---------------------------------------------------------------------------\u001b[0m",
            "\u001b[0;31mAttributeError\u001b[0m                            Traceback (most recent call last)",
            "\u001b[0;32m<ipython-input-118-4b127fb608c6>\u001b[0m in \u001b[0;36m<module>\u001b[0;34m()\u001b[0m\n\u001b[1;32m      1\u001b[0m \u001b[0mplt\u001b[0m\u001b[0;34m.\u001b[0m\u001b[0mtitle\u001b[0m\u001b[0;34m(\u001b[0m\u001b[0;34m'Receiver Operating Characteristic Curve'\u001b[0m\u001b[0;34m)\u001b[0m\u001b[0;34m\u001b[0m\u001b[0;34m\u001b[0m\u001b[0m\n\u001b[0;32m----> 2\u001b[0;31m \u001b[0mplt\u001b[0m\u001b[0;34m.\u001b[0m\u001b[0mgca\u001b[0m\u001b[0;34m(\u001b[0m\u001b[0;34m)\u001b[0m\u001b[0;34m.\u001b[0m\u001b[0mset_color_cycle\u001b[0m\u001b[0;34m(\u001b[0m\u001b[0;34m[\u001b[0m\u001b[0;34m'red'\u001b[0m\u001b[0;34m,\u001b[0m \u001b[0;34m'green'\u001b[0m\u001b[0;34m]\u001b[0m\u001b[0;34m)\u001b[0m\u001b[0;34m\u001b[0m\u001b[0;34m\u001b[0m\u001b[0m\n\u001b[0m\u001b[1;32m      3\u001b[0m \u001b[0mplt\u001b[0m\u001b[0;34m.\u001b[0m\u001b[0mplot\u001b[0m\u001b[0;34m(\u001b[0m\u001b[0mfpr\u001b[0m\u001b[0;34m,\u001b[0m \u001b[0mtpr\u001b[0m\u001b[0;34m,\u001b[0m \u001b[0mlabel\u001b[0m \u001b[0;34m=\u001b[0m \u001b[0;34m'AUC = %0.2f'\u001b[0m \u001b[0;34m%\u001b[0m \u001b[0mroc_auc\u001b[0m\u001b[0;34m)\u001b[0m\u001b[0;34m\u001b[0m\u001b[0;34m\u001b[0m\u001b[0m\n\u001b[1;32m      4\u001b[0m \u001b[0mplt\u001b[0m\u001b[0;34m.\u001b[0m\u001b[0mplot\u001b[0m\u001b[0;34m(\u001b[0m\u001b[0mfpr2\u001b[0m\u001b[0;34m,\u001b[0m \u001b[0mtpr2\u001b[0m\u001b[0;34m,\u001b[0m \u001b[0mlabel\u001b[0m \u001b[0;34m=\u001b[0m \u001b[0;34m'AUC = %0.2f'\u001b[0m \u001b[0;34m%\u001b[0m \u001b[0mroc_auc2\u001b[0m\u001b[0;34m)\u001b[0m\u001b[0;34m\u001b[0m\u001b[0;34m\u001b[0m\u001b[0m\n\u001b[1;32m      5\u001b[0m \u001b[0mplt\u001b[0m\u001b[0;34m.\u001b[0m\u001b[0mlegend\u001b[0m\u001b[0;34m(\u001b[0m\u001b[0;34m[\u001b[0m\u001b[0;34m'TEST Data'\u001b[0m\u001b[0;34m,\u001b[0m \u001b[0;34m'TRAIN Data'\u001b[0m\u001b[0;34m]\u001b[0m\u001b[0;34m,\u001b[0m\u001b[0mloc\u001b[0m \u001b[0;34m=\u001b[0m \u001b[0;34m'lower right'\u001b[0m\u001b[0;34m)\u001b[0m\u001b[0;34m\u001b[0m\u001b[0;34m\u001b[0m\u001b[0m\n",
            "\u001b[0;31mAttributeError\u001b[0m: 'AxesSubplot' object has no attribute 'set_color_cycle'"
          ]
        },
        {
          "output_type": "display_data",
          "data": {
            "image/png": "[encoded data removed]",
            "text/plain": [
              "<Figure size 432x288 with 1 Axes>"
            ]
          },
          "metadata": {
            "tags": []
          }
        }
      ]
    },
    {
      "cell_type": "code",
      "metadata": {
        "id": "b5Q8LNMkJ77J",
        "colab_type": "code",
        "colab": {}
      },
      "source": [
        "# Sparcity Check on Logistic Regression"
      ],
      "execution_count": 0,
      "outputs": []
    },
    {
      "cell_type": "code",
      "metadata": {
        "id": "R--pyO_gJ730",
        "colab_type": "code",
        "colab": {
          "base_uri": "https://localhost:8080/",
          "height": 180
        },
        "outputId": "c351bcf1-b713-4134-a590-5d5b1603dc43"
      },
      "source": [
        "w = lr.coef_\n",
        "print(\"Sparsity on Weight Vector = \",np.count_nonzero(w))"
      ],
      "execution_count": 73,
      "outputs": [
        {
          "output_type": "error",
          "ename": "NameError",
          "evalue": "ignored",
          "traceback": [
            "\u001b[0;31m---------------------------------------------------------------------------\u001b[0m",
            "\u001b[0;31mNameError\u001b[0m                                 Traceback (most recent call last)",
            "\u001b[0;32m<ipython-input-73-75e2965dc837>\u001b[0m in \u001b[0;36m<module>\u001b[0;34m()\u001b[0m\n\u001b[0;32m----> 1\u001b[0;31m \u001b[0mw\u001b[0m \u001b[0;34m=\u001b[0m \u001b[0mlr\u001b[0m\u001b[0;34m.\u001b[0m\u001b[0mcoef_\u001b[0m\u001b[0;34m\u001b[0m\u001b[0;34m\u001b[0m\u001b[0m\n\u001b[0m\u001b[1;32m      2\u001b[0m \u001b[0mprint\u001b[0m\u001b[0;34m(\u001b[0m\u001b[0;34m\"Sparsity on Weight Vector = \"\u001b[0m\u001b[0;34m,\u001b[0m\u001b[0mnp\u001b[0m\u001b[0;34m.\u001b[0m\u001b[0mcount_nonzero\u001b[0m\u001b[0;34m(\u001b[0m\u001b[0mw\u001b[0m\u001b[0;34m)\u001b[0m\u001b[0;34m)\u001b[0m\u001b[0;34m\u001b[0m\u001b[0;34m\u001b[0m\u001b[0m\n",
            "\u001b[0;31mNameError\u001b[0m: name 'lr' is not defined"
          ]
        }
      ]
    },
    {
      "cell_type": "code",
      "metadata": {
        "id": "oT-p6etlJ711",
        "colab_type": "code",
        "colab": {}
      },
      "source": [
        "hyperparameter = [10**0, 10**-1, 10**-2, 10**-3, 10**-4, 10**-5];\n",
        "sparsity = []\n",
        "performance = []"
      ],
      "execution_count": 0,
      "outputs": []
    },
    {
      "cell_type": "code",
      "metadata": {
        "id": "WTGHgjURJ7z6",
        "colab_type": "code",
        "colab": {}
      },
      "source": [
        "for i in hyperparameter:\n",
        "    model = LogisticRegression(C=i, penalty='l1');\n",
        "    model.fit(X_test, y_test);\n",
        "    weight = model.coef_\n",
        "    sparsity.append(np.count_nonzero(weight))"
      ],
      "execution_count": 0,
      "outputs": []
    },
    {
      "cell_type": "code",
      "metadata": {
        "id": "I5TgIcm3J7xb",
        "colab_type": "code",
        "colab": {}
      },
      "source": [
        "#plotting the the Sparsity graph\n",
        "plt.plot(hyperparameter, sparsity, 'ks--',label='Sparsity Grap')\n",
        "plt.xlabel('lambda ')\n",
        "plt.ylabel('feature_count')\n",
        "plt.title(\"Sparsity Graph\")\n",
        "plt.legend()\n",
        "plt.show()\n",
        "print(\"C = \",hyperparameter)\n",
        "print(\"sparsity = \",sparsity)"
      ],
      "execution_count": 0,
      "outputs": []
    },
    {
      "cell_type": "code",
      "metadata": {
        "id": "t5AHrOhiJ7t1",
        "colab_type": "code",
        "colab": {}
      },
      "source": [
        "# Multi-collinearity Check"
      ],
      "execution_count": 0,
      "outputs": []
    },
    {
      "cell_type": "code",
      "metadata": {
        "id": "Zwd398wIJ7l7",
        "colab_type": "code",
        "colab": {
          "base_uri": "https://localhost:8080/",
          "height": 51
        },
        "outputId": "a1bb7c54-6364-4295-b22b-5ffcfd792fe3"
      },
      "source": [
        "X_train.data = X_train.data + 0.01\n",
        "print(X_train.shape)\n",
        "print(X_test.shape)"
      ],
      "execution_count": 74,
      "outputs": [
        {
          "output_type": "stream",
          "text": [
            "(100000, 3846)\n",
            "(50000, 3846)\n"
          ],
          "name": "stdout"
        }
      ]
    },
    {
      "cell_type": "code",
      "metadata": {
        "id": "LttLJq78J7kH",
        "colab_type": "code",
        "colab": {
          "base_uri": "https://localhost:8080/",
          "height": 34
        },
        "outputId": "31e63f83-6f33-4472-abca-aa10388207e3"
      },
      "source": [
        "# Logistic Regression with Optimal value of C i.e.(1/lambda)\n",
        "lr = LogisticRegression(penalty='l2', C=optimal_C, n_jobs=-1)\n",
        "lr.fit(X_train,y_train)\n",
        "pred = lr.predict(X_test)\n",
        "\n",
        "w_dash = lr.coef_\n",
        "fpr, tpr, threshold = metrics.roc_curve(y_test, lr.predict_proba(X_test)[:,1],pos_label=\"positive\")\n",
        "auc = metrics.auc(fpr, tpr)\n",
        "print(\"AUC = \",auc*100)"
      ],
      "execution_count": 137,
      "outputs": [
        {
          "output_type": "stream",
          "text": [
            "AUC =  93.6660838350876\n"
          ],
          "name": "stdout"
        }
      ]
    },
    {
      "cell_type": "code",
      "metadata": {
        "id": "0-qSIZMQJ7iU",
        "colab_type": "code",
        "colab": {}
      },
      "source": [
        "w = w[0] + 0.000001\n",
        "w_dash = w_dash[0] +0.000001\n",
        "W = list(w)\n",
        "W_Dash = list(w_dash)"
      ],
      "execution_count": 0,
      "outputs": []
    },
    {
      "cell_type": "code",
      "metadata": {
        "id": "eCX71LXvJ7gN",
        "colab_type": "code",
        "colab": {
          "base_uri": "https://localhost:8080/",
          "height": 34
        },
        "outputId": "87e1a4ff-1583-4e60-e673-cf71d5ce0849"
      },
      "source": [
        "change_percentage = []\n",
        "# count = 0;\n",
        "for i in tqdm(range(0,len(W))):\n",
        "    change = 0\n",
        "    change=(abs((W[i]-(W_Dash[i]))/(W[i])))*100\n",
        "    change_percentage.append(change)"
      ],
      "execution_count": 139,
      "outputs": [
        {
          "output_type": "stream",
          "text": [
            "100%|██████████| 3846/3846 [00:00<00:00, 420820.00it/s]\n"
          ],
          "name": "stderr"
        }
      ]
    },
    {
      "cell_type": "code",
      "metadata": {
        "id": "_JRon6o3J7c0",
        "colab_type": "code",
        "colab": {
          "base_uri": "https://localhost:8080/",
          "height": 295
        },
        "outputId": "a8a8e832-2b67-4023-c6b1-69bad1c46087"
      },
      "source": [
        "percentile_value = []\n",
        "percentile = []\n",
        "i = 0\n",
        "while i < 100:\n",
        "    percentile.append(i)\n",
        "    percentile_value.append(np.percentile(change_percentage,i))\n",
        "    i+=1;\n",
        "    \n",
        "# percentile_value_change_plot\n",
        "plt.plot(percentile, percentile_value, 'r',label='Vector Change')\n",
        "plt.xlabel('percentile')\n",
        "plt.ylabel('Percentage Change')\n",
        "plt.title(\"Percentile value\")\n",
        "plt.legend(loc = 'best')\n",
        "plt.grid()\n",
        "plt.show()"
      ],
      "execution_count": 140,
      "outputs": [
        {
          "output_type": "display_data",
          "data": {
            "image/png": "[encoded data removed]",
            "text/plain": [
              "<Figure size 432x288 with 1 Axes>"
            ]
          },
          "metadata": {
            "tags": []
          }
        }
      ]
    },
    {
      "cell_type": "code",
      "metadata": {
        "id": "2yzVMwpPJ7XK",
        "colab_type": "code",
        "colab": {
          "base_uri": "https://localhost:8080/",
          "height": 295
        },
        "outputId": "7be03223-4575-481e-bac8-ac40408e03fa"
      },
      "source": [
        "# Calculating 90 to 100 percentile\n",
        "percentile_value = []\n",
        "percentile = []\n",
        "i = 90\n",
        "while i < 100:\n",
        "    percentile.append(i)\n",
        "    percentile_value.append(np.percentile(change_percentage,i))\n",
        "    i+=1;\n",
        "    \n",
        "# percentile_value_change_plot\n",
        "plt.plot(percentile, percentile_value, 'r',label='Vector Change')\n",
        "plt.xlabel('percentile')\n",
        "plt.ylabel('Percentage Change')\n",
        "plt.title(\"Percentile value\")\n",
        "plt.legend(loc = 'best')\n",
        "plt.grid()\n",
        "plt.show()"
      ],
      "execution_count": 141,
      "outputs": [
        {
          "output_type": "display_data",
          "data": {
            "image/png": "[encoded data removed]",
            "text/plain": [
              "<Figure size 432x288 with 1 Axes>"
            ]
          },
          "metadata": {
            "tags": []
          }
        }
      ]
    },
    {
      "cell_type": "code",
      "metadata": {
        "id": "xfgbQ1GNJ7Pg",
        "colab_type": "code",
        "colab": {
          "base_uri": "https://localhost:8080/",
          "height": 295
        },
        "outputId": "4c7edebd-22f5-4a76-d155-86a762076f61"
      },
      "source": [
        "#Calculating 98 to 100 percentile\n",
        "percentile_value = []\n",
        "percentile = []\n",
        "i = 97\n",
        "while i < 100:\n",
        "    percentile.append(i)\n",
        "    percentile_value.append(np.percentile(change_percentage,i))\n",
        "    i+=1;\n",
        "    \n",
        "# percentile_value_change_plot\n",
        "plt.plot(percentile, percentile_value, 'r--',label='Vector Change')\n",
        "plt.xlabel('percentile')\n",
        "plt.ylabel('Percentage Change')\n",
        "plt.title(\"Percentile value\")\n",
        "plt.legend(loc = 'best')\n",
        "plt.grid()\n",
        "plt.show()"
      ],
      "execution_count": 142,
      "outputs": [
        {
          "output_type": "display_data",
          "data": {
            "image/png": "[encoded data removed]",
            "text/plain": [
              "<Figure size 432x288 with 1 Axes>"
            ]
          },
          "metadata": {
            "tags": []
          }
        }
      ]
    },
    {
      "cell_type": "code",
      "metadata": {
        "id": "L7g2KT55J7MX",
        "colab_type": "code",
        "colab": {
          "base_uri": "https://localhost:8080/",
          "height": 295
        },
        "outputId": "1ac3e1f3-5a75-42ee-c672-e35ddddd7637"
      },
      "source": [
        "#Calculating 98 to 100 percentile\n",
        "percentile_value = []\n",
        "percentile = []\n",
        "i = 97\n",
        "while i < 99:\n",
        "    percentile.append(i)\n",
        "    percentile_value.append(np.percentile(change_percentage,i))\n",
        "    i+=0.1;\n",
        "    \n",
        "# percentile_value_change_plot\n",
        "plt.plot(percentile, percentile_value, 'r--',label='Vector Change')\n",
        "plt.xlabel('percentile')\n",
        "plt.ylabel('Percentage Change')\n",
        "plt.title(\"Percentile value\")\n",
        "plt.legend(loc = 'best')\n",
        "plt.grid()\n",
        "plt.show()"
      ],
      "execution_count": 143,
      "outputs": [
        {
          "output_type": "display_data",
          "data": {
            "image/png": "[encoded data removed]",
            "text/plain": [
              "<Figure size 432x288 with 1 Axes>"
            ]
          },
          "metadata": {
            "tags": []
          }
        }
      ]
    },
    {
      "cell_type": "code",
      "metadata": {
        "id": "nfd_IgDLJ7KX",
        "colab_type": "code",
        "colab": {
          "base_uri": "https://localhost:8080/",
          "height": 68
        },
        "outputId": "2d1ed551-2c22-4752-ec17-e59b35283abf"
      },
      "source": [
        "#w_with_greater_than_thresold = []\n",
        "# temp_weight = list(w[0])\n",
        "feature_names = count_vect.get_feature_names() #getting all feature name\n",
        "feature_above_threshold = []\n",
        "number_of_points_above_threshold = 0;\n",
        "for i in range(0,len(change_percentage)):\n",
        "    if change_percentage[i] > 1.5:\n",
        "        number_of_points_above_threshold += 1;\n",
        "        feature_above_threshold.append(feature_names[i])\n",
        "        \n",
        "print(\"Number_of_points_above_threshold = \",number_of_points_above_threshold)\n",
        "print(\"=\"*50)\n",
        "print(\"*Feature_Name_above_threshold* = \",feature_above_threshold)"
      ],
      "execution_count": 144,
      "outputs": [
        {
          "output_type": "stream",
          "text": [
            "Number_of_points_above_threshold =  0\n",
            "==================================================\n",
            "*Feature_Name_above_threshold* =  []\n"
          ],
          "name": "stdout"
        }
      ]
    },
    {
      "cell_type": "code",
      "metadata": {
        "id": "M6nTXy4zJ7G3",
        "colab_type": "code",
        "colab": {}
      },
      "source": [
        "# Feature importance of BOW"
      ],
      "execution_count": 0,
      "outputs": []
    },
    {
      "cell_type": "code",
      "metadata": {
        "id": "wwRDG-lmJ7DR",
        "colab_type": "code",
        "colab": {}
      },
      "source": [
        "feature_name = count_vect.get_feature_names()\n",
        "w = lr.coef_\n",
        "weight=w.reshape(-1)\n",
        "sorted_feature = np.argsort(weight)\n",
        "top_20_positive_feature=sorted_feature[:-20:-1]"
      ],
      "execution_count": 0,
      "outputs": []
    },
    {
      "cell_type": "code",
      "metadata": {
        "id": "0J1L8bErJ7Be",
        "colab_type": "code",
        "colab": {
          "base_uri": "https://localhost:8080/",
          "height": 374
        },
        "outputId": "c5945052-ce39-460f-8c9f-64569a174a89"
      },
      "source": [
        "print(\"Positive feature top 20 :\")\n",
        "print(\"-------\")\n",
        "for i in top_20_positive_feature:\n",
        "    print(\"%s\\t-->\\t%f\"%(feature_name[i],weight[i]))"
      ],
      "execution_count": 147,
      "outputs": [
        {
          "output_type": "stream",
          "text": [
            "Positive feature top 20 :\n",
            "-------\n",
            "great\t-->\t0.172443\n",
            "love\t-->\t0.127169\n",
            "best\t-->\t0.123355\n",
            "delici\t-->\t0.101422\n",
            "good\t-->\t0.085427\n",
            "perfect\t-->\t0.084079\n",
            "excel\t-->\t0.081604\n",
            "favorit\t-->\t0.071744\n",
            "nice\t-->\t0.069355\n",
            "wonder\t-->\t0.068817\n",
            "easi\t-->\t0.062977\n",
            "find\t-->\t0.060368\n",
            "amaz\t-->\t0.058406\n",
            "alway\t-->\t0.057431\n",
            "tasti\t-->\t0.056292\n",
            "thank\t-->\t0.055924\n",
            "happi\t-->\t0.052241\n",
            "addict\t-->\t0.050011\n",
            "keep\t-->\t0.049239\n"
          ],
          "name": "stdout"
        }
      ]
    },
    {
      "cell_type": "code",
      "metadata": {
        "id": "UOkeTdKdJ6_p",
        "colab_type": "code",
        "colab": {}
      },
      "source": [
        "w = lr.coef_\n",
        "weight=w.reshape(-1)\n",
        "sorted_feature = np.argsort(weight)\n",
        "feature_name = count_vect.get_feature_names()\n",
        "top_20_negative_feature = sorted_feature[:20]"
      ],
      "execution_count": 0,
      "outputs": []
    },
    {
      "cell_type": "code",
      "metadata": {
        "id": "4hgEo03vJ692",
        "colab_type": "code",
        "colab": {
          "base_uri": "https://localhost:8080/",
          "height": 391
        },
        "outputId": "ddd27546-44cc-4ec8-c11c-eccc1c7821e4"
      },
      "source": [
        "print(\"Negative feature top 20 :\")\n",
        "print(\"-------\")\n",
        "for i in top_20_negative_feature:\n",
        "    print(\"%s\\t -->\\t%f  \"%(feature_name[i],weight[i]))"
      ],
      "execution_count": 149,
      "outputs": [
        {
          "output_type": "stream",
          "text": [
            "Negative feature top 20 :\n",
            "-------\n",
            "disappoint\t -->\t-0.157287  \n",
            "worst\t -->\t-0.107155  \n",
            "terribl\t -->\t-0.090925  \n",
            "horribl\t -->\t-0.086424  \n",
            "money\t -->\t-0.085974  \n",
            "return\t -->\t-0.082643  \n",
            "aw\t -->\t-0.079710  \n",
            "bad\t -->\t-0.076856  \n",
            "threw\t -->\t-0.074877  \n",
            "unfortun\t -->\t-0.072372  \n",
            "bland\t -->\t-0.070864  \n",
            "wast\t -->\t-0.068082  \n",
            "stale\t -->\t-0.067890  \n",
            "thought\t -->\t-0.067459  \n",
            "would\t -->\t-0.062146  \n",
            "tast\t -->\t-0.060110  \n",
            "mayb\t -->\t-0.058680  \n",
            "sorri\t -->\t-0.057642  \n",
            "tasteless\t -->\t-0.055176  \n",
            "weak\t -->\t-0.054873  \n"
          ],
          "name": "stdout"
        }
      ]
    },
    {
      "cell_type": "code",
      "metadata": {
        "id": "BDN5JfOnJ67n",
        "colab_type": "code",
        "colab": {}
      },
      "source": [
        "# Logistic Regression on TFIDF L2 Regularization"
      ],
      "execution_count": 0,
      "outputs": []
    },
    {
      "cell_type": "code",
      "metadata": {
        "id": "lEg0-PNsJ63U",
        "colab_type": "code",
        "colab": {
          "base_uri": "https://localhost:8080/",
          "height": 34
        },
        "outputId": "c5465267-7f00-4d9b-d06b-1cfbb89864eb"
      },
      "source": [
        "tuned_parameters = [10**-4, 10**-2, 10**0, 10**2, 10**4]\n",
        "\n",
        "cv_scores = []\n",
        "\n",
        "for i in tqdm(tuned_parameters):\n",
        "    model = LogisticRegression(penalty='l2', C=i, n_jobs=-1)\n",
        "    scores = cross_val_score(model, X_train, y_train, cv=10, scoring='roc_auc', n_jobs=-1)\n",
        "    cv_scores.append(scores.mean()) "
      ],
      "execution_count": 151,
      "outputs": [
        {
          "output_type": "stream",
          "text": [
            "100%|██████████| 5/5 [00:55<00:00, 11.06s/it]\n"
          ],
          "name": "stderr"
        }
      ]
    },
    {
      "cell_type": "code",
      "metadata": {
        "id": "djYQIxC4J6wD",
        "colab_type": "code",
        "colab": {
          "base_uri": "https://localhost:8080/",
          "height": 330
        },
        "outputId": "234a2065-df31-4c25-8705-93412735914f"
      },
      "source": [
        "# determining best value of alpha\n",
        "optimal_C = tuned_parameters[cv_scores.index(max(cv_scores))]\n",
        "print('\\nThe optimal value of C is %.3f.' % optimal_C)\n",
        "# plot accuracy vs alpha \n",
        "plt.plot(tuned_parameters, cv_scores,label=\"Train AUC\")\n",
        "plt.xlabel('Hypreparameter',size=9)\n",
        "plt.ylabel('Area under ROC Curve',size=9)\n",
        "plt.title('Area under ROC Curve VS Hyperparameter curve',size=16)\n",
        "plt.legend(loc='best')\n",
        "plt.grid()\n",
        "plt.show()"
      ],
      "execution_count": 152,
      "outputs": [
        {
          "output_type": "stream",
          "text": [
            "\n",
            "The optimal value of C is 0.000.\n"
          ],
          "name": "stdout"
        },
        {
          "output_type": "display_data",
          "data": {
            "image/png": "[encoded data removed]",
            "text/plain": [
              "<Figure size 432x288 with 1 Axes>"
            ]
          },
          "metadata": {
            "tags": []
          }
        }
      ]
    },
    {
      "cell_type": "code",
      "metadata": {
        "id": "gnqPycGrJ6t-",
        "colab_type": "code",
        "colab": {
          "base_uri": "https://localhost:8080/",
          "height": 824
        },
        "outputId": "2b501bb7-5b47-4955-b6c1-b5e7c8dbbbd7"
      },
      "source": [
        "# Logistic Regression with Optimal value of C i.e.(1/lambda)\n",
        "import scikitplot as skplt\n",
        "\n",
        "lr = LogisticRegression(penalty='l2', C=optimal_C, n_jobs=-1)\n",
        "lr.fit(X_train,y_train)\n",
        "pred = lr.predict(X_test)\n",
        "w = lr.coef_\n",
        "\n",
        "\n",
        "print(\"***Test Data Report***\")\n",
        "print(\"Best C = \",optimal_C)\n",
        "fpr, tpr, threshold = metrics.roc_curve(y_test, lr.predict_proba(X_test)[:,1],pos_label=\"positive\")\n",
        "auc = metrics.auc(fpr, tpr)\n",
        "print(\"AUC = \",auc*100)\n",
        "skplt.metrics.plot_confusion_matrix(y_test, pred)\n",
        "plt.show()\n",
        "\n",
        "\n",
        "\n",
        "fpr, tpr, threshold = metrics.roc_curve(y_test, lr.predict_proba(X_test)[:,1],pos_label=\"positive\")\n",
        "fpr2, tpr2, threshold2 = metrics.roc_curve(y_train, lr.predict_proba(X_train)[:,1],pos_label=\"positive\")\n",
        "\n",
        "roc_auc = metrics.auc(fpr, tpr)\n",
        "roc_auc2 = metrics.auc(fpr2, tpr2)\n",
        "\n",
        "# method I: plt\n",
        "import matplotlib.pyplot as plt\n",
        "plt.title('Receiver Operating Characteristic Curve')\n",
        "plt.gca().set_color_cycle(['red', 'green'])\n",
        "plt.plot(fpr, tpr, label = 'AUC = %0.2f' % roc_auc)\n",
        "plt.plot(fpr2, tpr2, label = 'AUC = %0.2f' % roc_auc2)\n",
        "plt.legend(['TEST Data', 'TRAIN Data'],loc = 'lower right')\n",
        "\n",
        "plt.plot([0, 1], [0, 1],'r--')\n",
        "plt.xlim([0, 1])\n",
        "plt.ylim([0, 1])\n",
        "plt.ylabel('True Positive Rate')\n",
        "plt.xlabel('False Positive Rate')\n",
        "plt.show()"
      ],
      "execution_count": 153,
      "outputs": [
        {
          "output_type": "stream",
          "text": [
            "***Test Data Report***\n",
            "Best C =  0.0001\n",
            "AUC =  93.6660838350876\n"
          ],
          "name": "stdout"
        },
        {
          "output_type": "display_data",
          "data": {
            "image/png": "[encoded data removed]",
            "text/plain": [
              "<Figure size 432x288 with 2 Axes>"
            ]
          },
          "metadata": {
            "tags": []
          }
        },
        {
          "output_type": "error",
          "ename": "AttributeError",
          "evalue": "ignored",
          "traceback": [
            "\u001b[0;31m---------------------------------------------------------------------------\u001b[0m",
            "\u001b[0;31mAttributeError\u001b[0m                            Traceback (most recent call last)",
            "\u001b[0;32m<ipython-input-153-0e6606ea1835>\u001b[0m in \u001b[0;36m<module>\u001b[0;34m()\u001b[0m\n\u001b[1;32m     26\u001b[0m \u001b[0;32mimport\u001b[0m \u001b[0mmatplotlib\u001b[0m\u001b[0;34m.\u001b[0m\u001b[0mpyplot\u001b[0m \u001b[0;32mas\u001b[0m \u001b[0mplt\u001b[0m\u001b[0;34m\u001b[0m\u001b[0;34m\u001b[0m\u001b[0m\n\u001b[1;32m     27\u001b[0m \u001b[0mplt\u001b[0m\u001b[0;34m.\u001b[0m\u001b[0mtitle\u001b[0m\u001b[0;34m(\u001b[0m\u001b[0;34m'Receiver Operating Characteristic Curve'\u001b[0m\u001b[0;34m)\u001b[0m\u001b[0;34m\u001b[0m\u001b[0;34m\u001b[0m\u001b[0m\n\u001b[0;32m---> 28\u001b[0;31m \u001b[0mplt\u001b[0m\u001b[0;34m.\u001b[0m\u001b[0mgca\u001b[0m\u001b[0;34m(\u001b[0m\u001b[0;34m)\u001b[0m\u001b[0;34m.\u001b[0m\u001b[0mset_color_cycle\u001b[0m\u001b[0;34m(\u001b[0m\u001b[0;34m[\u001b[0m\u001b[0;34m'red'\u001b[0m\u001b[0;34m,\u001b[0m \u001b[0;34m'green'\u001b[0m\u001b[0;34m]\u001b[0m\u001b[0;34m)\u001b[0m\u001b[0;34m\u001b[0m\u001b[0;34m\u001b[0m\u001b[0m\n\u001b[0m\u001b[1;32m     29\u001b[0m \u001b[0mplt\u001b[0m\u001b[0;34m.\u001b[0m\u001b[0mplot\u001b[0m\u001b[0;34m(\u001b[0m\u001b[0mfpr\u001b[0m\u001b[0;34m,\u001b[0m \u001b[0mtpr\u001b[0m\u001b[0;34m,\u001b[0m \u001b[0mlabel\u001b[0m \u001b[0;34m=\u001b[0m \u001b[0;34m'AUC = %0.2f'\u001b[0m \u001b[0;34m%\u001b[0m \u001b[0mroc_auc\u001b[0m\u001b[0;34m)\u001b[0m\u001b[0;34m\u001b[0m\u001b[0;34m\u001b[0m\u001b[0m\n\u001b[1;32m     30\u001b[0m \u001b[0mplt\u001b[0m\u001b[0;34m.\u001b[0m\u001b[0mplot\u001b[0m\u001b[0;34m(\u001b[0m\u001b[0mfpr2\u001b[0m\u001b[0;34m,\u001b[0m \u001b[0mtpr2\u001b[0m\u001b[0;34m,\u001b[0m \u001b[0mlabel\u001b[0m \u001b[0;34m=\u001b[0m \u001b[0;34m'AUC = %0.2f'\u001b[0m \u001b[0;34m%\u001b[0m \u001b[0mroc_auc2\u001b[0m\u001b[0;34m)\u001b[0m\u001b[0;34m\u001b[0m\u001b[0;34m\u001b[0m\u001b[0m\n",
            "\u001b[0;31mAttributeError\u001b[0m: 'AxesSubplot' object has no attribute 'set_color_cycle'"
          ]
        },
        {
          "output_type": "display_data",
          "data": {
            "image/png": "[encoded data removed]",
            "text/plain": [
              "<Figure size 432x288 with 1 Axes>"
            ]
          },
          "metadata": {
            "tags": []
          }
        }
      ]
    },
    {
      "cell_type": "code",
      "metadata": {
        "id": "3cA4owPSJ6cl",
        "colab_type": "code",
        "colab": {}
      },
      "source": [
        "# Feature Importance TFIDF"
      ],
      "execution_count": 0,
      "outputs": []
    },
    {
      "cell_type": "code",
      "metadata": {
        "id": "OxQLZeagJ6Wu",
        "colab_type": "code",
        "colab": {}
      },
      "source": [
        "feature_name = count_vect.get_feature_names()\n",
        "w = lr.coef_\n",
        "weight=w.reshape(-1)\n",
        "sorted_feature = np.argsort(weight)\n",
        "top_20_positive_feature=sorted_feature[:-20:-1]"
      ],
      "execution_count": 0,
      "outputs": []
    },
    {
      "cell_type": "code",
      "metadata": {
        "id": "ytFxaGyZor9_",
        "colab_type": "code",
        "colab": {
          "base_uri": "https://localhost:8080/",
          "height": 374
        },
        "outputId": "f0cb90b1-e488-4d9c-d314-a0f2e2dee4e3"
      },
      "source": [
        "print(\"Positive feature top 20 :\")\n",
        "print(\"-------\")\n",
        "for i in top_20_positive_feature:\n",
        "    print(\"%s\\t-->\\t%f\"%(feature_name[i],weight[i]))"
      ],
      "execution_count": 156,
      "outputs": [
        {
          "output_type": "stream",
          "text": [
            "Positive feature top 20 :\n",
            "-------\n",
            "great\t-->\t0.172443\n",
            "love\t-->\t0.127169\n",
            "best\t-->\t0.123355\n",
            "delici\t-->\t0.101422\n",
            "good\t-->\t0.085427\n",
            "perfect\t-->\t0.084079\n",
            "excel\t-->\t0.081604\n",
            "favorit\t-->\t0.071744\n",
            "nice\t-->\t0.069355\n",
            "wonder\t-->\t0.068817\n",
            "easi\t-->\t0.062977\n",
            "find\t-->\t0.060368\n",
            "amaz\t-->\t0.058406\n",
            "alway\t-->\t0.057431\n",
            "tasti\t-->\t0.056292\n",
            "thank\t-->\t0.055924\n",
            "happi\t-->\t0.052241\n",
            "addict\t-->\t0.050011\n",
            "keep\t-->\t0.049239\n"
          ],
          "name": "stdout"
        }
      ]
    },
    {
      "cell_type": "code",
      "metadata": {
        "id": "zqoCz5NFosNZ",
        "colab_type": "code",
        "colab": {}
      },
      "source": [
        "# Featue importance of Negetive CLass\n",
        "\n",
        "weight=w.reshape(-1)\n",
        "sorted_feature = np.argsort(weight)\n",
        "feature_name = tf_idf_vect.get_feature_names()\n",
        "top_20_negative_feature = sorted_feature[:20]"
      ],
      "execution_count": 0,
      "outputs": []
    },
    {
      "cell_type": "code",
      "metadata": {
        "id": "NebdikgoosW8",
        "colab_type": "code",
        "colab": {
          "base_uri": "https://localhost:8080/",
          "height": 391
        },
        "outputId": "5509eab3-08f9-43e0-87d9-f33cff7f786b"
      },
      "source": [
        "print(\"Negative feature top 20 :\")\n",
        "print(\"-------\")\n",
        "for i in top_20_negative_feature:\n",
        "    print(\"%s\\t -->\\t%f  \"%(feature_name[i],weight[i]))"
      ],
      "execution_count": 158,
      "outputs": [
        {
          "output_type": "stream",
          "text": [
            "Negative feature top 20 :\n",
            "-------\n",
            "disappoint\t -->\t-0.157287  \n",
            "worst\t -->\t-0.107155  \n",
            "terribl\t -->\t-0.090925  \n",
            "horribl\t -->\t-0.086424  \n",
            "money\t -->\t-0.085974  \n",
            "return\t -->\t-0.082643  \n",
            "aw\t -->\t-0.079710  \n",
            "bad\t -->\t-0.076856  \n",
            "threw\t -->\t-0.074877  \n",
            "unfortun\t -->\t-0.072372  \n",
            "bland\t -->\t-0.070864  \n",
            "wast\t -->\t-0.068082  \n",
            "stale\t -->\t-0.067890  \n",
            "thought\t -->\t-0.067459  \n",
            "would\t -->\t-0.062146  \n",
            "tast\t -->\t-0.060110  \n",
            "mayb\t -->\t-0.058680  \n",
            "sorri\t -->\t-0.057642  \n",
            "tasteless\t -->\t-0.055176  \n",
            "weak\t -->\t-0.054873  \n"
          ],
          "name": "stdout"
        }
      ]
    },
    {
      "cell_type": "code",
      "metadata": {
        "id": "JaLYJihTosgv",
        "colab_type": "code",
        "colab": {}
      },
      "source": [
        "# Logistic Regression on AVG-W2V"
      ],
      "execution_count": 0,
      "outputs": []
    },
    {
      "cell_type": "code",
      "metadata": {
        "id": "1WH0hlByostd",
        "colab_type": "code",
        "colab": {}
      },
      "source": [
        "#Standardising the train and test data\n",
        "sc = StandardScaler()\n",
        "X_train = sc.fit_transform(sent_vectors_train)\n",
        "X_test = sc.transform(sent_vectors_test)"
      ],
      "execution_count": 0,
      "outputs": []
    },
    {
      "cell_type": "code",
      "metadata": {
        "id": "-eMMQiSUosrG",
        "colab_type": "code",
        "colab": {
          "base_uri": "https://localhost:8080/",
          "height": 34
        },
        "outputId": "8bca86e4-2c65-4fc0-a888-4b4b0f0f6fc8"
      },
      "source": [
        "tuned_parameters = [10**-4, 10**-2, 10**0, 10**2, 10**4]\n",
        "\n",
        "# empty list cv_scores that will hold cross-validation scores\n",
        "cv_scores = []\n",
        "\n",
        "# performing 10-fold cross validation on train data\n",
        "for i in tqdm(tuned_parameters):\n",
        "    model = LogisticRegression(penalty='l2', C=i, n_jobs=-1)\n",
        "    scores = cross_val_score(model, X_train, y_train, cv=10, scoring='roc_auc', n_jobs=-1)\n",
        "    cv_scores.append(scores.mean()) "
      ],
      "execution_count": 163,
      "outputs": [
        {
          "output_type": "stream",
          "text": [
            "100%|██████████| 5/5 [00:30<00:00,  5.97s/it]\n"
          ],
          "name": "stderr"
        }
      ]
    },
    {
      "cell_type": "code",
      "metadata": {
        "id": "GuTIy7rKosm0",
        "colab_type": "code",
        "colab": {
          "base_uri": "https://localhost:8080/",
          "height": 330
        },
        "outputId": "be665113-1cd1-424f-a569-1f598ec78506"
      },
      "source": [
        "# determining best value of alpha\n",
        "optimal_C = tuned_parameters[cv_scores.index(max(cv_scores))]\n",
        "print('\\nThe optimal value of alpha is %.3f.' % optimal_C)\n",
        "# plot accuracy vs alpha \n",
        "plt.plot(tuned_parameters, cv_scores,label=\"Train AUC\")\n",
        "plt.xlabel('Hypreparameter',size=9)\n",
        "plt.ylabel('Area under ROC Curve',size=9)\n",
        "plt.title('Area under ROC Curve VS Hyperparameter curve',size=16)\n",
        "plt.legend(loc='best')\n",
        "plt.grid()\n",
        "plt.show()"
      ],
      "execution_count": 164,
      "outputs": [
        {
          "output_type": "stream",
          "text": [
            "\n",
            "The optimal value of alpha is 1.000.\n"
          ],
          "name": "stdout"
        },
        {
          "output_type": "display_data",
          "data": {
            "image/png": "[encoded data removed]",
            "text/plain": [
              "<Figure size 432x288 with 1 Axes>"
            ]
          },
          "metadata": {
            "tags": []
          }
        }
      ]
    },
    {
      "cell_type": "code",
      "metadata": {
        "id": "897U8Ejoosey",
        "colab_type": "code",
        "colab": {
          "base_uri": "https://localhost:8080/",
          "height": 824
        },
        "outputId": "510b6558-ec20-460b-f550-ee0825922f4c"
      },
      "source": [
        "# Logistic Regression with Optimal value of C i.e.(1/lambda)\n",
        "lr = LogisticRegression(penalty='l2', C=optimal_C, n_jobs=-1)\n",
        "lr.fit(X_train,y_train)\n",
        "pred = lr.predict(X_test)\n",
        "\n",
        "\n",
        "print(\"***Test Data Report***\")\n",
        "print(\"Best C = \",optimal_C)\n",
        "auc = metrics.auc(fpr, tpr)\n",
        "print(\"AUC = \",auc*100)\n",
        "skplt.metrics.plot_confusion_matrix(y_test, pred)\n",
        "plt.show()\n",
        "\n",
        "\n",
        "\n",
        "fpr, tpr, threshold = metrics.roc_curve(y_test, lr.predict_proba(X_test)[:,1],pos_label=\"positive\")\n",
        "fpr2, tpr2, threshold2 = metrics.roc_curve(y_train, lr.predict_proba(X_train)[:,1],pos_label=\"positive\")\n",
        "\n",
        "roc_auc = metrics.auc(fpr, tpr)\n",
        "roc_auc2 = metrics.auc(fpr2, tpr2)\n",
        "\n",
        "# method I: plt\n",
        "import matplotlib.pyplot as plt\n",
        "plt.title('Receiver Operating Characteristic Curve')\n",
        "plt.gca().set_color_cycle(['red', 'green'])\n",
        "plt.plot(fpr, tpr, label = 'AUC = %0.2f' % roc_auc)\n",
        "plt.plot(fpr2, tpr2, label = 'AUC = %0.2f' % roc_auc2)\n",
        "plt.legend(['TEST Data', 'TRAIN Data'],loc = 'lower right')\n",
        "\n",
        "plt.plot([0, 1], [0, 1],'r--')\n",
        "plt.xlim([0, 1])\n",
        "plt.ylim([0, 1])\n",
        "plt.ylabel('True Positive Rate')\n",
        "plt.xlabel('False Positive Rate')\n",
        "plt.show()"
      ],
      "execution_count": 165,
      "outputs": [
        {
          "output_type": "stream",
          "text": [
            "***Test Data Report***\n",
            "Best C =  1\n",
            "AUC =  93.6660838350876\n"
          ],
          "name": "stdout"
        },
        {
          "output_type": "display_data",
          "data": {
            "image/png": "[encoded data removed]",
            "text/plain": [
              "<Figure size 432x288 with 2 Axes>"
            ]
          },
          "metadata": {
            "tags": []
          }
        },
        {
          "output_type": "error",
          "ename": "AttributeError",
          "evalue": "ignored",
          "traceback": [
            "\u001b[0;31m---------------------------------------------------------------------------\u001b[0m",
            "\u001b[0;31mAttributeError\u001b[0m                            Traceback (most recent call last)",
            "\u001b[0;32m<ipython-input-165-d12213205e8d>\u001b[0m in \u001b[0;36m<module>\u001b[0;34m()\u001b[0m\n\u001b[1;32m     22\u001b[0m \u001b[0;32mimport\u001b[0m \u001b[0mmatplotlib\u001b[0m\u001b[0;34m.\u001b[0m\u001b[0mpyplot\u001b[0m \u001b[0;32mas\u001b[0m \u001b[0mplt\u001b[0m\u001b[0;34m\u001b[0m\u001b[0;34m\u001b[0m\u001b[0m\n\u001b[1;32m     23\u001b[0m \u001b[0mplt\u001b[0m\u001b[0;34m.\u001b[0m\u001b[0mtitle\u001b[0m\u001b[0;34m(\u001b[0m\u001b[0;34m'Receiver Operating Characteristic Curve'\u001b[0m\u001b[0;34m)\u001b[0m\u001b[0;34m\u001b[0m\u001b[0;34m\u001b[0m\u001b[0m\n\u001b[0;32m---> 24\u001b[0;31m \u001b[0mplt\u001b[0m\u001b[0;34m.\u001b[0m\u001b[0mgca\u001b[0m\u001b[0;34m(\u001b[0m\u001b[0;34m)\u001b[0m\u001b[0;34m.\u001b[0m\u001b[0mset_color_cycle\u001b[0m\u001b[0;34m(\u001b[0m\u001b[0;34m[\u001b[0m\u001b[0;34m'red'\u001b[0m\u001b[0;34m,\u001b[0m \u001b[0;34m'green'\u001b[0m\u001b[0;34m]\u001b[0m\u001b[0;34m)\u001b[0m\u001b[0;34m\u001b[0m\u001b[0;34m\u001b[0m\u001b[0m\n\u001b[0m\u001b[1;32m     25\u001b[0m \u001b[0mplt\u001b[0m\u001b[0;34m.\u001b[0m\u001b[0mplot\u001b[0m\u001b[0;34m(\u001b[0m\u001b[0mfpr\u001b[0m\u001b[0;34m,\u001b[0m \u001b[0mtpr\u001b[0m\u001b[0;34m,\u001b[0m \u001b[0mlabel\u001b[0m \u001b[0;34m=\u001b[0m \u001b[0;34m'AUC = %0.2f'\u001b[0m \u001b[0;34m%\u001b[0m \u001b[0mroc_auc\u001b[0m\u001b[0;34m)\u001b[0m\u001b[0;34m\u001b[0m\u001b[0;34m\u001b[0m\u001b[0m\n\u001b[1;32m     26\u001b[0m \u001b[0mplt\u001b[0m\u001b[0;34m.\u001b[0m\u001b[0mplot\u001b[0m\u001b[0;34m(\u001b[0m\u001b[0mfpr2\u001b[0m\u001b[0;34m,\u001b[0m \u001b[0mtpr2\u001b[0m\u001b[0;34m,\u001b[0m \u001b[0mlabel\u001b[0m \u001b[0;34m=\u001b[0m \u001b[0;34m'AUC = %0.2f'\u001b[0m \u001b[0;34m%\u001b[0m \u001b[0mroc_auc2\u001b[0m\u001b[0;34m)\u001b[0m\u001b[0;34m\u001b[0m\u001b[0;34m\u001b[0m\u001b[0m\n",
            "\u001b[0;31mAttributeError\u001b[0m: 'AxesSubplot' object has no attribute 'set_color_cycle'"
          ]
        },
        {
          "output_type": "display_data",
          "data": {
            "image/png": "[encoded data removed]",
            "text/plain": [
              "<Figure size 432x288 with 1 Axes>"
            ]
          },
          "metadata": {
            "tags": []
          }
        }
      ]
    },
    {
      "cell_type": "code",
      "metadata": {
        "id": "gs6zIiPKosU1",
        "colab_type": "code",
        "colab": {}
      },
      "source": [
        "# Logistic Regression on TfIdf-W2v"
      ],
      "execution_count": 0,
      "outputs": []
    },
    {
      "cell_type": "code",
      "metadata": {
        "id": "gNdZEg8BqjlK",
        "colab_type": "code",
        "colab": {}
      },
      "source": [
        "#Standardising the train and test data\n",
        "sc = StandardScaler(copy=True, with_mean=False, with_std=True)\n",
        "X_train = sc.fit_transform(tfidf_sent_vectors_train)\n",
        "X_test = sc.transform(tfidf_sent_vectors_test)"
      ],
      "execution_count": 0,
      "outputs": []
    },
    {
      "cell_type": "code",
      "metadata": {
        "id": "7fvd96JgqjjJ",
        "colab_type": "code",
        "colab": {
          "base_uri": "https://localhost:8080/",
          "height": 34
        },
        "outputId": "a2801946-72d0-4d51-cdb1-2db7f723c532"
      },
      "source": [
        "tuned_parameters = [10**-4, 10**-2, 10**0, 10**2, 10**4]\n",
        "\n",
        "# empty list cv_scores that will hold cross-validation scores\n",
        "cv_scores = []\n",
        "\n",
        "# performing 10-fold cross validation on train data\n",
        "for i in tqdm(tuned_parameters):\n",
        "    model = LogisticRegression(penalty='l2', C=i, n_jobs=-1)\n",
        "    scores = cross_val_score(model, X_train, y_train, cv=10, scoring='roc_auc', n_jobs=-1)\n",
        "    cv_scores.append(scores.mean()) "
      ],
      "execution_count": 168,
      "outputs": [
        {
          "output_type": "stream",
          "text": [
            "100%|██████████| 5/5 [00:41<00:00,  8.15s/it]\n"
          ],
          "name": "stderr"
        }
      ]
    },
    {
      "cell_type": "code",
      "metadata": {
        "id": "lxfowT_Fqjg8",
        "colab_type": "code",
        "colab": {
          "base_uri": "https://localhost:8080/",
          "height": 330
        },
        "outputId": "15d28a8d-20fb-4de4-a31c-f15a7d23a43f"
      },
      "source": [
        "# determining best value of alpha\n",
        "optimal_C = tuned_parameters[cv_scores.index(max(cv_scores))]\n",
        "print('\\nThe optimal value of alpha is %.3f.' % optimal_C)\n",
        "# plot accuracy vs alpha \n",
        "plt.plot(tuned_parameters, cv_scores,label=\"Train AUC\")\n",
        "plt.xlabel('Hypreparameter',size=9)\n",
        "plt.ylabel('Area under ROC Curve',size=9)\n",
        "plt.title('Area under ROC Curve VS Hyperparameter curve',size=16)\n",
        "plt.legend(loc='best')\n",
        "plt.grid()\n",
        "plt.show()"
      ],
      "execution_count": 169,
      "outputs": [
        {
          "output_type": "stream",
          "text": [
            "\n",
            "The optimal value of alpha is 1.000.\n"
          ],
          "name": "stdout"
        },
        {
          "output_type": "display_data",
          "data": {
            "image/png": "[encoded data removed]",
            "text/plain": [
              "<Figure size 432x288 with 1 Axes>"
            ]
          },
          "metadata": {
            "tags": []
          }
        }
      ]
    },
    {
      "cell_type": "code",
      "metadata": {
        "id": "hHhIFfKyq8IT",
        "colab_type": "code",
        "colab": {
          "base_uri": "https://localhost:8080/",
          "height": 824
        },
        "outputId": "70a1fe10-ac9a-4061-d582-0c566a357609"
      },
      "source": [
        "lr = LogisticRegression(penalty='l2', C=optimal_C, n_jobs=-1)\n",
        "lr.fit(X_train,y_train)\n",
        "pred = lr.predict(X_test)\n",
        "\n",
        "\n",
        "print(\"***Test Data Report***\")\n",
        "print(\"Best C = \",optimal_C)\n",
        "auc = metrics.auc(fpr, tpr)\n",
        "print(\"AUC = \",auc*100)\n",
        "skplt.metrics.plot_confusion_matrix(y_test, pred)\n",
        "plt.show()\n",
        "\n",
        "\n",
        "\n",
        "fpr, tpr, threshold = metrics.roc_curve(y_test, lr.predict_proba(X_test)[:,1],pos_label=\"positive\")\n",
        "fpr2, tpr2, threshold2 = metrics.roc_curve(y_train, lr.predict_proba(X_train)[:,1],pos_label=\"positive\")\n",
        "\n",
        "roc_auc = metrics.auc(fpr, tpr)\n",
        "roc_auc2 = metrics.auc(fpr2, tpr2)\n",
        "\n",
        "# method I: plt\n",
        "import matplotlib.pyplot as plt\n",
        "plt.title('Receiver Operating Characteristic Curve')\n",
        "plt.gca().set_color_cycle(['red', 'green'])\n",
        "plt.plot(fpr, tpr, label = 'AUC = %0.2f' % roc_auc)\n",
        "plt.plot(fpr2, tpr2, label = 'AUC = %0.2f' % roc_auc2)\n",
        "plt.legend(['TEST Data', 'TRAIN Data'],loc = 'lower right')\n",
        "\n",
        "plt.plot([0, 1], [0, 1],'r--')\n",
        "plt.xlim([0, 1])\n",
        "plt.ylim([0, 1])\n",
        "plt.ylabel('True Positive Rate')\n",
        "plt.xlabel('False Positive Rate')\n",
        "plt.show()"
      ],
      "execution_count": 171,
      "outputs": [
        {
          "output_type": "stream",
          "text": [
            "***Test Data Report***\n",
            "Best C =  1\n",
            "AUC =  89.27816565735571\n"
          ],
          "name": "stdout"
        },
        {
          "output_type": "display_data",
          "data": {
            "image/png": "[encoded data removed]",
            "text/plain": [
              "<Figure size 432x288 with 2 Axes>"
            ]
          },
          "metadata": {
            "tags": []
          }
        },
        {
          "output_type": "error",
          "ename": "AttributeError",
          "evalue": "ignored",
          "traceback": [
            "\u001b[0;31m---------------------------------------------------------------------------\u001b[0m",
            "\u001b[0;31mAttributeError\u001b[0m                            Traceback (most recent call last)",
            "\u001b[0;32m<ipython-input-171-d12213205e8d>\u001b[0m in \u001b[0;36m<module>\u001b[0;34m()\u001b[0m\n\u001b[1;32m     22\u001b[0m \u001b[0;32mimport\u001b[0m \u001b[0mmatplotlib\u001b[0m\u001b[0;34m.\u001b[0m\u001b[0mpyplot\u001b[0m \u001b[0;32mas\u001b[0m \u001b[0mplt\u001b[0m\u001b[0;34m\u001b[0m\u001b[0;34m\u001b[0m\u001b[0m\n\u001b[1;32m     23\u001b[0m \u001b[0mplt\u001b[0m\u001b[0;34m.\u001b[0m\u001b[0mtitle\u001b[0m\u001b[0;34m(\u001b[0m\u001b[0;34m'Receiver Operating Characteristic Curve'\u001b[0m\u001b[0;34m)\u001b[0m\u001b[0;34m\u001b[0m\u001b[0;34m\u001b[0m\u001b[0m\n\u001b[0;32m---> 24\u001b[0;31m \u001b[0mplt\u001b[0m\u001b[0;34m.\u001b[0m\u001b[0mgca\u001b[0m\u001b[0;34m(\u001b[0m\u001b[0;34m)\u001b[0m\u001b[0;34m.\u001b[0m\u001b[0mset_color_cycle\u001b[0m\u001b[0;34m(\u001b[0m\u001b[0;34m[\u001b[0m\u001b[0;34m'red'\u001b[0m\u001b[0;34m,\u001b[0m \u001b[0;34m'green'\u001b[0m\u001b[0;34m]\u001b[0m\u001b[0;34m)\u001b[0m\u001b[0;34m\u001b[0m\u001b[0;34m\u001b[0m\u001b[0m\n\u001b[0m\u001b[1;32m     25\u001b[0m \u001b[0mplt\u001b[0m\u001b[0;34m.\u001b[0m\u001b[0mplot\u001b[0m\u001b[0;34m(\u001b[0m\u001b[0mfpr\u001b[0m\u001b[0;34m,\u001b[0m \u001b[0mtpr\u001b[0m\u001b[0;34m,\u001b[0m \u001b[0mlabel\u001b[0m \u001b[0;34m=\u001b[0m \u001b[0;34m'AUC = %0.2f'\u001b[0m \u001b[0;34m%\u001b[0m \u001b[0mroc_auc\u001b[0m\u001b[0;34m)\u001b[0m\u001b[0;34m\u001b[0m\u001b[0;34m\u001b[0m\u001b[0m\n\u001b[1;32m     26\u001b[0m \u001b[0mplt\u001b[0m\u001b[0;34m.\u001b[0m\u001b[0mplot\u001b[0m\u001b[0;34m(\u001b[0m\u001b[0mfpr2\u001b[0m\u001b[0;34m,\u001b[0m \u001b[0mtpr2\u001b[0m\u001b[0;34m,\u001b[0m \u001b[0mlabel\u001b[0m \u001b[0;34m=\u001b[0m \u001b[0;34m'AUC = %0.2f'\u001b[0m \u001b[0;34m%\u001b[0m \u001b[0mroc_auc2\u001b[0m\u001b[0;34m)\u001b[0m\u001b[0;34m\u001b[0m\u001b[0;34m\u001b[0m\u001b[0m\n",
            "\u001b[0;31mAttributeError\u001b[0m: 'AxesSubplot' object has no attribute 'set_color_cycle'"
          ]
        },
        {
          "output_type": "display_data",
          "data": {
            "image/png": "[encoded data removed]",
            "text/plain": [
              "<Figure size 432x288 with 1 Axes>"
            ]
          },
          "metadata": {
            "tags": []
          }
        }
      ]
    },
    {
      "cell_type": "code",
      "metadata": {
        "id": "00hwWn06qjeG",
        "colab_type": "code",
        "colab": {
          "base_uri": "https://localhost:8080/",
          "height": 221
        },
        "outputId": "9cbe54fb-2b61-4945-8907-0b740900013f"
      },
      "source": [
        "#importing library\n",
        "from prettytable import PrettyTable\n",
        "x = PrettyTable()\n",
        "\n",
        "#adding Field names\n",
        "x.field_names = [\"SL No.\",\"Vectorizer\",\"Regularization\",\"Hypreparameter(C)\" ,\"AUC\"]\n",
        "\n",
        "# adding row to table\n",
        "x.add_row([\"1\",\"BOW\",\"L1\",0.01,92.7952])\n",
        "x.add_row([\"2\",\"BOW\",\"L2\",0.01,91.7614])\n",
        "x.add_row([\"3\",\"TFIDF\",\"L1\",0.01,93.8456])\n",
        "x.add_row([\"4\",\"TFIDF\",\"L2\",0.01,93.2148])\n",
        "x.add_row([\"5\",\"Avg-W2vec\",\"L1\",1,93.2148])\n",
        "x.add_row([\"6\",\"Avg-W2vec\",\"L2\",1,88.7947])\n",
        "x.add_row([\"7\",\"TFIDF-W2vec\",\"L1\",100,81.4170])\n",
        "x.add_row([\"8\",\"TFIDF-W2vec\",\"L2\",100,81.4146])\n",
        "\n",
        "#printing the table\n",
        "print(x)"
      ],
      "execution_count": 172,
      "outputs": [
        {
          "output_type": "stream",
          "text": [
            "+--------+-------------+----------------+-------------------+---------+\n",
            "| SL No. |  Vectorizer | Regularization | Hypreparameter(C) |   AUC   |\n",
            "+--------+-------------+----------------+-------------------+---------+\n",
            "|   1    |     BOW     |       L1       |        0.01       | 92.7952 |\n",
            "|   2    |     BOW     |       L2       |        0.01       | 91.7614 |\n",
            "|   3    |    TFIDF    |       L1       |        0.01       | 93.8456 |\n",
            "|   4    |    TFIDF    |       L2       |        0.01       | 93.2148 |\n",
            "|   5    |  Avg-W2vec  |       L1       |         1         | 93.2148 |\n",
            "|   6    |  Avg-W2vec  |       L2       |         1         | 88.7947 |\n",
            "|   7    | TFIDF-W2vec |       L1       |        100        |  81.417 |\n",
            "|   8    | TFIDF-W2vec |       L2       |        100        | 81.4146 |\n",
            "+--------+-------------+----------------+-------------------+---------+\n"
          ],
          "name": "stdout"
        }
      ]
    }
  ]
}