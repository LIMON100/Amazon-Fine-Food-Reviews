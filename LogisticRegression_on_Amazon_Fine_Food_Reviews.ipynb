{
  "nbformat": 4,
  "nbformat_minor": 0,
  "metadata": {
    "kernelspec": {
      "name": "python3",
      "display_name": "Python 3"
    },
    "language_info": {
      "codemirror_mode": {
        "name": "ipython",
        "version": 3
      },
      "file_extension": ".py",
      "mimetype": "text/x-python",
      "name": "python",
      "nbconvert_exporter": "python",
      "pygments_lexer": "ipython3",
      "version": "3.7.4"
    },
    "colab": {
      "name": "LogisticRegression on Amazon Fine Food Reviews.ipynb",
      "provenance": [],
      "collapsed_sections": []
    },
    "accelerator": "GPU"
  },
  "cells": [
    {
      "cell_type": "markdown",
      "metadata": {
        "id": "bh6-ioXpBLvT",
        "colab_type": "text"
      },
      "source": [
        "# Project : Amazon Fine Food Reviews."
      ]
    },
    {
      "cell_type": "code",
      "metadata": {
        "id": "D7g512odBLvW",
        "colab_type": "code",
        "colab": {}
      },
      "source": [
        "# import the libarys\n",
        "\n",
        "import numpy as np\n",
        "import pandas as pd\n",
        "import nltk\n",
        "import matplotlib.pyplot as plt\n",
        "import sqlite3\n",
        "import seaborn as sns\n",
        "import re\n",
        "import string\n",
        "import os\n",
        "import pickle\n",
        "\n",
        "from sklearn.feature_extraction.text import TfidfTransformer , TfidfVectorizer , CountVectorizer\n",
        "from sklearn.metrics import confusion_matrix , roc_curve\n",
        "from sklearn.model_selection import train_test_split , cross_val_score\n",
        "from sklearn.preprocessing import StandardScaler\n",
        "from sklearn.metrics import roc_curve, auc\n",
        "from sklearn.linear_model import LogisticRegression\n",
        "\n",
        "from nltk.corpus import stopwords\n",
        "from nltk.stem.porter import PorterStemmer\n",
        "from nltk.stem.wordnet import WordNetLemmatizer\n",
        "\n",
        "from gensim.models import Word2Vec , KeyedVectors\n",
        "\n",
        "from tqdm import tqdm\n",
        "\n",
        "from bs4 import BeautifulSoup\n"
      ],
      "execution_count": 0,
      "outputs": []
    },
    {
      "cell_type": "code",
      "metadata": {
        "id": "DvODNwwjBpeS",
        "colab_type": "code",
        "colab": {}
      },
      "source": [
        "!pip install -U -q PyDrive\n",
        "from pydrive.auth import GoogleAuth\n",
        "from pydrive.drive import GoogleDrive\n",
        "from google.colab import auth\n",
        "from oauth2client.client import GoogleCredentials"
      ],
      "execution_count": 0,
      "outputs": []
    },
    {
      "cell_type": "code",
      "metadata": {
        "id": "Y9qr1f-NBtqj",
        "colab_type": "code",
        "colab": {}
      },
      "source": [
        "auth.authenticate_user()\n",
        "gauth = GoogleAuth()\n",
        "gauth.credentials = GoogleCredentials.get_application_default()\n",
        "drive = GoogleDrive(gauth)"
      ],
      "execution_count": 0,
      "outputs": []
    },
    {
      "cell_type": "code",
      "metadata": {
        "id": "sFxHKGtcBubE",
        "colab_type": "code",
        "colab": {}
      },
      "source": [
        "downloaded = drive.CreateFile({'id':'19VumHcTH6JaUWpUTA58SecT_Z8RJIxrk'})\n",
        "downloaded.GetContentFile('database.sqlite')"
      ],
      "execution_count": 0,
      "outputs": []
    },
    {
      "cell_type": "markdown",
      "metadata": {
        "id": "7Yjj3_eEBLva",
        "colab_type": "text"
      },
      "source": [
        "### Read the file"
      ]
    },
    {
      "cell_type": "code",
      "metadata": {
        "id": "p8CnudAaBLvd",
        "colab_type": "code",
        "colab": {}
      },
      "source": [
        "# using the SQLite Table to read data.\n",
        "con = sqlite3.connect('database.sqlite') \n",
        "\n",
        "dataset_sqlite = pd.read_sql_query(\"\"\"\n",
        "                                    SELECT * FROM Reviews where Score != 3\n",
        "                                    \"\"\" , con)"
      ],
      "execution_count": 0,
      "outputs": []
    },
    {
      "cell_type": "code",
      "metadata": {
        "id": "NaQHBsh2BLvh",
        "colab_type": "code",
        "outputId": "0bbe0f40-1355-417f-f1bf-79429abd8add",
        "colab": {
          "base_uri": "https://localhost:8080/",
          "height": 204
        }
      },
      "source": [
        "dataset_sqlite.head()"
      ],
      "execution_count": 7,
      "outputs": [
        {
          "output_type": "execute_result",
          "data": {
            "text/html": [
              "<div>\n",
              "<style scoped>\n",
              "    .dataframe tbody tr th:only-of-type {\n",
              "        vertical-align: middle;\n",
              "    }\n",
              "\n",
              "    .dataframe tbody tr th {\n",
              "        vertical-align: top;\n",
              "    }\n",
              "\n",
              "    .dataframe thead th {\n",
              "        text-align: right;\n",
              "    }\n",
              "</style>\n",
              "<table border=\"1\" class=\"dataframe\">\n",
              "  <thead>\n",
              "    <tr style=\"text-align: right;\">\n",
              "      <th></th>\n",
              "      <th>Id</th>\n",
              "      <th>ProductId</th>\n",
              "      <th>UserId</th>\n",
              "      <th>ProfileName</th>\n",
              "      <th>HelpfulnessNumerator</th>\n",
              "      <th>HelpfulnessDenominator</th>\n",
              "      <th>Score</th>\n",
              "      <th>Time</th>\n",
              "      <th>Summary</th>\n",
              "      <th>Text</th>\n",
              "    </tr>\n",
              "  </thead>\n",
              "  <tbody>\n",
              "    <tr>\n",
              "      <th>0</th>\n",
              "      <td>1</td>\n",
              "      <td>B001E4KFG0</td>\n",
              "      <td>A3SGXH7AUHU8GW</td>\n",
              "      <td>delmartian</td>\n",
              "      <td>1</td>\n",
              "      <td>1</td>\n",
              "      <td>5</td>\n",
              "      <td>1303862400</td>\n",
              "      <td>Good Quality Dog Food</td>\n",
              "      <td>I have bought several of the Vitality canned d...</td>\n",
              "    </tr>\n",
              "    <tr>\n",
              "      <th>1</th>\n",
              "      <td>2</td>\n",
              "      <td>B00813GRG4</td>\n",
              "      <td>A1D87F6ZCVE5NK</td>\n",
              "      <td>dll pa</td>\n",
              "      <td>0</td>\n",
              "      <td>0</td>\n",
              "      <td>1</td>\n",
              "      <td>1346976000</td>\n",
              "      <td>Not as Advertised</td>\n",
              "      <td>Product arrived labeled as Jumbo Salted Peanut...</td>\n",
              "    </tr>\n",
              "    <tr>\n",
              "      <th>2</th>\n",
              "      <td>3</td>\n",
              "      <td>B000LQOCH0</td>\n",
              "      <td>ABXLMWJIXXAIN</td>\n",
              "      <td>Natalia Corres \"Natalia Corres\"</td>\n",
              "      <td>1</td>\n",
              "      <td>1</td>\n",
              "      <td>4</td>\n",
              "      <td>1219017600</td>\n",
              "      <td>\"Delight\" says it all</td>\n",
              "      <td>This is a confection that has been around a fe...</td>\n",
              "    </tr>\n",
              "    <tr>\n",
              "      <th>3</th>\n",
              "      <td>4</td>\n",
              "      <td>B000UA0QIQ</td>\n",
              "      <td>A395BORC6FGVXV</td>\n",
              "      <td>Karl</td>\n",
              "      <td>3</td>\n",
              "      <td>3</td>\n",
              "      <td>2</td>\n",
              "      <td>1307923200</td>\n",
              "      <td>Cough Medicine</td>\n",
              "      <td>If you are looking for the secret ingredient i...</td>\n",
              "    </tr>\n",
              "    <tr>\n",
              "      <th>4</th>\n",
              "      <td>5</td>\n",
              "      <td>B006K2ZZ7K</td>\n",
              "      <td>A1UQRSCLF8GW1T</td>\n",
              "      <td>Michael D. Bigham \"M. Wassir\"</td>\n",
              "      <td>0</td>\n",
              "      <td>0</td>\n",
              "      <td>5</td>\n",
              "      <td>1350777600</td>\n",
              "      <td>Great taffy</td>\n",
              "      <td>Great taffy at a great price.  There was a wid...</td>\n",
              "    </tr>\n",
              "  </tbody>\n",
              "</table>\n",
              "</div>"
            ],
            "text/plain": [
              "   Id  ...                                               Text\n",
              "0   1  ...  I have bought several of the Vitality canned d...\n",
              "1   2  ...  Product arrived labeled as Jumbo Salted Peanut...\n",
              "2   3  ...  This is a confection that has been around a fe...\n",
              "3   4  ...  If you are looking for the secret ingredient i...\n",
              "4   5  ...  Great taffy at a great price.  There was a wid...\n",
              "\n",
              "[5 rows x 10 columns]"
            ]
          },
          "metadata": {
            "tags": []
          },
          "execution_count": 7
        }
      ]
    },
    {
      "cell_type": "code",
      "metadata": {
        "id": "I8KTSJqUBLvl",
        "colab_type": "code",
        "outputId": "634eea74-a1b5-4b8d-9042-9f84c062284c",
        "colab": {
          "base_uri": "https://localhost:8080/",
          "height": 34
        }
      },
      "source": [
        "np.unique(dataset_sqlite['Score'])"
      ],
      "execution_count": 8,
      "outputs": [
        {
          "output_type": "execute_result",
          "data": {
            "text/plain": [
              "array([1, 2, 4, 5])"
            ]
          },
          "metadata": {
            "tags": []
          },
          "execution_count": 8
        }
      ]
    },
    {
      "cell_type": "code",
      "metadata": {
        "id": "TWJokEO0BLvq",
        "colab_type": "code",
        "colab": {}
      },
      "source": [
        "amnt_1 = dataset_sqlite.Score.value_counts()[1]\n",
        "amnt_2 = dataset_sqlite.Score.value_counts()[2]\n",
        "amnt_4 = dataset_sqlite.Score.value_counts()[4]\n",
        "amnt_5 = dataset_sqlite.Score.value_counts()[5]"
      ],
      "execution_count": 0,
      "outputs": []
    },
    {
      "cell_type": "code",
      "metadata": {
        "id": "tqQ2eO-EBLvu",
        "colab_type": "code",
        "outputId": "33decbf4-7c4b-4dea-fcc6-969bf853c43f",
        "colab": {
          "base_uri": "https://localhost:8080/",
          "height": 792
        }
      },
      "source": [
        "category_names = ['1', '2', '4', '5']\n",
        "sizes = [amnt_1 , amnt_2 , amnt_4 ,  amnt_5]\n",
        "custom_colours = ['#12CBC4', '#6F1E51', '#C4E538', '#bdc3c7']\n",
        "offset = [0.05 , 0.05 , 0.05 , 0.05]\n",
        "\n",
        "\n",
        "plt.figure(figsize = (12 , 10) , dpi=100)\n",
        "plt.pie(sizes, labels=category_names, textprops={'fontsize': 20}, startangle=47, \n",
        "       autopct='%1.0f%%', colors=custom_colours, pctdistance=0.8, explode=offset)\n",
        "\n",
        "# draw circle\n",
        "centre_circle = plt.Circle((0, 0), radius=0.6, fc='white')\n",
        "plt.gca().add_artist(centre_circle)\n",
        "\n",
        "plt.show()"
      ],
      "execution_count": 10,
      "outputs": [
        {
          "output_type": "display_data",
          "data": {
            "image/png": "[encoded data removed]",
            "text/plain": [
              "<Figure size 1200x1000 with 1 Axes>"
            ]
          },
          "metadata": {
            "tags": []
          }
        }
      ]
    },
    {
      "cell_type": "markdown",
      "metadata": {
        "id": "i9JafG9dBLv0",
        "colab_type": "text"
      },
      "source": [
        "Most of the customer given 5 reviews on products."
      ]
    },
    {
      "cell_type": "code",
      "metadata": {
        "id": "ntMsIB8uBLv2",
        "colab_type": "code",
        "colab": {}
      },
      "source": [
        "# Convert the Reviews value into positive and negetive\n",
        "\n",
        "def partition(x):\n",
        "    if x < 3:\n",
        "        return 'negetive'\n",
        "    \n",
        "    return 'positive'"
      ],
      "execution_count": 0,
      "outputs": []
    },
    {
      "cell_type": "code",
      "metadata": {
        "id": "D8iR21uXBLv8",
        "colab_type": "code",
        "colab": {}
      },
      "source": [
        "actual_score = dataset_sqlite['Score']\n",
        "positiveNegetive = actual_score.map(partition)\n",
        "dataset_sqlite['Score'] = positiveNegetive"
      ],
      "execution_count": 0,
      "outputs": []
    },
    {
      "cell_type": "code",
      "metadata": {
        "id": "hYqifdS1BLwC",
        "colab_type": "code",
        "outputId": "e0feac3f-f278-423e-ade4-69cb74ec31fe",
        "colab": {
          "base_uri": "https://localhost:8080/",
          "height": 359
        }
      },
      "source": [
        "dataset_sqlite.head(10)"
      ],
      "execution_count": 13,
      "outputs": [
        {
          "output_type": "execute_result",
          "data": {
            "text/html": [
              "<div>\n",
              "<style scoped>\n",
              "    .dataframe tbody tr th:only-of-type {\n",
              "        vertical-align: middle;\n",
              "    }\n",
              "\n",
              "    .dataframe tbody tr th {\n",
              "        vertical-align: top;\n",
              "    }\n",
              "\n",
              "    .dataframe thead th {\n",
              "        text-align: right;\n",
              "    }\n",
              "</style>\n",
              "<table border=\"1\" class=\"dataframe\">\n",
              "  <thead>\n",
              "    <tr style=\"text-align: right;\">\n",
              "      <th></th>\n",
              "      <th>Id</th>\n",
              "      <th>ProductId</th>\n",
              "      <th>UserId</th>\n",
              "      <th>ProfileName</th>\n",
              "      <th>HelpfulnessNumerator</th>\n",
              "      <th>HelpfulnessDenominator</th>\n",
              "      <th>Score</th>\n",
              "      <th>Time</th>\n",
              "      <th>Summary</th>\n",
              "      <th>Text</th>\n",
              "    </tr>\n",
              "  </thead>\n",
              "  <tbody>\n",
              "    <tr>\n",
              "      <th>0</th>\n",
              "      <td>1</td>\n",
              "      <td>B001E4KFG0</td>\n",
              "      <td>A3SGXH7AUHU8GW</td>\n",
              "      <td>delmartian</td>\n",
              "      <td>1</td>\n",
              "      <td>1</td>\n",
              "      <td>positive</td>\n",
              "      <td>1303862400</td>\n",
              "      <td>Good Quality Dog Food</td>\n",
              "      <td>I have bought several of the Vitality canned d...</td>\n",
              "    </tr>\n",
              "    <tr>\n",
              "      <th>1</th>\n",
              "      <td>2</td>\n",
              "      <td>B00813GRG4</td>\n",
              "      <td>A1D87F6ZCVE5NK</td>\n",
              "      <td>dll pa</td>\n",
              "      <td>0</td>\n",
              "      <td>0</td>\n",
              "      <td>negetive</td>\n",
              "      <td>1346976000</td>\n",
              "      <td>Not as Advertised</td>\n",
              "      <td>Product arrived labeled as Jumbo Salted Peanut...</td>\n",
              "    </tr>\n",
              "    <tr>\n",
              "      <th>2</th>\n",
              "      <td>3</td>\n",
              "      <td>B000LQOCH0</td>\n",
              "      <td>ABXLMWJIXXAIN</td>\n",
              "      <td>Natalia Corres \"Natalia Corres\"</td>\n",
              "      <td>1</td>\n",
              "      <td>1</td>\n",
              "      <td>positive</td>\n",
              "      <td>1219017600</td>\n",
              "      <td>\"Delight\" says it all</td>\n",
              "      <td>This is a confection that has been around a fe...</td>\n",
              "    </tr>\n",
              "    <tr>\n",
              "      <th>3</th>\n",
              "      <td>4</td>\n",
              "      <td>B000UA0QIQ</td>\n",
              "      <td>A395BORC6FGVXV</td>\n",
              "      <td>Karl</td>\n",
              "      <td>3</td>\n",
              "      <td>3</td>\n",
              "      <td>negetive</td>\n",
              "      <td>1307923200</td>\n",
              "      <td>Cough Medicine</td>\n",
              "      <td>If you are looking for the secret ingredient i...</td>\n",
              "    </tr>\n",
              "    <tr>\n",
              "      <th>4</th>\n",
              "      <td>5</td>\n",
              "      <td>B006K2ZZ7K</td>\n",
              "      <td>A1UQRSCLF8GW1T</td>\n",
              "      <td>Michael D. Bigham \"M. Wassir\"</td>\n",
              "      <td>0</td>\n",
              "      <td>0</td>\n",
              "      <td>positive</td>\n",
              "      <td>1350777600</td>\n",
              "      <td>Great taffy</td>\n",
              "      <td>Great taffy at a great price.  There was a wid...</td>\n",
              "    </tr>\n",
              "    <tr>\n",
              "      <th>5</th>\n",
              "      <td>6</td>\n",
              "      <td>B006K2ZZ7K</td>\n",
              "      <td>ADT0SRK1MGOEU</td>\n",
              "      <td>Twoapennything</td>\n",
              "      <td>0</td>\n",
              "      <td>0</td>\n",
              "      <td>positive</td>\n",
              "      <td>1342051200</td>\n",
              "      <td>Nice Taffy</td>\n",
              "      <td>I got a wild hair for taffy and ordered this f...</td>\n",
              "    </tr>\n",
              "    <tr>\n",
              "      <th>6</th>\n",
              "      <td>7</td>\n",
              "      <td>B006K2ZZ7K</td>\n",
              "      <td>A1SP2KVKFXXRU1</td>\n",
              "      <td>David C. Sullivan</td>\n",
              "      <td>0</td>\n",
              "      <td>0</td>\n",
              "      <td>positive</td>\n",
              "      <td>1340150400</td>\n",
              "      <td>Great!  Just as good as the expensive brands!</td>\n",
              "      <td>This saltwater taffy had great flavors and was...</td>\n",
              "    </tr>\n",
              "    <tr>\n",
              "      <th>7</th>\n",
              "      <td>8</td>\n",
              "      <td>B006K2ZZ7K</td>\n",
              "      <td>A3JRGQVEQN31IQ</td>\n",
              "      <td>Pamela G. Williams</td>\n",
              "      <td>0</td>\n",
              "      <td>0</td>\n",
              "      <td>positive</td>\n",
              "      <td>1336003200</td>\n",
              "      <td>Wonderful, tasty taffy</td>\n",
              "      <td>This taffy is so good.  It is very soft and ch...</td>\n",
              "    </tr>\n",
              "    <tr>\n",
              "      <th>8</th>\n",
              "      <td>9</td>\n",
              "      <td>B000E7L2R4</td>\n",
              "      <td>A1MZYO9TZK0BBI</td>\n",
              "      <td>R. James</td>\n",
              "      <td>1</td>\n",
              "      <td>1</td>\n",
              "      <td>positive</td>\n",
              "      <td>1322006400</td>\n",
              "      <td>Yay Barley</td>\n",
              "      <td>Right now I'm mostly just sprouting this so my...</td>\n",
              "    </tr>\n",
              "    <tr>\n",
              "      <th>9</th>\n",
              "      <td>10</td>\n",
              "      <td>B00171APVA</td>\n",
              "      <td>A21BT40VZCCYT4</td>\n",
              "      <td>Carol A. Reed</td>\n",
              "      <td>0</td>\n",
              "      <td>0</td>\n",
              "      <td>positive</td>\n",
              "      <td>1351209600</td>\n",
              "      <td>Healthy Dog Food</td>\n",
              "      <td>This is a very healthy dog food. Good for thei...</td>\n",
              "    </tr>\n",
              "  </tbody>\n",
              "</table>\n",
              "</div>"
            ],
            "text/plain": [
              "   Id  ...                                               Text\n",
              "0   1  ...  I have bought several of the Vitality canned d...\n",
              "1   2  ...  Product arrived labeled as Jumbo Salted Peanut...\n",
              "2   3  ...  This is a confection that has been around a fe...\n",
              "3   4  ...  If you are looking for the secret ingredient i...\n",
              "4   5  ...  Great taffy at a great price.  There was a wid...\n",
              "5   6  ...  I got a wild hair for taffy and ordered this f...\n",
              "6   7  ...  This saltwater taffy had great flavors and was...\n",
              "7   8  ...  This taffy is so good.  It is very soft and ch...\n",
              "8   9  ...  Right now I'm mostly just sprouting this so my...\n",
              "9  10  ...  This is a very healthy dog food. Good for thei...\n",
              "\n",
              "[10 rows x 10 columns]"
            ]
          },
          "metadata": {
            "tags": []
          },
          "execution_count": 13
        }
      ]
    },
    {
      "cell_type": "code",
      "metadata": {
        "id": "OUlRuhIvBLwH",
        "colab_type": "code",
        "outputId": "8ad1f2c5-9784-465a-ce30-8376ceaaeeea",
        "colab": {
          "base_uri": "https://localhost:8080/",
          "height": 34
        }
      },
      "source": [
        "dataset_sqlite.shape"
      ],
      "execution_count": 14,
      "outputs": [
        {
          "output_type": "execute_result",
          "data": {
            "text/plain": [
              "(525814, 10)"
            ]
          },
          "metadata": {
            "tags": []
          },
          "execution_count": 14
        }
      ]
    },
    {
      "cell_type": "code",
      "metadata": {
        "id": "ciySb_xaBLwM",
        "colab_type": "code",
        "outputId": "5f202b33-a7d7-45e4-9f78-f7a4c54fcc0d",
        "colab": {
          "base_uri": "https://localhost:8080/",
          "height": 272
        }
      },
      "source": [
        "dataset_sqlite.info()"
      ],
      "execution_count": 15,
      "outputs": [
        {
          "output_type": "stream",
          "text": [
            "<class 'pandas.core.frame.DataFrame'>\n",
            "RangeIndex: 525814 entries, 0 to 525813\n",
            "Data columns (total 10 columns):\n",
            "Id                        525814 non-null int64\n",
            "ProductId                 525814 non-null object\n",
            "UserId                    525814 non-null object\n",
            "ProfileName               525814 non-null object\n",
            "HelpfulnessNumerator      525814 non-null int64\n",
            "HelpfulnessDenominator    525814 non-null int64\n",
            "Score                     525814 non-null object\n",
            "Time                      525814 non-null int64\n",
            "Summary                   525814 non-null object\n",
            "Text                      525814 non-null object\n",
            "dtypes: int64(4), object(6)\n",
            "memory usage: 40.1+ MB\n"
          ],
          "name": "stdout"
        }
      ]
    },
    {
      "cell_type": "code",
      "metadata": {
        "id": "Ys5fXU32BLwP",
        "colab_type": "code",
        "outputId": "ed28fc6a-534a-4dc3-cafd-02c21c9375c1",
        "colab": {
          "base_uri": "https://localhost:8080/",
          "height": 204
        }
      },
      "source": [
        "dataset_sqlite.isnull().sum()"
      ],
      "execution_count": 16,
      "outputs": [
        {
          "output_type": "execute_result",
          "data": {
            "text/plain": [
              "Id                        0\n",
              "ProductId                 0\n",
              "UserId                    0\n",
              "ProfileName               0\n",
              "HelpfulnessNumerator      0\n",
              "HelpfulnessDenominator    0\n",
              "Score                     0\n",
              "Time                      0\n",
              "Summary                   0\n",
              "Text                      0\n",
              "dtype: int64"
            ]
          },
          "metadata": {
            "tags": []
          },
          "execution_count": 16
        }
      ]
    },
    {
      "cell_type": "code",
      "metadata": {
        "id": "g6sTx1jcBLwT",
        "colab_type": "code",
        "colab": {}
      },
      "source": [
        "amnt_pos = dataset_sqlite.Score.value_counts()['positive']\n",
        "amnt_neg = dataset_sqlite.Score.value_counts()['negetive']"
      ],
      "execution_count": 0,
      "outputs": []
    },
    {
      "cell_type": "code",
      "metadata": {
        "id": "QYr1UuZ5BLwW",
        "colab_type": "code",
        "outputId": "d274b750-4f53-4936-f425-4133866bde5f",
        "colab": {
          "base_uri": "https://localhost:8080/",
          "height": 640
        }
      },
      "source": [
        "category_names = ['Positive' , 'Negetive']\n",
        "sizes = [amnt_pos , amnt_neg]\n",
        "custom_colours = ['#4b6584', '#12CBC4']\n",
        "\n",
        "plt.figure(figsize = (10,8) , dpi=100)\n",
        "plt.pie(sizes, labels=category_names , textprops={'fontsize': 20} , startangle = 90 , \n",
        "       autopct='%1.0f%%' , colors=custom_colours , explode=[0 , 0.1])\n",
        "\n",
        "plt.show()"
      ],
      "execution_count": 18,
      "outputs": [
        {
          "output_type": "display_data",
          "data": {
            "image/png": "[encoded data removed]",
            "text/plain": [
              "<Figure size 1000x800 with 1 Axes>"
            ]
          },
          "metadata": {
            "tags": []
          }
        }
      ]
    },
    {
      "cell_type": "markdown",
      "metadata": {
        "id": "-AgvtMb-BLwc",
        "colab_type": "text"
      },
      "source": [
        "## Data Cleaning"
      ]
    },
    {
      "cell_type": "code",
      "metadata": {
        "id": "uROjr4jiBLwe",
        "colab_type": "code",
        "outputId": "07ff57a1-f535-4c1e-c1a9-bbe31ef24af5",
        "colab": {
          "base_uri": "https://localhost:8080/",
          "height": 514
        }
      },
      "source": [
        "display = pd.read_sql_query(\"\"\"\n",
        "\n",
        "                            select * from Reviews ORDER BY UserId\n",
        "                            \n",
        "                            \"\"\" , con)\n",
        "\n",
        "display.head(15)"
      ],
      "execution_count": 19,
      "outputs": [
        {
          "output_type": "execute_result",
          "data": {
            "text/html": [
              "<div>\n",
              "<style scoped>\n",
              "    .dataframe tbody tr th:only-of-type {\n",
              "        vertical-align: middle;\n",
              "    }\n",
              "\n",
              "    .dataframe tbody tr th {\n",
              "        vertical-align: top;\n",
              "    }\n",
              "\n",
              "    .dataframe thead th {\n",
              "        text-align: right;\n",
              "    }\n",
              "</style>\n",
              "<table border=\"1\" class=\"dataframe\">\n",
              "  <thead>\n",
              "    <tr style=\"text-align: right;\">\n",
              "      <th></th>\n",
              "      <th>Id</th>\n",
              "      <th>ProductId</th>\n",
              "      <th>UserId</th>\n",
              "      <th>ProfileName</th>\n",
              "      <th>HelpfulnessNumerator</th>\n",
              "      <th>HelpfulnessDenominator</th>\n",
              "      <th>Score</th>\n",
              "      <th>Time</th>\n",
              "      <th>Summary</th>\n",
              "      <th>Text</th>\n",
              "    </tr>\n",
              "  </thead>\n",
              "  <tbody>\n",
              "    <tr>\n",
              "      <th>0</th>\n",
              "      <td>136323</td>\n",
              "      <td>B006Q820X0</td>\n",
              "      <td>#oc-R103C0QSV1DF5E</td>\n",
              "      <td>C</td>\n",
              "      <td>1</td>\n",
              "      <td>2</td>\n",
              "      <td>5</td>\n",
              "      <td>1343088000</td>\n",
              "      <td>Great for the Price</td>\n",
              "      <td>I have to say I was a little apprehensive to b...</td>\n",
              "    </tr>\n",
              "    <tr>\n",
              "      <th>1</th>\n",
              "      <td>516062</td>\n",
              "      <td>B008I1XPKA</td>\n",
              "      <td>#oc-R109MU5OBBZ59U</td>\n",
              "      <td>AayGee</td>\n",
              "      <td>0</td>\n",
              "      <td>1</td>\n",
              "      <td>5</td>\n",
              "      <td>1350086400</td>\n",
              "      <td>AWESOME Coffee!!!!</td>\n",
              "      <td>Received my free K cups as a sample promotion ...</td>\n",
              "    </tr>\n",
              "    <tr>\n",
              "      <th>2</th>\n",
              "      <td>516079</td>\n",
              "      <td>B008I1XPKA</td>\n",
              "      <td>#oc-R10LFEMQEW6QGZ</td>\n",
              "      <td>Julie</td>\n",
              "      <td>0</td>\n",
              "      <td>1</td>\n",
              "      <td>5</td>\n",
              "      <td>1345939200</td>\n",
              "      <td>Brooklyn Bean Roastery Breakfast Blend K-Cups</td>\n",
              "      <td>Brooklyn Bean Roastery Blend K-Cups are great ...</td>\n",
              "    </tr>\n",
              "    <tr>\n",
              "      <th>3</th>\n",
              "      <td>378693</td>\n",
              "      <td>B0026LJ3EA</td>\n",
              "      <td>#oc-R10LT57ZGIB140</td>\n",
              "      <td>dipr</td>\n",
              "      <td>0</td>\n",
              "      <td>0</td>\n",
              "      <td>3</td>\n",
              "      <td>1310601600</td>\n",
              "      <td>Some damage</td>\n",
              "      <td>The shipment of the dog food was quick.  Howev...</td>\n",
              "    </tr>\n",
              "    <tr>\n",
              "      <th>4</th>\n",
              "      <td>136545</td>\n",
              "      <td>B006Q820X0</td>\n",
              "      <td>#oc-R10UA029WVWIUI</td>\n",
              "      <td>Kim D</td>\n",
              "      <td>0</td>\n",
              "      <td>0</td>\n",
              "      <td>1</td>\n",
              "      <td>1342483200</td>\n",
              "      <td>Less than satisfactory.  I gave the Brooklyn K...</td>\n",
              "      <td>Brooklyn \"French Roast\" K-Cup Coffee is not on...</td>\n",
              "    </tr>\n",
              "    <tr>\n",
              "      <th>5</th>\n",
              "      <td>83318</td>\n",
              "      <td>B005ZBZLT4</td>\n",
              "      <td>#oc-R115TNMSPFT9I7</td>\n",
              "      <td>Breyton</td>\n",
              "      <td>2</td>\n",
              "      <td>3</td>\n",
              "      <td>2</td>\n",
              "      <td>1331510400</td>\n",
              "      <td>\"Green\" K-cup packaging sacrifices flavor</td>\n",
              "      <td>Overall its just OK when considering the price...</td>\n",
              "    </tr>\n",
              "    <tr>\n",
              "      <th>6</th>\n",
              "      <td>180872</td>\n",
              "      <td>B007Y59HVM</td>\n",
              "      <td>#oc-R115TNMSPFT9I7</td>\n",
              "      <td>Breyton</td>\n",
              "      <td>2</td>\n",
              "      <td>3</td>\n",
              "      <td>2</td>\n",
              "      <td>1331510400</td>\n",
              "      <td>\"Green\" K-cup packaging sacrifices flavor</td>\n",
              "      <td>Overall its just OK when considering the price...</td>\n",
              "    </tr>\n",
              "    <tr>\n",
              "      <th>7</th>\n",
              "      <td>21719</td>\n",
              "      <td>B005DVVB9K</td>\n",
              "      <td>#oc-R119LM8D59ZW8Y</td>\n",
              "      <td>Lee Mellott \"SEOmenu2go\"</td>\n",
              "      <td>5</td>\n",
              "      <td>11</td>\n",
              "      <td>1</td>\n",
              "      <td>1320192000</td>\n",
              "      <td>Not So Sweet Treat!</td>\n",
              "      <td>I love chocolate so I was excited to see the C...</td>\n",
              "    </tr>\n",
              "    <tr>\n",
              "      <th>8</th>\n",
              "      <td>290948</td>\n",
              "      <td>B005HG9ESG</td>\n",
              "      <td>#oc-R11D9D7SHXIJB9</td>\n",
              "      <td>Louis E. Emory \"hoppy\"</td>\n",
              "      <td>0</td>\n",
              "      <td>0</td>\n",
              "      <td>5</td>\n",
              "      <td>1342396800</td>\n",
              "      <td>Muscle spasms</td>\n",
              "      <td>My wife has recurring extreme muscle spasms, u...</td>\n",
              "    </tr>\n",
              "    <tr>\n",
              "      <th>9</th>\n",
              "      <td>455534</td>\n",
              "      <td>B005HG9ERW</td>\n",
              "      <td>#oc-R11D9D7SHXIJB9</td>\n",
              "      <td>Louis E. Emory \"hoppy\"</td>\n",
              "      <td>0</td>\n",
              "      <td>0</td>\n",
              "      <td>5</td>\n",
              "      <td>1342396800</td>\n",
              "      <td>Muscle spasms</td>\n",
              "      <td>My wife has recurring extreme muscle spasms, u...</td>\n",
              "    </tr>\n",
              "    <tr>\n",
              "      <th>10</th>\n",
              "      <td>496894</td>\n",
              "      <td>B005HG9ET0</td>\n",
              "      <td>#oc-R11D9D7SHXIJB9</td>\n",
              "      <td>Louis E. Emory \"hoppy\"</td>\n",
              "      <td>0</td>\n",
              "      <td>0</td>\n",
              "      <td>5</td>\n",
              "      <td>1342396800</td>\n",
              "      <td>Muscle spasms</td>\n",
              "      <td>My wife has recurring extreme muscle spasms, u...</td>\n",
              "    </tr>\n",
              "    <tr>\n",
              "      <th>11</th>\n",
              "      <td>516144</td>\n",
              "      <td>B008I1XPKA</td>\n",
              "      <td>#oc-R11D9LKDAN5NQJ</td>\n",
              "      <td>Melissa Korducavich</td>\n",
              "      <td>2</td>\n",
              "      <td>3</td>\n",
              "      <td>3</td>\n",
              "      <td>1348876800</td>\n",
              "      <td>Tastes great....makes a mess</td>\n",
              "      <td>I LOVE the taste of this coffee...bought the C...</td>\n",
              "    </tr>\n",
              "    <tr>\n",
              "      <th>12</th>\n",
              "      <td>83657</td>\n",
              "      <td>B005ZBZLT4</td>\n",
              "      <td>#oc-R11DNU2NBKQ23Z</td>\n",
              "      <td>Kim Cieszykowski</td>\n",
              "      <td>0</td>\n",
              "      <td>2</td>\n",
              "      <td>1</td>\n",
              "      <td>1348531200</td>\n",
              "      <td>Terrible coffee</td>\n",
              "      <td>This coffee is horrible and unfortunately not ...</td>\n",
              "    </tr>\n",
              "    <tr>\n",
              "      <th>13</th>\n",
              "      <td>181211</td>\n",
              "      <td>B007Y59HVM</td>\n",
              "      <td>#oc-R11DNU2NBKQ23Z</td>\n",
              "      <td>Kim Cieszykowski</td>\n",
              "      <td>0</td>\n",
              "      <td>2</td>\n",
              "      <td>1</td>\n",
              "      <td>1348531200</td>\n",
              "      <td>Terrible coffee</td>\n",
              "      <td>This coffee is horrible and unfortunately not ...</td>\n",
              "    </tr>\n",
              "    <tr>\n",
              "      <th>14</th>\n",
              "      <td>290774</td>\n",
              "      <td>B005HG9ESG</td>\n",
              "      <td>#oc-R11O5J5ZVQE25C</td>\n",
              "      <td>Penguin Chick</td>\n",
              "      <td>0</td>\n",
              "      <td>0</td>\n",
              "      <td>5</td>\n",
              "      <td>1346889600</td>\n",
              "      <td>Refreshing!</td>\n",
              "      <td>This will be the bottle that you grab from the...</td>\n",
              "    </tr>\n",
              "  </tbody>\n",
              "</table>\n",
              "</div>"
            ],
            "text/plain": [
              "        Id  ...                                               Text\n",
              "0   136323  ...  I have to say I was a little apprehensive to b...\n",
              "1   516062  ...  Received my free K cups as a sample promotion ...\n",
              "2   516079  ...  Brooklyn Bean Roastery Blend K-Cups are great ...\n",
              "3   378693  ...  The shipment of the dog food was quick.  Howev...\n",
              "4   136545  ...  Brooklyn \"French Roast\" K-Cup Coffee is not on...\n",
              "5    83318  ...  Overall its just OK when considering the price...\n",
              "6   180872  ...  Overall its just OK when considering the price...\n",
              "7    21719  ...  I love chocolate so I was excited to see the C...\n",
              "8   290948  ...  My wife has recurring extreme muscle spasms, u...\n",
              "9   455534  ...  My wife has recurring extreme muscle spasms, u...\n",
              "10  496894  ...  My wife has recurring extreme muscle spasms, u...\n",
              "11  516144  ...  I LOVE the taste of this coffee...bought the C...\n",
              "12   83657  ...  This coffee is horrible and unfortunately not ...\n",
              "13  181211  ...  This coffee is horrible and unfortunately not ...\n",
              "14  290774  ...  This will be the bottle that you grab from the...\n",
              "\n",
              "[15 rows x 10 columns]"
            ]
          },
          "metadata": {
            "tags": []
          },
          "execution_count": 19
        }
      ]
    },
    {
      "cell_type": "markdown",
      "metadata": {
        "id": "GglZCBFkBLwj",
        "colab_type": "text"
      },
      "source": [
        "There have been many duplicates rows in the dataset.In the above table 8,9,10 rows have similar customer and he buy different product and review it at the same time.So it can be a garbage value.There can be some miscalculation when save it into the database.So it is necessasry to remove those rows for better performance."
      ]
    },
    {
      "cell_type": "code",
      "metadata": {
        "id": "bPq6l1-uBLwk",
        "colab_type": "code",
        "outputId": "86f70647-636c-474e-b0f5-a485ac4ec516",
        "colab": {
          "base_uri": "https://localhost:8080/",
          "height": 142
        }
      },
      "source": [
        "display = pd.read_sql_query(\"\"\"\n",
        "\n",
        "                            select * from Reviews where Score !=3 and UserId=\"#oc-R11D9D7SHXIJB9\" ORDER BY ProductID\n",
        "                            \n",
        "                            \"\"\" , con)\n",
        "\n",
        "display.head(10)"
      ],
      "execution_count": 20,
      "outputs": [
        {
          "output_type": "execute_result",
          "data": {
            "text/html": [
              "<div>\n",
              "<style scoped>\n",
              "    .dataframe tbody tr th:only-of-type {\n",
              "        vertical-align: middle;\n",
              "    }\n",
              "\n",
              "    .dataframe tbody tr th {\n",
              "        vertical-align: top;\n",
              "    }\n",
              "\n",
              "    .dataframe thead th {\n",
              "        text-align: right;\n",
              "    }\n",
              "</style>\n",
              "<table border=\"1\" class=\"dataframe\">\n",
              "  <thead>\n",
              "    <tr style=\"text-align: right;\">\n",
              "      <th></th>\n",
              "      <th>Id</th>\n",
              "      <th>ProductId</th>\n",
              "      <th>UserId</th>\n",
              "      <th>ProfileName</th>\n",
              "      <th>HelpfulnessNumerator</th>\n",
              "      <th>HelpfulnessDenominator</th>\n",
              "      <th>Score</th>\n",
              "      <th>Time</th>\n",
              "      <th>Summary</th>\n",
              "      <th>Text</th>\n",
              "    </tr>\n",
              "  </thead>\n",
              "  <tbody>\n",
              "    <tr>\n",
              "      <th>0</th>\n",
              "      <td>455534</td>\n",
              "      <td>B005HG9ERW</td>\n",
              "      <td>#oc-R11D9D7SHXIJB9</td>\n",
              "      <td>Louis E. Emory \"hoppy\"</td>\n",
              "      <td>0</td>\n",
              "      <td>0</td>\n",
              "      <td>5</td>\n",
              "      <td>1342396800</td>\n",
              "      <td>Muscle spasms</td>\n",
              "      <td>My wife has recurring extreme muscle spasms, u...</td>\n",
              "    </tr>\n",
              "    <tr>\n",
              "      <th>1</th>\n",
              "      <td>290948</td>\n",
              "      <td>B005HG9ESG</td>\n",
              "      <td>#oc-R11D9D7SHXIJB9</td>\n",
              "      <td>Louis E. Emory \"hoppy\"</td>\n",
              "      <td>0</td>\n",
              "      <td>0</td>\n",
              "      <td>5</td>\n",
              "      <td>1342396800</td>\n",
              "      <td>Muscle spasms</td>\n",
              "      <td>My wife has recurring extreme muscle spasms, u...</td>\n",
              "    </tr>\n",
              "    <tr>\n",
              "      <th>2</th>\n",
              "      <td>496894</td>\n",
              "      <td>B005HG9ET0</td>\n",
              "      <td>#oc-R11D9D7SHXIJB9</td>\n",
              "      <td>Louis E. Emory \"hoppy\"</td>\n",
              "      <td>0</td>\n",
              "      <td>0</td>\n",
              "      <td>5</td>\n",
              "      <td>1342396800</td>\n",
              "      <td>Muscle spasms</td>\n",
              "      <td>My wife has recurring extreme muscle spasms, u...</td>\n",
              "    </tr>\n",
              "  </tbody>\n",
              "</table>\n",
              "</div>"
            ],
            "text/plain": [
              "       Id  ...                                               Text\n",
              "0  455534  ...  My wife has recurring extreme muscle spasms, u...\n",
              "1  290948  ...  My wife has recurring extreme muscle spasms, u...\n",
              "2  496894  ...  My wife has recurring extreme muscle spasms, u...\n",
              "\n",
              "[3 rows x 10 columns]"
            ]
          },
          "metadata": {
            "tags": []
          },
          "execution_count": 20
        }
      ]
    },
    {
      "cell_type": "markdown",
      "metadata": {
        "id": "Z_i5co-DBLwp",
        "colab_type": "text"
      },
      "source": [
        "Check how many product the perticular customer but at a same time.\n",
        "\n",
        "\n",
        "Check some other Users"
      ]
    },
    {
      "cell_type": "code",
      "metadata": {
        "id": "dy3kEeFsBLwq",
        "colab_type": "code",
        "outputId": "861de1c9-37fb-4373-e061-10de72f4d465",
        "colab": {
          "base_uri": "https://localhost:8080/",
          "height": 204
        }
      },
      "source": [
        "display= pd.read_sql_query(\"\"\"\n",
        "\n",
        "                        select *\n",
        "                        from Reviews\n",
        "                        where Score != 3 AND UserId = \"AR5J8UI46CURR\"\n",
        "                        ORDER BY ProductID\n",
        "                        \n",
        "                        \"\"\", con)\n",
        "display.head()"
      ],
      "execution_count": 21,
      "outputs": [
        {
          "output_type": "execute_result",
          "data": {
            "text/html": [
              "<div>\n",
              "<style scoped>\n",
              "    .dataframe tbody tr th:only-of-type {\n",
              "        vertical-align: middle;\n",
              "    }\n",
              "\n",
              "    .dataframe tbody tr th {\n",
              "        vertical-align: top;\n",
              "    }\n",
              "\n",
              "    .dataframe thead th {\n",
              "        text-align: right;\n",
              "    }\n",
              "</style>\n",
              "<table border=\"1\" class=\"dataframe\">\n",
              "  <thead>\n",
              "    <tr style=\"text-align: right;\">\n",
              "      <th></th>\n",
              "      <th>Id</th>\n",
              "      <th>ProductId</th>\n",
              "      <th>UserId</th>\n",
              "      <th>ProfileName</th>\n",
              "      <th>HelpfulnessNumerator</th>\n",
              "      <th>HelpfulnessDenominator</th>\n",
              "      <th>Score</th>\n",
              "      <th>Time</th>\n",
              "      <th>Summary</th>\n",
              "      <th>Text</th>\n",
              "    </tr>\n",
              "  </thead>\n",
              "  <tbody>\n",
              "    <tr>\n",
              "      <th>0</th>\n",
              "      <td>78445</td>\n",
              "      <td>B000HDL1RQ</td>\n",
              "      <td>AR5J8UI46CURR</td>\n",
              "      <td>Geetha Krishnan</td>\n",
              "      <td>2</td>\n",
              "      <td>2</td>\n",
              "      <td>5</td>\n",
              "      <td>1199577600</td>\n",
              "      <td>LOACKER QUADRATINI VANILLA WAFERS</td>\n",
              "      <td>DELICIOUS WAFERS. I FIND THAT EUROPEAN WAFERS ...</td>\n",
              "    </tr>\n",
              "    <tr>\n",
              "      <th>1</th>\n",
              "      <td>138317</td>\n",
              "      <td>B000HDOPYC</td>\n",
              "      <td>AR5J8UI46CURR</td>\n",
              "      <td>Geetha Krishnan</td>\n",
              "      <td>2</td>\n",
              "      <td>2</td>\n",
              "      <td>5</td>\n",
              "      <td>1199577600</td>\n",
              "      <td>LOACKER QUADRATINI VANILLA WAFERS</td>\n",
              "      <td>DELICIOUS WAFERS. I FIND THAT EUROPEAN WAFERS ...</td>\n",
              "    </tr>\n",
              "    <tr>\n",
              "      <th>2</th>\n",
              "      <td>138277</td>\n",
              "      <td>B000HDOPYM</td>\n",
              "      <td>AR5J8UI46CURR</td>\n",
              "      <td>Geetha Krishnan</td>\n",
              "      <td>2</td>\n",
              "      <td>2</td>\n",
              "      <td>5</td>\n",
              "      <td>1199577600</td>\n",
              "      <td>LOACKER QUADRATINI VANILLA WAFERS</td>\n",
              "      <td>DELICIOUS WAFERS. I FIND THAT EUROPEAN WAFERS ...</td>\n",
              "    </tr>\n",
              "    <tr>\n",
              "      <th>3</th>\n",
              "      <td>73791</td>\n",
              "      <td>B000HDOPZG</td>\n",
              "      <td>AR5J8UI46CURR</td>\n",
              "      <td>Geetha Krishnan</td>\n",
              "      <td>2</td>\n",
              "      <td>2</td>\n",
              "      <td>5</td>\n",
              "      <td>1199577600</td>\n",
              "      <td>LOACKER QUADRATINI VANILLA WAFERS</td>\n",
              "      <td>DELICIOUS WAFERS. I FIND THAT EUROPEAN WAFERS ...</td>\n",
              "    </tr>\n",
              "    <tr>\n",
              "      <th>4</th>\n",
              "      <td>155049</td>\n",
              "      <td>B000PAQ75C</td>\n",
              "      <td>AR5J8UI46CURR</td>\n",
              "      <td>Geetha Krishnan</td>\n",
              "      <td>2</td>\n",
              "      <td>2</td>\n",
              "      <td>5</td>\n",
              "      <td>1199577600</td>\n",
              "      <td>LOACKER QUADRATINI VANILLA WAFERS</td>\n",
              "      <td>DELICIOUS WAFERS. I FIND THAT EUROPEAN WAFERS ...</td>\n",
              "    </tr>\n",
              "  </tbody>\n",
              "</table>\n",
              "</div>"
            ],
            "text/plain": [
              "       Id  ...                                               Text\n",
              "0   78445  ...  DELICIOUS WAFERS. I FIND THAT EUROPEAN WAFERS ...\n",
              "1  138317  ...  DELICIOUS WAFERS. I FIND THAT EUROPEAN WAFERS ...\n",
              "2  138277  ...  DELICIOUS WAFERS. I FIND THAT EUROPEAN WAFERS ...\n",
              "3   73791  ...  DELICIOUS WAFERS. I FIND THAT EUROPEAN WAFERS ...\n",
              "4  155049  ...  DELICIOUS WAFERS. I FIND THAT EUROPEAN WAFERS ...\n",
              "\n",
              "[5 rows x 10 columns]"
            ]
          },
          "metadata": {
            "tags": []
          },
          "execution_count": 21
        }
      ]
    },
    {
      "cell_type": "markdown",
      "metadata": {
        "id": "QBZKll8sBLwv",
        "colab_type": "text"
      },
      "source": [
        "It is shown that this customer also have buy many different product at the same time and review it.This can be happen when a specific product have different color or differnet flavor.\n",
        "So remove the duplicate all rows."
      ]
    },
    {
      "cell_type": "code",
      "metadata": {
        "id": "YgUWFnGVBLwx",
        "colab_type": "code",
        "outputId": "5b0d9c77-19a2-4d7b-b558-18d6d8bcc2a8",
        "colab": {
          "base_uri": "https://localhost:8080/",
          "height": 204
        }
      },
      "source": [
        "# Sorting the dataset according to productID\n",
        "\n",
        "sorted_data = dataset_sqlite.sort_values(\n",
        "                        'ProductId' , axis = 0 , ascending = True , inplace = False , kind = 'quicksort' ,  na_position='last'\n",
        "                        )\n",
        "sorted_data.head()"
      ],
      "execution_count": 22,
      "outputs": [
        {
          "output_type": "execute_result",
          "data": {
            "text/html": [
              "<div>\n",
              "<style scoped>\n",
              "    .dataframe tbody tr th:only-of-type {\n",
              "        vertical-align: middle;\n",
              "    }\n",
              "\n",
              "    .dataframe tbody tr th {\n",
              "        vertical-align: top;\n",
              "    }\n",
              "\n",
              "    .dataframe thead th {\n",
              "        text-align: right;\n",
              "    }\n",
              "</style>\n",
              "<table border=\"1\" class=\"dataframe\">\n",
              "  <thead>\n",
              "    <tr style=\"text-align: right;\">\n",
              "      <th></th>\n",
              "      <th>Id</th>\n",
              "      <th>ProductId</th>\n",
              "      <th>UserId</th>\n",
              "      <th>ProfileName</th>\n",
              "      <th>HelpfulnessNumerator</th>\n",
              "      <th>HelpfulnessDenominator</th>\n",
              "      <th>Score</th>\n",
              "      <th>Time</th>\n",
              "      <th>Summary</th>\n",
              "      <th>Text</th>\n",
              "    </tr>\n",
              "  </thead>\n",
              "  <tbody>\n",
              "    <tr>\n",
              "      <th>138706</th>\n",
              "      <td>150524</td>\n",
              "      <td>0006641040</td>\n",
              "      <td>ACITT7DI6IDDL</td>\n",
              "      <td>shari zychinski</td>\n",
              "      <td>0</td>\n",
              "      <td>0</td>\n",
              "      <td>positive</td>\n",
              "      <td>939340800</td>\n",
              "      <td>EVERY book is educational</td>\n",
              "      <td>this witty little book makes my son laugh at l...</td>\n",
              "    </tr>\n",
              "    <tr>\n",
              "      <th>138688</th>\n",
              "      <td>150506</td>\n",
              "      <td>0006641040</td>\n",
              "      <td>A2IW4PEEKO2R0U</td>\n",
              "      <td>Tracy</td>\n",
              "      <td>1</td>\n",
              "      <td>1</td>\n",
              "      <td>positive</td>\n",
              "      <td>1194739200</td>\n",
              "      <td>Love the book, miss the hard cover version</td>\n",
              "      <td>I grew up reading these Sendak books, and watc...</td>\n",
              "    </tr>\n",
              "    <tr>\n",
              "      <th>138689</th>\n",
              "      <td>150507</td>\n",
              "      <td>0006641040</td>\n",
              "      <td>A1S4A3IQ2MU7V4</td>\n",
              "      <td>sally sue \"sally sue\"</td>\n",
              "      <td>1</td>\n",
              "      <td>1</td>\n",
              "      <td>positive</td>\n",
              "      <td>1191456000</td>\n",
              "      <td>chicken soup with rice months</td>\n",
              "      <td>This is a fun way for children to learn their ...</td>\n",
              "    </tr>\n",
              "    <tr>\n",
              "      <th>138690</th>\n",
              "      <td>150508</td>\n",
              "      <td>0006641040</td>\n",
              "      <td>AZGXZ2UUK6X</td>\n",
              "      <td>Catherine Hallberg \"(Kate)\"</td>\n",
              "      <td>1</td>\n",
              "      <td>1</td>\n",
              "      <td>positive</td>\n",
              "      <td>1076025600</td>\n",
              "      <td>a good swingy rhythm for reading aloud</td>\n",
              "      <td>This is a great little book to read aloud- it ...</td>\n",
              "    </tr>\n",
              "    <tr>\n",
              "      <th>138691</th>\n",
              "      <td>150509</td>\n",
              "      <td>0006641040</td>\n",
              "      <td>A3CMRKGE0P909G</td>\n",
              "      <td>Teresa</td>\n",
              "      <td>3</td>\n",
              "      <td>4</td>\n",
              "      <td>positive</td>\n",
              "      <td>1018396800</td>\n",
              "      <td>A great way to learn the months</td>\n",
              "      <td>This is a book of poetry about the months of t...</td>\n",
              "    </tr>\n",
              "  </tbody>\n",
              "</table>\n",
              "</div>"
            ],
            "text/plain": [
              "            Id  ...                                               Text\n",
              "138706  150524  ...  this witty little book makes my son laugh at l...\n",
              "138688  150506  ...  I grew up reading these Sendak books, and watc...\n",
              "138689  150507  ...  This is a fun way for children to learn their ...\n",
              "138690  150508  ...  This is a great little book to read aloud- it ...\n",
              "138691  150509  ...  This is a book of poetry about the months of t...\n",
              "\n",
              "[5 rows x 10 columns]"
            ]
          },
          "metadata": {
            "tags": []
          },
          "execution_count": 22
        }
      ]
    },
    {
      "cell_type": "markdown",
      "metadata": {
        "id": "t3_OfKDlBLw3",
        "colab_type": "text"
      },
      "source": [
        "Find the duplicates if the useid , profilename , time , text is the same then it is duplicate.And remove those rows."
      ]
    },
    {
      "cell_type": "code",
      "metadata": {
        "id": "puHq-RGUBLw5",
        "colab_type": "code",
        "outputId": "38246a9e-e3bf-4df9-a869-b41c4600f806",
        "colab": {
          "base_uri": "https://localhost:8080/",
          "height": 34
        }
      },
      "source": [
        "#Deduplication of entries\n",
        "\n",
        "final = sorted_data.drop_duplicates(subset = {'UserId' , 'ProfileName' , 'Time' , 'Text'} , keep = 'first' , inplace = False)\n",
        "final.shape"
      ],
      "execution_count": 23,
      "outputs": [
        {
          "output_type": "execute_result",
          "data": {
            "text/plain": [
              "(364173, 10)"
            ]
          },
          "metadata": {
            "tags": []
          },
          "execution_count": 23
        }
      ]
    },
    {
      "cell_type": "code",
      "metadata": {
        "id": "nfmHUCT2BLw-",
        "colab_type": "code",
        "outputId": "8d8dd0ab-355c-4e74-a433-497433e9ee2b",
        "colab": {
          "base_uri": "https://localhost:8080/",
          "height": 34
        }
      },
      "source": [
        "#Checking to see how much % of data still remains\n",
        "(final['Id'].size*1.0) / (dataset_sqlite['Id'].size*1.0) * 100"
      ],
      "execution_count": 24,
      "outputs": [
        {
          "output_type": "execute_result",
          "data": {
            "text/plain": [
              "69.25890143662969"
            ]
          },
          "metadata": {
            "tags": []
          },
          "execution_count": 24
        }
      ]
    },
    {
      "cell_type": "markdown",
      "metadata": {
        "id": "9apgK4uYBLxC",
        "colab_type": "text"
      },
      "source": [
        "After removing those duplicates rows we hvae 69% data remaining."
      ]
    },
    {
      "cell_type": "markdown",
      "metadata": {
        "id": "d4MaytrOBLxD",
        "colab_type": "text"
      },
      "source": [
        "Another way to fina inconsistency in the dataset is if the <b>HelpfulnessNumerator</b> is greater than <b>HelpfulnessDenominator</b>"
      ]
    },
    {
      "cell_type": "code",
      "metadata": {
        "id": "lHDtTVu0BLxE",
        "colab_type": "code",
        "outputId": "6a0d1128-0563-47e4-8937-451b6f987bbf",
        "colab": {
          "base_uri": "https://localhost:8080/",
          "height": 111
        }
      },
      "source": [
        "display= pd.read_sql_query(\"\"\"\n",
        "\n",
        "                        SELECT *\n",
        "                        FROM Reviews\n",
        "                        WHERE HelpfulnessNumerator > HelpfulnessDenominator\n",
        "                        \n",
        "                        \"\"\", con)\n",
        "\n",
        "display.head()"
      ],
      "execution_count": 25,
      "outputs": [
        {
          "output_type": "execute_result",
          "data": {
            "text/html": [
              "<div>\n",
              "<style scoped>\n",
              "    .dataframe tbody tr th:only-of-type {\n",
              "        vertical-align: middle;\n",
              "    }\n",
              "\n",
              "    .dataframe tbody tr th {\n",
              "        vertical-align: top;\n",
              "    }\n",
              "\n",
              "    .dataframe thead th {\n",
              "        text-align: right;\n",
              "    }\n",
              "</style>\n",
              "<table border=\"1\" class=\"dataframe\">\n",
              "  <thead>\n",
              "    <tr style=\"text-align: right;\">\n",
              "      <th></th>\n",
              "      <th>Id</th>\n",
              "      <th>ProductId</th>\n",
              "      <th>UserId</th>\n",
              "      <th>ProfileName</th>\n",
              "      <th>HelpfulnessNumerator</th>\n",
              "      <th>HelpfulnessDenominator</th>\n",
              "      <th>Score</th>\n",
              "      <th>Time</th>\n",
              "      <th>Summary</th>\n",
              "      <th>Text</th>\n",
              "    </tr>\n",
              "  </thead>\n",
              "  <tbody>\n",
              "    <tr>\n",
              "      <th>0</th>\n",
              "      <td>44737</td>\n",
              "      <td>B001EQ55RW</td>\n",
              "      <td>A2V0I904FH7ABY</td>\n",
              "      <td>Ram</td>\n",
              "      <td>3</td>\n",
              "      <td>2</td>\n",
              "      <td>4</td>\n",
              "      <td>1212883200</td>\n",
              "      <td>Pure cocoa taste with crunchy almonds inside</td>\n",
              "      <td>It was almost a 'love at first bite' - the per...</td>\n",
              "    </tr>\n",
              "    <tr>\n",
              "      <th>1</th>\n",
              "      <td>64422</td>\n",
              "      <td>B000MIDROQ</td>\n",
              "      <td>A161DK06JJMCYF</td>\n",
              "      <td>J. E. Stephens \"Jeanne\"</td>\n",
              "      <td>3</td>\n",
              "      <td>1</td>\n",
              "      <td>5</td>\n",
              "      <td>1224892800</td>\n",
              "      <td>Bought This for My Son at College</td>\n",
              "      <td>My son loves spaghetti so I didn't hesitate or...</td>\n",
              "    </tr>\n",
              "  </tbody>\n",
              "</table>\n",
              "</div>"
            ],
            "text/plain": [
              "      Id  ...                                               Text\n",
              "0  44737  ...  It was almost a 'love at first bite' - the per...\n",
              "1  64422  ...  My son loves spaghetti so I didn't hesitate or...\n",
              "\n",
              "[2 rows x 10 columns]"
            ]
          },
          "metadata": {
            "tags": []
          },
          "execution_count": 25
        }
      ]
    },
    {
      "cell_type": "markdown",
      "metadata": {
        "id": "t37o_E71BLxH",
        "colab_type": "text"
      },
      "source": [
        "It was also seen that in two rows given below the value of HelpfulnessNumerator is greater than HelpfulnessDenominator which is not practically possible hence these two rows too are removed from calcualtions"
      ]
    },
    {
      "cell_type": "code",
      "metadata": {
        "id": "vD2gL8EbBLxI",
        "colab_type": "code",
        "outputId": "7f9db822-b98d-4772-dab1-20bce5c79669",
        "colab": {
          "base_uri": "https://localhost:8080/",
          "height": 111
        }
      },
      "source": [
        "display= pd.read_sql_query(\"\"\"\n",
        "\n",
        "                        SELECT *\n",
        "                        FROM Reviews\n",
        "                        WHERE Score != 3 AND Id=44737 OR Id=64422\n",
        "                        ORDER BY ProductID\n",
        "                        \n",
        "                        \"\"\", con)\n",
        "\n",
        "display.head()"
      ],
      "execution_count": 26,
      "outputs": [
        {
          "output_type": "execute_result",
          "data": {
            "text/html": [
              "<div>\n",
              "<style scoped>\n",
              "    .dataframe tbody tr th:only-of-type {\n",
              "        vertical-align: middle;\n",
              "    }\n",
              "\n",
              "    .dataframe tbody tr th {\n",
              "        vertical-align: top;\n",
              "    }\n",
              "\n",
              "    .dataframe thead th {\n",
              "        text-align: right;\n",
              "    }\n",
              "</style>\n",
              "<table border=\"1\" class=\"dataframe\">\n",
              "  <thead>\n",
              "    <tr style=\"text-align: right;\">\n",
              "      <th></th>\n",
              "      <th>Id</th>\n",
              "      <th>ProductId</th>\n",
              "      <th>UserId</th>\n",
              "      <th>ProfileName</th>\n",
              "      <th>HelpfulnessNumerator</th>\n",
              "      <th>HelpfulnessDenominator</th>\n",
              "      <th>Score</th>\n",
              "      <th>Time</th>\n",
              "      <th>Summary</th>\n",
              "      <th>Text</th>\n",
              "    </tr>\n",
              "  </thead>\n",
              "  <tbody>\n",
              "    <tr>\n",
              "      <th>0</th>\n",
              "      <td>64422</td>\n",
              "      <td>B000MIDROQ</td>\n",
              "      <td>A161DK06JJMCYF</td>\n",
              "      <td>J. E. Stephens \"Jeanne\"</td>\n",
              "      <td>3</td>\n",
              "      <td>1</td>\n",
              "      <td>5</td>\n",
              "      <td>1224892800</td>\n",
              "      <td>Bought This for My Son at College</td>\n",
              "      <td>My son loves spaghetti so I didn't hesitate or...</td>\n",
              "    </tr>\n",
              "    <tr>\n",
              "      <th>1</th>\n",
              "      <td>44737</td>\n",
              "      <td>B001EQ55RW</td>\n",
              "      <td>A2V0I904FH7ABY</td>\n",
              "      <td>Ram</td>\n",
              "      <td>3</td>\n",
              "      <td>2</td>\n",
              "      <td>4</td>\n",
              "      <td>1212883200</td>\n",
              "      <td>Pure cocoa taste with crunchy almonds inside</td>\n",
              "      <td>It was almost a 'love at first bite' - the per...</td>\n",
              "    </tr>\n",
              "  </tbody>\n",
              "</table>\n",
              "</div>"
            ],
            "text/plain": [
              "      Id  ...                                               Text\n",
              "0  64422  ...  My son loves spaghetti so I didn't hesitate or...\n",
              "1  44737  ...  It was almost a 'love at first bite' - the per...\n",
              "\n",
              "[2 rows x 10 columns]"
            ]
          },
          "metadata": {
            "tags": []
          },
          "execution_count": 26
        }
      ]
    },
    {
      "cell_type": "code",
      "metadata": {
        "id": "k3A01mF5BLxN",
        "colab_type": "code",
        "colab": {}
      },
      "source": [
        "final = final[final.HelpfulnessNumerator <= final.HelpfulnessDenominator]"
      ],
      "execution_count": 0,
      "outputs": []
    },
    {
      "cell_type": "code",
      "metadata": {
        "id": "htlE7YXkBLxR",
        "colab_type": "code",
        "outputId": "870a7f5a-a367-4bb5-b865-1aea9abd2e75",
        "colab": {
          "base_uri": "https://localhost:8080/",
          "height": 34
        }
      },
      "source": [
        "final.shape"
      ],
      "execution_count": 28,
      "outputs": [
        {
          "output_type": "execute_result",
          "data": {
            "text/plain": [
              "(364171, 10)"
            ]
          },
          "metadata": {
            "tags": []
          },
          "execution_count": 28
        }
      ]
    },
    {
      "cell_type": "code",
      "metadata": {
        "id": "nF3p4vUABLxU",
        "colab_type": "code",
        "outputId": "efbc7247-b4e4-4912-8d9d-a7b7bcfc05ca",
        "colab": {
          "base_uri": "https://localhost:8080/",
          "height": 296
        }
      },
      "source": [
        "sns.countplot(x = 'Score' , data = final)"
      ],
      "execution_count": 29,
      "outputs": [
        {
          "output_type": "execute_result",
          "data": {
            "text/plain": [
              "<matplotlib.axes._subplots.AxesSubplot at 0x7fc1ad07fbe0>"
            ]
          },
          "metadata": {
            "tags": []
          },
          "execution_count": 29
        },
        {
          "output_type": "display_data",
          "data": {
            "image/png": "[encoded data removed]",
            "text/plain": [
              "<Figure size 432x288 with 1 Axes>"
            ]
          },
          "metadata": {
            "tags": []
          }
        }
      ]
    },
    {
      "cell_type": "markdown",
      "metadata": {
        "id": "R2VKl_1cBLxY",
        "colab_type": "text"
      },
      "source": [
        "## Text Preprocessing"
      ]
    },
    {
      "cell_type": "markdown",
      "metadata": {
        "id": "AzFu_9vpBLxZ",
        "colab_type": "text"
      },
      "source": [
        "We already remove the duplicates values from the dataset.Now it's time to preprocess the dataset.There are many ways to clean or preprocess the dataset.\n"
      ]
    },
    {
      "cell_type": "code",
      "metadata": {
        "id": "sRKf5HTxJBWq",
        "colab_type": "code",
        "outputId": "94251daa-74a1-40a8-e64d-59a5e41af27a",
        "colab": {
          "base_uri": "https://localhost:8080/",
          "height": 68
        }
      },
      "source": [
        "import nltk\n",
        "nltk.download('stopwords')"
      ],
      "execution_count": 30,
      "outputs": [
        {
          "output_type": "stream",
          "text": [
            "[nltk_data] Downloading package stopwords to /root/nltk_data...\n",
            "[nltk_data]   Unzipping corpora/stopwords.zip.\n"
          ],
          "name": "stdout"
        },
        {
          "output_type": "execute_result",
          "data": {
            "text/plain": [
              "True"
            ]
          },
          "metadata": {
            "tags": []
          },
          "execution_count": 30
        }
      ]
    },
    {
      "cell_type": "code",
      "metadata": {
        "id": "f_DG8XfGBLxc",
        "colab_type": "code",
        "colab": {}
      },
      "source": [
        "stop = set(stopwords.words('english'))\n",
        "sno = nltk.stem.SnowballStemmer('english') "
      ],
      "execution_count": 0,
      "outputs": []
    },
    {
      "cell_type": "code",
      "metadata": {
        "id": "NH9OaKVQBLxj",
        "colab_type": "code",
        "colab": {}
      },
      "source": [
        "def cleanhtml(sentence):\n",
        "    cleanr = re.compile('<.*?>')\n",
        "    cleantext = re.sub(cleanr, ' ', sentence)\n",
        "    return cleantext"
      ],
      "execution_count": 0,
      "outputs": []
    },
    {
      "cell_type": "code",
      "metadata": {
        "id": "KyrvHjFwBLxm",
        "colab_type": "code",
        "colab": {}
      },
      "source": [
        "def cleanpunc(sentence):\n",
        "    cleaned = re.sub(r'[?|!|\\'|\"|#]',r'',sentence)\n",
        "    cleaned = re.sub(r'[.|,|)|(|\\|/]',r' ',cleaned)\n",
        "    return  cleaned"
      ],
      "execution_count": 0,
      "outputs": []
    },
    {
      "cell_type": "code",
      "metadata": {
        "id": "0q824asFBLxs",
        "colab_type": "code",
        "outputId": "87ef91c7-5cdb-4468-a304-50b1e0254b0d",
        "colab": {
          "base_uri": "https://localhost:8080/",
          "height": 34
        }
      },
      "source": [
        "i=0\n",
        "str1=' '\n",
        "final_string=[]\n",
        "all_positive_words=[] \n",
        "all_negative_words=[] \n",
        "s=''\n",
        "\n",
        "for sent in tqdm(final['Text'].values):\n",
        "\n",
        "    filtered_sentence=[]\n",
        "\n",
        "    sent=cleanhtml(sent) \n",
        "\n",
        "    for w in sent.split():\n",
        "        for cleaned_words in cleanpunc(w).split():\n",
        "\n",
        "            if((cleaned_words.isalpha()) & (len(cleaned_words) > 2)):    \n",
        "                if(cleaned_words.lower() not in stop):\n",
        "                    s = (sno.stem(cleaned_words.lower())).encode('utf8')\n",
        "                    filtered_sentence.append(s)\n",
        "                    \n",
        "                    if (final['Score'].values)[i] == 'positive': \n",
        "                        all_positive_words.append(s)\n",
        "                    if(final['Score'].values)[i] == 'negative':\n",
        "                        all_negative_words.append(s)\n",
        "                else:\n",
        "                    continue\n",
        "            else:\n",
        "                continue \n",
        "                \n",
        "    str1 = b\" \".join(filtered_sentence) #final string of cleaned words\n",
        "    #print(\"***********************************************************************\")\n",
        "    \n",
        "    final_string.append(str1)\n",
        "    i+=1"
      ],
      "execution_count": 34,
      "outputs": [
        {
          "output_type": "stream",
          "text": [
            "100%|██████████| 364171/364171 [07:14<00:00, 838.43it/s]\n"
          ],
          "name": "stderr"
        }
      ]
    },
    {
      "cell_type": "code",
      "metadata": {
        "id": "N7GfBhLVJ6RE",
        "colab_type": "code",
        "outputId": "b8794ccb-cee2-4e59-b600-69e48da6c9b5",
        "colab": {
          "base_uri": "https://localhost:8080/",
          "height": 193
        }
      },
      "source": [
        "final['CleanedText'] = final_string\n",
        "final['CleanedText'] = final['CleanedText'].str.decode(\"utf-8\")\n",
        "final.head(3)"
      ],
      "execution_count": 35,
      "outputs": [
        {
          "output_type": "execute_result",
          "data": {
            "text/html": [
              "<div>\n",
              "<style scoped>\n",
              "    .dataframe tbody tr th:only-of-type {\n",
              "        vertical-align: middle;\n",
              "    }\n",
              "\n",
              "    .dataframe tbody tr th {\n",
              "        vertical-align: top;\n",
              "    }\n",
              "\n",
              "    .dataframe thead th {\n",
              "        text-align: right;\n",
              "    }\n",
              "</style>\n",
              "<table border=\"1\" class=\"dataframe\">\n",
              "  <thead>\n",
              "    <tr style=\"text-align: right;\">\n",
              "      <th></th>\n",
              "      <th>Id</th>\n",
              "      <th>ProductId</th>\n",
              "      <th>UserId</th>\n",
              "      <th>ProfileName</th>\n",
              "      <th>HelpfulnessNumerator</th>\n",
              "      <th>HelpfulnessDenominator</th>\n",
              "      <th>Score</th>\n",
              "      <th>Time</th>\n",
              "      <th>Summary</th>\n",
              "      <th>Text</th>\n",
              "      <th>CleanedText</th>\n",
              "    </tr>\n",
              "  </thead>\n",
              "  <tbody>\n",
              "    <tr>\n",
              "      <th>138706</th>\n",
              "      <td>150524</td>\n",
              "      <td>0006641040</td>\n",
              "      <td>ACITT7DI6IDDL</td>\n",
              "      <td>shari zychinski</td>\n",
              "      <td>0</td>\n",
              "      <td>0</td>\n",
              "      <td>positive</td>\n",
              "      <td>939340800</td>\n",
              "      <td>EVERY book is educational</td>\n",
              "      <td>this witty little book makes my son laugh at l...</td>\n",
              "      <td>witti littl book make son laugh loud recit car...</td>\n",
              "    </tr>\n",
              "    <tr>\n",
              "      <th>138688</th>\n",
              "      <td>150506</td>\n",
              "      <td>0006641040</td>\n",
              "      <td>A2IW4PEEKO2R0U</td>\n",
              "      <td>Tracy</td>\n",
              "      <td>1</td>\n",
              "      <td>1</td>\n",
              "      <td>positive</td>\n",
              "      <td>1194739200</td>\n",
              "      <td>Love the book, miss the hard cover version</td>\n",
              "      <td>I grew up reading these Sendak books, and watc...</td>\n",
              "      <td>grew read sendak book watch realli rosi movi i...</td>\n",
              "    </tr>\n",
              "    <tr>\n",
              "      <th>138689</th>\n",
              "      <td>150507</td>\n",
              "      <td>0006641040</td>\n",
              "      <td>A1S4A3IQ2MU7V4</td>\n",
              "      <td>sally sue \"sally sue\"</td>\n",
              "      <td>1</td>\n",
              "      <td>1</td>\n",
              "      <td>positive</td>\n",
              "      <td>1191456000</td>\n",
              "      <td>chicken soup with rice months</td>\n",
              "      <td>This is a fun way for children to learn their ...</td>\n",
              "      <td>fun way children learn month year learn poem t...</td>\n",
              "    </tr>\n",
              "  </tbody>\n",
              "</table>\n",
              "</div>"
            ],
            "text/plain": [
              "            Id  ...                                        CleanedText\n",
              "138706  150524  ...  witti littl book make son laugh loud recit car...\n",
              "138688  150506  ...  grew read sendak book watch realli rosi movi i...\n",
              "138689  150507  ...  fun way children learn month year learn poem t...\n",
              "\n",
              "[3 rows x 11 columns]"
            ]
          },
          "metadata": {
            "tags": []
          },
          "execution_count": 35
        }
      ]
    },
    {
      "cell_type": "code",
      "metadata": {
        "id": "K3oY9Il8J6ej",
        "colab_type": "code",
        "colab": {}
      },
      "source": [
        "final_data = final.sort_values('Time', axis=0 , ascending=True , inplace=False , kind='quicksort' , na_position = 'last')"
      ],
      "execution_count": 0,
      "outputs": []
    },
    {
      "cell_type": "code",
      "metadata": {
        "id": "ydNF3cotL5Gu",
        "colab_type": "code",
        "outputId": "661bf3f2-ee3a-44cf-b2c8-2be5acbdb1d4",
        "colab": {
          "base_uri": "https://localhost:8080/",
          "height": 34
        }
      },
      "source": [
        "final_data.shape"
      ],
      "execution_count": 37,
      "outputs": [
        {
          "output_type": "execute_result",
          "data": {
            "text/plain": [
              "(364171, 11)"
            ]
          },
          "metadata": {
            "tags": []
          },
          "execution_count": 37
        }
      ]
    },
    {
      "cell_type": "code",
      "metadata": {
        "id": "6_E_X0bVJ6mj",
        "colab_type": "code",
        "outputId": "ec1b5255-253e-4676-db3c-07e2cac9d19d",
        "colab": {
          "base_uri": "https://localhost:8080/",
          "height": 289
        }
      },
      "source": [
        "final = final_data.head(150000)\n",
        "final.head()"
      ],
      "execution_count": 38,
      "outputs": [
        {
          "output_type": "execute_result",
          "data": {
            "text/html": [
              "<div>\n",
              "<style scoped>\n",
              "    .dataframe tbody tr th:only-of-type {\n",
              "        vertical-align: middle;\n",
              "    }\n",
              "\n",
              "    .dataframe tbody tr th {\n",
              "        vertical-align: top;\n",
              "    }\n",
              "\n",
              "    .dataframe thead th {\n",
              "        text-align: right;\n",
              "    }\n",
              "</style>\n",
              "<table border=\"1\" class=\"dataframe\">\n",
              "  <thead>\n",
              "    <tr style=\"text-align: right;\">\n",
              "      <th></th>\n",
              "      <th>Id</th>\n",
              "      <th>ProductId</th>\n",
              "      <th>UserId</th>\n",
              "      <th>ProfileName</th>\n",
              "      <th>HelpfulnessNumerator</th>\n",
              "      <th>HelpfulnessDenominator</th>\n",
              "      <th>Score</th>\n",
              "      <th>Time</th>\n",
              "      <th>Summary</th>\n",
              "      <th>Text</th>\n",
              "      <th>CleanedText</th>\n",
              "    </tr>\n",
              "  </thead>\n",
              "  <tbody>\n",
              "    <tr>\n",
              "      <th>138706</th>\n",
              "      <td>150524</td>\n",
              "      <td>0006641040</td>\n",
              "      <td>ACITT7DI6IDDL</td>\n",
              "      <td>shari zychinski</td>\n",
              "      <td>0</td>\n",
              "      <td>0</td>\n",
              "      <td>positive</td>\n",
              "      <td>939340800</td>\n",
              "      <td>EVERY book is educational</td>\n",
              "      <td>this witty little book makes my son laugh at l...</td>\n",
              "      <td>witti littl book make son laugh loud recit car...</td>\n",
              "    </tr>\n",
              "    <tr>\n",
              "      <th>138683</th>\n",
              "      <td>150501</td>\n",
              "      <td>0006641040</td>\n",
              "      <td>AJ46FKXOVC7NR</td>\n",
              "      <td>Nicholas A Mesiano</td>\n",
              "      <td>2</td>\n",
              "      <td>2</td>\n",
              "      <td>positive</td>\n",
              "      <td>940809600</td>\n",
              "      <td>This whole series is great way to spend time w...</td>\n",
              "      <td>I can remember seeing the show when it aired o...</td>\n",
              "      <td>rememb see show air televis year ago child sis...</td>\n",
              "    </tr>\n",
              "    <tr>\n",
              "      <th>417839</th>\n",
              "      <td>451856</td>\n",
              "      <td>B00004CXX9</td>\n",
              "      <td>AIUWLEQ1ADEG5</td>\n",
              "      <td>Elizabeth Medina</td>\n",
              "      <td>0</td>\n",
              "      <td>0</td>\n",
              "      <td>positive</td>\n",
              "      <td>944092800</td>\n",
              "      <td>Entertainingl Funny!</td>\n",
              "      <td>Beetlejuice is a well written movie ..... ever...</td>\n",
              "      <td>beetlejuic well written movi everyth excel act...</td>\n",
              "    </tr>\n",
              "    <tr>\n",
              "      <th>346055</th>\n",
              "      <td>374359</td>\n",
              "      <td>B00004CI84</td>\n",
              "      <td>A344SMIA5JECGM</td>\n",
              "      <td>Vincent P. Ross</td>\n",
              "      <td>1</td>\n",
              "      <td>2</td>\n",
              "      <td>positive</td>\n",
              "      <td>944438400</td>\n",
              "      <td>A modern day fairy tale</td>\n",
              "      <td>A twist of rumplestiskin captured on film, sta...</td>\n",
              "      <td>twist rumplestiskin captur film star michael k...</td>\n",
              "    </tr>\n",
              "    <tr>\n",
              "      <th>417838</th>\n",
              "      <td>451855</td>\n",
              "      <td>B00004CXX9</td>\n",
              "      <td>AJH6LUC1UT1ON</td>\n",
              "      <td>The Phantom of the Opera</td>\n",
              "      <td>0</td>\n",
              "      <td>0</td>\n",
              "      <td>positive</td>\n",
              "      <td>946857600</td>\n",
              "      <td>FANTASTIC!</td>\n",
              "      <td>Beetlejuice is an excellent and funny movie. K...</td>\n",
              "      <td>beetlejuic excel funni movi keaton hilari wack...</td>\n",
              "    </tr>\n",
              "  </tbody>\n",
              "</table>\n",
              "</div>"
            ],
            "text/plain": [
              "            Id  ...                                        CleanedText\n",
              "138706  150524  ...  witti littl book make son laugh loud recit car...\n",
              "138683  150501  ...  rememb see show air televis year ago child sis...\n",
              "417839  451856  ...  beetlejuic well written movi everyth excel act...\n",
              "346055  374359  ...  twist rumplestiskin captur film star michael k...\n",
              "417838  451855  ...  beetlejuic excel funni movi keaton hilari wack...\n",
              "\n",
              "[5 rows x 11 columns]"
            ]
          },
          "metadata": {
            "tags": []
          },
          "execution_count": 38
        }
      ]
    },
    {
      "cell_type": "code",
      "metadata": {
        "id": "v49sw6MAMjye",
        "colab_type": "code",
        "colab": {}
      },
      "source": [
        "x = final.drop(['Score'] , axis = 1)\n",
        "y = final['Score']"
      ],
      "execution_count": 0,
      "outputs": []
    },
    {
      "cell_type": "code",
      "metadata": {
        "id": "wXN4vYp5Mj74",
        "colab_type": "code",
        "colab": {}
      },
      "source": [
        "x_train , x_test , y_train , y_test = train_test_split(x , y , test_size = 0.25)"
      ],
      "execution_count": 0,
      "outputs": []
    },
    {
      "cell_type": "code",
      "metadata": {
        "id": "iG4iQAPWNNZ_",
        "colab_type": "code",
        "outputId": "a2e5730e-2c24-4b25-eb1a-03a4667e24c3",
        "colab": {
          "base_uri": "https://localhost:8080/",
          "height": 68
        }
      },
      "source": [
        "print(x_train.shape)\n",
        "print(x_test.shape)\n",
        "print(y_train.shape)"
      ],
      "execution_count": 41,
      "outputs": [
        {
          "output_type": "stream",
          "text": [
            "(112500, 10)\n",
            "(37500, 10)\n",
            "(112500,)\n"
          ],
          "name": "stdout"
        }
      ]
    },
    {
      "cell_type": "code",
      "metadata": {
        "id": "FQ8tJUrJJ6yF",
        "colab_type": "code",
        "colab": {}
      },
      "source": [
        "x_train_data = final[:100000]\n",
        "x_test_data = final[100000:150000]\n",
        "y_train = x_train_data['Score']\n",
        "y_test = x_test_data['Score']"
      ],
      "execution_count": 0,
      "outputs": []
    },
    {
      "cell_type": "code",
      "metadata": {
        "id": "lv8u8YGvJ7Rm",
        "colab_type": "code",
        "outputId": "15401153-646b-4aad-943d-eb4001df2c88",
        "colab": {
          "base_uri": "https://localhost:8080/",
          "height": 119
        }
      },
      "source": [
        "print(\"Data\")\n",
        "print(x_train_data.shape)\n",
        "print(x_test_data.shape)\n",
        "print(\"Label\")\n",
        "print(y_train.shape)\n",
        "print(y_test.shape)"
      ],
      "execution_count": 43,
      "outputs": [
        {
          "output_type": "stream",
          "text": [
            "Data\n",
            "(100000, 11)\n",
            "(50000, 11)\n",
            "Label\n",
            "(100000,)\n",
            "(50000,)\n"
          ],
          "name": "stdout"
        }
      ]
    },
    {
      "cell_type": "code",
      "metadata": {
        "id": "V_NxqCkLJ7n4",
        "colab_type": "code",
        "outputId": "a10731ed-1daf-4d49-f5e2-2297012bd2b0",
        "colab": {
          "base_uri": "https://localhost:8080/",
          "height": 85
        }
      },
      "source": [
        "#BoW on Text\n",
        "print(\"**Bow Vectorizer**\")\n",
        "print(\"=\"*50)\n",
        "count_vect = CountVectorizer(min_df = 50)\n",
        "X_train_BOW = count_vect.fit_transform(x_train_data['CleanedText'])\n",
        "X_test_BOW = count_vect.transform(x_test_data['CleanedText'])\n",
        "print(X_train_BOW.shape)\n",
        "print(X_test_BOW.shape)"
      ],
      "execution_count": 44,
      "outputs": [
        {
          "output_type": "stream",
          "text": [
            "**Bow Vectorizer**\n",
            "==================================================\n",
            "(100000, 3846)\n",
            "(50000, 3846)\n"
          ],
          "name": "stdout"
        }
      ]
    },
    {
      "cell_type": "code",
      "metadata": {
        "id": "wmQo8A4hJ8GT",
        "colab_type": "code",
        "outputId": "df453b17-38ed-431d-9efe-224d03bfb1e8",
        "colab": {
          "base_uri": "https://localhost:8080/",
          "height": 85
        }
      },
      "source": [
        "#TFIDF on Text\n",
        "print(\"**TFIDF Vectorizer**\")\n",
        "print(\"=\"*50) \n",
        "tf_idf_vect = TfidfVectorizer(min_df = 50)\n",
        "X_train_tfidf = tf_idf_vect.fit_transform(x_train_data['CleanedText'])\n",
        "X_test_tfidf = tf_idf_vect.transform(x_test_data['CleanedText'])\n",
        "print(X_train_tfidf.shape)\n",
        "print(X_test_tfidf.shape)"
      ],
      "execution_count": 45,
      "outputs": [
        {
          "output_type": "stream",
          "text": [
            "**TFIDF Vectorizer**\n",
            "==================================================\n",
            "(100000, 3846)\n",
            "(50000, 3846)\n"
          ],
          "name": "stdout"
        }
      ]
    },
    {
      "cell_type": "code",
      "metadata": {
        "id": "qdLxDhQyJ8ly",
        "colab_type": "code",
        "outputId": "64cfa8f0-b968-4437-d444-853fbe30001b",
        "colab": {
          "base_uri": "https://localhost:8080/",
          "height": 34
        }
      },
      "source": [
        "# Word2Vec in training part\n",
        "\n",
        "import gensim\n",
        "i=0\n",
        "list_of_sent_train=[]\n",
        "for sent in tqdm(x_train_data['Text'].values):\n",
        "    filtered_sentence=[]\n",
        "    sent=cleanhtml(sent)\n",
        "    for w in sent.split():\n",
        "        for cleaned_words in cleanpunc(w).split():\n",
        "            if(cleaned_words.isalpha()):    # checking is the word is alphabet\n",
        "                filtered_sentence.append(cleaned_words.lower()) # appending to the list\n",
        "            else:\n",
        "                continue \n",
        "    list_of_sent_train.append(filtered_sentence)"
      ],
      "execution_count": 46,
      "outputs": [
        {
          "output_type": "stream",
          "text": [
            "100%|██████████| 100000/100000 [00:19<00:00, 5070.43it/s]\n"
          ],
          "name": "stderr"
        }
      ]
    },
    {
      "cell_type": "code",
      "metadata": {
        "id": "z9FiGHMxSRco",
        "colab_type": "code",
        "outputId": "0db3ad04-5d6d-4553-e296-130351bebfcc",
        "colab": {
          "base_uri": "https://localhost:8080/",
          "height": 34
        }
      },
      "source": [
        "# word2vec in testing part\n",
        "\n",
        "import gensim\n",
        "i=0\n",
        "list_of_sent_test=[]\n",
        "for sent in tqdm(x_test_data['Text'].values):\n",
        "    filtered_sentence=[]\n",
        "    sent=cleanhtml(sent)\n",
        "    for w in sent.split():\n",
        "        for cleaned_words in cleanpunc(w).split():\n",
        "            if(cleaned_words.isalpha()):    # checking is the word is alphabet\n",
        "                filtered_sentence.append(cleaned_words.lower()) # appending to the list\n",
        "            else:\n",
        "                continue \n",
        "    list_of_sent_test.append(filtered_sentence)"
      ],
      "execution_count": 47,
      "outputs": [
        {
          "output_type": "stream",
          "text": [
            "100%|██████████| 50000/50000 [00:10<00:00, 4553.80it/s]\n"
          ],
          "name": "stderr"
        }
      ]
    },
    {
      "cell_type": "code",
      "metadata": {
        "id": "rauy05t7J839",
        "colab_type": "code",
        "outputId": "2d736f8c-d412-4803-896d-4c07c602d2ff",
        "colab": {
          "base_uri": "https://localhost:8080/",
          "height": 88
        }
      },
      "source": [
        "print(x_train_data['Text'].values[0])\n",
        "print(\"*****************************************************************\")\n",
        "print(list_of_sent_train[0])"
      ],
      "execution_count": 48,
      "outputs": [
        {
          "output_type": "stream",
          "text": [
            "this witty little book makes my son laugh at loud. i recite it in the car as we're driving along and he always can sing the refrain. he's learned about whales, India, drooping roses:  i love all the new words this book  introduces and the silliness of it all.  this is a classic book i am  willing to bet my son will STILL be able to recite from memory when he is  in college\n",
            "*****************************************************************\n",
            "['this', 'witty', 'little', 'book', 'makes', 'my', 'son', 'laugh', 'at', 'loud', 'i', 'recite', 'it', 'in', 'the', 'car', 'as', 'were', 'driving', 'along', 'and', 'he', 'always', 'can', 'sing', 'the', 'refrain', 'hes', 'learned', 'about', 'whales', 'india', 'drooping', 'i', 'love', 'all', 'the', 'new', 'words', 'this', 'book', 'introduces', 'and', 'the', 'silliness', 'of', 'it', 'all', 'this', 'is', 'a', 'classic', 'book', 'i', 'am', 'willing', 'to', 'bet', 'my', 'son', 'will', 'still', 'be', 'able', 'to', 'recite', 'from', 'memory', 'when', 'he', 'is', 'in', 'college']\n"
          ],
          "name": "stdout"
        }
      ]
    },
    {
      "cell_type": "code",
      "metadata": {
        "id": "C1UWVBXNJ81x",
        "colab_type": "code",
        "colab": {}
      },
      "source": [
        "w2v_model = gensim.models.Word2Vec(list_of_sent_train , min_count = 5 , size = 50)"
      ],
      "execution_count": 0,
      "outputs": []
    },
    {
      "cell_type": "code",
      "metadata": {
        "id": "pdFhfji5J8yw",
        "colab_type": "code",
        "outputId": "47cce454-080c-4bee-b5ec-96789e399e46",
        "colab": {
          "base_uri": "https://localhost:8080/",
          "height": 34
        }
      },
      "source": [
        "w2v_words = list(w2v_model.wv.vocab)\n",
        "print(len(w2v_words))"
      ],
      "execution_count": 50,
      "outputs": [
        {
          "output_type": "stream",
          "text": [
            "19044\n"
          ],
          "name": "stdout"
        }
      ]
    },
    {
      "cell_type": "code",
      "metadata": {
        "id": "7psf_lh-J8wg",
        "colab_type": "code",
        "outputId": "db1ea757-2935-4f24-96b9-e98d9cff6f49",
        "colab": {
          "base_uri": "https://localhost:8080/",
          "height": 241
        }
      },
      "source": [
        "w2v_model.wv.most_similar('good')"
      ],
      "execution_count": 51,
      "outputs": [
        {
          "output_type": "stream",
          "text": [
            "/usr/local/lib/python3.6/dist-packages/gensim/matutils.py:737: FutureWarning: Conversion of the second argument of issubdtype from `int` to `np.signedinteger` is deprecated. In future, it will be treated as `np.int64 == np.dtype(int).type`.\n",
            "  if np.issubdtype(vec.dtype, np.int):\n"
          ],
          "name": "stderr"
        },
        {
          "output_type": "execute_result",
          "data": {
            "text/plain": [
              "[('great', 0.8259478211402893),\n",
              " ('decent', 0.8093589544296265),\n",
              " ('terrific', 0.7474827766418457),\n",
              " ('fine', 0.7378253936767578),\n",
              " ('fantastic', 0.728651762008667),\n",
              " ('bad', 0.7157223224639893),\n",
              " ('yummy', 0.7129632234573364),\n",
              " ('wonderful', 0.7080993056297302),\n",
              " ('nice', 0.7063693404197693),\n",
              " ('awesome', 0.6897701025009155)]"
            ]
          },
          "metadata": {
            "tags": []
          },
          "execution_count": 51
        }
      ]
    },
    {
      "cell_type": "code",
      "metadata": {
        "id": "LV6e7MpaJ8s2",
        "colab_type": "code",
        "outputId": "dffac204-7473-47b6-a908-cf174931a0fd",
        "colab": {
          "base_uri": "https://localhost:8080/",
          "height": 68
        }
      },
      "source": [
        "# average Word2Vec in trainin\n",
        "\n",
        "sent_vectors_train = []; \n",
        "\n",
        "for sent in tqdm(list_of_sent_train):\n",
        "    sent_vec = np.zeros(50) \n",
        "    cnt_words =0; \n",
        "    for word in sent: # \n",
        "        if word in w2v_words:\n",
        "            vec = w2v_model.wv[word]\n",
        "            sent_vec += vec\n",
        "            cnt_words += 1\n",
        "    if cnt_words != 0:\n",
        "        sent_vec /= cnt_words\n",
        "    sent_vectors_train.append(sent_vec) \n",
        "\n",
        "print(len(sent_vectors_train))\n",
        "print(len(sent_vectors_train[0]))"
      ],
      "execution_count": 52,
      "outputs": [
        {
          "output_type": "stream",
          "text": [
            "100%|██████████| 100000/100000 [04:11<00:00, 396.98it/s]"
          ],
          "name": "stderr"
        },
        {
          "output_type": "stream",
          "text": [
            "100000\n",
            "50\n"
          ],
          "name": "stdout"
        },
        {
          "output_type": "stream",
          "text": [
            "\n"
          ],
          "name": "stderr"
        }
      ]
    },
    {
      "cell_type": "code",
      "metadata": {
        "id": "iUoogBSXJ8i7",
        "colab_type": "code",
        "outputId": "0e1d029c-85c3-4d99-efaa-9462f5b386ca",
        "colab": {
          "base_uri": "https://localhost:8080/",
          "height": 68
        }
      },
      "source": [
        "# average Word2Vec in testing\n",
        "\n",
        "sent_vectors_test = []; \n",
        "for sent in tqdm(list_of_sent_test):\n",
        "    sent_vec = np.zeros(50) \n",
        "    cnt_words =0; \n",
        "    for word in sent: # \n",
        "        if word in w2v_words:\n",
        "            vec = w2v_model.wv[word]\n",
        "            sent_vec += vec\n",
        "            cnt_words += 1\n",
        "    if cnt_words != 0:\n",
        "        sent_vec /= cnt_words\n",
        "    sent_vectors_test.append(sent_vec) \n",
        "    \n",
        "print(len(sent_vectors_test))\n",
        "print(len(sent_vectors_test[0]))"
      ],
      "execution_count": 53,
      "outputs": [
        {
          "output_type": "stream",
          "text": [
            "100%|██████████| 50000/50000 [02:13<00:00, 374.15it/s]"
          ],
          "name": "stderr"
        },
        {
          "output_type": "stream",
          "text": [
            "50000\n",
            "50\n"
          ],
          "name": "stdout"
        },
        {
          "output_type": "stream",
          "text": [
            "\n"
          ],
          "name": "stderr"
        }
      ]
    },
    {
      "cell_type": "code",
      "metadata": {
        "id": "AidS-NVqJ8g1",
        "colab_type": "code",
        "colab": {}
      },
      "source": [
        "tfidf_vect = TfidfVectorizer(min_df = 50)\n",
        "train_tfidf_w2v = tfidf_vect.fit_transform(x_train_data[\"CleanedText\"])\n",
        "test_tfidf_w2v = tfidf_vect.transform(x_test_data[\"CleanedText\"])\n",
        "\n",
        "dictionary = dict(zip(tfidf_vect.get_feature_names(), list(tfidf_vect.idf_)))"
      ],
      "execution_count": 0,
      "outputs": []
    },
    {
      "cell_type": "code",
      "metadata": {
        "id": "ribzkETGJ8e1",
        "colab_type": "code",
        "outputId": "78d9959c-682e-4edb-a58f-f4ef57b28b44",
        "colab": {
          "base_uri": "https://localhost:8080/",
          "height": 51
        }
      },
      "source": [
        "print(train_tfidf_w2v.shape)\n",
        "print(test_tfidf_w2v.shape)"
      ],
      "execution_count": 55,
      "outputs": [
        {
          "output_type": "stream",
          "text": [
            "(100000, 3846)\n",
            "(50000, 3846)\n"
          ],
          "name": "stdout"
        }
      ]
    },
    {
      "cell_type": "code",
      "metadata": {
        "id": "SkJ51v7EJ8af",
        "colab_type": "code",
        "outputId": "4fa0d2fc-c5fe-4f57-c67f-02b5cd80e572",
        "colab": {
          "base_uri": "https://localhost:8080/",
          "height": 34
        }
      },
      "source": [
        "# TF-IDF weighted Word2Vec in training\n",
        "\n",
        "tfidf_feat = tfidf_vect.get_feature_names() \n",
        "\n",
        "tfidf_sent_vectors_train = []\n",
        "row=0;\n",
        "\n",
        "for sent in tqdm(list_of_sent_train): \n",
        "    sent_vec = np.zeros(50) \n",
        "    weight_sum =0\n",
        "\n",
        "    for word in sent: \n",
        "        if word in w2v_words and word in tfidf_feat:\n",
        "            vec = w2v_model.wv[word]\n",
        "            tf_idf = dictionary[word]*(sent.count(word)/len(sent))\n",
        "\n",
        "            sent_vec += (vec * tf_idf)\n",
        "            weight_sum += tf_idf\n",
        "\n",
        "    if weight_sum != 0:\n",
        "        sent_vec /= weight_sum\n",
        "    tfidf_sent_vectors_train.append(sent_vec)\n",
        "    row += 1"
      ],
      "execution_count": 56,
      "outputs": [
        {
          "output_type": "stream",
          "text": [
            "100%|██████████| 100000/100000 [11:09<00:00, 149.28it/s]\n"
          ],
          "name": "stderr"
        }
      ]
    },
    {
      "cell_type": "code",
      "metadata": {
        "id": "LkhFEv-uJ8XA",
        "colab_type": "code",
        "outputId": "43c19fa5-eab7-44a5-a17c-a329c84cf92c",
        "colab": {
          "base_uri": "https://localhost:8080/",
          "height": 34
        }
      },
      "source": [
        "# TF-IDF weighted Word2Vec in testing\n",
        "\n",
        "tfidf_feat = tfidf_vect.get_feature_names() \n",
        "\n",
        "tfidf_sent_vectors_test = []\n",
        "row=0\n",
        "\n",
        "for sent in tqdm(list_of_sent_test): \n",
        "    sent_vec = np.zeros(50)\n",
        "    weight_sum =0\n",
        "    for word in sent: \n",
        "        if word in w2v_words and word in tfidf_feat:\n",
        "            vec = w2v_model.wv[word]\n",
        "            tf_idf = dictionary[word]*(sent.count(word)/len(sent))\n",
        "\n",
        "            sent_vec += (vec * tf_idf)\n",
        "            weight_sum += tf_idf\n",
        "            \n",
        "    if weight_sum != 0:\n",
        "        sent_vec /= weight_sum\n",
        "    tfidf_sent_vectors_test.append(sent_vec)\n",
        "    row += 1"
      ],
      "execution_count": 57,
      "outputs": [
        {
          "output_type": "stream",
          "text": [
            "100%|██████████| 50000/50000 [06:00<00:00, 138.68it/s]\n"
          ],
          "name": "stderr"
        }
      ]
    },
    {
      "cell_type": "code",
      "metadata": {
        "id": "plM7cqvkJ8U5",
        "colab_type": "code",
        "colab": {}
      },
      "source": [
        "# Logistic Regression with BOW"
      ],
      "execution_count": 0,
      "outputs": []
    },
    {
      "cell_type": "code",
      "metadata": {
        "id": "XNMJyapgpLr_",
        "colab_type": "code",
        "outputId": "e69445c1-7088-448a-980c-0eb9bc4b2136",
        "colab": {
          "base_uri": "https://localhost:8080/",
          "height": 272
        }
      },
      "source": [
        "!pip install scikit-plot"
      ],
      "execution_count": 59,
      "outputs": [
        {
          "output_type": "stream",
          "text": [
            "Collecting scikit-plot\n",
            "  Downloading https://files.pythonhosted.org/packages/7c/47/32520e259340c140a4ad27c1b97050dd3254fdc517b1d59974d47037510e/scikit_plot-0.3.7-py3-none-any.whl\n",
            "Requirement already satisfied: scikit-learn>=0.18 in /usr/local/lib/python3.6/dist-packages (from scikit-plot) (0.22.1)\n",
            "Requirement already satisfied: joblib>=0.10 in /usr/local/lib/python3.6/dist-packages (from scikit-plot) (0.14.1)\n",
            "Requirement already satisfied: scipy>=0.9 in /usr/local/lib/python3.6/dist-packages (from scikit-plot) (1.4.1)\n",
            "Requirement already satisfied: matplotlib>=1.4.0 in /usr/local/lib/python3.6/dist-packages (from scikit-plot) (3.1.3)\n",
            "Requirement already satisfied: numpy>=1.11.0 in /usr/local/lib/python3.6/dist-packages (from scikit-learn>=0.18->scikit-plot) (1.17.5)\n",
            "Requirement already satisfied: kiwisolver>=1.0.1 in /usr/local/lib/python3.6/dist-packages (from matplotlib>=1.4.0->scikit-plot) (1.1.0)\n",
            "Requirement already satisfied: cycler>=0.10 in /usr/local/lib/python3.6/dist-packages (from matplotlib>=1.4.0->scikit-plot) (0.10.0)\n",
            "Requirement already satisfied: python-dateutil>=2.1 in /usr/local/lib/python3.6/dist-packages (from matplotlib>=1.4.0->scikit-plot) (2.6.1)\n",
            "Requirement already satisfied: pyparsing!=2.0.4,!=2.1.2,!=2.1.6,>=2.0.1 in /usr/local/lib/python3.6/dist-packages (from matplotlib>=1.4.0->scikit-plot) (2.4.6)\n",
            "Requirement already satisfied: setuptools in /usr/local/lib/python3.6/dist-packages (from kiwisolver>=1.0.1->matplotlib>=1.4.0->scikit-plot) (45.2.0)\n",
            "Requirement already satisfied: six in /usr/local/lib/python3.6/dist-packages (from cycler>=0.10->matplotlib>=1.4.0->scikit-plot) (1.12.0)\n",
            "Installing collected packages: scikit-plot\n",
            "Successfully installed scikit-plot-0.3.7\n"
          ],
          "name": "stdout"
        }
      ]
    },
    {
      "cell_type": "code",
      "metadata": {
        "id": "4zrYCfLppO1O",
        "colab_type": "code",
        "colab": {}
      },
      "source": [
        "import scikitplot as skplt"
      ],
      "execution_count": 0,
      "outputs": []
    },
    {
      "cell_type": "code",
      "metadata": {
        "id": "D__xrwpkJ8Sp",
        "colab_type": "code",
        "colab": {}
      },
      "source": [
        "#Standardising the train and test data\n",
        "sc = StandardScaler(copy = True , with_mean = False , with_std = True)\n",
        "X_train = sc.fit_transform(X_train_BOW)\n",
        "X_test = sc.transform(X_test_BOW)"
      ],
      "execution_count": 0,
      "outputs": []
    },
    {
      "cell_type": "code",
      "metadata": {
        "id": "Viv6jaCHJ8Ql",
        "colab_type": "code",
        "outputId": "12ff3d48-fac5-49d9-f96b-cc81c42bcd84",
        "colab": {
          "base_uri": "https://localhost:8080/",
          "height": 34
        }
      },
      "source": [
        "from sklearn.linear_model import LogisticRegression\n",
        "\n",
        "tuned_parameters = [10**-4, 10**-2, 10**0, 10**2, 10**4]\n",
        "\n",
        "cv_scores = []\n",
        "\n",
        "for i in tqdm(tuned_parameters):\n",
        "    model = LogisticRegression(penalty = 'l1' , C = i , n_jobs = -1)\n",
        "    scores = cross_val_score(model , X_train , y_train , cv = 10 , scoring = 'roc_auc' , n_jobs = -1)\n",
        "    cv_scores.append(scores.mean()) "
      ],
      "execution_count": 62,
      "outputs": [
        {
          "output_type": "stream",
          "text": [
            "100%|██████████| 5/5 [00:04<00:00,  1.13it/s]\n"
          ],
          "name": "stderr"
        }
      ]
    },
    {
      "cell_type": "code",
      "metadata": {
        "id": "efAVOdSkdgrx",
        "colab_type": "code",
        "outputId": "8fe3443b-1c89-4454-f880-3ca1840bcc8a",
        "colab": {
          "base_uri": "https://localhost:8080/",
          "height": 51
        }
      },
      "source": [
        "optimal_C = tuned_parameters[cv_scores.index(max(cv_scores))]\n",
        "print('\\nThe optimal value of C is %.3f.' % optimal_C)"
      ],
      "execution_count": 63,
      "outputs": [
        {
          "output_type": "stream",
          "text": [
            "\n",
            "The optimal value of C is 0.000.\n"
          ],
          "name": "stdout"
        }
      ]
    },
    {
      "cell_type": "code",
      "metadata": {
        "id": "lHYV_-4xJ8OW",
        "colab_type": "code",
        "outputId": "b5bd2073-9c4d-4d6c-ad07-7826769dd593",
        "colab": {
          "base_uri": "https://localhost:8080/",
          "height": 623
        }
      },
      "source": [
        "# plot accuracy vs alpha \n",
        "plt.figure(figsize = (10 , 10))\n",
        "plt.plot(tuned_parameters , cv_scores , label = \"Train AUC\")\n",
        "plt.xlabel('Hypreparameter',size=9)\n",
        "plt.ylabel('Area under ROC Curve',size=9)\n",
        "plt.title('Area under ROC Curve VS Hyperparameter curve',size=16)\n",
        "plt.legend(loc='best')\n",
        "plt.grid()\n",
        "plt.show()"
      ],
      "execution_count": 72,
      "outputs": [
        {
          "output_type": "display_data",
          "data": {
            "image/png": "[encoded data removed]",
            "text/plain": [
              "<Figure size 720x720 with 1 Axes>"
            ]
          },
          "metadata": {
            "tags": []
          }
        }
      ]
    },
    {
      "cell_type": "code",
      "metadata": {
        "id": "IGwTcIM0J8EB",
        "colab_type": "code",
        "outputId": "04f73f2c-71c6-44df-aa0b-13a8aa0513aa",
        "colab": {
          "base_uri": "https://localhost:8080/",
          "height": 346
        }
      },
      "source": [
        "# Logistic Regression with Optimal value of C i.e.(1/lambda)\n",
        "from sklearn import metrics\n",
        "\n",
        "lr = LogisticRegression(penalty='l2', C = 0.010 , n_jobs=-1)\n",
        "lr.fit(X_train , y_train)\n",
        "pred = lr.predict(X_test)\n",
        "\n",
        "\n",
        "print(\"***Test Data Report***\")\n",
        "print(\"Best C = \",optimal_C)\n",
        "fpr, tpr, threshold = roc_curve(y_test, lr.predict_proba(X_test)[:,1],pos_label=\"positive\")\n",
        "auc = metrics.auc(fpr, tpr)\n",
        "print(\"AUC = \",auc*100)\n",
        "skplt.metrics.plot_confusion_matrix(y_test, pred)\n",
        "plt.show()"
      ],
      "execution_count": 68,
      "outputs": [
        {
          "output_type": "stream",
          "text": [
            "***Test Data Report***\n",
            "Best C =  0.0001\n",
            "AUC =  92.43015361850345\n"
          ],
          "name": "stdout"
        },
        {
          "output_type": "display_data",
          "data": {
            "image/png": "[encoded data removed]",
            "text/plain": [
              "<Figure size 432x288 with 2 Axes>"
            ]
          },
          "metadata": {
            "tags": []
          }
        }
      ]
    },
    {
      "cell_type": "code",
      "metadata": {
        "id": "vtoXhmurJ8BX",
        "colab_type": "code",
        "colab": {}
      },
      "source": [
        "fpr, tpr, threshold = metrics.roc_curve(y_test, lr.predict_proba(X_test)[:,1],pos_label=\"positive\")\n",
        "fpr2, tpr2, threshold2 = metrics.roc_curve(y_train, lr.predict_proba(X_train)[:,1],pos_label=\"positive\")\n",
        "\n",
        "roc_auc = metrics.auc(fpr, tpr)\n",
        "roc_auc2 = metrics.auc(fpr2, tpr2)"
      ],
      "execution_count": 0,
      "outputs": []
    },
    {
      "cell_type": "code",
      "metadata": {
        "id": "RGu1Ilg6J7-f",
        "colab_type": "code",
        "colab": {
          "base_uri": "https://localhost:8080/",
          "height": 295
        },
        "outputId": "ae85497a-4805-4dc6-a8aa-bbca129c92f2"
      },
      "source": [
        "# plot ROC-curve\n",
        "plt.title('Receiver Operating Characteristic Curve')\n",
        "plt.gca()\n",
        "plt.plot(fpr, tpr, label = 'AUC = %0.2f' % roc_auc)\n",
        "plt.plot(fpr2, tpr2, label = 'AUC = %0.2f' % roc_auc2)\n",
        "plt.legend(['TEST Data', 'TRAIN Data'],loc = 'lower right')\n",
        "\n",
        "plt.plot([0, 1], [0, 1],'r--')\n",
        "plt.xlim([0, 1])\n",
        "plt.ylim([0, 1])\n",
        "plt.ylabel('True Positive Rate')\n",
        "plt.xlabel('False Positive Rate')\n",
        "plt.show()"
      ],
      "execution_count": 71,
      "outputs": [
        {
          "output_type": "display_data",
          "data": {
            "image/png": "[encoded data removed]",
            "text/plain": [
              "<Figure size 432x288 with 1 Axes>"
            ]
          },
          "metadata": {
            "tags": []
          }
        }
      ]
    },
    {
      "cell_type": "code",
      "metadata": {
        "id": "b5Q8LNMkJ77J",
        "colab_type": "code",
        "colab": {}
      },
      "source": [
        "# Sparcity Check on Logistic Regression"
      ],
      "execution_count": 0,
      "outputs": []
    },
    {
      "cell_type": "code",
      "metadata": {
        "id": "R--pyO_gJ730",
        "colab_type": "code",
        "colab": {
          "base_uri": "https://localhost:8080/",
          "height": 34
        },
        "outputId": "aa17622a-8d5a-41f2-e997-15ddf60a15be"
      },
      "source": [
        "w = lr.coef_\n",
        "print(\"Sparsity on Weight Vector = \",np.count_nonzero(w))"
      ],
      "execution_count": 74,
      "outputs": [
        {
          "output_type": "stream",
          "text": [
            "Sparsity on Weight Vector =  3846\n"
          ],
          "name": "stdout"
        }
      ]
    },
    {
      "cell_type": "code",
      "metadata": {
        "id": "oT-p6etlJ711",
        "colab_type": "code",
        "colab": {}
      },
      "source": [
        "hyperparameter = [10**0, 10**-1, 10**-2, 10**-3, 10**-4, 10**-5];\n",
        "sparsity = []\n",
        "performance = []"
      ],
      "execution_count": 0,
      "outputs": []
    },
    {
      "cell_type": "code",
      "metadata": {
        "id": "WTGHgjURJ7z6",
        "colab_type": "code",
        "colab": {
          "base_uri": "https://localhost:8080/",
          "height": 289
        },
        "outputId": "b023dd11-7982-4579-aedf-60096fb9f943"
      },
      "source": [
        "for i in hyperparameter:\n",
        "    model = LogisticRegression(C=i, penalty='l2');\n",
        "    model.fit(X_test, y_test);\n",
        "    weight = model.coef_\n",
        "    sparsity.append(np.count_nonzero(weight))"
      ],
      "execution_count": 80,
      "outputs": [
        {
          "output_type": "stream",
          "text": [
            "/usr/local/lib/python3.6/dist-packages/sklearn/linear_model/_logistic.py:940: ConvergenceWarning: lbfgs failed to converge (status=1):\n",
            "STOP: TOTAL NO. of ITERATIONS REACHED LIMIT.\n",
            "\n",
            "Increase the number of iterations (max_iter) or scale the data as shown in:\n",
            "    https://scikit-learn.org/stable/modules/preprocessing.html\n",
            "Please also refer to the documentation for alternative solver options:\n",
            "    https://scikit-learn.org/stable/modules/linear_model.html#logistic-regression\n",
            "  extra_warning_msg=_LOGISTIC_SOLVER_CONVERGENCE_MSG)\n",
            "/usr/local/lib/python3.6/dist-packages/sklearn/linear_model/_logistic.py:940: ConvergenceWarning: lbfgs failed to converge (status=1):\n",
            "STOP: TOTAL NO. of ITERATIONS REACHED LIMIT.\n",
            "\n",
            "Increase the number of iterations (max_iter) or scale the data as shown in:\n",
            "    https://scikit-learn.org/stable/modules/preprocessing.html\n",
            "Please also refer to the documentation for alternative solver options:\n",
            "    https://scikit-learn.org/stable/modules/linear_model.html#logistic-regression\n",
            "  extra_warning_msg=_LOGISTIC_SOLVER_CONVERGENCE_MSG)\n"
          ],
          "name": "stderr"
        }
      ]
    },
    {
      "cell_type": "code",
      "metadata": {
        "id": "I5TgIcm3J7xb",
        "colab_type": "code",
        "colab": {
          "base_uri": "https://localhost:8080/",
          "height": 626
        },
        "outputId": "1e33bcd1-cb3c-4443-a899-3996e1ef812f"
      },
      "source": [
        "#plotting the the Sparsity graph\n",
        "plt.plot(hyperparameter, sparsity, 'ks--',label='Sparsity Grap')\n",
        "plt.xlabel('lambda ')\n",
        "plt.ylabel('feature_count')\n",
        "plt.title(\"Sparsity Graph\")\n",
        "plt.legend()\n",
        "plt.show()\n",
        "print(\"C = \",hyperparameter)\n",
        "print(\"sparsity = \",sparsity)"
      ],
      "execution_count": 81,
      "outputs": [
        {
          "output_type": "error",
          "ename": "ValueError",
          "evalue": "ignored",
          "traceback": [
            "\u001b[0;31m---------------------------------------------------------------------------\u001b[0m",
            "\u001b[0;31mValueError\u001b[0m                                Traceback (most recent call last)",
            "\u001b[0;32m<ipython-input-81-43bfd6cfa80b>\u001b[0m in \u001b[0;36m<module>\u001b[0;34m()\u001b[0m\n\u001b[0;32m----> 1\u001b[0;31m \u001b[0mplt\u001b[0m\u001b[0;34m.\u001b[0m\u001b[0mplot\u001b[0m\u001b[0;34m(\u001b[0m\u001b[0mhyperparameter\u001b[0m\u001b[0;34m,\u001b[0m \u001b[0msparsity\u001b[0m\u001b[0;34m,\u001b[0m \u001b[0;34m'ks--'\u001b[0m\u001b[0;34m,\u001b[0m\u001b[0mlabel\u001b[0m\u001b[0;34m=\u001b[0m\u001b[0;34m'Sparsity Grap'\u001b[0m\u001b[0;34m)\u001b[0m\u001b[0;34m\u001b[0m\u001b[0;34m\u001b[0m\u001b[0m\n\u001b[0m\u001b[1;32m      2\u001b[0m \u001b[0mplt\u001b[0m\u001b[0;34m.\u001b[0m\u001b[0mxlabel\u001b[0m\u001b[0;34m(\u001b[0m\u001b[0;34m'lambda '\u001b[0m\u001b[0;34m)\u001b[0m\u001b[0;34m\u001b[0m\u001b[0;34m\u001b[0m\u001b[0m\n\u001b[1;32m      3\u001b[0m \u001b[0mplt\u001b[0m\u001b[0;34m.\u001b[0m\u001b[0mylabel\u001b[0m\u001b[0;34m(\u001b[0m\u001b[0;34m'feature_count'\u001b[0m\u001b[0;34m)\u001b[0m\u001b[0;34m\u001b[0m\u001b[0;34m\u001b[0m\u001b[0m\n\u001b[1;32m      4\u001b[0m \u001b[0mplt\u001b[0m\u001b[0;34m.\u001b[0m\u001b[0mtitle\u001b[0m\u001b[0;34m(\u001b[0m\u001b[0;34m\"Sparsity Graph\"\u001b[0m\u001b[0;34m)\u001b[0m\u001b[0;34m\u001b[0m\u001b[0;34m\u001b[0m\u001b[0m\n\u001b[1;32m      5\u001b[0m \u001b[0mplt\u001b[0m\u001b[0;34m.\u001b[0m\u001b[0mlegend\u001b[0m\u001b[0;34m(\u001b[0m\u001b[0;34m)\u001b[0m\u001b[0;34m\u001b[0m\u001b[0;34m\u001b[0m\u001b[0m\n",
            "\u001b[0;32m/usr/local/lib/python3.6/dist-packages/matplotlib/pyplot.py\u001b[0m in \u001b[0;36mplot\u001b[0;34m(scalex, scaley, data, *args, **kwargs)\u001b[0m\n\u001b[1;32m   2794\u001b[0m     return gca().plot(\n\u001b[1;32m   2795\u001b[0m         *args, scalex=scalex, scaley=scaley, **({\"data\": data} if data\n\u001b[0;32m-> 2796\u001b[0;31m         is not None else {}), **kwargs)\n\u001b[0m\u001b[1;32m   2797\u001b[0m \u001b[0;34m\u001b[0m\u001b[0m\n\u001b[1;32m   2798\u001b[0m \u001b[0;34m\u001b[0m\u001b[0m\n",
            "\u001b[0;32m/usr/local/lib/python3.6/dist-packages/matplotlib/axes/_axes.py\u001b[0m in \u001b[0;36mplot\u001b[0;34m(self, scalex, scaley, data, *args, **kwargs)\u001b[0m\n\u001b[1;32m   1663\u001b[0m         \"\"\"\n\u001b[1;32m   1664\u001b[0m         \u001b[0mkwargs\u001b[0m \u001b[0;34m=\u001b[0m \u001b[0mcbook\u001b[0m\u001b[0;34m.\u001b[0m\u001b[0mnormalize_kwargs\u001b[0m\u001b[0;34m(\u001b[0m\u001b[0mkwargs\u001b[0m\u001b[0;34m,\u001b[0m \u001b[0mmlines\u001b[0m\u001b[0;34m.\u001b[0m\u001b[0mLine2D\u001b[0m\u001b[0;34m.\u001b[0m\u001b[0m_alias_map\u001b[0m\u001b[0;34m)\u001b[0m\u001b[0;34m\u001b[0m\u001b[0;34m\u001b[0m\u001b[0m\n\u001b[0;32m-> 1665\u001b[0;31m         \u001b[0mlines\u001b[0m \u001b[0;34m=\u001b[0m \u001b[0;34m[\u001b[0m\u001b[0;34m*\u001b[0m\u001b[0mself\u001b[0m\u001b[0;34m.\u001b[0m\u001b[0m_get_lines\u001b[0m\u001b[0;34m(\u001b[0m\u001b[0;34m*\u001b[0m\u001b[0margs\u001b[0m\u001b[0;34m,\u001b[0m \u001b[0mdata\u001b[0m\u001b[0;34m=\u001b[0m\u001b[0mdata\u001b[0m\u001b[0;34m,\u001b[0m \u001b[0;34m**\u001b[0m\u001b[0mkwargs\u001b[0m\u001b[0;34m)\u001b[0m\u001b[0;34m]\u001b[0m\u001b[0;34m\u001b[0m\u001b[0;34m\u001b[0m\u001b[0m\n\u001b[0m\u001b[1;32m   1666\u001b[0m         \u001b[0;32mfor\u001b[0m \u001b[0mline\u001b[0m \u001b[0;32min\u001b[0m \u001b[0mlines\u001b[0m\u001b[0;34m:\u001b[0m\u001b[0;34m\u001b[0m\u001b[0;34m\u001b[0m\u001b[0m\n\u001b[1;32m   1667\u001b[0m             \u001b[0mself\u001b[0m\u001b[0;34m.\u001b[0m\u001b[0madd_line\u001b[0m\u001b[0;34m(\u001b[0m\u001b[0mline\u001b[0m\u001b[0;34m)\u001b[0m\u001b[0;34m\u001b[0m\u001b[0;34m\u001b[0m\u001b[0m\n",
            "\u001b[0;32m/usr/local/lib/python3.6/dist-packages/matplotlib/axes/_base.py\u001b[0m in \u001b[0;36m__call__\u001b[0;34m(self, *args, **kwargs)\u001b[0m\n\u001b[1;32m    223\u001b[0m                 \u001b[0mthis\u001b[0m \u001b[0;34m+=\u001b[0m \u001b[0margs\u001b[0m\u001b[0;34m[\u001b[0m\u001b[0;36m0\u001b[0m\u001b[0;34m]\u001b[0m\u001b[0;34m,\u001b[0m\u001b[0;34m\u001b[0m\u001b[0;34m\u001b[0m\u001b[0m\n\u001b[1;32m    224\u001b[0m                 \u001b[0margs\u001b[0m \u001b[0;34m=\u001b[0m \u001b[0margs\u001b[0m\u001b[0;34m[\u001b[0m\u001b[0;36m1\u001b[0m\u001b[0;34m:\u001b[0m\u001b[0;34m]\u001b[0m\u001b[0;34m\u001b[0m\u001b[0;34m\u001b[0m\u001b[0m\n\u001b[0;32m--> 225\u001b[0;31m             \u001b[0;32myield\u001b[0m \u001b[0;32mfrom\u001b[0m \u001b[0mself\u001b[0m\u001b[0;34m.\u001b[0m\u001b[0m_plot_args\u001b[0m\u001b[0;34m(\u001b[0m\u001b[0mthis\u001b[0m\u001b[0;34m,\u001b[0m \u001b[0mkwargs\u001b[0m\u001b[0;34m)\u001b[0m\u001b[0;34m\u001b[0m\u001b[0;34m\u001b[0m\u001b[0m\n\u001b[0m\u001b[1;32m    226\u001b[0m \u001b[0;34m\u001b[0m\u001b[0m\n\u001b[1;32m    227\u001b[0m     \u001b[0;32mdef\u001b[0m \u001b[0mget_next_color\u001b[0m\u001b[0;34m(\u001b[0m\u001b[0mself\u001b[0m\u001b[0;34m)\u001b[0m\u001b[0;34m:\u001b[0m\u001b[0;34m\u001b[0m\u001b[0;34m\u001b[0m\u001b[0m\n",
            "\u001b[0;32m/usr/local/lib/python3.6/dist-packages/matplotlib/axes/_base.py\u001b[0m in \u001b[0;36m_plot_args\u001b[0;34m(self, tup, kwargs)\u001b[0m\n\u001b[1;32m    389\u001b[0m             \u001b[0mx\u001b[0m\u001b[0;34m,\u001b[0m \u001b[0my\u001b[0m \u001b[0;34m=\u001b[0m \u001b[0mindex_of\u001b[0m\u001b[0;34m(\u001b[0m\u001b[0mtup\u001b[0m\u001b[0;34m[\u001b[0m\u001b[0;34m-\u001b[0m\u001b[0;36m1\u001b[0m\u001b[0;34m]\u001b[0m\u001b[0;34m)\u001b[0m\u001b[0;34m\u001b[0m\u001b[0;34m\u001b[0m\u001b[0m\n\u001b[1;32m    390\u001b[0m \u001b[0;34m\u001b[0m\u001b[0m\n\u001b[0;32m--> 391\u001b[0;31m         \u001b[0mx\u001b[0m\u001b[0;34m,\u001b[0m \u001b[0my\u001b[0m \u001b[0;34m=\u001b[0m \u001b[0mself\u001b[0m\u001b[0;34m.\u001b[0m\u001b[0m_xy_from_xy\u001b[0m\u001b[0;34m(\u001b[0m\u001b[0mx\u001b[0m\u001b[0;34m,\u001b[0m \u001b[0my\u001b[0m\u001b[0;34m)\u001b[0m\u001b[0;34m\u001b[0m\u001b[0;34m\u001b[0m\u001b[0m\n\u001b[0m\u001b[1;32m    392\u001b[0m \u001b[0;34m\u001b[0m\u001b[0m\n\u001b[1;32m    393\u001b[0m         \u001b[0;32mif\u001b[0m \u001b[0mself\u001b[0m\u001b[0;34m.\u001b[0m\u001b[0mcommand\u001b[0m \u001b[0;34m==\u001b[0m \u001b[0;34m'plot'\u001b[0m\u001b[0;34m:\u001b[0m\u001b[0;34m\u001b[0m\u001b[0;34m\u001b[0m\u001b[0m\n",
            "\u001b[0;32m/usr/local/lib/python3.6/dist-packages/matplotlib/axes/_base.py\u001b[0m in \u001b[0;36m_xy_from_xy\u001b[0;34m(self, x, y)\u001b[0m\n\u001b[1;32m    268\u001b[0m         \u001b[0;32mif\u001b[0m \u001b[0mx\u001b[0m\u001b[0;34m.\u001b[0m\u001b[0mshape\u001b[0m\u001b[0;34m[\u001b[0m\u001b[0;36m0\u001b[0m\u001b[0;34m]\u001b[0m \u001b[0;34m!=\u001b[0m \u001b[0my\u001b[0m\u001b[0;34m.\u001b[0m\u001b[0mshape\u001b[0m\u001b[0;34m[\u001b[0m\u001b[0;36m0\u001b[0m\u001b[0;34m]\u001b[0m\u001b[0;34m:\u001b[0m\u001b[0;34m\u001b[0m\u001b[0;34m\u001b[0m\u001b[0m\n\u001b[1;32m    269\u001b[0m             raise ValueError(\"x and y must have same first dimension, but \"\n\u001b[0;32m--> 270\u001b[0;31m                              \"have shapes {} and {}\".format(x.shape, y.shape))\n\u001b[0m\u001b[1;32m    271\u001b[0m         \u001b[0;32mif\u001b[0m \u001b[0mx\u001b[0m\u001b[0;34m.\u001b[0m\u001b[0mndim\u001b[0m \u001b[0;34m>\u001b[0m \u001b[0;36m2\u001b[0m \u001b[0;32mor\u001b[0m \u001b[0my\u001b[0m\u001b[0;34m.\u001b[0m\u001b[0mndim\u001b[0m \u001b[0;34m>\u001b[0m \u001b[0;36m2\u001b[0m\u001b[0;34m:\u001b[0m\u001b[0;34m\u001b[0m\u001b[0;34m\u001b[0m\u001b[0m\n\u001b[1;32m    272\u001b[0m             raise ValueError(\"x and y can be no greater than 2-D, but have \"\n",
            "\u001b[0;31mValueError\u001b[0m: x and y must have same first dimension, but have shapes (6,) and (12,)"
          ]
        },
        {
          "output_type": "display_data",
          "data": {
            "image/png": "[encoded data removed]",
            "text/plain": [
              "<Figure size 432x288 with 1 Axes>"
            ]
          },
          "metadata": {
            "tags": []
          }
        }
      ]
    },
    {
      "cell_type": "code",
      "metadata": {
        "id": "t5AHrOhiJ7t1",
        "colab_type": "code",
        "colab": {}
      },
      "source": [
        "# Multi-collinearity Check"
      ],
      "execution_count": 0,
      "outputs": []
    },
    {
      "cell_type": "code",
      "metadata": {
        "id": "Zwd398wIJ7l7",
        "colab_type": "code",
        "colab": {
          "base_uri": "https://localhost:8080/",
          "height": 51
        },
        "outputId": "56c81276-45ab-463a-a6e5-0c5729657ed6"
      },
      "source": [
        "X_train.data = X_train.data + 0.01\n",
        "print(X_train.shape)\n",
        "print(X_test.shape)"
      ],
      "execution_count": 83,
      "outputs": [
        {
          "output_type": "stream",
          "text": [
            "(100000, 3846)\n",
            "(50000, 3846)\n"
          ],
          "name": "stdout"
        }
      ]
    },
    {
      "cell_type": "code",
      "metadata": {
        "id": "LttLJq78J7kH",
        "colab_type": "code",
        "colab": {
          "base_uri": "https://localhost:8080/",
          "height": 34
        },
        "outputId": "395c04ef-9657-4857-d4d9-e591a440b152"
      },
      "source": [
        "# Logistic Regression with Optimal value of C i.e.(1/lambda)\n",
        "lr = LogisticRegression(penalty='l2', C=optimal_C, n_jobs=-1)\n",
        "lr.fit(X_train,y_train)\n",
        "pred = lr.predict(X_test)\n",
        "\n",
        "w_dash = lr.coef_\n",
        "fpr, tpr, threshold = metrics.roc_curve(y_test, lr.predict_proba(X_test)[:,1],pos_label=\"positive\")\n",
        "auc = metrics.auc(fpr, tpr)\n",
        "print(\"AUC = \",auc*100)"
      ],
      "execution_count": 84,
      "outputs": [
        {
          "output_type": "stream",
          "text": [
            "AUC =  93.66731573335812\n"
          ],
          "name": "stdout"
        }
      ]
    },
    {
      "cell_type": "code",
      "metadata": {
        "id": "0-qSIZMQJ7iU",
        "colab_type": "code",
        "colab": {}
      },
      "source": [
        "w = w[0] + 0.000001\n",
        "w_dash = w_dash[0] +0.000001\n",
        "W = list(w)\n",
        "W_Dash = list(w_dash)"
      ],
      "execution_count": 0,
      "outputs": []
    },
    {
      "cell_type": "code",
      "metadata": {
        "id": "eCX71LXvJ7gN",
        "colab_type": "code",
        "colab": {
          "base_uri": "https://localhost:8080/",
          "height": 34
        },
        "outputId": "69b65c75-056b-4be1-9bb5-2b4c5a431ee0"
      },
      "source": [
        "change_percentage = []\n",
        "# count = 0;\n",
        "for i in tqdm(range(0,len(W))):\n",
        "    change = 0\n",
        "    change=(abs((W[i]-(W_Dash[i]))/(W[i])))*100\n",
        "    change_percentage.append(change)"
      ],
      "execution_count": 86,
      "outputs": [
        {
          "output_type": "stream",
          "text": [
            "100%|██████████| 3846/3846 [00:00<00:00, 317438.91it/s]\n"
          ],
          "name": "stderr"
        }
      ]
    },
    {
      "cell_type": "code",
      "metadata": {
        "id": "_JRon6o3J7c0",
        "colab_type": "code",
        "colab": {
          "base_uri": "https://localhost:8080/",
          "height": 295
        },
        "outputId": "fcb18fb2-1a39-43ff-fb10-5d106d48cde5"
      },
      "source": [
        "percentile_value = []\n",
        "percentile = []\n",
        "i = 0\n",
        "while i < 100:\n",
        "    percentile.append(i)\n",
        "    percentile_value.append(np.percentile(change_percentage,i))\n",
        "    i+=1;\n",
        "    \n",
        "# percentile_value_change_plot\n",
        "plt.plot(percentile, percentile_value, 'r',label='Vector Change')\n",
        "plt.xlabel('percentile')\n",
        "plt.ylabel('Percentage Change')\n",
        "plt.title(\"Percentile value\")\n",
        "plt.legend(loc = 'best')\n",
        "plt.grid()\n",
        "plt.show()"
      ],
      "execution_count": 87,
      "outputs": [
        {
          "output_type": "display_data",
          "data": {
            "image/png": "[encoded data removed]",
            "text/plain": [
              "<Figure size 432x288 with 1 Axes>"
            ]
          },
          "metadata": {
            "tags": []
          }
        }
      ]
    },
    {
      "cell_type": "code",
      "metadata": {
        "id": "2yzVMwpPJ7XK",
        "colab_type": "code",
        "colab": {
          "base_uri": "https://localhost:8080/",
          "height": 295
        },
        "outputId": "ec9967f2-4de1-49ae-93be-277415119033"
      },
      "source": [
        "# Calculating 90 to 100 percentile\n",
        "percentile_value = []\n",
        "percentile = []\n",
        "i = 90\n",
        "while i < 100:\n",
        "    percentile.append(i)\n",
        "    percentile_value.append(np.percentile(change_percentage,i))\n",
        "    i+=1;\n",
        "    \n",
        "# percentile_value_change_plot\n",
        "plt.plot(percentile, percentile_value, 'r',label='Vector Change')\n",
        "plt.xlabel('percentile')\n",
        "plt.ylabel('Percentage Change')\n",
        "plt.title(\"Percentile value\")\n",
        "plt.legend(loc = 'best')\n",
        "plt.grid()\n",
        "plt.show()"
      ],
      "execution_count": 88,
      "outputs": [
        {
          "output_type": "display_data",
          "data": {
            "image/png": "[encoded data removed]",
            "text/plain": [
              "<Figure size 432x288 with 1 Axes>"
            ]
          },
          "metadata": {
            "tags": []
          }
        }
      ]
    },
    {
      "cell_type": "code",
      "metadata": {
        "id": "xfgbQ1GNJ7Pg",
        "colab_type": "code",
        "colab": {
          "base_uri": "https://localhost:8080/",
          "height": 295
        },
        "outputId": "cd0fedfa-1c67-4e50-dad0-e4cfed0cc15d"
      },
      "source": [
        "#Calculating 98 to 100 percentile\n",
        "percentile_value = []\n",
        "percentile = []\n",
        "i = 97\n",
        "while i < 100:\n",
        "    percentile.append(i)\n",
        "    percentile_value.append(np.percentile(change_percentage,i))\n",
        "    i+=1;\n",
        "    \n",
        "# percentile_value_change_plot\n",
        "plt.plot(percentile, percentile_value, 'r--',label='Vector Change')\n",
        "plt.xlabel('percentile')\n",
        "plt.ylabel('Percentage Change')\n",
        "plt.title(\"Percentile value\")\n",
        "plt.legend(loc = 'best')\n",
        "plt.grid()\n",
        "plt.show()"
      ],
      "execution_count": 89,
      "outputs": [
        {
          "output_type": "display_data",
          "data": {
            "image/png": "[encoded data removed]",
            "text/plain": [
              "<Figure size 432x288 with 1 Axes>"
            ]
          },
          "metadata": {
            "tags": []
          }
        }
      ]
    },
    {
      "cell_type": "code",
      "metadata": {
        "id": "L7g2KT55J7MX",
        "colab_type": "code",
        "colab": {
          "base_uri": "https://localhost:8080/",
          "height": 295
        },
        "outputId": "72b005b5-f4ee-49d1-ec22-da066dd535b0"
      },
      "source": [
        "#Calculating 98 to 100 percentile\n",
        "percentile_value = []\n",
        "percentile = []\n",
        "i = 97\n",
        "while i < 99:\n",
        "    percentile.append(i)\n",
        "    percentile_value.append(np.percentile(change_percentage,i))\n",
        "    i+=0.1;\n",
        "    \n",
        "# percentile_value_change_plot\n",
        "plt.plot(percentile, percentile_value, 'r--',label='Vector Change')\n",
        "plt.xlabel('percentile')\n",
        "plt.ylabel('Percentage Change')\n",
        "plt.title(\"Percentile value\")\n",
        "plt.legend(loc = 'best')\n",
        "plt.grid()\n",
        "plt.show()"
      ],
      "execution_count": 90,
      "outputs": [
        {
          "output_type": "display_data",
          "data": {
            "image/png": "[encoded data removed]",
            "text/plain": [
              "<Figure size 432x288 with 1 Axes>"
            ]
          },
          "metadata": {
            "tags": []
          }
        }
      ]
    },
    {
      "cell_type": "code",
      "metadata": {
        "id": "nfd_IgDLJ7KX",
        "colab_type": "code",
        "colab": {
          "base_uri": "https://localhost:8080/",
          "height": 88
        },
        "outputId": "985895c1-c2f8-41f2-9b7a-bc377abbbf13"
      },
      "source": [
        "#w_with_greater_than_thresold = []\n",
        "# temp_weight = list(w[0])\n",
        "feature_names = count_vect.get_feature_names() #getting all feature name\n",
        "feature_above_threshold = []\n",
        "number_of_points_above_threshold = 0;\n",
        "for i in range(0,len(change_percentage)):\n",
        "    if change_percentage[i] > 1.5:\n",
        "        number_of_points_above_threshold += 1;\n",
        "        feature_above_threshold.append(feature_names[i])\n",
        "        \n",
        "print(\"Number_of_points_above_threshold = \",number_of_points_above_threshold)\n",
        "print(\"=\"*50)\n",
        "print(\"*Feature_Name_above_threshold* = \",feature_above_threshold)"
      ],
      "execution_count": 91,
      "outputs": [
        {
          "output_type": "stream",
          "text": [
            "Number_of_points_above_threshold =  3840\n",
            "==================================================\n",
            "*Feature_Name_above_threshold* =  ['abil', 'abl', 'absolut', 'absorb', 'abund', 'acai', 'accent', 'accept', 'access', 'accid', 'accident', 'accompani', 'accomplish', 'accord', 'account', 'accur', 'accustom', 'acerola', 'ach', 'achiev', 'acid', 'acquir', 'across', 'act', 'action', 'activ', 'actual', 'ad', 'adapt', 'add', 'addict', 'addit', 'address', 'adequ', 'adjust', 'admit', 'adopt', 'ador', 'adult', 'advanc', 'advantag', 'adventur', 'advers', 'advertis', 'advic', 'advis', 'aerogarden', 'affect', 'afford', 'afraid', 'africa', 'african', 'afternoon', 'aftertast', 'afterward', 'agav', 'age', 'agent', 'aggress', 'ago', 'agre', 'ahead', 'ahmad', 'aid', 'aint', 'air', 'airi', 'airport', 'airtight', 'aisl', 'aka', 'ala', 'alaska', 'albeit', 'alcohol', 'ale', 'alert', 'alfredo', 'alik', 'aliv', 'allerg', 'allergen', 'allergi', 'allow', 'almond', 'almost', 'alon', 'along', 'alot', 'alreadi', 'alright', 'also', 'alter', 'altern', 'although', 'altogeth', 'altoid', 'aluminum', 'alway', 'amaz', 'amazon', 'amber', 'america', 'american', 'ami', 'amino', 'among', 'amongst', 'amount', 'amus', 'anchovi', 'ancient', 'angel', 'anim', 'anis', 'anni', 'annoy', 'annual', 'anoth', 'answer', 'antibiot', 'anticip', 'antioxid', 'anxieti', 'anxious', 'anybodi', 'anyhow', 'anymor', 'anyon', 'anyth', 'anytim', 'anyway', 'anywher', 'apart', 'apolog', 'appar', 'appeal', 'appear', 'appet', 'appetit', 'appl', 'applesauc', 'appli', 'applic', 'appreci', 'approach', 'appropri', 'approv', 'approx', 'approxim', 'apricot', 'april', 'arabica', 'area', 'arent', 'argu', 'arizona', 'arm', 'aroma', 'aromat', 'around', 'arrang', 'arriv', 'arrowhead', 'art', 'arthriti', 'artichok', 'articl', 'artif', 'artifici', 'ascorb', 'asia', 'asian', 'asid', 'ask', 'asleep', 'asparagus', 'aspartam', 'aspect', 'assam', 'assist', 'associ', 'assort', 'assum', 'assur', 'ate', 'athlet', 'atkin', 'attach', 'attack', 'attempt', 'attent', 'attract', 'attribut', 'august', 'aunt', 'australia', 'australian', 'authent', 'author', 'auto', 'automat', 'avail', 'averag', 'avid', 'avocado', 'avoid', 'aw', 'awak', 'awar', 'award', 'away', 'awesom', 'awhil', 'babi', 'back', 'background', 'backpack', 'backyard', 'bacon', 'bacteria', 'bad', 'bag', 'bagel', 'baggi', 'bake', 'baker', 'bakeri', 'balanc', 'ball', 'balsam', 'bamboo', 'banana', 'band', 'bang', 'bank', 'bar', 'barbara', 'barbecu', 'barbequ', 'bare', 'bargain', 'bark', 'barley', 'barri', 'base', 'basi', 'basic', 'basil', 'basket', 'basmati', 'batch', 'bath', 'bathroom', 'batter', 'battl', 'bay', 'bbq', 'beach', 'beagl', 'bean', 'bear', 'beat', 'beauti', 'becam', 'becom', 'bed', 'bedtim', 'bee', 'beef', 'beer', 'beet', 'beetlejuic', 'beg', 'began', 'begin', 'begun', 'behavior', 'behind', 'behold', 'belgian', 'belgium', 'believ', 'bell', 'belli', 'belong', 'belov', 'benecol', 'benefici', 'benefit', 'bergamot', 'berri', 'besid', 'best', 'bet', 'better', 'betti', 'beverag', 'bewar', 'beyond', 'bichon', 'big', 'bigelow', 'bigger', 'biggest', 'bike', 'bill', 'bin', 'biodegrad', 'bird', 'birth', 'birthday', 'biscotti', 'biscuit', 'bit', 'bite', 'bitter', 'bittersweet', 'bjs', 'black', 'blackberri', 'blah', 'blame', 'bland', 'blast', 'bleach', 'blend', 'blender', 'bless', 'blind', 'bliss', 'bloat', 'block', 'blood', 'bloodi', 'bloom', 'blossom', 'blow', 'blown', 'blue', 'blueberri', 'board', 'boast', 'bob', 'bodi', 'boil', 'bold', 'bolder', 'bomb', 'bon', 'bone', 'boneless', 'bonsai', 'bonus', 'book', 'boost', 'boot', 'booti', 'border', 'bore', 'born', 'boston', 'bother', 'bottl', 'bottom', 'bought', 'bouillon', 'bounc', 'bound', 'bouquet', 'bowel', 'bowl', 'box', 'boy', 'boyfriend', 'bpa', 'brain', 'bran', 'branch', 'brand', 'brazil', 'bread', 'break', 'breakag', 'breakfast', 'breast', 'breastfeed', 'breath', 'breed', 'breeder', 'breez', 'brew', 'brewer', 'brick', 'brief', 'bright', 'brilliant', 'bring', 'british', 'brittl', 'broccoli', 'broke', 'broken', 'broth', 'brother', 'brought', 'brown', 'browni', 'brush', 'brussel', 'btw', 'bubbl', 'buck', 'bucket', 'buckwheat', 'bud', 'buddi', 'budget', 'buffalo', 'bug', 'build', 'built', 'bulk', 'bull', 'bulli', 'bun', 'bunch', 'bundl', 'bunni', 'burger', 'buri', 'burn', 'burnt', 'burrito', 'burst', 'burton', 'bush', 'busi', 'bust', 'butter', 'butteri', 'buttermilk', 'butterscotch', 'button', 'buy', 'buyer', 'buzz', 'bypass', 'cabinet', 'cacao', 'cadburi', 'cafe', 'caff', 'caffein', 'caffien', 'caffin', 'cajun', 'cake', 'cal', 'calcium', 'california', 'call', 'calm', 'calor', 'calori', 'came', 'camp', 'campbel', 'camper', 'can', 'canada', 'canadian', 'cancel', 'cancer', 'candi', 'cane', 'canida', 'canin', 'canist', 'cannist', 'cannot', 'canola', 'cant', 'cap', 'cappuccino', 'capsul', 'captur', 'car', 'caramel', 'carb', 'carbohydr', 'carbon', 'card', 'cardamom', 'cardboard', 'care', 'carmel', 'carnat', 'carnivor', 'carob', 'carolina', 'carpet', 'carri', 'carrot', 'cart', 'carton', 'case', 'casein', 'cash', 'cashew', 'casserol', 'cast', 'cat', 'catch', 'categori', 'catnip', 'caught', 'caus', 'caution', 'cautious', 'caveat', 'caviti', 'cayenn', 'celebr', 'celeri', 'celesti', 'celiac', 'cell', 'cent', 'center', 'central', 'centuri', 'cereal', 'certain', 'certif', 'certifi', 'ceylon', 'chai', 'chain', 'chalki', 'challeng', 'chamomil', 'champagn', 'chanc', 'chang', 'charact', 'characterist', 'charg', 'charm', 'chase', 'cheap', 'cheaper', 'cheapest', 'cheat', 'check', 'cheddar', 'cheer', 'cheerio', 'chees', 'cheesecak', 'cheesi', 'cheeto', 'chef', 'chemic', 'cherri', 'chest', 'chew', 'chewabl', 'chewer', 'chewi', 'chewier', 'chex', 'chicago', 'chicken', 'chicori', 'chihuahua', 'child', 'childhood', 'children', 'chile', 'chili', 'chill', 'chilli', 'china', 'chines', 'chip', 'chipotl', 'chive', 'choc', 'chock', 'chocohol', 'chocol', 'chocolatey', 'chocolati', 'choic', 'choke', 'cholesterol', 'choos', 'chop', 'chose', 'chosen', 'chow', 'chowder', 'christma', 'chronic', 'chun', 'chunk', 'chunki', 'church', 'cider', 'cigarett', 'cilantro', 'cinnamon', 'circl', 'citi', 'citric', 'citrus', 'claim', 'clam', 'class', 'classic', 'clay', 'clean', 'cleaner', 'cleans', 'clear', 'clementin', 'clever', 'click', 'client', 'clif', 'climat', 'clip', 'clog', 'close', 'closer', 'closest', 'closet', 'cloth', 'clove', 'cloy', 'club', 'clue', 'clump', 'cluster', 'coars', 'coast', 'coat', 'coca', 'cocktail', 'coco', 'cocoa', 'coconut', 'code', 'coff', 'coffe', 'coffeemak', 'coin', 'coke', 'cola', 'cold', 'collect', 'colleg', 'colli', 'color', 'colorado', 'columbian', 'com', 'combin', 'combo', 'come', 'comfort', 'comment', 'commerci', 'commit', 'common', 'communic', 'communiti', 'compact', 'compani', 'companion', 'compar', 'comparison', 'compel', 'compens', 'compet', 'competit', 'competitor', 'complain', 'complaint', 'complement', 'complet', 'complex', 'compliment', 'compon', 'compost', 'compound', 'compromis', 'comput', 'con', 'concentr', 'concept', 'concern', 'conclus', 'concoct', 'condens', 'condiment', 'condit', 'cone', 'confect', 'confess', 'confid', 'confirm', 'confus', 'connect', 'connoisseur', 'conscious', 'consequ', 'consid', 'consider', 'consist', 'constant', 'constip', 'consult', 'consum', 'consumpt', 'contact', 'contain', 'contamin', 'content', 'continu', 'contrari', 'contrast', 'contribut', 'control', 'conveni', 'convent', 'convers', 'convert', 'convinc', 'cook', 'cookbook', 'cooker', 'cooki', 'cool', 'cooler', 'copi', 'core', 'corn', 'cornbread', 'corner', 'corpor', 'correct', 'cost', 'costa', 'costco', 'cottag', 'cough', 'could', 'couldnt', 'count', 'counter', 'counterpart', 'countless', 'countri', 'coupl', 'coupon', 'cours', 'couscous', 'cousin', 'cover', 'cow', 'cowork', 'crab', 'crack', 'cracker', 'craft', 'cramp', 'cranberri', 'crap', 'crappi', 'crash', 'crate', 'crave', 'crazi', 'cream', 'creamer', 'creami', 'creamier', 'creat', 'creation', 'creativ', 'credit', 'creek', 'crema', 'creme', 'cri', 'crisp', 'crispbread', 'crispi', 'critic', 'critter', 'crock', 'crocker', 'crop', 'cross', 'crouton', 'crowd', 'crown', 'crumb', 'crumbl', 'crunch', 'crunchi', 'crush', 'crust', 'crusti', 'crystal', 'cube', 'cucumb', 'cuisin', 'culinari', 'cultur', 'cumin', 'cup', 'cupboard', 'cupcak', 'cuppa', 'curb', 'cure', 'curios', 'curious', 'curl', 'current', 'curri', 'custard', 'custom', 'cut', 'cute', 'cycl', 'dab', 'dachshund', 'dad', 'daili', 'dairi', 'damag', 'damn', 'danc', 'danger', 'dare', 'darjeel', 'dark', 'darker', 'darn', 'dash', 'date', 'daughter', 'dave', 'davi', 'david', 'davidson', 'day', 'dead', 'deal', 'dear', 'death', 'dec', 'decad', 'decaf', 'decaffein', 'deceiv', 'decemb', 'decent', 'decept', 'decid', 'decis', 'decor', 'decreas', 'dedic', 'deep', 'deeper', 'deepli', 'defect', 'defin', 'definet', 'definit', 'degre', 'dehydr', 'delay', 'delect', 'deli', 'delic', 'delici', 'delight', 'delish', 'deliv', 'deliveri', 'delux', 'demand', 'dens', 'dent', 'dental', 'dentist', 'depart', 'depend', 'depress', 'depriv', 'depth', 'deriv', 'describ', 'descript', 'desert', 'deserv', 'design', 'desir', 'desk', 'desper', 'despit', 'dessert', 'destroy', 'detail', 'detect', 'determin', 'detox', 'develop', 'devic', 'devil', 'devour', 'dha', 'diabet', 'diagnos', 'diamet', 'diamond', 'diaper', 'diarrhea', 'dice', 'didnt', 'die', 'diet', 'dietari', 'dieter', 'differ', 'difficult', 'difficulti', 'dig', 'digest', 'dijon', 'dill', 'dilmah', 'dilut', 'dine', 'dingo', 'dinner', 'dip', 'direct', 'dirt', 'dirti', 'disagre', 'disapoint', 'disappear', 'disappoint', 'disast', 'disc', 'discard', 'discern', 'discontinu', 'discount', 'discov', 'discoveri', 'discuss', 'diseas', 'disguis', 'disgust', 'dish', 'dislik', 'dismay', 'dispens', 'display', 'dispos', 'dissapoint', 'dissappoint', 'dissolv', 'distanc', 'distinct', 'distinguish', 'distract', 'distress', 'distribut', 'distributor', 'disturb', 'divid', 'divin', 'doctor', 'doesnt', 'dog', 'doggi', 'dogswel', 'dolc', 'dollar', 'dollop', 'domest', 'domin', 'donat', 'done', 'dont', 'donut', 'door', 'doorstep', 'dose', 'dot', 'doubl', 'doubt', 'dough', 'douw', 'dove', 'downsid', 'dozen', 'drag', 'drain', 'dramat', 'drank', 'drastic', 'draw', 'drawback', 'drawer', 'dread', 'dream', 'dreamfield', 'dress', 'dri', 'drier', 'drink', 'drinkabl', 'drinker', 'drip', 'drive', 'drizzl', 'drop', 'drug', 'drunk', 'duck', 'due', 'dull', 'dump', 'dumpl', 'dunk', 'dunkin', 'duplic', 'durabl', 'dust', 'dutch', 'duti', 'dvd', 'dye', 'eager', 'ear', 'earl', 'earli', 'earlier', 'earn', 'earth', 'earthi', 'eas', 'easi', 'easier', 'easiest', 'easili', 'east', 'easter', 'eastern', 'eat', 'eaten', 'eater', 'econom', 'economi', 'ecstat', 'eden', 'edg', 'edibl', 'edit', 'educ', 'effect', 'effici', 'effort', 'egbert', 'egg', 'eight', 'either', 'elder', 'electr', 'electrolyt', 'eleg', 'element', 'elev', 'elig', 'elimin', 'els', 'elsewher', 'email', 'embarrass', 'emerald', 'emerg', 'emeril', 'employe', 'empti', 'encount', 'encourag', 'end', 'endless', 'endors', 'endur', 'energ', 'energet', 'energi', 'enfamil', 'england', 'english', 'enhanc', 'enjoy', 'enough', 'enrich', 'ensur', 'enter', 'entertain', 'enthusiast', 'entic', 'entir', 'entre', 'envelop', 'environ', 'environment', 'enzym', 'equal', 'equip', 'equival', 'error', 'escap', 'esp', 'especi', 'espresso', 'essenc', 'essenti', 'establish', 'estim', 'etc', 'europ', 'european', 'evapor', 'even', 'event', 'eventu', 'ever', 'everi', 'everlast', 'everybodi', 'everyday', 'everyon', 'everyth', 'everytim', 'everywher', 'evid', 'evil', 'evo', 'evoo', 'exact', 'exagger', 'exampl', 'exceed', 'excel', 'except', 'excess', 'exchang', 'excit', 'exclus', 'excus', 'exercis', 'exist', 'exot', 'expand', 'expect', 'expens', 'experi', 'experienc', 'expert', 'expir', 'explain', 'explan', 'explod', 'explor', 'expos', 'express', 'expresso', 'exquisit', 'extend', 'extens', 'extra', 'extract', 'extraordinari', 'extrem', 'eye', 'fabul', 'face', 'facil', 'fact', 'factor', 'factori', 'fade', 'fail', 'failur', 'faint', 'fair', 'faith', 'fake', 'fall', 'fals', 'famili', 'familiar', 'famous', 'fan', 'fanat', 'fanci', 'fantast', 'far', 'fare', 'farm', 'farmer', 'fashion', 'fast', 'faster', 'fat', 'father', 'fatigu', 'fatten', 'fatti', 'fault', 'fav', 'fave', 'favor', 'favorit', 'favourit', 'fda', 'fear', 'feast', 'featur', 'februari', 'fed', 'fee', 'feed', 'feedback', 'feel', 'feet', 'felin', 'fell', 'fellow', 'felt', 'femal', 'fenc', 'fennel', 'fenugreek', 'ferment', 'festiv', 'fewer', 'fiber', 'field', 'fifti', 'fig', 'fight', 'figur', 'filet', 'fill', 'filler', 'film', 'filter', 'final', 'find', 'fine', 'finer', 'finest', 'finger', 'finicki', 'finish', 'fire', 'firm', 'firmer', 'first', 'fish', 'fishi', 'fit', 'five', 'fix', 'fizz', 'fizzi', 'flake', 'flaki', 'flash', 'flat', 'flavor', 'flavorless', 'flavour', 'flax', 'flaxse', 'flexibl', 'fli', 'flight', 'flimsi', 'flip', 'float', 'floor', 'flop', 'floral', 'florida', 'flour', 'flow', 'flower', 'floweri', 'flu', 'fluff', 'fluffi', 'fluid', 'flush', 'foam', 'focus', 'foil', 'fold', 'folger', 'folk', 'follow', 'fond', 'food', 'foodi', 'fool', 'foot', 'forc', 'foreign', 'forest', 'forev', 'forget', 'forgiv', 'forgot', 'forgotten', 'fork', 'form', 'format', 'former', 'formul', 'formula', 'forth', 'fortifi', 'fortun', 'forward', 'foul', 'found', 'four', 'fourth', 'fraction', 'fragil', 'fragranc', 'fragrant', 'franc', 'francisco', 'frank', 'freak', 'free', 'freez', 'freezer', 'french', 'frequent', 'fresh', 'freshen', 'fresher', 'freshest', 'fri', 'friday', 'fridg', 'friend', 'frig', 'friski', 'frog', 'front', 'frost', 'froth', 'frothi', 'froze', 'frozen', 'fructos', 'fruit', 'fruiti', 'frustrat', 'fudg', 'fuel', 'fulfil', 'full', 'fuller', 'fulli', 'fun', 'function', 'funki', 'funni', 'fur', 'fuss', 'fussi', 'futur', 'fyi', 'gag', 'gain', 'gallon', 'game', 'garbag', 'garden', 'gari', 'garlic', 'garnish', 'gas', 'gastric', 'gather', 'gatorad', 'gave', 'gel', 'gelatin', 'gem', 'general', 'generat', 'generic', 'generous', 'genet', 'gentl', 'genuin', 'gerber', 'germ', 'german', 'germani', 'get', 'gevalia', 'gfcf', 'ghirardelli', 'ghost', 'giant', 'gift', 'ginger', 'gingerbread', 'girl', 'girlfriend', 'give', 'given', 'glad', 'glass', 'glaze', 'glen', 'gloria', 'glow', 'glucos', 'glucosamin', 'glue', 'glutam', 'gluten', 'glutino', 'glycem', 'gmo', 'gnaw', 'go', 'goal', 'goat', 'gobbl', 'god', 'godiva', 'godsend', 'goe', 'goji', 'gold', 'golden', 'goldfish', 'golean', 'gone', 'gonna', 'goo', 'good', 'goodi', 'gooey', 'googl', 'gorgeous', 'got', 'gotta', 'gotten', 'gourmet', 'grab', 'grade', 'gradual', 'graham', 'grain', 'graini', 'gram', 'grand', 'grandchildren', 'granddaught', 'grandkid', 'grandma', 'grandmoth', 'grandson', 'granola', 'grant', 'granul', 'grape', 'grapefruit', 'grass', 'grassi', 'grate', 'gravi', 'greas', 'greasi', 'great', 'greater', 'greatest', 'greek', 'green', 'greeni', 'grew', 'grey', 'grill', 'grind', 'grinder', 'gripe', 'grit', 'gritti', 'grocer', 'groceri', 'gross', 'ground', 'group', 'grow', 'grown', 'growth', 'guarante', 'guess', 'guest', 'guid', 'guilt', 'guilti', 'gulp', 'gum', 'gummi', 'gunpowd', 'gusto', 'guy', 'gym', 'habanero', 'habit', 'hadnt', 'hair', 'hairbal', 'half', 'halfway', 'halloween', 'halv', 'ham', 'hamburg', 'hand', 'handi', 'handl', 'hang', 'happen', 'happi', 'happier', 'happili', 'hard', 'harden', 'harder', 'haribo', 'harm', 'harrog', 'harsh', 'harvest', 'hasnt', 'hassl', 'hate', 'havent', 'hawaii', 'hawaiian', 'hazard', 'hazelnut', 'head', 'headach', 'heal', 'health', 'healthi', 'healthier', 'healthiest', 'heap', 'hear', 'heard', 'heart', 'heartburn', 'hearti', 'heartili', 'heat', 'heaven', 'heavi', 'heavier', 'heavili', 'heck', 'hed', 'heinz', 'held', 'hell', 'hello', 'help', 'helper', 'hemp', 'henc', 'herb', 'herbal', 'here', 'hershey', 'hes', 'hesit', 'hey', 'hfcs', 'hibiscus', 'hickori', 'hidden', 'hide', 'high', 'higher', 'highest', 'hike', 'hill', 'hint', 'hip', 'histori', 'hit', 'hmmm', 'hodgson', 'hold', 'holder', 'hole', 'holi', 'holiday', 'holist', 'home', 'homemad', 'honest', 'honey', 'hook', 'hope', 'horizon', 'hormon', 'horribl', 'horrid', 'horror', 'hors', 'horseradish', 'hospit', 'host', 'hostess', 'hot', 'hotdog', 'hotel', 'hotter', 'hottest', 'hound', 'hour', 'hous', 'household', 'howev', 'hubbi', 'huge', 'hull', 'human', 'humid', 'hummus', 'hundr', 'hunger', 'hungri', 'hunt', 'hurri', 'hurt', 'husband', 'hydrat', 'hydrogen', 'hype', 'iam', 'ice', 'icki', 'idea', 'ideal', 'ident', 'identifi', 'ignor', 'ill', 'illi', 'illustr', 'imag', 'imagin', 'imho', 'imit', 'immedi', 'immens', 'immun', 'imo', 'impact', 'impart', 'impli', 'import', 'imposs', 'impress', 'improv', 'inch', 'inclin', 'includ', 'inconsist', 'inconveni', 'incorpor', 'incorrect', 'increas', 'incred', 'inde', 'independ', 'index', 'india', 'indian', 'indic', 'indigest', 'individu', 'indoor', 'indulg', 'industri', 'ined', 'inexpens', 'infant', 'infect', 'inferior', 'info', 'inform', 'infus', 'ingest', 'ingredi', 'inhal', 'initi', 'inner', 'innova', 'insan', 'insert', 'insid', 'insist', 'inspect', 'inspir', 'instanc', 'instant', 'instead', 'instruct', 'insulin', 'intact', 'intak', 'integr', 'intend', 'intens', 'intent', 'interest', 'intern', 'internet', 'intestin', 'intoler', 'intrigu', 'introduc', 'introduct', 'invent', 'invest', 'investig', 'invit', 'involv', 'iraq', 'ireland', 'irish', 'iron', 'irresist', 'irrit', 'island', 'isnt', 'isol', 'issu', 'itali', 'italian', 'itch', 'item', 'itll', 'ive', 'izz', 'jack', 'jalapeno', 'jam', 'jamaica', 'jamaican', 'januari', 'japan', 'japanes', 'jar', 'jasmin', 'java', 'jaw', 'jazz', 'jean', 'jelli', 'jello', 'jerk', 'jerki', 'jersey', 'jet', 'jewel', 'jim', 'jitter', 'jitteri', 'job', 'joe', 'john', 'join', 'joint', 'joke', 'jolli', 'jolt', 'jone', 'joy', 'judg', 'jug', 'juic', 'juici', 'juli', 'jumbo', 'jump', 'june', 'junk', 'junki', 'justifi', 'kahlua', 'kashi', 'kcup', 'keaton', 'keep', 'keeper', 'kellogg', 'kept', 'kernel', 'ketchup', 'kettl', 'keurig', 'key', 'kibbl', 'kick', 'kid', 'kidney', 'kill', 'killer', 'kind', 'kinda', 'king', 'kiss', 'kit', 'kitchen', 'kitten', 'kitti', 'kiwi', 'knew', 'knife', 'knock', 'knorr', 'know', 'knowledg', 'known', 'kona', 'kong', 'korean', 'kosher', 'kraft', 'krispi', 'kroger', 'kudo', 'lab', 'label', 'lack', 'lactos', 'laden', 'ladi', 'lake', 'lamb', 'land', 'lap', 'larabar', 'larg', 'larger', 'largest', 'las', 'lasagna', 'last', 'late', 'later', 'latest', 'latt', 'latter', 'laugh', 'lavazza', 'lavend', 'law', 'laxat', 'lay', 'layer', 'lazi', 'lbs', 'lead', 'leaf', 'leak', 'lean', 'learn', 'least', 'leather', 'leav', 'lecithin', 'led', 'left', 'leftov', 'leg', 'legal', 'lemon', 'lemonad', 'lemongrass', 'lemoni', 'lend', 'length', 'lentil', 'leonida', 'less', 'lesser', 'lesson', 'let', 'letter', 'lettuc', 'level', 'liber', 'lick', 'licoric', 'lid', 'lie', 'life', 'lifesav', 'lifestyl', 'lifetim', 'lift', 'light', 'lighter', 'like', 'lime', 'limit', 'linda', 'lindt', 'line', 'linger', 'link', 'lip', 'lipton', 'liquid', 'liquor', 'list', 'listen', 'listmania', 'lite', 'liter', 'litter', 'littl', 'live', 'liver', 'load', 'loaf', 'loav', 'lobster', 'local', 'locat', 'lock', 'lol', 'lollipop', 'loma', 'london', 'long', 'longer', 'look', 'lookout', 'loos', 'lose', 'loss', 'lost', 'lot', 'louisiana', 'lousi', 'love', 'lover', 'low', 'lower', 'lowest', 'lowfat', 'loyal', 'luck', 'lucki', 'luckili', 'lump', 'lunch', 'lunchbox', 'lundberg', 'luscious', 'luxuri', 'mac', 'maca', 'macadamia', 'macaroni', 'machin', 'mad', 'made', 'magazin', 'magic', 'magnesium', 'maid', 'mail', 'main', 'mainstream', 'maintain', 'major', 'make', 'maker', 'male', 'mall', 'malt', 'maltes', 'malti', 'man', 'manag', 'mandarin', 'mango', 'mani', 'manner', 'manual', 'manufactur', 'manuka', 'mapl', 'marathon', 'march', 'margarin', 'margarita', 'margin', 'mari', 'marin', 'marinad', 'marinara', 'mark', 'market', 'marmalad', 'marri', 'marshmallow', 'martini', 'marvel', 'marzipan', 'masala', 'mash', 'mask', 'mass', 'massiv', 'master', 'match', 'matcha', 'mate', 'materi', 'math', 'matter', 'max', 'maximum', 'maxwel', 'may', 'mayb', 'mayo', 'mayonnais', 'mccann', 'mccormick', 'mcdougal', 'meal', 'mean', 'meant', 'meantim', 'measur', 'meat', 'meatbal', 'meati', 'meatloaf', 'mechan', 'med', 'medic', 'medicin', 'mediocr', 'mediterranean', 'medium', 'meet', 'melitta', 'mellow', 'melon', 'melt', 'member', 'memori', 'men', 'mental', 'mention', 'menu', 'meow', 'merchant', 'mere', 'merrick', 'mesh', 'mess', 'messag', 'messi', 'met', 'metabol', 'metal', 'method', 'mexican', 'mexico', 'michael', 'michigan', 'microwav', 'mid', 'middl', 'midnight', 'midwest', 'might', 'mighti', 'migrain', 'mild', 'milder', 'mile', 'militari', 'milk', 'milki', 'milkshak', 'mill', 'million', 'min', 'minc', 'mind', 'mine', 'miner', 'mini', 'miniatur', 'minim', 'minimum', 'minor', 'mint', 'minti', 'minus', 'minut', 'miracl', 'mislead', 'miso', 'miss', 'mistak', 'mistaken', 'mix', 'mixer', 'mixtur', 'mmm', 'mmmm', 'mmmmm', 'mmmmmm', 'mocha', 'model', 'moder', 'modern', 'modest', 'modifi', 'moist', 'moistur', 'molass', 'mold', 'moldi', 'mole', 'mom', 'moment', 'monday', 'money', 'monitor', 'monkey', 'monster', 'month', 'mood', 'moon', 'moreov', 'morn', 'morsel', 'most', 'moth', 'mother', 'motiv', 'mountain', 'mouss', 'mouth', 'move', 'movement', 'movi', 'mrs', 'msg', 'much', 'muesli', 'muffin', 'mug', 'muir', 'multigrain', 'multipl', 'mum', 'munch', 'munchi', 'muscl', 'mush', 'mushi', 'mushroom', 'music', 'must', 'mustard', 'mysteri', 'nabisco', 'nacho', 'nail', 'nake', 'namast', 'name', 'nana', 'nasti', 'nation', 'nativ', 'natur', 'nausea', 'navita', 'near', 'nearbi', 'neat', 'necessari', 'necessarili', 'neck', 'nectar', 'need', 'needless', 'negat', 'neighbor', 'neighborhood', 'neither', 'nephew', 'nervous', 'nescaf', 'nestl', 'net', 'neutral', 'never', 'nevertheless', 'new', 'newli', 'newman', 'news', 'next', 'niacin', 'nib', 'nibbl', 'nice', 'nicer', 'niec', 'night', 'nine', 'nobodi', 'nois', 'non', 'none', 'nonetheless', 'noodl', 'nope', 'nori', 'normal', 'north', 'northern', 'nose', 'notch', 'note', 'noth', 'notic', 'notifi', 'nougat', 'nourish', 'novel', 'novelti', 'novemb', 'nowher', 'nugget', 'nuke', 'number', 'numer', 'numi', 'nurs', 'nut', 'nutella', 'nutiva', 'nutmeg', 'nutrient', 'nutrit', 'nutriti', 'nutritionist', 'nutro', 'nutti', 'nyc', 'nylabon', 'oat', 'oatmeal', 'obes', 'object', 'observ', 'obsess', 'obtain', 'obvious', 'occas', 'occasion', 'occupi', 'occur', 'ocean', 'oclock', 'octob', 'odd', 'odor', 'offens', 'offer', 'offic', 'offici', 'offset', 'often', 'ohio', 'oil', 'oili', 'okay', 'old', 'older', 'oldest', 'oliv', 'omaha', 'omega', 'omg', 'one', 'onion', 'onlin', 'onto', 'oolong', 'open', 'oper', 'opinion', 'opportun', 'oppos', 'opposit', 'opt', 'option', 'oral', 'orang', 'order', 'ordinari', 'oregano', 'oregon', 'oreo', 'organ', 'orgin', 'orient', 'origin', 'orlean', 'orvill', 'other', 'otherwis', 'ounc', 'outdoor', 'outer', 'outlet', 'outrag', 'outsid', 'outstand', 'oven', 'over', 'overal', 'overbear', 'overcook', 'overnight', 'overpow', 'overpr', 'oversea', 'overton', 'overweight', 'overwhelm', 'owe', 'own', 'owner', 'oxid', 'pace', 'pacif', 'pack', 'packag', 'packet', 'pad', 'page', 'paid', 'pain', 'paint', 'pair', 'palat', 'pale', 'palett', 'palm', 'pamela', 'pan', 'pancak', 'panda', 'pantri', 'papaya', 'paper', 'paprika', 'par', 'parent', 'pari', 'park', 'parmesan', 'parsley', 'part', 'parti', 'partial', 'particl', 'particular', 'partner', 'pass', 'passion', 'past', 'pasta', 'pastri', 'pat', 'patch', 'pate', 'path', 'patient', 'patti', 'paul', 'paw', 'pay', 'pea', 'peac', 'peach', 'peak', 'peanut', 'pear', 'pearl', 'pecan', 'pediatrician', 'pee', 'peel', 'peet', 'peko', 'pellet', 'penn', 'penni', 'peopl', 'pepper', 'peppercorn', 'pepperi', 'peppermint', 'pepsi', 'per', 'percent', 'percentag', 'perfect', 'perform', 'perfum', 'perhap', 'period', 'perk', 'perman', 'pero', 'person', 'pesticid', 'pesto', 'pet', 'petal', 'petco', 'peterson', 'petit', 'petsmart', 'phase', 'phenomen', 'phone', 'photo', 'physic', 'pick', 'picki', 'pickl', 'picnic', 'pie', 'piec', 'pig', 'pilaf', 'pile', 'pill', 'pinch', 'pine', 'pineappl', 'pink', 'pint', 'pipe', 'pirat', 'pistachio', 'pit', 'pita', 'pitcher', 'pizza', 'pkg', 'place', 'plain', 'plan', 'planet', 'plant', 'planter', 'plaqu', 'plastic', 'plate', 'play', 'pleas', 'pleasant', 'pleasur', 'plenti', 'plug', 'plum', 'plump', 'plus', 'pocket', 'pod', 'point', 'poison', 'poke', 'polici', 'polish', 'polit', 'pomegran', 'pooch', 'poodl', 'poop', 'poor', 'pop', 'popchip', 'popcorn', 'popper', 'poppi', 'popular', 'pork', 'porridg', 'portabl', 'portion', 'portland', 'posit', 'possibl', 'post', 'postag', 'poster', 'postum', 'pot', 'potassium', 'potato', 'potent', 'potenti', 'pouch', 'poultri', 'pound', 'pour', 'powder', 'powderi', 'power', 'practic', 'prais', 'precious', 'precis', 'predomin', 'prefer', 'pregnanc', 'pregnant', 'premium', 'prep', 'prepar', 'prescrib', 'prescript', 'presenc', 'present', 'preserv', 'press', 'pressur', 'presum', 'pretend', 'pretti', 'pretzel', 'prevent', 'previous', 'price', 'pricey', 'prici', 'primari', 'primarili', 'prime', 'princ', 'print', 'prior', 'privat', 'prize', 'pro', 'probabl', 'probiot', 'problem', 'proceed', 'process', 'processor', 'produc', 'product', 'profession', 'profil', 'profit', 'program', 'progress', 'prohibit', 'project', 'promis', 'promot', 'prompt', 'prone', 'pronounc', 'proof', 'proper', 'properti', 'proport', 'protect', 'protein', 'protien', 'proud', 'prove', 'proven', 'provid', 'prune', 'public', 'publix', 'puck', 'pud', 'puf', 'puff', 'pug', 'pull', 'pulp', 'pump', 'pumpkin', 'punch', 'pungent', 'pup', 'puppi', 'purchas', 'pure', 'purina', 'purpl', 'purpos', 'purs', 'push', 'put', 'puzzl', 'pyramid', 'quaker', 'qualifi', 'qualiti', 'quantiti', 'quart', 'quarter', 'queen', 'quench', 'quest', 'question', 'quick', 'quicker', 'quiet', 'quinoa', 'quit', 'quot', 'rabbit', 'race', 'rack', 'rain', 'rainforest', 'rais', 'raisin', 'ramen', 'ran', 'ranch', 'rancher', 'rancid', 'random', 'rang', 'rank', 'rapid', 'rare', 'raspberri', 'rate', 'rather', 'ratio', 'ration', 'rave', 'ravioli', 'raw', 'rawhid', 'rda', 'reach', 'react', 'reaction', 'read', 'readi', 'readili', 'real', 'realist', 'realiti', 'realiz', 'realli', 'reason', 'rebecca', 'recal', 'reccomend', 'reccommend', 'receipt', 'receiv', 'recent', 'reciev', 'recip', 'recipi', 'recogn', 'recomend', 'recommend', 'reconstitut', 'record', 'recov', 'recoveri', 'recycl', 'red', 'reduc', 'reduct', 'rees', 'refer', 'refil', 'refin', 'reflect', 'reflux', 'refresh', 'refri', 'refriger', 'refund', 'refus', 'regard', 'regardless', 'region', 'regret', 'regul', 'regular', 'reheat', 'rehydr', 'reject', 'relat', 'relax', 'releas', 'reli', 'reliabl', 'relief', 'reliev', 'relish', 'reluct', 'remain', 'remaind', 'remedi', 'rememb', 'remind', 'reminisc', 'remot', 'remov', 'reorder', 'repeat', 'replac', 'replenish', 'repli', 'replic', 'report', 'repres', 'reput', 'request', 'requir', 'rescu', 'reseal', 'research', 'resembl', 'reserv', 'residu', 'resist', 'resolv', 'resort', 'respect', 'respond', 'respons', 'rest', 'restrict', 'result', 'retail', 'retain', 'retriev', 'return', 'reus', 'reusabl', 'reveal', 'review', 'revolut', 'reward', 'rib', 'ribbon', 'rica', 'rice', 'rich', 'richer', 'rid', 'ride', 'ridicul', 'right', 'rind', 'ring', 'rins', 'rip', 'ripe', 'rise', 'rishi', 'risk', 'risotto', 'ritual', 'ritz', 'rival', 'road', 'roast', 'roaster', 'robust', 'rock', 'roland', 'roll', 'roof', 'rooibo', 'room', 'root', 'rope', 'rose', 'rosemari', 'rot', 'rotat', 'rough', 'round', 'rout', 'routin', 'row', 'royal', 'rub', 'rubber', 'rubberi', 'ruin', 'rule', 'rum', 'run', 'runni', 'rural', 'rush', 'russel', 'rye', 'sachet', 'sacrific', 'sad', 'safe', 'safer', 'safeti', 'safeway', 'safflow', 'said', 'sake', 'salad', 'sale', 'salmon', 'salsa', 'salt', 'salti', 'saltin', 'sam', 'sampl', 'sampler', 'san', 'sand', 'sandwich', 'santa', 'sardin', 'sat', 'satisfact', 'satisfactori', 'satisfi', 'satur', 'saturday', 'sauc', 'sausag', 'saut', 'saute', 'save', 'saver', 'savor', 'savori', 'saw', 'sawdust', 'say', 'scale', 'scare', 'scarf', 'scari', 'scene', 'scent', 'schedul', 'schnauzer', 'school', 'scienc', 'scientif', 'scissor', 'scone', 'scoop', 'score', 'scrambl', 'scrape', 'scratch', 'scream', 'screw', 'scrumptious', 'sea', 'seafood', 'seal', 'search', 'season', 'seattl', 'seawe', 'second', 'secret', 'section', 'secur', 'see', 'seed', 'seek', 'seem', 'seen', 'seldom', 'select', 'self', 'sell', 'seller', 'seltzer', 'send', 'senior', 'sens', 'sensat', 'senseo', 'sensibl', 'sensit', 'sent', 'separ', 'seper', 'septemb', 'seri', 'serious', 'serv', 'servic', 'sesam', 'session', 'set', 'settl', 'seven', 'sever', 'shade', 'shake', 'shaker', 'shall', 'shame', 'shape', 'share', 'sharp', 'shave', 'shed', 'sheet', 'shelf', 'shell', 'shelter', 'shelv', 'shepherd', 'shes', 'shi', 'shift', 'shih', 'shine', 'shini', 'ship', 'shipment', 'shipper', 'shock', 'shoe', 'shoot', 'shop', 'short', 'shortbread', 'shorten', 'shot', 'shoulder', 'shouldnt', 'shove', 'show', 'shower', 'shown', 'shred', 'shrimp', 'shut', 'sick', 'sicken', 'side', 'sight', 'sign', 'signatur', 'signific', 'silk', 'silki', 'silli', 'silver', 'similac', 'similar', 'simmer', 'simpl', 'simpli', 'sin', 'sinc', 'sincer', 'sing', 'singl', 'sink', 'sinus', 'sip', 'sister', 'sit', 'site', 'situat', 'six', 'size', 'skeptic', 'skill', 'skillet', 'skim', 'skin', 'skinless', 'skinni', 'skip', 'sleep', 'sleepi', 'slice', 'slide', 'slight', 'slightest', 'slim', 'slimi', 'slip', 'sliver', 'slow', 'slowli', 'small', 'smaller', 'smallest', 'smart', 'smash', 'smell', 'smelli', 'smile', 'smoke', 'smokehous', 'smokey', 'smoki', 'smooth', 'smoother', 'smoothest', 'smoothi', 'snack', 'snap', 'sneak', 'snicker', 'snif', 'sniff', 'snob', 'snow', 'soak', 'soap', 'social', 'soda', 'sodium', 'soft', 'soften', 'softer', 'soggi', 'soil', 'sold', 'sole', 'solid', 'solut', 'solv', 'somebodi', 'somehow', 'someon', 'someth', 'sometim', 'somewhat', 'somewher', 'son', 'soo', 'soon', 'sooner', 'sooo', 'soooo', 'sooooo', 'soooooo', 'sooth', 'sophist', 'sore', 'sorri', 'sort', 'soul', 'sound', 'soup', 'sour', 'sourc', 'south', 'southern', 'soy', 'soybean', 'soymilk', 'space', 'spaghetti', 'spain', 'spaniel', 'spanish', 'spare', 'spark', 'sparkl', 'speak', 'spearmint', 'speci', 'special', 'specialti', 'specif', 'specifi', 'spectacular', 'spectrum', 'speed', 'speedi', 'spell', 'spelt', 'spend', 'spent', 'spice', 'spicey', 'spici', 'spicier', 'spike', 'spill', 'spinach', 'spirit', 'spit', 'spite', 'splash', 'splenda', 'split', 'splurg', 'spoil', 'spoke', 'spong', 'spoon', 'sport', 'spot', 'spous', 'spout', 'spray', 'spread', 'spri', 'spring', 'sprinkl', 'sprite', 'sprout', 'squar', 'squash', 'squeez', 'squirrel', 'squirt', 'sri', 'sriracha', 'stabl', 'staci', 'stack', 'staff', 'stage', 'stain', 'stainless', 'stale', 'stamp', 'stand', 'standard', 'stapl', 'star', 'starbuck', 'starch', 'start', 'starter', 'starv', 'stash', 'state', 'statement', 'station', 'status', 'stay', 'steadi', 'steak', 'steal', 'steam', 'steel', 'steep', 'steer', 'stem', 'step', 'stevia', 'stew', 'stick', 'sticker', 'sticki', 'stiff', 'still', 'stimul', 'stink', 'stinki', 'stir', 'stock', 'stomach', 'stone', 'stood', 'stool', 'stop', 'storag', 'store', 'stori', 'stove', 'stovetop', 'straight', 'strain', 'strainer', 'strang', 'straw', 'strawberri', 'stray', 'street', 'strength', 'stress', 'stretch', 'strict', 'strike', 'string', 'strip', 'strong', 'stronger', 'strongest', 'struggl', 'stuck', 'student', 'studi', 'stuf', 'stuff', 'stuffer', 'stumbl', 'stun', 'stupid', 'sturdi', 'style', 'styrofoam', 'sub', 'subject', 'subscrib', 'subscript', 'subsequ', 'substanc', 'substanti', 'substitut', 'subtl', 'success', 'suck', 'sucker', 'sucralos', 'sudden', 'suffer', 'suffici', 'sugar', 'sugari', 'sugarless', 'suggest', 'suit', 'suitabl', 'suitcas', 'sum', 'sumatra', 'summari', 'summer', 'sun', 'sunday', 'sunflow', 'super', 'superb', 'superfood', 'superior', 'supermarket', 'supervis', 'supper', 'supplement', 'suppli', 'supplier', 'support', 'suppos', 'suprem', 'supris', 'sure', 'surfac', 'surgeri', 'surpass', 'surpris', 'surround', 'surviv', 'sushi', 'suspect', 'sustain', 'swallow', 'swear', 'sweat', 'sweet', 'sweeten', 'sweeter', 'sweetner', 'swim', 'swirl', 'swiss', 'switch', 'symptom', 'synthet', 'syrup', 'syrupi', 'system', 'tab', 'tabasco', 'tabl', 'tablespoon', 'tablet', 'taco', 'tad', 'taffi', 'tag', 'tahini', 'tail', 'take', 'taken', 'talk', 'tall', 'tang', 'tangerin', 'tangi', 'tannin', 'tap', 'tape', 'tapioca', 'target', 'tart', 'tartar', 'task', 'tassimo', 'tast', 'tastebud', 'tasteless', 'taster', 'tastey', 'tasti', 'tastier', 'tastiest', 'taurin', 'tax', 'taylor', 'tazo', 'tbs', 'tbsp', 'tea', 'teabag', 'teach', 'teacher', 'team', 'teapot', 'tear', 'teaspoon', 'technic', 'techniqu', 'teen', 'teenag', 'teeth', 'tell', 'temp', 'temperatur', 'tempt', 'temptat', 'ten', 'tend', 'tendenc', 'tender', 'teriyaki', 'term', 'terribl', 'terrier', 'terrif', 'test', 'texa', 'textur', 'thai', 'thailand', 'thank', 'thanksgiv', 'that', 'thaw', 'theater', 'theme', 'there', 'therefor', 'theyd', 'theyll', 'theyr', 'theyv', 'thick', 'thicken', 'thicker', 'thier', 'thin', 'thing', 'think', 'thinner', 'third', 'thirst', 'thirsti', 'thirti', 'tho', 'thorough', 'though', 'thought', 'thousand', 'three', 'threw', 'thrill', 'thrive', 'throat', 'throughout', 'throw', 'thrown', 'thru', 'thumb', 'thus', 'thyme', 'tie', 'tiger', 'tight', 'til', 'till', 'tim', 'time', 'timothi', 'tin', 'ting', 'tini', 'tinkyada', 'tip', 'tire', 'titl', 'toast', 'toaster', 'today', 'toddler', 'toffe', 'tofu', 'togeth', 'told', 'toler', 'tomato', 'tomorrow', 'ton', 'tone', 'tongu', 'tonight', 'took', 'tool', 'tooth', 'toothpick', 'top', 'torani', 'torn', 'tortilla', 'toss', 'total', 'touch', 'tough', 'tout', 'toward', 'towel', 'town', 'toxic', 'toy', 'trace', 'track', 'tract', 'trade', 'trader', 'tradit', 'trail', 'train', 'tran', 'transact', 'transfer', 'transform', 'transit', 'transport', 'trap', 'trash', 'travel', 'travers', 'tray', 'treasur', 'treat', 'treatment', 'tree', 'tremend', 'tri', 'trial', 'trick', 'tricki', 'trigger', 'trim', 'trip', 'tripl', 'tropic', 'troubl', 'truck', 'true', 'trueli', 'truffl', 'truli', 'trust', 'truth', 'tsp', 'tub', 'tube', 'tulli', 'tummi', 'tuna', 'turkey', 'turkish', 'turn', 'tweak', 'twelv', 'twenti', 'twice', 'twin', 'twine', 'twist', 'twizzler', 'two', 'type', 'typic', 'ugh', 'ultim', 'ultra', 'unabl', 'unavail', 'unbeat', 'unbeliev', 'uncl', 'uncook', 'underneath', 'understand', 'underton', 'undrink', 'unexpect', 'unflavor', 'unfortun', 'unhappi', 'unhealthi', 'uniform', 'uniqu', 'unit', 'univers', 'unknown', 'unless', 'unlik', 'unnatur', 'unnecessari', 'unopen', 'unpleas', 'unsalt', 'unsur', 'unsweeten', 'unus', 'unusu', 'unwrap', 'up', 'updat', 'upgrad', 'upon', 'upper', 'upset', 'upsid', 'urg', 'urin', 'urinari', 'usa', 'usda', 'use', 'useless', 'user', 'usp', 'usual', 'util', 'utter', 'vacat', 'vacuum', 'vagu', 'valentin', 'valley', 'valu', 'van', 'vanilla', 'vari', 'variat', 'varieti', 'various', 'vast', 'veg', 'vega', 'vegan', 'veget', 'vegetarian', 'veggi', 'vend', 'vendor', 'vermont', 'versatil', 'version', 'versus', 'vet', 'via', 'vibrant', 'video', 'vietnames', 'view', 'vinaigrett', 'vine', 'vinegar', 'virgin', 'virginia', 'virtual', 'visibl', 'visit', 'visual', 'vita', 'vital', 'vitamin', 'vodka', 'voila', 'volum', 'vomit', 'vote', 'wafer', 'waffl', 'wait', 'wake', 'walden', 'walk', 'wall', 'walmart', 'walnut', 'want', 'war', 'warehous', 'wari', 'warm', 'warmer', 'warn', 'wasabi', 'wash', 'washington', 'wasnt', 'wast', 'watch', 'watcher', 'water', 'wateri', 'watermelon', 'wax', 'waxi', 'way', 'weak', 'weaker', 'wean', 'wear', 'weather', 'web', 'websit', 'wed', 'wee', 'week', 'weekend', 'weigh', 'weight', 'weird', 'welcom', 'well', 'went', 'werent', 'west', 'western', 'wet', 'weve', 'what', 'whatev', 'whatsoev', 'wheat', 'wheel', 'whenev', 'wherea', 'wherev', 'whether', 'whey', 'whim', 'whip', 'whisk', 'white', 'whoever', 'whole', 'wholesal', 'wholesom', 'whos', 'whose', 'wide', 'wife', 'wild', 'will', 'win', 'wind', 'window', 'wine', 'wing', 'winner', 'winter', 'wipe', 'wire', 'wisconsin', 'wise', 'wish', 'within', 'without', 'wolf', 'woman', 'women', 'wonder', 'wont', 'wood', 'wooden', 'word', 'work', 'worker', 'workout', 'world', 'worm', 'worri', 'wors', 'worst', 'worth', 'worthi', 'worthwhil', 'would', 'wouldnt', 'wouldv', 'wound', 'wow', 'wrap', 'wrapper', 'write', 'written', 'wrong', 'wrote', 'www', 'xmas', 'xylitol', 'yard', 'yay', 'yeah', 'year', 'yeast', 'yellow', 'yep', 'yerba', 'yes', 'yesterday', 'yet', 'yield', 'yike', 'yogi', 'yogurt', 'york', 'yorki', 'yorkshir', 'youd', 'youll', 'young', 'younger', 'youngest', 'your', 'youth', 'youv', 'yrs', 'yuck', 'yucki', 'yum', 'yummi', 'zealand', 'zero', 'zest', 'zesti', 'zevia', 'zico', 'zinc', 'zing', 'zip', 'ziploc', 'ziplock', 'zuke']\n"
          ],
          "name": "stdout"
        }
      ]
    },
    {
      "cell_type": "code",
      "metadata": {
        "id": "M6nTXy4zJ7G3",
        "colab_type": "code",
        "colab": {}
      },
      "source": [
        "# Feature importance of BOW"
      ],
      "execution_count": 0,
      "outputs": []
    },
    {
      "cell_type": "code",
      "metadata": {
        "id": "wwRDG-lmJ7DR",
        "colab_type": "code",
        "colab": {}
      },
      "source": [
        "feature_name = count_vect.get_feature_names()\n",
        "w = lr.coef_\n",
        "weight=w.reshape(-1)\n",
        "sorted_feature = np.argsort(weight)\n",
        "top_20_positive_feature=sorted_feature[:-20:-1]"
      ],
      "execution_count": 0,
      "outputs": []
    },
    {
      "cell_type": "code",
      "metadata": {
        "id": "0J1L8bErJ7Be",
        "colab_type": "code",
        "colab": {
          "base_uri": "https://localhost:8080/",
          "height": 374
        },
        "outputId": "7655777e-e20d-464b-cdd0-7ef8aff64256"
      },
      "source": [
        "print(\"Positive feature top 20 :\")\n",
        "print(\"-------\")\n",
        "for i in top_20_positive_feature:\n",
        "    print(\"%s\\t-->\\t%f\"%(feature_name[i],weight[i]))"
      ],
      "execution_count": 93,
      "outputs": [
        {
          "output_type": "stream",
          "text": [
            "Positive feature top 20 :\n",
            "-------\n",
            "great\t-->\t0.172712\n",
            "love\t-->\t0.127362\n",
            "best\t-->\t0.123505\n",
            "delici\t-->\t0.101504\n",
            "good\t-->\t0.085574\n",
            "perfect\t-->\t0.084130\n",
            "excel\t-->\t0.081663\n",
            "favorit\t-->\t0.071779\n",
            "nice\t-->\t0.069402\n",
            "wonder\t-->\t0.068849\n",
            "easi\t-->\t0.062981\n",
            "find\t-->\t0.060398\n",
            "amaz\t-->\t0.058427\n",
            "alway\t-->\t0.057432\n",
            "tasti\t-->\t0.056317\n",
            "thank\t-->\t0.055925\n",
            "happi\t-->\t0.052258\n",
            "addict\t-->\t0.050018\n",
            "keep\t-->\t0.049245\n"
          ],
          "name": "stdout"
        }
      ]
    },
    {
      "cell_type": "code",
      "metadata": {
        "id": "UOkeTdKdJ6_p",
        "colab_type": "code",
        "colab": {}
      },
      "source": [
        "w = lr.coef_\n",
        "weight=w.reshape(-1)\n",
        "sorted_feature = np.argsort(weight)\n",
        "feature_name = count_vect.get_feature_names()\n",
        "top_20_negative_feature = sorted_feature[:20]"
      ],
      "execution_count": 0,
      "outputs": []
    },
    {
      "cell_type": "code",
      "metadata": {
        "id": "4hgEo03vJ692",
        "colab_type": "code",
        "colab": {
          "base_uri": "https://localhost:8080/",
          "height": 391
        },
        "outputId": "dce16311-3531-49d2-d546-7d7e263e5513"
      },
      "source": [
        "print(\"Negative feature top 20 :\")\n",
        "print(\"-------\")\n",
        "for i in top_20_negative_feature:\n",
        "    print(\"%s\\t -->\\t%f  \"%(feature_name[i],weight[i]))"
      ],
      "execution_count": 95,
      "outputs": [
        {
          "output_type": "stream",
          "text": [
            "Negative feature top 20 :\n",
            "-------\n",
            "disappoint\t -->\t-0.157204  \n",
            "worst\t -->\t-0.107112  \n",
            "terribl\t -->\t-0.090879  \n",
            "horribl\t -->\t-0.086372  \n",
            "money\t -->\t-0.085920  \n",
            "return\t -->\t-0.082596  \n",
            "aw\t -->\t-0.079660  \n",
            "bad\t -->\t-0.076823  \n",
            "threw\t -->\t-0.074822  \n",
            "unfortun\t -->\t-0.072346  \n",
            "bland\t -->\t-0.070847  \n",
            "wast\t -->\t-0.068016  \n",
            "stale\t -->\t-0.067861  \n",
            "thought\t -->\t-0.067428  \n",
            "would\t -->\t-0.062185  \n",
            "tast\t -->\t-0.060195  \n",
            "mayb\t -->\t-0.058652  \n",
            "sorri\t -->\t-0.057610  \n",
            "tasteless\t -->\t-0.055152  \n",
            "weak\t -->\t-0.054862  \n"
          ],
          "name": "stdout"
        }
      ]
    },
    {
      "cell_type": "code",
      "metadata": {
        "id": "BDN5JfOnJ67n",
        "colab_type": "code",
        "colab": {}
      },
      "source": [
        "# Logistic Regression on TFIDF L2 Regularization"
      ],
      "execution_count": 0,
      "outputs": []
    },
    {
      "cell_type": "code",
      "metadata": {
        "id": "lEg0-PNsJ63U",
        "colab_type": "code",
        "colab": {
          "base_uri": "https://localhost:8080/",
          "height": 34
        },
        "outputId": "dd622cb3-9e3f-4d8d-a3ba-a0e35e04e2bb"
      },
      "source": [
        "tuned_parameters = [10**-4, 10**-2, 10**0, 10**2, 10**4]\n",
        "\n",
        "cv_scores = []\n",
        "\n",
        "for i in tqdm(tuned_parameters):\n",
        "    model = LogisticRegression(penalty='l2', C=i, n_jobs=-1)\n",
        "    scores = cross_val_score(model, X_train, y_train, cv=10, scoring='roc_auc', n_jobs=-1)\n",
        "    cv_scores.append(scores.mean()) "
      ],
      "execution_count": 97,
      "outputs": [
        {
          "output_type": "stream",
          "text": [
            "100%|██████████| 5/5 [01:11<00:00, 14.09s/it]\n"
          ],
          "name": "stderr"
        }
      ]
    },
    {
      "cell_type": "code",
      "metadata": {
        "id": "djYQIxC4J6wD",
        "colab_type": "code",
        "colab": {
          "base_uri": "https://localhost:8080/",
          "height": 330
        },
        "outputId": "9b04b2df-e6fb-416b-a705-8f0e54357f94"
      },
      "source": [
        "# determining best value of alpha\n",
        "optimal_C = tuned_parameters[cv_scores.index(max(cv_scores))]\n",
        "print('\\nThe optimal value of C is %.3f.' % optimal_C)\n",
        "# plot accuracy vs alpha \n",
        "plt.plot(tuned_parameters, cv_scores,label=\"Train AUC\")\n",
        "plt.xlabel('Hypreparameter',size=9)\n",
        "plt.ylabel('Area under ROC Curve',size=9)\n",
        "plt.title('Area under ROC Curve VS Hyperparameter curve',size=16)\n",
        "plt.legend(loc='best')\n",
        "plt.grid()\n",
        "plt.show()"
      ],
      "execution_count": 98,
      "outputs": [
        {
          "output_type": "stream",
          "text": [
            "\n",
            "The optimal value of C is 0.000.\n"
          ],
          "name": "stdout"
        },
        {
          "output_type": "display_data",
          "data": {
            "image/png": "[encoded data removed]",
            "text/plain": [
              "<Figure size 432x288 with 1 Axes>"
            ]
          },
          "metadata": {
            "tags": []
          }
        }
      ]
    },
    {
      "cell_type": "code",
      "metadata": {
        "id": "gnqPycGrJ6t-",
        "colab_type": "code",
        "colab": {
          "base_uri": "https://localhost:8080/",
          "height": 624
        },
        "outputId": "19b8f5f4-3f7c-46e0-e77c-81403e93ed06"
      },
      "source": [
        "# Logistic Regression with Optimal value of C i.e.(1/lambda)\n",
        "import scikitplot as skplt\n",
        "\n",
        "lr = LogisticRegression(penalty='l2', C=optimal_C, n_jobs=-1)\n",
        "lr.fit(X_train,y_train)\n",
        "pred = lr.predict(X_test)\n",
        "w = lr.coef_\n",
        "\n",
        "\n",
        "print(\"***Test Data Report***\")\n",
        "print(\"Best C = \",optimal_C)\n",
        "fpr, tpr, threshold = metrics.roc_curve(y_test, lr.predict_proba(X_test)[:,1],pos_label=\"positive\")\n",
        "auc = metrics.auc(fpr, tpr)\n",
        "print(\"AUC = \",auc*100)\n",
        "skplt.metrics.plot_confusion_matrix(y_test, pred)\n",
        "plt.show()\n",
        "\n",
        "\n",
        "\n",
        "fpr, tpr, threshold = metrics.roc_curve(y_test, lr.predict_proba(X_test)[:,1],pos_label=\"positive\")\n",
        "fpr2, tpr2, threshold2 = metrics.roc_curve(y_train, lr.predict_proba(X_train)[:,1],pos_label=\"positive\")\n",
        "\n",
        "roc_auc = metrics.auc(fpr, tpr)\n",
        "roc_auc2 = metrics.auc(fpr2, tpr2)\n",
        "\n",
        "# method I: plt\n",
        "import matplotlib.pyplot as plt\n",
        "plt.title('Receiver Operating Characteristic Curve')\n",
        "plt.gca()\n",
        "plt.plot(fpr, tpr, label = 'AUC = %0.2f' % roc_auc)\n",
        "plt.plot(fpr2, tpr2, label = 'AUC = %0.2f' % roc_auc2)\n",
        "plt.legend(['TEST Data', 'TRAIN Data'],loc = 'lower right')\n",
        "\n",
        "plt.plot([0, 1], [0, 1],'r--')\n",
        "plt.xlim([0, 1])\n",
        "plt.ylim([0, 1])\n",
        "plt.ylabel('True Positive Rate')\n",
        "plt.xlabel('False Positive Rate')\n",
        "plt.show()"
      ],
      "execution_count": 100,
      "outputs": [
        {
          "output_type": "stream",
          "text": [
            "***Test Data Report***\n",
            "Best C =  0.0001\n",
            "AUC =  93.66731573335812\n"
          ],
          "name": "stdout"
        },
        {
          "output_type": "display_data",
          "data": {
            "image/png": "[encoded data removed]",
            "text/plain": [
              "<Figure size 432x288 with 2 Axes>"
            ]
          },
          "metadata": {
            "tags": []
          }
        },
        {
          "output_type": "display_data",
          "data": {
            "image/png": "[encoded data removed]",
            "text/plain": [
              "<Figure size 432x288 with 1 Axes>"
            ]
          },
          "metadata": {
            "tags": []
          }
        }
      ]
    },
    {
      "cell_type": "code",
      "metadata": {
        "id": "3cA4owPSJ6cl",
        "colab_type": "code",
        "colab": {}
      },
      "source": [
        "# Feature Importance TFIDF"
      ],
      "execution_count": 0,
      "outputs": []
    },
    {
      "cell_type": "code",
      "metadata": {
        "id": "OxQLZeagJ6Wu",
        "colab_type": "code",
        "colab": {}
      },
      "source": [
        "feature_name = count_vect.get_feature_names()\n",
        "w = lr.coef_\n",
        "weight=w.reshape(-1)\n",
        "sorted_feature = np.argsort(weight)\n",
        "top_20_positive_feature=sorted_feature[:-20:-1]"
      ],
      "execution_count": 0,
      "outputs": []
    },
    {
      "cell_type": "code",
      "metadata": {
        "id": "ytFxaGyZor9_",
        "colab_type": "code",
        "colab": {
          "base_uri": "https://localhost:8080/",
          "height": 374
        },
        "outputId": "ca832cbc-1efd-4a6b-dae5-644e06a9ecf5"
      },
      "source": [
        "print(\"Positive feature top 20 :\")\n",
        "print(\"-------\")\n",
        "for i in top_20_positive_feature:\n",
        "    print(\"%s\\t-->\\t%f\"%(feature_name[i],weight[i]))"
      ],
      "execution_count": 104,
      "outputs": [
        {
          "output_type": "stream",
          "text": [
            "Positive feature top 20 :\n",
            "-------\n",
            "great\t-->\t0.172712\n",
            "love\t-->\t0.127362\n",
            "best\t-->\t0.123505\n",
            "delici\t-->\t0.101504\n",
            "good\t-->\t0.085574\n",
            "perfect\t-->\t0.084130\n",
            "excel\t-->\t0.081663\n",
            "favorit\t-->\t0.071779\n",
            "nice\t-->\t0.069402\n",
            "wonder\t-->\t0.068849\n",
            "easi\t-->\t0.062981\n",
            "find\t-->\t0.060398\n",
            "amaz\t-->\t0.058427\n",
            "alway\t-->\t0.057432\n",
            "tasti\t-->\t0.056317\n",
            "thank\t-->\t0.055925\n",
            "happi\t-->\t0.052258\n",
            "addict\t-->\t0.050018\n",
            "keep\t-->\t0.049245\n"
          ],
          "name": "stdout"
        }
      ]
    },
    {
      "cell_type": "code",
      "metadata": {
        "id": "zqoCz5NFosNZ",
        "colab_type": "code",
        "colab": {}
      },
      "source": [
        "# Featue importance of Negetive CLass\n",
        "\n",
        "weight=w.reshape(-1)\n",
        "sorted_feature = np.argsort(weight)\n",
        "feature_name = tf_idf_vect.get_feature_names()\n",
        "top_20_negative_feature = sorted_feature[:20]"
      ],
      "execution_count": 0,
      "outputs": []
    },
    {
      "cell_type": "code",
      "metadata": {
        "id": "NebdikgoosW8",
        "colab_type": "code",
        "colab": {
          "base_uri": "https://localhost:8080/",
          "height": 391
        },
        "outputId": "61dc4ba4-4e3e-4075-faa9-a587739c164d"
      },
      "source": [
        "print(\"Negative feature top 20 :\")\n",
        "print(\"-------\")\n",
        "for i in top_20_negative_feature:\n",
        "    print(\"%s\\t -->\\t%f  \"%(feature_name[i],weight[i]))"
      ],
      "execution_count": 106,
      "outputs": [
        {
          "output_type": "stream",
          "text": [
            "Negative feature top 20 :\n",
            "-------\n",
            "disappoint\t -->\t-0.157204  \n",
            "worst\t -->\t-0.107112  \n",
            "terribl\t -->\t-0.090879  \n",
            "horribl\t -->\t-0.086372  \n",
            "money\t -->\t-0.085920  \n",
            "return\t -->\t-0.082596  \n",
            "aw\t -->\t-0.079660  \n",
            "bad\t -->\t-0.076823  \n",
            "threw\t -->\t-0.074822  \n",
            "unfortun\t -->\t-0.072346  \n",
            "bland\t -->\t-0.070847  \n",
            "wast\t -->\t-0.068016  \n",
            "stale\t -->\t-0.067861  \n",
            "thought\t -->\t-0.067428  \n",
            "would\t -->\t-0.062185  \n",
            "tast\t -->\t-0.060195  \n",
            "mayb\t -->\t-0.058652  \n",
            "sorri\t -->\t-0.057610  \n",
            "tasteless\t -->\t-0.055152  \n",
            "weak\t -->\t-0.054862  \n"
          ],
          "name": "stdout"
        }
      ]
    },
    {
      "cell_type": "code",
      "metadata": {
        "id": "JaLYJihTosgv",
        "colab_type": "code",
        "colab": {}
      },
      "source": [
        "# Logistic Regression on AVG-W2V"
      ],
      "execution_count": 0,
      "outputs": []
    },
    {
      "cell_type": "code",
      "metadata": {
        "id": "1WH0hlByostd",
        "colab_type": "code",
        "colab": {}
      },
      "source": [
        "#Standardising the train and test data\n",
        "sc = StandardScaler()\n",
        "X_train = sc.fit_transform(sent_vectors_train)\n",
        "X_test = sc.transform(sent_vectors_test)"
      ],
      "execution_count": 0,
      "outputs": []
    },
    {
      "cell_type": "code",
      "metadata": {
        "id": "-eMMQiSUosrG",
        "colab_type": "code",
        "colab": {
          "base_uri": "https://localhost:8080/",
          "height": 34
        },
        "outputId": "94c7aca2-608a-42a5-b0e6-a4f4688ec545"
      },
      "source": [
        "tuned_parameters = [10**-4, 10**-2, 10**0, 10**2, 10**4]\n",
        "\n",
        "# empty list cv_scores that will hold cross-validation scores\n",
        "cv_scores = []\n",
        "\n",
        "# performing 10-fold cross validation on train data\n",
        "for i in tqdm(tuned_parameters):\n",
        "    model = LogisticRegression(penalty='l2', C=i, n_jobs=-1)\n",
        "    scores = cross_val_score(model, X_train, y_train, cv=10, scoring='roc_auc', n_jobs=-1)\n",
        "    cv_scores.append(scores.mean()) "
      ],
      "execution_count": 109,
      "outputs": [
        {
          "output_type": "stream",
          "text": [
            "100%|██████████| 5/5 [00:38<00:00,  7.54s/it]\n"
          ],
          "name": "stderr"
        }
      ]
    },
    {
      "cell_type": "code",
      "metadata": {
        "id": "GuTIy7rKosm0",
        "colab_type": "code",
        "colab": {
          "base_uri": "https://localhost:8080/",
          "height": 330
        },
        "outputId": "b559c2eb-a053-4eb5-b5bc-70d3827e4a48"
      },
      "source": [
        "# determining best value of alpha\n",
        "optimal_C = tuned_parameters[cv_scores.index(max(cv_scores))]\n",
        "print('\\nThe optimal value of alpha is %.3f.' % optimal_C)\n",
        "# plot accuracy vs alpha \n",
        "plt.plot(tuned_parameters, cv_scores,label=\"Train AUC\")\n",
        "plt.xlabel('Hypreparameter',size=9)\n",
        "plt.ylabel('Area under ROC Curve',size=9)\n",
        "plt.title('Area under ROC Curve VS Hyperparameter curve',size=16)\n",
        "plt.legend(loc='best')\n",
        "plt.grid()\n",
        "plt.show()"
      ],
      "execution_count": 110,
      "outputs": [
        {
          "output_type": "stream",
          "text": [
            "\n",
            "The optimal value of alpha is 1.000.\n"
          ],
          "name": "stdout"
        },
        {
          "output_type": "display_data",
          "data": {
            "image/png": "[encoded data removed]",
            "text/plain": [
              "<Figure size 432x288 with 1 Axes>"
            ]
          },
          "metadata": {
            "tags": []
          }
        }
      ]
    },
    {
      "cell_type": "code",
      "metadata": {
        "id": "897U8Ejoosey",
        "colab_type": "code",
        "colab": {
          "base_uri": "https://localhost:8080/",
          "height": 624
        },
        "outputId": "9289e98f-1d70-4b8d-fa89-a46a6c139142"
      },
      "source": [
        "# Logistic Regression with Optimal value of C i.e.(1/lambda)\n",
        "lr = LogisticRegression(penalty='l2', C=optimal_C, n_jobs=-1)\n",
        "lr.fit(X_train,y_train)\n",
        "pred = lr.predict(X_test)\n",
        "\n",
        "\n",
        "print(\"***Test Data Report***\")\n",
        "print(\"Best C = \",optimal_C)\n",
        "auc = metrics.auc(fpr, tpr)\n",
        "print(\"AUC = \",auc*100)\n",
        "skplt.metrics.plot_confusion_matrix(y_test, pred)\n",
        "plt.show()\n",
        "\n",
        "\n",
        "\n",
        "fpr, tpr, threshold = metrics.roc_curve(y_test, lr.predict_proba(X_test)[:,1],pos_label=\"positive\")\n",
        "fpr2, tpr2, threshold2 = metrics.roc_curve(y_train, lr.predict_proba(X_train)[:,1],pos_label=\"positive\")\n",
        "\n",
        "roc_auc = metrics.auc(fpr, tpr)\n",
        "roc_auc2 = metrics.auc(fpr2, tpr2)\n",
        "\n",
        "# method I: plt\n",
        "import matplotlib.pyplot as plt\n",
        "plt.title('Receiver Operating Characteristic Curve')\n",
        "plt.gca()\n",
        "plt.plot(fpr, tpr, label = 'AUC = %0.2f' % roc_auc)\n",
        "plt.plot(fpr2, tpr2, label = 'AUC = %0.2f' % roc_auc2)\n",
        "plt.legend(['TEST Data', 'TRAIN Data'],loc = 'lower right')\n",
        "\n",
        "plt.plot([0, 1], [0, 1],'r--')\n",
        "plt.xlim([0, 1])\n",
        "plt.ylim([0, 1])\n",
        "plt.ylabel('True Positive Rate')\n",
        "plt.xlabel('False Positive Rate')\n",
        "plt.show()"
      ],
      "execution_count": 112,
      "outputs": [
        {
          "output_type": "stream",
          "text": [
            "***Test Data Report***\n",
            "Best C =  1\n",
            "AUC =  89.01301964786263\n"
          ],
          "name": "stdout"
        },
        {
          "output_type": "display_data",
          "data": {
            "image/png": "[encoded data removed]",
            "text/plain": [
              "<Figure size 432x288 with 2 Axes>"
            ]
          },
          "metadata": {
            "tags": []
          }
        },
        {
          "output_type": "display_data",
          "data": {
            "image/png": "[encoded data removed]",
            "text/plain": [
              "<Figure size 432x288 with 1 Axes>"
            ]
          },
          "metadata": {
            "tags": []
          }
        }
      ]
    },
    {
      "cell_type": "code",
      "metadata": {
        "id": "gs6zIiPKosU1",
        "colab_type": "code",
        "colab": {}
      },
      "source": [
        "# Logistic Regression on TfIdf-W2v"
      ],
      "execution_count": 0,
      "outputs": []
    },
    {
      "cell_type": "code",
      "metadata": {
        "id": "gNdZEg8BqjlK",
        "colab_type": "code",
        "colab": {}
      },
      "source": [
        "#Standardising the train and test data\n",
        "sc = StandardScaler(copy=True, with_mean=False, with_std=True)\n",
        "X_train = sc.fit_transform(tfidf_sent_vectors_train)\n",
        "X_test = sc.transform(tfidf_sent_vectors_test)"
      ],
      "execution_count": 0,
      "outputs": []
    },
    {
      "cell_type": "code",
      "metadata": {
        "id": "7fvd96JgqjjJ",
        "colab_type": "code",
        "colab": {
          "base_uri": "https://localhost:8080/",
          "height": 34
        },
        "outputId": "9d5954fc-8c84-40ef-c01c-170074c2b413"
      },
      "source": [
        "tuned_parameters = [10**-4, 10**-2, 10**0, 10**2, 10**4]\n",
        "\n",
        "# empty list cv_scores that will hold cross-validation scores\n",
        "cv_scores = []\n",
        "\n",
        "# performing 10-fold cross validation on train data\n",
        "for i in tqdm(tuned_parameters):\n",
        "    model = LogisticRegression(penalty='l2', C=i, n_jobs=-1)\n",
        "    scores = cross_val_score(model, X_train, y_train, cv=10, scoring='roc_auc', n_jobs=-1)\n",
        "    cv_scores.append(scores.mean()) "
      ],
      "execution_count": 115,
      "outputs": [
        {
          "output_type": "stream",
          "text": [
            "100%|██████████| 5/5 [00:51<00:00, 10.02s/it]\n"
          ],
          "name": "stderr"
        }
      ]
    },
    {
      "cell_type": "code",
      "metadata": {
        "id": "lxfowT_Fqjg8",
        "colab_type": "code",
        "colab": {
          "base_uri": "https://localhost:8080/",
          "height": 330
        },
        "outputId": "1de97398-0498-4167-b723-73b91d310537"
      },
      "source": [
        "# determining best value of alpha\n",
        "optimal_C = tuned_parameters[cv_scores.index(max(cv_scores))]\n",
        "print('\\nThe optimal value of alpha is %.3f.' % optimal_C)\n",
        "# plot accuracy vs alpha \n",
        "plt.plot(tuned_parameters, cv_scores,label=\"Train AUC\")\n",
        "plt.xlabel('Hypreparameter',size=9)\n",
        "plt.ylabel('Area under ROC Curve',size=9)\n",
        "plt.title('Area under ROC Curve VS Hyperparameter curve',size=16)\n",
        "plt.legend(loc='best')\n",
        "plt.grid()\n",
        "plt.show()"
      ],
      "execution_count": 116,
      "outputs": [
        {
          "output_type": "stream",
          "text": [
            "\n",
            "The optimal value of alpha is 1.000.\n"
          ],
          "name": "stdout"
        },
        {
          "output_type": "display_data",
          "data": {
            "image/png": "[encoded data removed]",
            "text/plain": [
              "<Figure size 432x288 with 1 Axes>"
            ]
          },
          "metadata": {
            "tags": []
          }
        }
      ]
    },
    {
      "cell_type": "code",
      "metadata": {
        "id": "hHhIFfKyq8IT",
        "colab_type": "code",
        "colab": {
          "base_uri": "https://localhost:8080/",
          "height": 624
        },
        "outputId": "14a4404c-b7ba-4fbe-a56a-84b72cd40dd7"
      },
      "source": [
        "lr = LogisticRegression(penalty='l2', C=optimal_C, n_jobs=-1)\n",
        "lr.fit(X_train,y_train)\n",
        "pred = lr.predict(X_test)\n",
        "\n",
        "\n",
        "print(\"***Test Data Report***\")\n",
        "print(\"Best C = \",optimal_C)\n",
        "auc = metrics.auc(fpr, tpr)\n",
        "print(\"AUC = \",auc*100)\n",
        "skplt.metrics.plot_confusion_matrix(y_test, pred)\n",
        "plt.show()\n",
        "\n",
        "\n",
        "\n",
        "fpr, tpr, threshold = metrics.roc_curve(y_test, lr.predict_proba(X_test)[:,1],pos_label=\"positive\")\n",
        "fpr2, tpr2, threshold2 = metrics.roc_curve(y_train, lr.predict_proba(X_train)[:,1],pos_label=\"positive\")\n",
        "\n",
        "roc_auc = metrics.auc(fpr, tpr)\n",
        "roc_auc2 = metrics.auc(fpr2, tpr2)\n",
        "\n",
        "# method I: plt\n",
        "import matplotlib.pyplot as plt\n",
        "plt.title('Receiver Operating Characteristic Curve')\n",
        "plt.gca()\n",
        "plt.plot(fpr, tpr, label = 'AUC = %0.2f' % roc_auc)\n",
        "plt.plot(fpr2, tpr2, label = 'AUC = %0.2f' % roc_auc2)\n",
        "plt.legend(['TEST Data', 'TRAIN Data'],loc = 'lower right')\n",
        "\n",
        "plt.plot([0, 1], [0, 1],'r--')\n",
        "plt.xlim([0, 1])\n",
        "plt.ylim([0, 1])\n",
        "plt.ylabel('True Positive Rate')\n",
        "plt.xlabel('False Positive Rate')\n",
        "plt.show()"
      ],
      "execution_count": 119,
      "outputs": [
        {
          "output_type": "stream",
          "text": [
            "***Test Data Report***\n",
            "Best C =  1\n",
            "AUC =  81.2813734386179\n"
          ],
          "name": "stdout"
        },
        {
          "output_type": "display_data",
          "data": {
            "image/png": "[encoded data removed]",
            "text/plain": [
              "<Figure size 432x288 with 2 Axes>"
            ]
          },
          "metadata": {
            "tags": []
          }
        },
        {
          "output_type": "display_data",
          "data": {
            "image/png": "[encoded data removed]",
            "text/plain": [
              "<Figure size 432x288 with 1 Axes>"
            ]
          },
          "metadata": {
            "tags": []
          }
        }
      ]
    },
    {
      "cell_type": "code",
      "metadata": {
        "id": "00hwWn06qjeG",
        "colab_type": "code",
        "colab": {
          "base_uri": "https://localhost:8080/",
          "height": 221
        },
        "outputId": "5053747c-082d-4c1a-9e26-209c4ac83c06"
      },
      "source": [
        "#importing library\n",
        "from prettytable import PrettyTable\n",
        "x = PrettyTable()\n",
        "\n",
        "#adding Field names\n",
        "x.field_names = [\"SL No.\",\"Vectorizer\",\"Regularization\",\"Hypreparameter(C)\" ,\"AUC\"]\n",
        "\n",
        "# adding row to table\n",
        "x.add_row([\"1\",\"BOW\",\"L1\",0.01,92.7952])\n",
        "x.add_row([\"2\",\"BOW\",\"L2\",0.01,91.7614])\n",
        "x.add_row([\"3\",\"TFIDF\",\"L1\",0.01,93.8456])\n",
        "x.add_row([\"4\",\"TFIDF\",\"L2\",0.01,93.2148])\n",
        "x.add_row([\"5\",\"Avg-W2vec\",\"L1\",1,93.2148])\n",
        "x.add_row([\"6\",\"Avg-W2vec\",\"L2\",1,88.7947])\n",
        "x.add_row([\"7\",\"TFIDF-W2vec\",\"L1\",100,81.4170])\n",
        "x.add_row([\"8\",\"TFIDF-W2vec\",\"L2\",100,81.4146])\n",
        "\n",
        "#printing the table\n",
        "print(x)"
      ],
      "execution_count": 120,
      "outputs": [
        {
          "output_type": "stream",
          "text": [
            "+--------+-------------+----------------+-------------------+---------+\n",
            "| SL No. |  Vectorizer | Regularization | Hypreparameter(C) |   AUC   |\n",
            "+--------+-------------+----------------+-------------------+---------+\n",
            "|   1    |     BOW     |       L1       |        0.01       | 92.7952 |\n",
            "|   2    |     BOW     |       L2       |        0.01       | 91.7614 |\n",
            "|   3    |    TFIDF    |       L1       |        0.01       | 93.8456 |\n",
            "|   4    |    TFIDF    |       L2       |        0.01       | 93.2148 |\n",
            "|   5    |  Avg-W2vec  |       L1       |         1         | 93.2148 |\n",
            "|   6    |  Avg-W2vec  |       L2       |         1         | 88.7947 |\n",
            "|   7    | TFIDF-W2vec |       L1       |        100        |  81.417 |\n",
            "|   8    | TFIDF-W2vec |       L2       |        100        | 81.4146 |\n",
            "+--------+-------------+----------------+-------------------+---------+\n"
          ],
          "name": "stdout"
        }
      ]
    }
  ]
}